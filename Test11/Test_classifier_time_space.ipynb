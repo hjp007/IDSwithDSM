{
 "cells": [
  {
   "cell_type": "code",
   "execution_count": 14,
   "metadata": {
    "ExecuteTime": {
     "end_time": "2020-06-25T03:52:09.126487Z",
     "start_time": "2020-06-25T03:52:09.116840Z"
    }
   },
   "outputs": [],
   "source": [
    "import pandas as pd\n",
    "import pickle\n",
    "import numpy  as np\n",
    "from time import time\n",
    "#train_test_split\n",
    "from sklearn.model_selection import train_test_split\n",
    "#Feature scaling\n",
    "from sklearn import preprocessing\n",
    "from collections import Counter\n",
    "import math\n",
    "from sklearn.metrics import accuracy_score\n",
    "import tracemalloc\n",
    "import tensorflow as tf\n",
    "from tensorflow import keras"
   ]
  },
  {
   "cell_type": "code",
   "execution_count": 20,
   "metadata": {
    "ExecuteTime": {
     "end_time": "2020-06-25T03:56:37.794514Z",
     "start_time": "2020-06-25T03:56:37.786410Z"
    }
   },
   "outputs": [],
   "source": [
    "def load_classifier(name):\n",
    "    with open('./' + name + '.pkl', 'rb') as f:\n",
    "        return pickle.load(f)\n",
    "learning_rate = 0.001\n",
    "#测试集的正确率\n",
    "def use_evaluate_test(x,y):\n",
    "    test_loss,test_acc = model.evaluate(x,y)\n",
    "    print('Test accuracy:', test_acc)\n",
    "    return "
   ]
  },
  {
   "cell_type": "code",
   "execution_count": 3,
   "metadata": {
    "ExecuteTime": {
     "end_time": "2020-06-25T03:46:25.213233Z",
     "start_time": "2020-06-25T03:46:25.146423Z"
    }
   },
   "outputs": [],
   "source": [
    "test_X = np.load(\"test_X.npy\")\n",
    "test_y = np.load(\"test_y.npy\")"
   ]
  },
  {
   "cell_type": "code",
   "execution_count": 36,
   "metadata": {
    "ExecuteTime": {
     "end_time": "2020-06-25T05:34:24.667802Z",
     "start_time": "2020-06-25T05:34:24.650221Z"
    }
   },
   "outputs": [
    {
     "name": "stdout",
     "output_type": "stream",
     "text": [
      "9344\n",
      "[1]\n",
      "0.0\n"
     ]
    }
   ],
   "source": [
    "tracemalloc.start()\n",
    "DT = load_classifier('DT')\n",
    "# 运行程序\n",
    "predictions = DT.predict(test_X[100].reshape(1,48))\n",
    "print(tracemalloc.get_tracemalloc_memory())\n",
    "tracemalloc.stop()\n",
    "print(predictions)\n",
    "print(accuracy_score(test_y[100].reshape(1,), predictions))\n"
   ]
  },
  {
   "cell_type": "code",
   "execution_count": 37,
   "metadata": {
    "ExecuteTime": {
     "end_time": "2020-06-25T05:36:41.370786Z",
     "start_time": "2020-06-25T05:36:41.316806Z"
    }
   },
   "outputs": [
    {
     "name": "stdout",
     "output_type": "stream",
     "text": [
      "28724\n",
      "[3]\n",
      "1.0\n"
     ]
    }
   ],
   "source": [
    "tracemalloc.start()\n",
    "RF = load_classifier('RF')\n",
    "# 运行程序\n",
    "predictions = RF.predict(test_X[100].reshape(1,48))\n",
    "print(tracemalloc.get_tracemalloc_memory())\n",
    "tracemalloc.stop()\n",
    "print(predictions)\n",
    "print(accuracy_score(test_y[100].reshape(1,), predictions))\n"
   ]
  },
  {
   "cell_type": "code",
   "execution_count": 38,
   "metadata": {
    "ExecuteTime": {
     "end_time": "2020-06-25T05:38:10.642542Z",
     "start_time": "2020-06-25T05:38:10.251463Z"
    }
   },
   "outputs": [
    {
     "name": "stdout",
     "output_type": "stream",
     "text": [
      "25840\n",
      "[3]\n",
      "1.0\n"
     ]
    }
   ],
   "source": [
    "tracemalloc.start()\n",
    "XGB = load_classifier('XGB')\n",
    "# 运行程序\n",
    "predictions = XGB.predict(test_X[100].reshape(1,48))\n",
    "print(tracemalloc.get_tracemalloc_memory())\n",
    "tracemalloc.stop()\n",
    "print(predictions)\n",
    "print(accuracy_score(test_y[100].reshape(1,), predictions))\n"
   ]
  },
  {
   "cell_type": "code",
   "execution_count": 39,
   "metadata": {
    "ExecuteTime": {
     "end_time": "2020-06-25T05:38:56.169545Z",
     "start_time": "2020-06-25T05:38:56.062618Z"
    }
   },
   "outputs": [
    {
     "name": "stdout",
     "output_type": "stream",
     "text": [
      "14336\n",
      "[3]\n",
      "1.0\n"
     ]
    }
   ],
   "source": [
    "tracemalloc.start()\n",
    "SVM = load_classifier('SVM')\n",
    "# 运行程序\n",
    "predictions = SVM.predict(test_X[100].reshape(1,48))\n",
    "print(tracemalloc.get_tracemalloc_memory())\n",
    "tracemalloc.stop()\n",
    "print(predictions)\n",
    "print(accuracy_score(test_y[100].reshape(1,), predictions))\n"
   ]
  },
  {
   "cell_type": "code",
   "execution_count": 41,
   "metadata": {
    "ExecuteTime": {
     "end_time": "2020-06-25T05:41:00.383411Z",
     "start_time": "2020-06-25T05:40:58.937552Z"
    }
   },
   "outputs": [
    {
     "name": "stdout",
     "output_type": "stream",
     "text": [
      "WARNING:tensorflow:No training configuration found in save file: the model was *not* compiled. Compile it manually.\n",
      "1/1 [==============================] - 0s 103ms/sample - loss: 3.2721 - acc: 0.0000e+00\n",
      "Test accuracy: 0.0\n",
      "135700\n"
     ]
    }
   ],
   "source": [
    "\n",
    "#选取验证集准确率最高的模型\n",
    "model = keras.models.load_model('./DNN_with_PSM.h5') \n",
    "model.compile(optimizer =tf.train.AdamOptimizer(learning_rate=learning_rate),\n",
    "    loss=\"sparse_categorical_crossentropy\",\n",
    "    metrics=['accuracy']\n",
    ")\n",
    "tracemalloc.start()\n",
    "use_evaluate_test(test_X[100].reshape(1,48),test_y[100].reshape(1,))\n",
    "print(tracemalloc.get_tracemalloc_memory())\n",
    "tracemalloc.stop()"
   ]
  },
  {
   "cell_type": "code",
   "execution_count": 21,
   "metadata": {
    "ExecuteTime": {
     "end_time": "2020-06-25T03:57:11.705674Z",
     "start_time": "2020-06-25T03:57:11.700440Z"
    }
   },
   "outputs": [],
   "source": [
    "T_test_X = test_X[:,0:12]"
   ]
  },
  {
   "cell_type": "code",
   "execution_count": 22,
   "metadata": {
    "ExecuteTime": {
     "end_time": "2020-06-25T03:57:16.226143Z",
     "start_time": "2020-06-25T03:57:13.986471Z"
    }
   },
   "outputs": [
    {
     "name": "stdout",
     "output_type": "stream",
     "text": [
      "WARNING:tensorflow:No training configuration found in save file: the model was *not* compiled. Compile it manually.\n",
      "17000/17000 [==============================] - 1s 58us/sample - loss: 0.5627 - acc: 0.8302\n",
      "Test accuracy: 0.8301765\n",
      "5843676\n"
     ]
    }
   ],
   "source": [
    "tracemalloc.start()\n",
    "#选取验证集准确率最高的模型\n",
    "model = keras.models.load_model('./Original_DNN.h5') \n",
    "model.compile(optimizer =tf.train.AdamOptimizer(learning_rate=learning_rate),\n",
    "    loss=\"sparse_categorical_crossentropy\",\n",
    "    metrics=['accuracy']\n",
    ")\n",
    "use_evaluate_test(T_test_X, test_y)\n",
    "print(tracemalloc.get_tracemalloc_memory())\n",
    "tracemalloc.stop()"
   ]
  },
  {
   "cell_type": "code",
   "execution_count": null,
   "metadata": {},
   "outputs": [],
   "source": []
  }
 ],
 "metadata": {
  "kernelspec": {
   "display_name": "Python 3",
   "language": "python",
   "name": "python3"
  },
  "language_info": {
   "codemirror_mode": {
    "name": "ipython",
    "version": 3
   },
   "file_extension": ".py",
   "mimetype": "text/x-python",
   "name": "python",
   "nbconvert_exporter": "python",
   "pygments_lexer": "ipython3",
   "version": "3.7.3"
  },
  "toc": {
   "base_numbering": 1,
   "nav_menu": {},
   "number_sections": true,
   "sideBar": true,
   "skip_h1_title": false,
   "title_cell": "Table of Contents",
   "title_sidebar": "Contents",
   "toc_cell": false,
   "toc_position": {},
   "toc_section_display": true,
   "toc_window_display": false
  },
  "varInspector": {
   "cols": {
    "lenName": 16,
    "lenType": 16,
    "lenVar": 40
   },
   "kernels_config": {
    "python": {
     "delete_cmd_postfix": "",
     "delete_cmd_prefix": "del ",
     "library": "var_list.py",
     "varRefreshCmd": "print(var_dic_list())"
    },
    "r": {
     "delete_cmd_postfix": ") ",
     "delete_cmd_prefix": "rm(",
     "library": "var_list.r",
     "varRefreshCmd": "cat(var_dic_list()) "
    }
   },
   "types_to_exclude": [
    "module",
    "function",
    "builtin_function_or_method",
    "instance",
    "_Feature"
   ],
   "window_display": false
  }
 },
 "nbformat": 4,
 "nbformat_minor": 2
}
