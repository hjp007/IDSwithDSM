{
 "cells": [
  {
   "cell_type": "code",
   "execution_count": 1,
   "metadata": {
    "ExecuteTime": {
     "end_time": "2020-06-11T08:31:30.604982Z",
     "start_time": "2020-06-11T08:31:29.172510Z"
    }
   },
   "outputs": [],
   "source": [
    "import pandas as pd\n",
    "import numpy  as np\n",
    "from time import time\n",
    "#train_test_split\n",
    "from sklearn.model_selection import train_test_split\n",
    "#Feature scaling\n",
    "from sklearn import preprocessing"
   ]
  },
  {
   "cell_type": "code",
   "execution_count": 2,
   "metadata": {
    "ExecuteTime": {
     "end_time": "2020-06-11T08:31:30.641615Z",
     "start_time": "2020-06-11T08:31:30.609305Z"
    }
   },
   "outputs": [],
   "source": [
    "def read_csv(dataroot):\n",
    "    df=pd.read_csv(dataroot,header=0,low_memory=False)   \n",
    "    pd.set_option('mode.use_inf_as_na', True) # convert inf to nan\n",
    "    df['Flow Bytes/s']=df['Flow Bytes/s'].astype('float64')\n",
    "    df[' Flow Packets/s']=df[' Flow Packets/s'].astype('float64')\n",
    "    df['Flow Bytes/s'].fillna(df['Flow Bytes/s'].mean(),inplace=True)\n",
    "    df[' Flow Packets/s'].fillna(df[' Flow Packets/s'].mean(),inplace=True)\n",
    "    return df\n",
    "\n",
    "def split_valid_from_train(train_dataset, valid_size):\n",
    "    # Method 1\n",
    "    train_dataset, valid_dataset, _, _ = train_test_split(train_dataset, train_dataset[' Label'], test_size=valid_size, random_state=None)\n",
    "    # pandas中先重置index再打乱train. 否则只会调整各个行的顺序，而不会改变pandas的index\n",
    "    # 重置\n",
    "    train_dataset = train_dataset.reset_index(drop=True)\n",
    "    # 打乱\n",
    "    indexMask = np.arange(len(train_dataset))\n",
    "    for i in range(10):\n",
    "        np.random.shuffle(indexMask)\n",
    "    train_dataset = train_dataset.iloc[indexMask]\n",
    "\n",
    "    return train_dataset, valid_dataset\n",
    "\n",
    "def shuffle(dataset):  \n",
    "    # 打乱\n",
    "    indexMask = np.arange(len(dataset))\n",
    "    for i in range(10):\n",
    "        np.random.shuffle(indexMask)\n",
    "    dataset = dataset.iloc[indexMask]\n",
    "    dataset = dataset.reset_index(drop=True)\n",
    "\n",
    "    return dataset \n",
    "\n",
    "def labels_separate(dataset):\n",
    "    y_ = dataset[' Label']\n",
    "    temp = dataset\n",
    "    temp.drop([' Label'], axis=1, inplace=True)\n",
    "    x_ = temp.values\n",
    "    return x_, y_\n",
    "\n",
    "def labels_map(label):\n",
    "    if(type(label) == int):      #已是数字，无需处理\n",
    "        return label\n",
    "    if label == 'BENIGN':\n",
    "        return 0\n",
    "    if label == 'DoS':\n",
    "        return 1\n",
    "    if label == 'PortScan':\n",
    "        return 2\n",
    "    if label == 'DDoS':\n",
    "        return 3\n",
    "    if label == 'SSH-Patator':\n",
    "        return 4\n",
    "    if label == 'FTP-Patator':\n",
    "        return 5\n",
    "    if label == 'Web Attack':\n",
    "        return 6\n",
    "    if label == 'Bot':\n",
    "        return 7\n",
    "    return -1   #-1表示出错\n",
    "def filter_labels(dataset):\n",
    "    dataset[' Label'] = dataset[' Label'].apply(labels_map)\n",
    "    return dataset\n",
    "#特征选取\n",
    "def feature_selection(dataset):\n",
    "    return dataset[[\n",
    "        ' Destination Port', 'Bwd Packet Length Max',' Bwd Packet Length Min', ' Bwd Packet Length Std',\n",
    "        ' Flow IAT Mean', ' Flow IAT Std', ' Flow IAT Min', ' Fwd IAT Min', ' Bwd Packets/s', ' Min Packet Length',\n",
    "        ' Max Packet Length', ' Init_Win_bytes_backward', ' act_data_pkt_fwd', ' Label'\n",
    "    ]]\n",
    "labelList = [\"BENIGN\", \"DoS\", \"PortScan\", \"DDoS\", \"SSH-Patator\", \"FTP-Patator\", \"Web Attack\", \"Bot\"]"
   ]
  },
  {
   "cell_type": "code",
   "execution_count": 3,
   "metadata": {
    "ExecuteTime": {
     "end_time": "2020-06-11T08:32:45.423264Z",
     "start_time": "2020-06-11T08:31:30.645459Z"
    }
   },
   "outputs": [],
   "source": [
    "#DDoS\n",
    "df_1 = read_csv(\"../MachineLearningCVE/Friday-WorkingHours-Afternoon-DDos.pcap_ISCX.csv\")\n",
    "df_1 = df_1.drop(df_1[df_1[' Label'] == 'BENIGN'].index)\n",
    "df_1 = df_1.sample(n=5000,random_state=1, replace=False)\n",
    "df_1_train, df_1_test = split_valid_from_train(df_1, 0.2)\n",
    "#PortScan\n",
    "df_2 = read_csv(\"../MachineLearningCVE/Friday-WorkingHours-Afternoon-PortScan.pcap_ISCX.csv\")\n",
    "df_2 = df_2.drop(df_2[df_2[' Label'] == 'BENIGN'].index)\n",
    "df_2 = df_2.sample(n=5000,random_state=1, replace=False)\n",
    "df_2_train, df_2_test = split_valid_from_train(df_2, 0.2)\n",
    "#Bot\n",
    "df_3 = read_csv(\"../MachineLearningCVE/Friday-WorkingHours-Morning.pcap_ISCX.csv\")\n",
    "df_3 = df_3.drop(df_3[df_3[' Label'] == 'BENIGN'].index)\n",
    "df_3 = df_3.sample(n=5000,random_state=1, replace=True)\n",
    "df_3_train, df_3_test = split_valid_from_train(df_3, 0.2)\n",
    "#Benign\n",
    "df_4 = read_csv(\"../MachineLearningCVE/Monday-WorkingHours.pcap_ISCX.csv\")\n",
    "df_4 = df_4.sample(n=50000,random_state=1, replace=False)\n",
    "df_4_train, df_4_test = split_valid_from_train(df_4, 0.2)\n",
    "#Web attack\n",
    "df_6 = read_csv(\"../MachineLearningCVE/Thursday-WorkingHours-Morning-WebAttacks.pcap_ISCX.csv\")\n",
    "df_6 = df_6.drop(df_6[df_6[' Label'] == 'BENIGN'].index)\n",
    "df_6 = df_6.sample(n=5000,random_state=1, replace=True)\n",
    "df_6[' Label'] = df_6[' Label'].apply(lambda x: 'Web Attack')\n",
    "df_6_train, df_6_test = split_valid_from_train(df_6, 0.2)\n",
    "#FTP-Patator and SSH-Patator\n",
    "df_7 = read_csv(\"../MachineLearningCVE/Tuesday-WorkingHours.pcap_ISCX.csv\")\n",
    "df_7 = df_7.drop(df_7[df_7[' Label'] == 'BENIGN'].index)\n",
    "df_7_1 = df_7.drop(df_7[df_7[' Label'] == 'FTP-Patator'].index)\n",
    "df_7_2 = df_7.drop(df_7[df_7[' Label'] == 'SSH-Patator'].index)\n",
    "df_7_1 = df_7_1.sample(n=5000,random_state=1, replace=False)\n",
    "df_7_2 = df_7_2.sample(n=5000,random_state=1, replace=False)\n",
    "df_7_1_train, df_7_1_test = split_valid_from_train(df_7_1, 0.2)\n",
    "df_7_2_train, df_7_2_test = split_valid_from_train(df_7_2, 0.2)\n",
    "#DoS\n",
    "df_8 = read_csv(\"../MachineLearningCVE/Wednesday-workingHours.pcap_ISCX.csv\")\n",
    "df_8 = df_8.drop(df_8[df_8[' Label'] == 'BENIGN'].index)\n",
    "df_8 = df_8.sample(n=5000,random_state=1, replace=False)\n",
    "df_8[' Label'] = df_8[' Label'].apply(lambda x: 'DoS')\n",
    "df_8_train, df_8_test = split_valid_from_train(df_8, 0.2)\n",
    "#整合\n",
    "df_train = df_1_train.append([df_2_train, df_3_train, df_4_train, df_6_train, df_7_1_train,df_7_2_train,df_8_train])\n",
    "df_test = df_1_test.append([df_2_test, df_3_test, df_4_test, df_6_test, df_7_1_test,df_7_2_test,df_8_test])"
   ]
  },
  {
   "cell_type": "code",
   "execution_count": 4,
   "metadata": {
    "ExecuteTime": {
     "end_time": "2020-06-11T08:32:45.453840Z",
     "start_time": "2020-06-11T08:32:45.428523Z"
    }
   },
   "outputs": [
    {
     "name": "stdout",
     "output_type": "stream",
     "text": [
      "(68000, 79)\n",
      "BENIGN         40000\n",
      "SSH-Patator     4000\n",
      "FTP-Patator     4000\n",
      "Web Attack      4000\n",
      "DoS             4000\n",
      "Bot             4000\n",
      "PortScan        4000\n",
      "DDoS            4000\n",
      "Name:  Label, dtype: int64\n",
      "(17000, 79)\n",
      "BENIGN         10000\n",
      "PortScan        1000\n",
      "DoS             1000\n",
      "SSH-Patator     1000\n",
      "DDoS            1000\n",
      "FTP-Patator     1000\n",
      "Bot             1000\n",
      "Web Attack      1000\n",
      "Name:  Label, dtype: int64\n"
     ]
    }
   ],
   "source": [
    "print(df_train.shape)\n",
    "print(df_train.loc[:,' Label'].value_counts())\n",
    "print(df_test.shape)\n",
    "print(df_test.loc[:,' Label'].value_counts())"
   ]
  },
  {
   "cell_type": "code",
   "execution_count": 5,
   "metadata": {
    "ExecuteTime": {
     "end_time": "2020-06-11T08:32:46.423415Z",
     "start_time": "2020-06-11T08:32:45.464120Z"
    }
   },
   "outputs": [],
   "source": [
    "#整合后再乱序一下\n",
    "df_train = shuffle(df_train)\n",
    "#标签的字符转化成数字\n",
    "df_train = filter_labels(df_train)\n",
    "df_test = filter_labels(df_test)\n",
    "#特征选择\n",
    "df_train = feature_selection(df_train)\n",
    "df_test = feature_selection(df_test)\n",
    "#分离标签\n",
    "df_train_X, df_train_y = labels_separate(df_train)\n",
    "df_test_X, df_test_y = labels_separate(df_test)\n",
    "#Normalization\n",
    "scaler = preprocessing.MinMaxScaler()\n",
    "df_train_X=scaler.fit_transform(df_train_X)\n",
    "df_test_X=scaler.fit_transform(df_test_X)"
   ]
  },
  {
   "cell_type": "code",
   "execution_count": 6,
   "metadata": {
    "ExecuteTime": {
     "end_time": "2020-06-11T08:32:46.503965Z",
     "start_time": "2020-06-11T08:32:46.471031Z"
    }
   },
   "outputs": [],
   "source": [
    "#print(df_train[[' Destination Port']])\n",
    "#print(df_train[[' Destination Port']])\n",
    "# print(df_train.columns.values.tolist())\n",
    "# df_t = \n",
    "# print(df_t)"
   ]
  },
  {
   "cell_type": "code",
   "execution_count": 7,
   "metadata": {
    "ExecuteTime": {
     "end_time": "2020-06-11T08:32:46.546304Z",
     "start_time": "2020-06-11T08:32:46.513773Z"
    }
   },
   "outputs": [
    {
     "name": "stdout",
     "output_type": "stream",
     "text": [
      "(68000, 13)\n",
      "(68000,)\n",
      "(17000, 13)\n",
      "(17000,)\n",
      "[8.08740501e-04 1.00452034e-02 1.09589041e-01 0.00000000e+00\n",
      " 4.13157895e-06 0.00000000e+00 4.14035084e-06 0.00000000e+00\n",
      " 1.06157113e-03 5.97243492e-02 6.84931507e-03 0.00000000e+00\n",
      " 0.00000000e+00]\n",
      "0        0\n",
      "1        0\n",
      "2        2\n",
      "3        0\n",
      "4        0\n",
      "5        2\n",
      "6        0\n",
      "7        0\n",
      "8        0\n",
      "9        0\n",
      "10       1\n",
      "11       0\n",
      "12       0\n",
      "13       0\n",
      "14       4\n",
      "15       1\n",
      "16       2\n",
      "17       4\n",
      "18       0\n",
      "19       0\n",
      "20       5\n",
      "21       0\n",
      "22       7\n",
      "23       7\n",
      "24       0\n",
      "25       0\n",
      "26       0\n",
      "27       1\n",
      "28       0\n",
      "29       3\n",
      "        ..\n",
      "67970    0\n",
      "67971    0\n",
      "67972    0\n",
      "67973    5\n",
      "67974    0\n",
      "67975    1\n",
      "67976    0\n",
      "67977    1\n",
      "67978    4\n",
      "67979    0\n",
      "67980    0\n",
      "67981    6\n",
      "67982    4\n",
      "67983    0\n",
      "67984    0\n",
      "67985    6\n",
      "67986    0\n",
      "67987    0\n",
      "67988    5\n",
      "67989    0\n",
      "67990    0\n",
      "67991    2\n",
      "67992    0\n",
      "67993    0\n",
      "67994    0\n",
      "67995    5\n",
      "67996    2\n",
      "67997    0\n",
      "67998    0\n",
      "67999    0\n",
      "Name:  Label, Length: 68000, dtype: int64\n"
     ]
    }
   ],
   "source": [
    "print(df_train_X.shape)\n",
    "print(df_train_y.shape)\n",
    "print(df_test_X.shape)\n",
    "print(df_test_y.shape)\n",
    "print(df_train_X[0])\n",
    "print(df_train_y)"
   ]
  },
  {
   "cell_type": "code",
   "execution_count": 8,
   "metadata": {
    "ExecuteTime": {
     "end_time": "2020-06-11T08:32:48.773199Z",
     "start_time": "2020-06-11T08:32:46.552653Z"
    }
   },
   "outputs": [],
   "source": [
    "import tensorflow as tf\n",
    "from tensorflow import keras\n",
    "from sklearn.metrics import f1_score, precision_score, recall_score\n",
    "from sklearn.metrics import classification_report\n",
    "from tensorflow.keras.layers import BatchNormalization\n",
    "#超参数设置\n",
    "learning_rate = 0.001\n",
    "epochs = 10\n",
    "batch_size = 64\n",
    "activation = tf.nn.relu         #非输出层下的激活函数"
   ]
  },
  {
   "cell_type": "code",
   "execution_count": 9,
   "metadata": {
    "ExecuteTime": {
     "end_time": "2020-06-11T08:34:30.807595Z",
     "start_time": "2020-06-11T08:32:48.777488Z"
    }
   },
   "outputs": [
    {
     "name": "stdout",
     "output_type": "stream",
     "text": [
      "WARNING:tensorflow:From /opt/conda/lib/python3.7/site-packages/tensorflow/python/ops/resource_variable_ops.py:435: colocate_with (from tensorflow.python.framework.ops) is deprecated and will be removed in a future version.\n",
      "Instructions for updating:\n",
      "Colocations handled automatically by placer.\n",
      "_________________________________________________________________\n",
      "Layer (type)                 Output Shape              Param #   \n",
      "=================================================================\n",
      "dense (Dense)                (None, 13)                182       \n",
      "_________________________________________________________________\n",
      "batch_normalization_v1 (Batc (None, 13)                52        \n",
      "_________________________________________________________________\n",
      "dense_1 (Dense)              (None, 32)                448       \n",
      "_________________________________________________________________\n",
      "batch_normalization_v1_1 (Ba (None, 32)                128       \n",
      "_________________________________________________________________\n",
      "dense_2 (Dense)              (None, 32)                1056      \n",
      "_________________________________________________________________\n",
      "batch_normalization_v1_2 (Ba (None, 32)                128       \n",
      "_________________________________________________________________\n",
      "dense_3 (Dense)              (None, 8)                 264       \n",
      "=================================================================\n",
      "Total params: 2,258\n",
      "Trainable params: 2,104\n",
      "Non-trainable params: 154\n",
      "_________________________________________________________________\n",
      "Train on 68000 samples, validate on 17000 samples\n",
      "WARNING:tensorflow:From /opt/conda/lib/python3.7/site-packages/tensorflow/python/ops/math_ops.py:3066: to_int32 (from tensorflow.python.ops.math_ops) is deprecated and will be removed in a future version.\n",
      "Instructions for updating:\n",
      "Use tf.cast instead.\n",
      "Epoch 1/10\n",
      "67968/68000 [============================>.] - ETA: 0s - loss: 0.5940 - acc: 0.8209- ETA: 0s - loss: 0.5975 - acc: 0.81\n",
      "Epoch 00001: val_loss improved from inf to 0.51919, saving model to ./Test7_model.h5\n",
      "WARNING:tensorflow:TensorFlow optimizers do not make it possible to access optimizer attributes or optimizer state after instantiation. As a result, we cannot save the optimizer as part of the model save file.You will have to compile your model again after loading it. Prefer using a Keras optimizer instead (see keras.io/optimizers).\n",
      "68000/68000 [==============================] - 9s 129us/sample - loss: 0.5939 - acc: 0.8209 - val_loss: 0.5192 - val_acc: 0.8279\n",
      "Epoch 2/10\n",
      "67456/68000 [============================>.] - ETA: 0s - loss: 0.2923 - acc: 0.9033\n",
      "Epoch 00002: val_loss improved from 0.51919 to 0.48499, saving model to ./Test7_model.h5\n",
      "WARNING:tensorflow:TensorFlow optimizers do not make it possible to access optimizer attributes or optimizer state after instantiation. As a result, we cannot save the optimizer as part of the model save file.You will have to compile your model again after loading it. Prefer using a Keras optimizer instead (see keras.io/optimizers).\n",
      "68000/68000 [==============================] - 9s 132us/sample - loss: 0.2923 - acc: 0.9033 - val_loss: 0.4850 - val_acc: 0.8371\n",
      "Epoch 3/10\n",
      "67776/68000 [============================>.] - ETA: 0s - loss: 0.2400 - acc: 0.9171\n",
      "Epoch 00003: val_loss improved from 0.48499 to 0.38974, saving model to ./Test7_model.h5\n",
      "WARNING:tensorflow:TensorFlow optimizers do not make it possible to access optimizer attributes or optimizer state after instantiation. As a result, we cannot save the optimizer as part of the model save file.You will have to compile your model again after loading it. Prefer using a Keras optimizer instead (see keras.io/optimizers).\n",
      "68000/68000 [==============================] - 9s 131us/sample - loss: 0.2404 - acc: 0.9169 - val_loss: 0.3897 - val_acc: 0.8642\n",
      "Epoch 4/10\n",
      "67520/68000 [============================>.] - ETA: 0s - loss: 0.2170 - acc: 0.9262\n",
      "Epoch 00004: val_loss did not improve from 0.38974\n",
      "68000/68000 [==============================] - 12s 179us/sample - loss: 0.2167 - acc: 0.9263 - val_loss: 0.4468 - val_acc: 0.8663\n",
      "Epoch 5/10\n",
      "67904/68000 [============================>.] - ETA: 0s - loss: 0.2005 - acc: 0.9306\n",
      "Epoch 00005: val_loss did not improve from 0.38974\n",
      "68000/68000 [==============================] - 9s 130us/sample - loss: 0.2004 - acc: 0.9306 - val_loss: 0.4945 - val_acc: 0.8436\n",
      "Epoch 6/10\n",
      "67776/68000 [============================>.] - ETA: 0s - loss: 0.1856 - acc: 0.9351\n",
      "Epoch 00006: val_loss improved from 0.38974 to 0.23284, saving model to ./Test7_model.h5\n",
      "WARNING:tensorflow:TensorFlow optimizers do not make it possible to access optimizer attributes or optimizer state after instantiation. As a result, we cannot save the optimizer as part of the model save file.You will have to compile your model again after loading it. Prefer using a Keras optimizer instead (see keras.io/optimizers).\n",
      "68000/68000 [==============================] - 9s 138us/sample - loss: 0.1856 - acc: 0.9351 - val_loss: 0.2328 - val_acc: 0.9191\n",
      "Epoch 7/10\n",
      "67840/68000 [============================>.] - ETA: 0s - loss: 0.1776 - acc: 0.9370\n",
      "Epoch 00007: val_loss did not improve from 0.23284\n",
      "68000/68000 [==============================] - 11s 156us/sample - loss: 0.1778 - acc: 0.9369 - val_loss: 0.3512 - val_acc: 0.8863\n",
      "Epoch 8/10\n",
      "67904/68000 [============================>.] - ETA: 0s - loss: 0.1680 - acc: 0.9397\n",
      "Epoch 00008: val_loss did not improve from 0.23284\n",
      "68000/68000 [==============================] - 8s 117us/sample - loss: 0.1679 - acc: 0.9398 - val_loss: 0.3171 - val_acc: 0.8861\n",
      "Epoch 9/10\n",
      "67776/68000 [============================>.] - ETA: 0s - loss: 0.1588 - acc: 0.9417\n",
      "Epoch 00009: val_loss did not improve from 0.23284\n",
      "68000/68000 [==============================] - 11s 167us/sample - loss: 0.1587 - acc: 0.9417 - val_loss: 0.3457 - val_acc: 0.8859\n",
      "Epoch 10/10\n",
      "67584/68000 [============================>.] - ETA: 0s - loss: 0.1543 - acc: 0.9444\n",
      "Epoch 00010: val_loss did not improve from 0.23284\n",
      "68000/68000 [==============================] - 12s 170us/sample - loss: 0.1545 - acc: 0.9444 - val_loss: 1.3254 - val_acc: 0.7566\n"
     ]
    }
   ],
   "source": [
    "#用于记录训练中每个batch的loss\n",
    "class LossHistory(keras.callbacks.Callback):\n",
    "    def on_train_begin(self, logs={}):\n",
    "        self.train_losses_per_batch = []\n",
    "        self.train_losses_per_epoch = []\n",
    "        self.valid_losses_per_epoch = []\n",
    "        \n",
    "    def on_batch_end(self, batch, logs={}):\n",
    "        self.train_losses_per_batch.append(logs.get('loss'))\n",
    "        \n",
    "    def on_epoch_end(self, epoch, logs={}):\n",
    "        self.train_losses_per_epoch.append(logs.get('loss'))\n",
    "        self.valid_losses_per_epoch.append(logs.get('val_loss')*4)   #验证集由于只有1/4的训练集大小所以损失要乘以4\n",
    "#用于记录训练中每个epoch的召回率，精确度以及f1 score\n",
    "class Metrics(keras.callbacks.Callback):\n",
    "    def on_train_begin(self, logs={}):\n",
    "        self.val_f1s = []\n",
    "        self.val_recalls = []\n",
    "        self.val_precisions = []\n",
    "        return\n",
    "\n",
    "    def on_epoch_end(self, epoch, logs={}):\n",
    "        predictions = self.model.predict(df_test_X)\n",
    "        val_predict = np.argmax(predictions, axis=1)     #把独热编码转化成数字\n",
    "        val_targ = df_test_y\n",
    "        _val_recall = recall_score(val_targ, val_predict, average='macro')\n",
    "        _val_precision = precision_score(val_targ, val_predict, average='macro')\n",
    "        _val_f1 = f1_score(val_targ, val_predict, average='macro')\n",
    "        self.val_f1s.append(_val_f1)\n",
    "        self.val_recalls.append(_val_recall)\n",
    "        self.val_precisions.append(_val_precision)\n",
    "        return       \n",
    "#回调：模型跑完epoch后选取最好的epoch模型保存，选取标准为验证集损失最小的那一个\n",
    "checkpoint = keras.callbacks.ModelCheckpoint(      \n",
    "    \"./Test7_model.h5\",\n",
    "    monitor='val_loss',\n",
    "    verbose=1,\n",
    "    save_best_only=True,\n",
    "    mode='min',\n",
    "    period=1\n",
    ")\n",
    "def simple_model():\n",
    "    model = keras.Sequential([\n",
    "        keras.layers.Dense(df_train_X.shape[1], activation=activation, input_shape=(df_train_X.shape[1],)),\n",
    "        BatchNormalization(),\n",
    "        keras.layers.Dense(32, activation=activation),\n",
    "        BatchNormalization(),\n",
    "        keras.layers.Dense(32, activation=activation),\n",
    "        BatchNormalization(),\n",
    "        keras.layers.Dense(8,activation=tf.nn.softmax)\n",
    "    ])\n",
    "    model.compile(optimizer =tf.train.AdamOptimizer(learning_rate=learning_rate),\n",
    "        loss=\"sparse_categorical_crossentropy\",\n",
    "        metrics=['accuracy']\n",
    "    )\n",
    "    model.summary()\n",
    "    history = LossHistory()\n",
    "    metrics = Metrics()\n",
    "    model.fit(\n",
    "        df_train_X,df_train_y,\n",
    "        validation_data=[df_test_X, df_test_y],\n",
    "        batch_size=batch_size,epochs=epochs,\n",
    "        callbacks=[history, metrics, checkpoint]\n",
    "    )   \n",
    "    return model,history,metrics\n",
    "model,history,metrics = simple_model()"
   ]
  },
  {
   "cell_type": "code",
   "execution_count": 10,
   "metadata": {
    "ExecuteTime": {
     "end_time": "2020-06-11T08:34:31.485576Z",
     "start_time": "2020-06-11T08:34:30.813774Z"
    }
   },
   "outputs": [],
   "source": [
    "import matplotlib.pyplot as plt\n",
    "import matplotlib\n",
    "\n",
    "%matplotlib inline\n",
    "matplotlib.rcParams['font.sans-serif'] = ['SimHei']"
   ]
  },
  {
   "cell_type": "code",
   "execution_count": 11,
   "metadata": {
    "ExecuteTime": {
     "end_time": "2020-06-11T08:34:33.828135Z",
     "start_time": "2020-06-11T08:34:31.567768Z"
    }
   },
   "outputs": [
    {
     "name": "stderr",
     "output_type": "stream",
     "text": [
      "/opt/conda/lib/python3.7/site-packages/matplotlib/font_manager.py:1241: UserWarning: findfont: Font family ['sans-serif'] not found. Falling back to DejaVu Sans.\n",
      "  (prop.get_family(), self.defaultFamily[fontext]))\n"
     ]
    },
    {
     "data": {
      "image/png": "[encoded data removed]",
      "text/plain": [
       "<Figure size 1080x288 with 1 Axes>"
      ]
     },
     "metadata": {
      "needs_background": "light"
     },
     "output_type": "display_data"
    },
    {
     "data": {
      "image/png": "[encoded data removed]",
      "text/plain": [
       "<Figure size 1080x288 with 1 Axes>"
      ]
     },
     "metadata": {
      "needs_background": "light"
     },
     "output_type": "display_data"
    }
   ],
   "source": [
    "#绘制训练集在batch下的损失变化\n",
    "plt.title('The Cost with batchs runs',fontsize=30)\n",
    "plt.xlabel('batchs',fontsize=20)\n",
    "plt.ylabel('Cost',fontsize=20)\n",
    "plt.xticks(fontsize=20)\n",
    "plt.yticks(fontsize=20)\n",
    "plt.plot(history.train_losses_per_batch)\n",
    "plt.gcf().set_size_inches(15,4)\n",
    "plt.show()\n",
    "#绘制训练集与验证集在epoch下的损失比较\n",
    "plt.title('The Cost with epoches runs',fontsize=30)\n",
    "plt.xlabel('epoch',fontsize=20)\n",
    "plt.ylabel('Cost',fontsize=20)\n",
    "plt.xticks(fontsize=20)\n",
    "plt.yticks(fontsize=20)\n",
    "plt.plot(history.train_losses_per_epoch, '-o', label='train')\n",
    "plt.plot(history.valid_losses_per_epoch, '-o', label='valid')\n",
    "plt.legend(fontsize=30,loc='upper right')\n",
    "plt.gcf().set_size_inches(15,4)\n",
    "plt.show()"
   ]
  },
  {
   "cell_type": "code",
   "execution_count": 12,
   "metadata": {
    "ExecuteTime": {
     "end_time": "2020-06-11T08:34:41.715590Z",
     "start_time": "2020-06-11T08:34:33.865677Z"
    }
   },
   "outputs": [
    {
     "name": "stdout",
     "output_type": "stream",
     "text": [
      "WARNING:tensorflow:No training configuration found in save file: the model was *not* compiled. Compile it manually.\n",
      "17000/17000 [==============================] - 4s 211us/sample - loss: 0.2328 - acc: 0.9191\n",
      "Test accuracy: 0.9191176\n"
     ]
    }
   ],
   "source": [
    "#选取验证集准确率最高的模型\n",
    "model = keras.models.load_model('./Test7_model.h5') \n",
    "model.compile(optimizer =tf.train.AdamOptimizer(learning_rate=learning_rate),\n",
    "    loss=\"sparse_categorical_crossentropy\",\n",
    "    metrics=['accuracy']\n",
    ")\n",
    "#测试集的正确率\n",
    "def use_evaluate_test():\n",
    "    test_loss,test_acc = model.evaluate(df_test_X,df_test_y)\n",
    "    print('Test accuracy:', test_acc)\n",
    "    return \n",
    "use_evaluate_test()"
   ]
  },
  {
   "cell_type": "code",
   "execution_count": 13,
   "metadata": {
    "ExecuteTime": {
     "end_time": "2020-06-11T08:34:43.539620Z",
     "start_time": "2020-06-11T08:34:41.721333Z"
    }
   },
   "outputs": [
    {
     "name": "stdout",
     "output_type": "stream",
     "text": [
      "              precision    recall  f1-score   support\n",
      "\n",
      "      BENIGN       0.96      0.96      0.96     10000\n",
      "         DoS       0.67      0.87      0.76      1000\n",
      "    PortScan       0.98      0.89      0.93      1000\n",
      "        DDoS       0.94      0.57      0.71      1000\n",
      " SSH-Patator       0.91      0.98      0.95      1000\n",
      " FTP-Patator       0.93      0.99      0.96      1000\n",
      "  Web Attack       0.81      0.86      0.84      1000\n",
      "         Bot       0.89      0.83      0.86      1000\n",
      "\n",
      "   micro avg       0.92      0.92      0.92     17000\n",
      "   macro avg       0.89      0.87      0.87     17000\n",
      "weighted avg       0.92      0.92      0.92     17000\n",
      "\n"
     ]
    }
   ],
   "source": [
    "predictions = model.predict(df_test_X)\n",
    "print(classification_report(df_test_y, np.argmax(predictions, axis=1) , target_names=labelList))"
   ]
  },
  {
   "cell_type": "code",
   "execution_count": null,
   "metadata": {},
   "outputs": [],
   "source": [
    "\n"
   ]
  }
 ],
 "metadata": {
  "kernelspec": {
   "display_name": "Python 3",
   "language": "python",
   "name": "python3"
  },
  "language_info": {
   "codemirror_mode": {
    "name": "ipython",
    "version": 3
   },
   "file_extension": ".py",
   "mimetype": "text/x-python",
   "name": "python",
   "nbconvert_exporter": "python",
   "pygments_lexer": "ipython3",
   "version": "3.7.3"
  },
  "toc": {
   "base_numbering": 1,
   "nav_menu": {},
   "number_sections": true,
   "sideBar": true,
   "skip_h1_title": false,
   "title_cell": "Table of Contents",
   "title_sidebar": "Contents",
   "toc_cell": false,
   "toc_position": {},
   "toc_section_display": true,
   "toc_window_display": false
  },
  "varInspector": {
   "cols": {
    "lenName": 16,
    "lenType": 16,
    "lenVar": 40
   },
   "kernels_config": {
    "python": {
     "delete_cmd_postfix": "",
     "delete_cmd_prefix": "del ",
     "library": "var_list.py",
     "varRefreshCmd": "print(var_dic_list())"
    },
    "r": {
     "delete_cmd_postfix": ") ",
     "delete_cmd_prefix": "rm(",
     "library": "var_list.r",
     "varRefreshCmd": "cat(var_dic_list()) "
    }
   },
   "types_to_exclude": [
    "module",
    "function",
    "builtin_function_or_method",
    "instance",
    "_Feature"
   ],
   "window_display": false
  }
 },
 "nbformat": 4,
 "nbformat_minor": 2
}
