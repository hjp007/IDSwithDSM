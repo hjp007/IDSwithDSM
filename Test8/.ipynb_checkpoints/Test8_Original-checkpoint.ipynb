{
 "cells": [
  {
   "cell_type": "code",
   "execution_count": 1,
   "metadata": {
    "ExecuteTime": {
     "end_time": "2020-07-22T12:12:58.625741Z",
     "start_time": "2020-07-22T12:12:55.287193Z"
    }
   },
   "outputs": [],
   "source": [
    "import pandas as pd\n",
    "import numpy  as np\n",
    "from time import time\n",
    "#train_test_split\n",
    "from sklearn.model_selection import train_test_split\n",
    "#Feature scaling\n",
    "from sklearn import preprocessing\n",
    "\n",
    "from sklearn.feature_selection import RFE\n",
    "from sklearn.feature_selection import RFECV\n",
    "from sklearn.linear_model import LinearRegression,Ridge,Lasso\n",
    "from collections import Counter\n",
    "\n",
    "from sklearn.feature_selection import RFECV\n",
    "from sklearn.ensemble import RandomForestClassifier\n",
    "from sklearn.model_selection import KFold\n",
    "from sklearn.model_selection import StratifiedKFold\n",
    "rfr = RandomForestClassifier()"
   ]
  },
  {
   "cell_type": "code",
   "execution_count": 2,
   "metadata": {
    "ExecuteTime": {
     "end_time": "2020-07-22T12:12:58.657155Z",
     "start_time": "2020-07-22T12:12:58.629264Z"
    }
   },
   "outputs": [],
   "source": [
    "def read_csv(dataroot):\n",
    "    df=pd.read_csv(dataroot,header=0,low_memory=False)   \n",
    "    pd.set_option('mode.use_inf_as_na', True) # convert inf to nan\n",
    "    df['Flow Bytes/s']=df['Flow Bytes/s'].astype('float64')\n",
    "    df[' Flow Packets/s']=df[' Flow Packets/s'].astype('float64')\n",
    "    df['Flow Bytes/s'].fillna(df['Flow Bytes/s'].mean(),inplace=True)\n",
    "    df[' Flow Packets/s'].fillna(df[' Flow Packets/s'].mean(),inplace=True)\n",
    "    return df\n",
    "\n",
    "def split_valid_from_train(train_dataset, valid_size):\n",
    "    # Method 1\n",
    "    train_dataset, valid_dataset, _, _ = train_test_split(train_dataset, train_dataset[' Label'], test_size=valid_size, random_state=None)\n",
    "    # pandas中先重置index再打乱train. 否则只会调整各个行的顺序，而不会改变pandas的index\n",
    "    # 重置\n",
    "    train_dataset = train_dataset.reset_index(drop=True)\n",
    "    # 打乱\n",
    "    indexMask = np.arange(len(train_dataset))\n",
    "    for i in range(10):\n",
    "        np.random.shuffle(indexMask)\n",
    "    train_dataset = train_dataset.iloc[indexMask]\n",
    "\n",
    "    return train_dataset, valid_dataset\n",
    "\n",
    "def shuffle(dataset):  \n",
    "    # 打乱\n",
    "    indexMask = np.arange(len(dataset))\n",
    "    for i in range(10):\n",
    "        np.random.shuffle(indexMask)\n",
    "    dataset = dataset.iloc[indexMask]\n",
    "    dataset = dataset.reset_index(drop=True)\n",
    "\n",
    "    return dataset \n",
    "\n",
    "def labels_separate(dataset):\n",
    "    y_ = dataset[' Label']\n",
    "    temp = dataset\n",
    "    temp.drop([' Label'], axis=1, inplace=True)\n",
    "    x_ = temp.values\n",
    "    return x_, y_\n",
    "\n",
    "def labels_map(label):\n",
    "    if(type(label) == int):      #已是数字，无需处理\n",
    "        return label\n",
    "    if label == 'BENIGN':\n",
    "        return 0\n",
    "    if label == 'DoS':\n",
    "        return 1\n",
    "    if label == 'PortScan':\n",
    "        return 2\n",
    "    if label == 'DDoS':\n",
    "        return 3\n",
    "    if label == 'SSH-Patator':\n",
    "        return 4\n",
    "    if label == 'FTP-Patator':\n",
    "        return 5\n",
    "    if label == 'Web Attack':\n",
    "        return 6\n",
    "    if label == 'Bot':\n",
    "        return 7\n",
    "    return -1   #-1表示出错\n",
    "def filter_labels(dataset):\n",
    "    dataset[' Label'] = dataset[' Label'].apply(labels_map)\n",
    "    return dataset\n",
    "#特征选取\n",
    "def feature_selection(dataset):\n",
    "    return dataset[[\n",
    "        ' Destination Port', 'Bwd Packet Length Max',' Bwd Packet Length Min', ' Bwd Packet Length Std',\n",
    "        ' Flow IAT Mean', ' Flow IAT Std', ' Flow IAT Min', ' Fwd IAT Min', ' Bwd Packets/s', ' Min Packet Length',\n",
    "        ' Max Packet Length', ' Init_Win_bytes_backward', ' act_data_pkt_fwd', ' Label'\n",
    "    ]]\n",
    "labelList = [\"BENIGN\", \"DoS\", \"PortScan\", \"DDoS\", \"SSH-Patator\", \"FTP-Patator\", \"Web Attack\", \"Bot\"]\n",
    "\n",
    "\n",
    "#独热编码。选取distination port统计大于等于10以上的port作为新增维度\n",
    "def create_columns_for_destination_port(train_dataset):\n",
    "    countDictionary = Counter(train_dataset[' Destination Port'])\n",
    "    columns = []\n",
    "    columns.append('DestinationPort_Others')\n",
    "    for key in countDictionary:\n",
    "        if(countDictionary[key] >= 10):\n",
    "            columns.append('DestinationPort_' + str(key))\n",
    "    return columns\n",
    "\n",
    "def one_hot_process_for_destination_port(dataset, columns):\n",
    "    #重置索引\n",
    "    dataset = dataset.reset_index(drop=True)\n",
    "    #创建空表\n",
    "    DestinationPort_revert = pd.DataFrame(data=np.zeros(shape=(dataset.shape[0],len(columns))), columns = columns)\n",
    "    #填充空表\n",
    "    for i,value in enumerate(dataset[' Destination Port'].values):\n",
    "        name = \"DestinationPort_\" + str(value)\n",
    "        if name in columns:\n",
    "            DestinationPort_revert.loc[i, name] = 1\n",
    "        else:\n",
    "            DestinationPort_revert.loc[i, \"DestinationPort_Others\"] = 1\n",
    "    #与原表连接\n",
    "    dataset = pd.concat([dataset, DestinationPort_revert], axis=1)\n",
    "    #删除原表的destination port列\n",
    "    dataset = dataset.drop([' Destination Port'], axis=1)\n",
    "    return dataset  \n"
   ]
  },
  {
   "cell_type": "code",
   "execution_count": 3,
   "metadata": {
    "ExecuteTime": {
     "end_time": "2020-07-22T12:14:04.424069Z",
     "start_time": "2020-07-22T12:12:58.662620Z"
    }
   },
   "outputs": [],
   "source": [
    "#DDoS\n",
    "df_1 = read_csv(\"../MachineLearningCVE/Friday-WorkingHours-Afternoon-DDos.pcap_ISCX.csv\")\n",
    "df_1 = df_1.drop(df_1[df_1[' Label'] == 'BENIGN'].index)\n",
    "df_1 = df_1.sample(n=5000,random_state=1, replace=False)\n",
    "df_1_train, df_1_test = split_valid_from_train(df_1, 0.2)\n",
    "#PortScan\n",
    "df_2 = read_csv(\"../MachineLearningCVE/Friday-WorkingHours-Afternoon-PortScan.pcap_ISCX.csv\")\n",
    "df_2 = df_2.drop(df_2[df_2[' Label'] == 'BENIGN'].index)\n",
    "df_2 = df_2.sample(n=5000,random_state=1, replace=False)\n",
    "df_2_train, df_2_test = split_valid_from_train(df_2, 0.2)\n",
    "#Bot\n",
    "df_3 = read_csv(\"../MachineLearningCVE/Friday-WorkingHours-Morning.pcap_ISCX.csv\")\n",
    "df_3 = df_3.drop(df_3[df_3[' Label'] == 'BENIGN'].index)\n",
    "df_3 = df_3.sample(n=5000,random_state=1, replace=True)\n",
    "df_3_train, df_3_test = split_valid_from_train(df_3, 0.2)\n",
    "#Benign\n",
    "df_4 = read_csv(\"../MachineLearningCVE/Monday-WorkingHours.pcap_ISCX.csv\")\n",
    "df_4 = df_4.sample(n=50000,random_state=1, replace=False)\n",
    "df_4_train, df_4_test = split_valid_from_train(df_4, 0.2)\n",
    "#Web attack\n",
    "df_6 = read_csv(\"../MachineLearningCVE/Thursday-WorkingHours-Morning-WebAttacks.pcap_ISCX.csv\")\n",
    "df_6 = df_6.drop(df_6[df_6[' Label'] == 'BENIGN'].index)\n",
    "df_6 = df_6.sample(n=5000,random_state=1, replace=True)\n",
    "df_6[' Label'] = df_6[' Label'].apply(lambda x: 'Web Attack')\n",
    "df_6_train, df_6_test = split_valid_from_train(df_6, 0.2)\n",
    "#FTP-Patator and SSH-Patator\n",
    "df_7 = read_csv(\"../MachineLearningCVE/Tuesday-WorkingHours.pcap_ISCX.csv\")\n",
    "df_7 = df_7.drop(df_7[df_7[' Label'] == 'BENIGN'].index)\n",
    "df_7_1 = df_7.drop(df_7[df_7[' Label'] == 'FTP-Patator'].index)\n",
    "df_7_2 = df_7.drop(df_7[df_7[' Label'] == 'SSH-Patator'].index)\n",
    "df_7_1 = df_7_1.sample(n=5000,random_state=1, replace=False)\n",
    "df_7_2 = df_7_2.sample(n=5000,random_state=1, replace=False)\n",
    "df_7_1_train, df_7_1_test = split_valid_from_train(df_7_1, 0.2)\n",
    "df_7_2_train, df_7_2_test = split_valid_from_train(df_7_2, 0.2)\n",
    "#DoS\n",
    "df_8 = read_csv(\"../MachineLearningCVE/Wednesday-workingHours.pcap_ISCX.csv\")\n",
    "df_8 = df_8.drop(df_8[df_8[' Label'] == 'BENIGN'].index)\n",
    "df_8 = df_8.sample(n=5000,random_state=1, replace=False)\n",
    "df_8[' Label'] = df_8[' Label'].apply(lambda x: 'DoS')\n",
    "df_8_train, df_8_test = split_valid_from_train(df_8, 0.2)\n",
    "#整合\n",
    "df_train = df_1_train.append([df_2_train, df_3_train, df_4_train, df_6_train, df_7_1_train,df_7_2_train,df_8_train])\n",
    "df_test = df_1_test.append([df_2_test, df_3_test, df_4_test, df_6_test, df_7_1_test,df_7_2_test,df_8_test])"
   ]
  },
  {
   "cell_type": "code",
   "execution_count": 4,
   "metadata": {
    "ExecuteTime": {
     "end_time": "2020-07-22T12:14:04.461525Z",
     "start_time": "2020-07-22T12:14:04.431042Z"
    }
   },
   "outputs": [
    {
     "name": "stdout",
     "output_type": "stream",
     "text": [
      "(68000, 79)\n",
      "BENIGN         40000\n",
      "SSH-Patator     4000\n",
      "FTP-Patator     4000\n",
      "DDoS            4000\n",
      "Bot             4000\n",
      "PortScan        4000\n",
      "DoS             4000\n",
      "Web Attack      4000\n",
      "Name:  Label, dtype: int64\n"
     ]
    }
   ],
   "source": [
    "print(df_train.shape)\n",
    "print(df_train.loc[:,' Label'].value_counts())"
   ]
  },
  {
   "cell_type": "code",
   "execution_count": 5,
   "metadata": {
    "ExecuteTime": {
     "end_time": "2020-07-22T12:14:26.810485Z",
     "start_time": "2020-07-22T12:14:04.471881Z"
    }
   },
   "outputs": [],
   "source": [
    "#标签的字符转化成数字\n",
    "df_train = filter_labels(df_train)\n",
    "#对destination port进行独热编码\n",
    "columns = create_columns_for_destination_port(df_train)\n",
    "df_train = one_hot_process_for_destination_port(df_train, columns)\n",
    "#分离标签\n",
    "df_train_X, df_train_y = labels_separate(df_train)\n",
    "#Normalization\n",
    "scaler = preprocessing.MinMaxScaler()\n",
    "df_train_X = scaler.fit_transform(df_train_X)"
   ]
  },
  {
   "cell_type": "code",
   "execution_count": 6,
   "metadata": {
    "ExecuteTime": {
     "end_time": "2020-07-22T12:14:26.823153Z",
     "start_time": "2020-07-22T12:14:26.817521Z"
    }
   },
   "outputs": [
    {
     "name": "stdout",
     "output_type": "stream",
     "text": [
      "(68000, 109)\n",
      "(68000,)\n"
     ]
    }
   ],
   "source": [
    "print(df_train_X.shape)\n",
    "print(df_train_y.shape)\n",
    "#print(df_train.loc[:,' Label'].value_counts())"
   ]
  },
  {
   "cell_type": "code",
   "execution_count": 7,
   "metadata": {
    "ExecuteTime": {
     "end_time": "2020-07-22T15:39:11.967416Z",
     "start_time": "2020-07-22T12:14:26.827955Z"
    }
   },
   "outputs": [
    {
     "name": "stdout",
     "output_type": "stream",
     "text": [
      "37\n",
      "[ 1  1  1  1 15  1 10  1  1  1  1  1  1  7  2  1  1  1 25  3  5  1  6  1\n",
      " 17 19 20 14 23 32 66 68 64  4  1  9  1 11  1  1  1  1 33 31 72  1 13 18\n",
      " 70 62 21  1  1  1 12 69 65 60 67 61 63  1  1  1 16  1  1  1 37 27 34 28\n",
      " 30 24 35 22 26  1  1 42 58 50  1 49 47 59 39 51 44 53 46 45 52 48 29  1\n",
      " 54 36 43 55  8  1 38 57 41 56 40 71 73]\n",
      "[' Flow Duration', ' Total Fwd Packets', ' Total Backward Packets', 'Total Length of Fwd Packets', ' Fwd Packet Length Max', ' Fwd Packet Length Mean', ' Fwd Packet Length Std', 'Bwd Packet Length Max', ' Bwd Packet Length Min', ' Bwd Packet Length Mean', ' Bwd Packet Length Std', ' Flow IAT Mean', ' Flow IAT Std', ' Flow IAT Max', ' Fwd IAT Std', ' Fwd IAT Min', ' Bwd Header Length', ' Bwd Packets/s', ' Max Packet Length', ' Packet Length Mean', ' Packet Length Std', ' Packet Length Variance', ' PSH Flag Count', ' Average Packet Size', ' Avg Fwd Segment Size', ' Avg Bwd Segment Size', 'Subflow Fwd Packets', ' Subflow Fwd Bytes', ' Subflow Bwd Packets', 'Init_Win_bytes_forward', ' Init_Win_bytes_backward', ' act_data_pkt_fwd', 'DestinationPort_Others', 'DestinationPort_80', 'DestinationPort_8080', 'DestinationPort_22', 'DestinationPort_21']\n"
     ]
    }
   ],
   "source": [
    "# #带交叉验证的RFE\n",
    "rfr = RandomForestClassifier(n_estimators=200, criterion='entropy')\n",
    "\n",
    "rfecv = RFECV(estimator=rfr, cv=StratifiedKFold(n_splits=2, random_state=1), scoring='accuracy')\n",
    "rfecv.fit(df_train_X, df_train_y)\n",
    "print(rfecv.n_features_)\n",
    "print(rfecv.ranking_)\n",
    "# 选取特征\n",
    "index = 0\n",
    "features_selected = []\n",
    "for item in rfecv.ranking_:\n",
    "    if(item == 1):\n",
    "        features_selected.append(df_train.columns.values.tolist()[index])\n",
    "    index+=1\n",
    "print(features_selected)"
   ]
  },
  {
   "cell_type": "code",
   "execution_count": 13,
   "metadata": {
    "ExecuteTime": {
     "end_time": "2020-07-23T01:26:12.918878Z",
     "start_time": "2020-07-23T01:26:12.477654Z"
    }
   },
   "outputs": [
    {
     "name": "stdout",
     "output_type": "stream",
     "text": [
      "Optimal number of features : 37\n",
      "Ranking of features : [ 1  1  1  1 15  1 10  1  1  1  1  1  1  7  2  1  1  1 25  3  5  1  6  1\n",
      " 17 19 20 14 23 32 66 68 64  4  1  9  1 11  1  1  1  1 33 31 72  1 13 18\n",
      " 70 62 21  1  1  1 12 69 65 60 67 61 63  1  1  1 16  1  1  1 37 27 34 28\n",
      " 30 24 35 22 26  1  1 42 58 50  1 49 47 59 39 51 44 53 46 45 52 48 29  1\n",
      " 54 36 43 55  8  1 38 57 41 56 40 71 73]\n"
     ]
    },
    {
     "data": {
      "image/png": "[encoded data removed]",
      "text/plain": [
       "<Figure size 432x288 with 1 Axes>"
      ]
     },
     "metadata": {
      "needs_background": "light"
     },
     "output_type": "display_data"
    }
   ],
   "source": [
    "print(\"Optimal number of features : %d\" % rfecv.n_features_)\n",
    "print(\"Ranking of features : %s\" % rfecv.ranking_)\n",
    "import matplotlib.pyplot as plt\n",
    "# Plot number of features VS. cross-validation scores\n",
    "plt.figure()\n",
    "plt.xlabel(\"Number of features selected\")\n",
    "plt.ylabel(\"Cross validation score (accuracy)\")\n",
    "plt.plot(range(1, len(rfecv.grid_scores_) + 1), rfecv.grid_scores_)\n",
    "plt.savefig(\"./rfe_version_one.eps\",format=\"eps\")\n",
    "plt.show()\n"
   ]
  },
  {
   "cell_type": "code",
   "execution_count": 9,
   "metadata": {
    "ExecuteTime": {
     "end_time": "2020-07-22T15:39:12.778318Z",
     "start_time": "2020-07-22T15:39:12.767281Z"
    }
   },
   "outputs": [
    {
     "name": "stdout",
     "output_type": "stream",
     "text": [
      "RFECV(cv=StratifiedKFold(n_splits=2, random_state=1, shuffle=False),\n",
      "   estimator=RandomForestClassifier(bootstrap=True, class_weight=None, criterion='entropy',\n",
      "            max_depth=None, max_features='auto', max_leaf_nodes=None,\n",
      "            min_impurity_decrease=0.0, min_impurity_split=None,\n",
      "            min_samples_leaf=1, min_samples_split=2,\n",
      "            min_weight_fraction_leaf=0.0, n_estimators=200, n_jobs=None,\n",
      "            oob_score=False, random_state=None, verbose=0,\n",
      "            warm_start=False),\n",
      "   min_features_to_select=1, n_jobs=None, scoring='accuracy', step=1,\n",
      "   verbose=0)\n"
     ]
    }
   ],
   "source": [
    "print(rfecv)"
   ]
  },
  {
   "cell_type": "code",
   "execution_count": 10,
   "metadata": {
    "ExecuteTime": {
     "end_time": "2020-07-22T16:28:26.410452Z",
     "start_time": "2020-07-22T15:39:12.783854Z"
    }
   },
   "outputs": [
    {
     "name": "stdout",
     "output_type": "stream",
     "text": [
      "['Total Length of Fwd Packets', ' Fwd Packet Length Max', ' Flow IAT Max', ' Packet Length Mean', ' Average Packet Size', ' Avg Fwd Segment Size', ' Avg Bwd Segment Size', ' Subflow Fwd Bytes', 'Init_Win_bytes_forward', ' Init_Win_bytes_backward', 'DestinationPort_80', 'DestinationPort_22', 'DestinationPort_21']\n"
     ]
    }
   ],
   "source": [
    "from sklearn.feature_selection import RFE\n",
    "rfe = RFE(estimator=rfr, n_features_to_select=13)\n",
    "rfe.fit(df_train_X, df_train_y)\n",
    "# 选取特征\n",
    "index = 0\n",
    "features_selected = []\n",
    "for item in rfe.ranking_:\n",
    "    if(item == 1):\n",
    "        features_selected.append(df_train.columns.values.tolist()[index])\n",
    "    index+=1\n",
    "print(features_selected)"
   ]
  },
  {
   "cell_type": "code",
   "execution_count": 11,
   "metadata": {
    "ExecuteTime": {
     "end_time": "2020-07-22T16:28:26.420480Z",
     "start_time": "2020-07-22T16:28:26.413450Z"
    }
   },
   "outputs": [
    {
     "name": "stdout",
     "output_type": "stream",
     "text": [
      "[10 15 11  1 37  1 28  2 19 14  3  5  9 39 27 13  8  1 47 33 24 20 29 23\n",
      " 41 43 40 44 48 52 89 93 90 31  6 35 22 34 17  1  4  7 57 53 83 12 32 46\n",
      " 94 85 42  1  1  1 30 88 95 91 77 79 86 21  1 18 38  1  1 25 61 51 58 54\n",
      " 55 50 59 45 49 26  1 67 80 76 16 72 71 87 64 82 69 70 73 68 74 84 56  1\n",
      " 75 60 66 78 36  1 63 81 62 92 65 96 97]\n"
     ]
    }
   ],
   "source": [
    "print(rfe.ranking_)"
   ]
  },
  {
   "cell_type": "code",
   "execution_count": null,
   "metadata": {},
   "outputs": [],
   "source": []
  }
 ],
 "metadata": {
  "kernelspec": {
   "display_name": "Python 3",
   "language": "python",
   "name": "python3"
  },
  "language_info": {
   "codemirror_mode": {
    "name": "ipython",
    "version": 3
   },
   "file_extension": ".py",
   "mimetype": "text/x-python",
   "name": "python",
   "nbconvert_exporter": "python",
   "pygments_lexer": "ipython3",
   "version": "3.7.3"
  },
  "toc": {
   "base_numbering": 1,
   "nav_menu": {},
   "number_sections": true,
   "sideBar": true,
   "skip_h1_title": false,
   "title_cell": "Table of Contents",
   "title_sidebar": "Contents",
   "toc_cell": false,
   "toc_position": {},
   "toc_section_display": true,
   "toc_window_display": false
  },
  "varInspector": {
   "cols": {
    "lenName": 16,
    "lenType": 16,
    "lenVar": 40
   },
   "kernels_config": {
    "python": {
     "delete_cmd_postfix": "",
     "delete_cmd_prefix": "del ",
     "library": "var_list.py",
     "varRefreshCmd": "print(var_dic_list())"
    },
    "r": {
     "delete_cmd_postfix": ") ",
     "delete_cmd_prefix": "rm(",
     "library": "var_list.r",
     "varRefreshCmd": "cat(var_dic_list()) "
    }
   },
   "types_to_exclude": [
    "module",
    "function",
    "builtin_function_or_method",
    "instance",
    "_Feature"
   ],
   "window_display": false
  }
 },
 "nbformat": 4,
 "nbformat_minor": 2
}
