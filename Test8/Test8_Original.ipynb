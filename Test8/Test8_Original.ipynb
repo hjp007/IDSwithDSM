{
 "cells": [
  {
   "cell_type": "code",
   "execution_count": 1,
   "metadata": {
    "ExecuteTime": {
     "end_time": "2020-07-24T07:21:02.794676Z",
     "start_time": "2020-07-24T07:21:00.162668Z"
    }
   },
   "outputs": [],
   "source": [
    "import pandas as pd\n",
    "import numpy  as np\n",
    "from time import time\n",
    "#train_test_split\n",
    "from sklearn.model_selection import train_test_split\n",
    "#Feature scaling\n",
    "from sklearn import preprocessing\n",
    "\n",
    "from sklearn.feature_selection import RFE\n",
    "from sklearn.feature_selection import RFECV\n",
    "from sklearn.linear_model import LinearRegression,Ridge,Lasso\n",
    "from collections import Counter\n",
    "\n",
    "from sklearn.feature_selection import RFECV\n",
    "from sklearn.ensemble import RandomForestClassifier\n",
    "from sklearn.model_selection import KFold\n",
    "from sklearn.model_selection import StratifiedKFold\n",
    "rfr = RandomForestClassifier()"
   ]
  },
  {
   "cell_type": "code",
   "execution_count": 2,
   "metadata": {
    "ExecuteTime": {
     "end_time": "2020-07-24T07:21:02.838070Z",
     "start_time": "2020-07-24T07:21:02.805134Z"
    }
   },
   "outputs": [],
   "source": [
    "def read_csv(dataroot):\n",
    "    df=pd.read_csv(dataroot,header=0,low_memory=False)   \n",
    "    pd.set_option('mode.use_inf_as_na', True) # convert inf to nan\n",
    "    df['Flow Bytes/s']=df['Flow Bytes/s'].astype('float64')\n",
    "    df[' Flow Packets/s']=df[' Flow Packets/s'].astype('float64')\n",
    "    df['Flow Bytes/s'].fillna(df['Flow Bytes/s'].mean(),inplace=True)\n",
    "    df[' Flow Packets/s'].fillna(df[' Flow Packets/s'].mean(),inplace=True)\n",
    "    return df\n",
    "\n",
    "def split_valid_from_train(train_dataset, valid_size):\n",
    "    # Method 1\n",
    "    train_dataset, valid_dataset, _, _ = train_test_split(train_dataset, train_dataset[' Label'], test_size=valid_size, random_state=None)\n",
    "    # pandas中先重置index再打乱train. 否则只会调整各个行的顺序，而不会改变pandas的index\n",
    "    # 重置\n",
    "    train_dataset = train_dataset.reset_index(drop=True)\n",
    "    # 打乱\n",
    "    indexMask = np.arange(len(train_dataset))\n",
    "    for i in range(10):\n",
    "        np.random.shuffle(indexMask)\n",
    "    train_dataset = train_dataset.iloc[indexMask]\n",
    "\n",
    "    return train_dataset, valid_dataset\n",
    "\n",
    "def shuffle(dataset):  \n",
    "    # 打乱\n",
    "    indexMask = np.arange(len(dataset))\n",
    "    for i in range(10):\n",
    "        np.random.shuffle(indexMask)\n",
    "    dataset = dataset.iloc[indexMask]\n",
    "    dataset = dataset.reset_index(drop=True)\n",
    "\n",
    "    return dataset \n",
    "\n",
    "def labels_separate(dataset):\n",
    "    y_ = dataset[' Label']\n",
    "    temp = dataset\n",
    "    temp.drop([' Label'], axis=1, inplace=True)\n",
    "    x_ = temp.values\n",
    "    return x_, y_\n",
    "\n",
    "def labels_map(label):\n",
    "    if(type(label) == int):      #已是数字，无需处理\n",
    "        return label\n",
    "    if label == 'BENIGN':\n",
    "        return 0\n",
    "    if label == 'DoS':\n",
    "        return 1\n",
    "    if label == 'PortScan':\n",
    "        return 2\n",
    "    if label == 'DDoS':\n",
    "        return 3\n",
    "    if label == 'SSH-Patator':\n",
    "        return 4\n",
    "    if label == 'FTP-Patator':\n",
    "        return 5\n",
    "    if label == 'Web Attack':\n",
    "        return 6\n",
    "    if label == 'Bot':\n",
    "        return 7\n",
    "    return -1   #-1表示出错\n",
    "def filter_labels(dataset):\n",
    "    dataset[' Label'] = dataset[' Label'].apply(labels_map)\n",
    "    return dataset\n",
    "#特征选取\n",
    "def feature_selection(dataset):\n",
    "    return dataset[[\n",
    "        ' Destination Port', 'Bwd Packet Length Max',' Bwd Packet Length Min', ' Bwd Packet Length Std',\n",
    "        ' Flow IAT Mean', ' Flow IAT Std', ' Flow IAT Min', ' Fwd IAT Min', ' Bwd Packets/s', ' Min Packet Length',\n",
    "        ' Max Packet Length', ' Init_Win_bytes_backward', ' act_data_pkt_fwd', ' Label'\n",
    "    ]]\n",
    "labelList = [\"BENIGN\", \"DoS\", \"PortScan\", \"DDoS\", \"SSH-Patator\", \"FTP-Patator\", \"Web Attack\", \"Bot\"]\n",
    "\n",
    "\n",
    "#独热编码。选取distination port统计大于等于10以上的port作为新增维度\n",
    "def create_columns_for_destination_port(train_dataset):\n",
    "    countDictionary = Counter(train_dataset[' Destination Port'])\n",
    "    columns = []\n",
    "    columns.append('DestinationPort_Others')\n",
    "    for key in countDictionary:\n",
    "        if(countDictionary[key] >= 10):\n",
    "            columns.append('DestinationPort_' + str(key))\n",
    "    return columns\n",
    "\n",
    "def one_hot_process_for_destination_port(dataset, columns):\n",
    "    #重置索引\n",
    "    dataset = dataset.reset_index(drop=True)\n",
    "    #创建空表\n",
    "    DestinationPort_revert = pd.DataFrame(data=np.zeros(shape=(dataset.shape[0],len(columns))), columns = columns)\n",
    "    #填充空表\n",
    "    for i,value in enumerate(dataset[' Destination Port'].values):\n",
    "        name = \"DestinationPort_\" + str(value)\n",
    "        if name in columns:\n",
    "            DestinationPort_revert.loc[i, name] = 1\n",
    "        else:\n",
    "            DestinationPort_revert.loc[i, \"DestinationPort_Others\"] = 1\n",
    "    #与原表连接\n",
    "    dataset = pd.concat([dataset, DestinationPort_revert], axis=1)\n",
    "    #删除原表的destination port列\n",
    "    dataset = dataset.drop([' Destination Port'], axis=1)\n",
    "    return dataset  \n"
   ]
  },
  {
   "cell_type": "code",
   "execution_count": 3,
   "metadata": {
    "ExecuteTime": {
     "end_time": "2020-07-24T07:21:47.951100Z",
     "start_time": "2020-07-24T07:21:02.841856Z"
    }
   },
   "outputs": [],
   "source": [
    "#DDoS\n",
    "df_1 = read_csv(\"../MachineLearningCVE/Friday-WorkingHours-Afternoon-DDos.pcap_ISCX.csv\")\n",
    "df_1 = df_1.drop(df_1[df_1[' Label'] == 'BENIGN'].index)\n",
    "df_1 = df_1.sample(n=5000,random_state=1, replace=False)\n",
    "df_1_train, df_1_test = split_valid_from_train(df_1, 0.2)\n",
    "#PortScan\n",
    "df_2 = read_csv(\"../MachineLearningCVE/Friday-WorkingHours-Afternoon-PortScan.pcap_ISCX.csv\")\n",
    "df_2 = df_2.drop(df_2[df_2[' Label'] == 'BENIGN'].index)\n",
    "df_2 = df_2.sample(n=5000,random_state=1, replace=False)\n",
    "df_2_train, df_2_test = split_valid_from_train(df_2, 0.2)\n",
    "#Bot\n",
    "df_3 = read_csv(\"../MachineLearningCVE/Friday-WorkingHours-Morning.pcap_ISCX.csv\")\n",
    "df_3 = df_3.drop(df_3[df_3[' Label'] == 'BENIGN'].index)\n",
    "df_3 = df_3.sample(n=5000,random_state=1, replace=True)\n",
    "df_3_train, df_3_test = split_valid_from_train(df_3, 0.2)\n",
    "#Benign\n",
    "df_4 = read_csv(\"../MachineLearningCVE/Monday-WorkingHours.pcap_ISCX.csv\")\n",
    "df_4 = df_4.sample(n=50000,random_state=1, replace=False)\n",
    "df_4_train, df_4_test = split_valid_from_train(df_4, 0.2)\n",
    "#Web attack\n",
    "df_6 = read_csv(\"../MachineLearningCVE/Thursday-WorkingHours-Morning-WebAttacks.pcap_ISCX.csv\")\n",
    "df_6 = df_6.drop(df_6[df_6[' Label'] == 'BENIGN'].index)\n",
    "df_6 = df_6.sample(n=5000,random_state=1, replace=True)\n",
    "df_6[' Label'] = df_6[' Label'].apply(lambda x: 'Web Attack')\n",
    "df_6_train, df_6_test = split_valid_from_train(df_6, 0.2)\n",
    "#FTP-Patator and SSH-Patator\n",
    "df_7 = read_csv(\"../MachineLearningCVE/Tuesday-WorkingHours.pcap_ISCX.csv\")\n",
    "df_7 = df_7.drop(df_7[df_7[' Label'] == 'BENIGN'].index)\n",
    "df_7_1 = df_7.drop(df_7[df_7[' Label'] == 'FTP-Patator'].index)\n",
    "df_7_2 = df_7.drop(df_7[df_7[' Label'] == 'SSH-Patator'].index)\n",
    "df_7_1 = df_7_1.sample(n=5000,random_state=1, replace=False)\n",
    "df_7_2 = df_7_2.sample(n=5000,random_state=1, replace=False)\n",
    "df_7_1_train, df_7_1_test = split_valid_from_train(df_7_1, 0.2)\n",
    "df_7_2_train, df_7_2_test = split_valid_from_train(df_7_2, 0.2)\n",
    "#DoS\n",
    "df_8 = read_csv(\"../MachineLearningCVE/Wednesday-workingHours.pcap_ISCX.csv\")\n",
    "df_8 = df_8.drop(df_8[df_8[' Label'] == 'BENIGN'].index)\n",
    "df_8 = df_8.sample(n=5000,random_state=1, replace=False)\n",
    "df_8[' Label'] = df_8[' Label'].apply(lambda x: 'DoS')\n",
    "df_8_train, df_8_test = split_valid_from_train(df_8, 0.2)\n",
    "#整合\n",
    "df_train = df_1_train.append([df_2_train, df_3_train, df_4_train, df_6_train, df_7_1_train,df_7_2_train,df_8_train])\n",
    "df_test = df_1_test.append([df_2_test, df_3_test, df_4_test, df_6_test, df_7_1_test,df_7_2_test,df_8_test])"
   ]
  },
  {
   "cell_type": "code",
   "execution_count": 4,
   "metadata": {
    "ExecuteTime": {
     "end_time": "2020-07-24T07:21:48.017025Z",
     "start_time": "2020-07-24T07:21:47.976566Z"
    }
   },
   "outputs": [
    {
     "name": "stdout",
     "output_type": "stream",
     "text": [
      "(68000, 79)\n",
      "BENIGN         40000\n",
      "SSH-Patator     4000\n",
      "PortScan        4000\n",
      "Bot             4000\n",
      "FTP-Patator     4000\n",
      "DoS             4000\n",
      "DDoS            4000\n",
      "Web Attack      4000\n",
      "Name:  Label, dtype: int64\n"
     ]
    }
   ],
   "source": [
    "print(df_train.shape)\n",
    "print(df_train.loc[:,' Label'].value_counts())"
   ]
  },
  {
   "cell_type": "code",
   "execution_count": 5,
   "metadata": {
    "ExecuteTime": {
     "end_time": "2020-07-24T07:22:05.695794Z",
     "start_time": "2020-07-24T07:21:48.022330Z"
    }
   },
   "outputs": [],
   "source": [
    "#标签的字符转化成数字\n",
    "df_train = filter_labels(df_train)\n",
    "#对destination port进行独热编码\n",
    "columns = create_columns_for_destination_port(df_train)\n",
    "df_train = one_hot_process_for_destination_port(df_train, columns)\n",
    "#分离标签\n",
    "df_train_X, df_train_y = labels_separate(df_train)\n",
    "#Normalization\n",
    "scaler = preprocessing.MinMaxScaler()\n",
    "df_train_X = scaler.fit_transform(df_train_X)"
   ]
  },
  {
   "cell_type": "code",
   "execution_count": 6,
   "metadata": {
    "ExecuteTime": {
     "end_time": "2020-07-24T07:22:10.342938Z",
     "start_time": "2020-07-24T07:22:05.698436Z"
    }
   },
   "outputs": [],
   "source": [
    "df_test = filter_labels(df_test)\n",
    "df_test = one_hot_process_for_destination_port(df_test, columns)\n",
    "df_test_X, df_test_y = labels_separate(df_test)\n",
    "df_test_X = scaler.fit_transform(df_test_X)"
   ]
  },
  {
   "cell_type": "code",
   "execution_count": 7,
   "metadata": {
    "ExecuteTime": {
     "end_time": "2020-07-24T07:22:10.354360Z",
     "start_time": "2020-07-24T07:22:10.347176Z"
    }
   },
   "outputs": [
    {
     "name": "stdout",
     "output_type": "stream",
     "text": [
      "(68000, 104)\n",
      "(68000,)\n"
     ]
    }
   ],
   "source": [
    "print(df_train_X.shape)\n",
    "print(df_train_y.shape)\n",
    "#print(df_train.loc[:,' Label'].value_counts())"
   ]
  },
  {
   "cell_type": "code",
   "execution_count": 8,
   "metadata": {
    "ExecuteTime": {
     "end_time": "2020-07-24T07:22:17.518768Z",
     "start_time": "2020-07-24T07:22:10.359964Z"
    }
   },
   "outputs": [],
   "source": [
    "import tensorflow as tf\n",
    "from tensorflow import keras\n",
    "from sklearn.metrics import f1_score, precision_score, recall_score\n",
    "from sklearn.metrics import classification_report\n",
    "from tensorflow.keras.layers import BatchNormalization\n",
    "#超参数设置\n",
    "learning_rate = 0.001\n",
    "epochs = 30\n",
    "batch_size = 256\n",
    "activation = tf.nn.relu         #非输出层下的激活函数"
   ]
  },
  {
   "cell_type": "code",
   "execution_count": 9,
   "metadata": {
    "ExecuteTime": {
     "end_time": "2020-07-24T07:23:51.724824Z",
     "start_time": "2020-07-24T07:22:17.524000Z"
    }
   },
   "outputs": [
    {
     "name": "stdout",
     "output_type": "stream",
     "text": [
      "WARNING:tensorflow:From /opt/conda/lib/python3.7/site-packages/tensorflow/python/ops/resource_variable_ops.py:435: colocate_with (from tensorflow.python.framework.ops) is deprecated and will be removed in a future version.\n",
      "Instructions for updating:\n",
      "Colocations handled automatically by placer.\n",
      "_________________________________________________________________\n",
      "Layer (type)                 Output Shape              Param #   \n",
      "=================================================================\n",
      "dense (Dense)                (None, 104)               10920     \n",
      "_________________________________________________________________\n",
      "batch_normalization_v1 (Batc (None, 104)               416       \n",
      "_________________________________________________________________\n",
      "dense_1 (Dense)              (None, 64)                6720      \n",
      "_________________________________________________________________\n",
      "batch_normalization_v1_1 (Ba (None, 64)                256       \n",
      "_________________________________________________________________\n",
      "dense_2 (Dense)              (None, 64)                4160      \n",
      "_________________________________________________________________\n",
      "batch_normalization_v1_2 (Ba (None, 64)                256       \n",
      "_________________________________________________________________\n",
      "dense_3 (Dense)              (None, 8)                 520       \n",
      "=================================================================\n",
      "Total params: 23,248\n",
      "Trainable params: 22,784\n",
      "Non-trainable params: 464\n",
      "_________________________________________________________________\n",
      "Train on 68000 samples, validate on 17000 samples\n",
      "WARNING:tensorflow:From /opt/conda/lib/python3.7/site-packages/tensorflow/python/ops/math_ops.py:3066: to_int32 (from tensorflow.python.ops.math_ops) is deprecated and will be removed in a future version.\n",
      "Instructions for updating:\n",
      "Use tf.cast instead.\n",
      "Epoch 1/30\n",
      "66304/68000 [============================>.] - ETA: 0s - loss: 0.2520 - acc: 0.9229\n",
      "Epoch 00001: val_loss improved from inf to 0.99625, saving model to ./Test8_model.h5\n",
      "WARNING:tensorflow:TensorFlow optimizers do not make it possible to access optimizer attributes or optimizer state after instantiation. As a result, we cannot save the optimizer as part of the model save file.You will have to compile your model again after loading it. Prefer using a Keras optimizer instead (see keras.io/optimizers).\n",
      "68000/68000 [==============================] - 4s 54us/sample - loss: 0.2483 - acc: 0.9235 - val_loss: 0.9963 - val_acc: 0.6774\n",
      "Epoch 2/30\n",
      "  256/68000 [..............................] - ETA: 3s - loss: 0.1122 - acc: 0.9648"
     ]
    },
    {
     "name": "stderr",
     "output_type": "stream",
     "text": [
      "/opt/conda/lib/python3.7/site-packages/sklearn/metrics/classification.py:1143: UndefinedMetricWarning: Precision is ill-defined and being set to 0.0 in labels with no predicted samples.\n",
      "  'precision', 'predicted', average, warn_for)\n",
      "/opt/conda/lib/python3.7/site-packages/sklearn/metrics/classification.py:1143: UndefinedMetricWarning: F-score is ill-defined and being set to 0.0 in labels with no predicted samples.\n",
      "  'precision', 'predicted', average, warn_for)\n"
     ]
    },
    {
     "name": "stdout",
     "output_type": "stream",
     "text": [
      "66816/68000 [============================>.] - ETA: 0s - loss: 0.1076 - acc: 0.9551\n",
      "Epoch 00002: val_loss improved from 0.99625 to 0.78518, saving model to ./Test8_model.h5\n",
      "WARNING:tensorflow:TensorFlow optimizers do not make it possible to access optimizer attributes or optimizer state after instantiation. As a result, we cannot save the optimizer as part of the model save file.You will have to compile your model again after loading it. Prefer using a Keras optimizer instead (see keras.io/optimizers).\n",
      "68000/68000 [==============================] - 3s 43us/sample - loss: 0.1077 - acc: 0.9551 - val_loss: 0.7852 - val_acc: 0.8289\n",
      "Epoch 3/30\n",
      "67328/68000 [============================>.] - ETA: 0s - loss: 0.0924 - acc: 0.9596\n",
      "Epoch 00003: val_loss did not improve from 0.78518\n",
      "68000/68000 [==============================] - 3s 41us/sample - loss: 0.0927 - acc: 0.9595 - val_loss: 1.2216 - val_acc: 0.8204\n",
      "Epoch 4/30\n",
      "66560/68000 [============================>.] - ETA: 0s - loss: 0.0842 - acc: 0.9628\n",
      "Epoch 00004: val_loss did not improve from 0.78518\n",
      "68000/68000 [==============================] - 3s 47us/sample - loss: 0.0837 - acc: 0.9631 - val_loss: 1.3733 - val_acc: 0.7751\n",
      "Epoch 5/30\n",
      "67328/68000 [============================>.] - ETA: 0s - loss: 0.0740 - acc: 0.9674\n",
      "Epoch 00005: val_loss did not improve from 0.78518\n",
      "68000/68000 [==============================] - 3s 46us/sample - loss: 0.0736 - acc: 0.9676 - val_loss: 1.5843 - val_acc: 0.7176\n",
      "Epoch 6/30\n",
      "67072/68000 [============================>.] - ETA: 0s - loss: 0.0665 - acc: 0.9713\n",
      "Epoch 00006: val_loss did not improve from 0.78518\n",
      "68000/68000 [==============================] - 3s 43us/sample - loss: 0.0665 - acc: 0.9713 - val_loss: 1.6730 - val_acc: 0.7091\n",
      "Epoch 7/30\n",
      "67840/68000 [============================>.] - ETA: 0s - loss: 0.0578 - acc: 0.9745\n",
      "Epoch 00007: val_loss did not improve from 0.78518\n",
      "68000/68000 [==============================] - 3s 44us/sample - loss: 0.0578 - acc: 0.9745 - val_loss: 1.8332 - val_acc: 0.7048\n",
      "Epoch 8/30\n",
      "66304/68000 [============================>.] - ETA: 0s - loss: 0.0574 - acc: 0.9748\n",
      "Epoch 00008: val_loss did not improve from 0.78518\n",
      "68000/68000 [==============================] - 3s 45us/sample - loss: 0.0573 - acc: 0.9748 - val_loss: 2.1091 - val_acc: 0.6736\n",
      "Epoch 9/30\n",
      "66816/68000 [============================>.] - ETA: 0s - loss: 0.0543 - acc: 0.9754\n",
      "Epoch 00009: val_loss did not improve from 0.78518\n",
      "68000/68000 [==============================] - 3s 45us/sample - loss: 0.0542 - acc: 0.9754 - val_loss: 1.8710 - val_acc: 0.6626\n",
      "Epoch 10/30\n",
      "66560/68000 [============================>.] - ETA: 0s - loss: 0.0532 - acc: 0.9757\n",
      "Epoch 00010: val_loss did not improve from 0.78518\n",
      "68000/68000 [==============================] - 3s 51us/sample - loss: 0.0532 - acc: 0.9758 - val_loss: 1.9587 - val_acc: 0.7162\n",
      "Epoch 11/30\n",
      "67072/68000 [============================>.] - ETA: 0s - loss: 0.0520 - acc: 0.9763\n",
      "Epoch 00011: val_loss did not improve from 0.78518\n",
      "68000/68000 [==============================] - 3s 44us/sample - loss: 0.0519 - acc: 0.9763 - val_loss: 2.1249 - val_acc: 0.7088\n",
      "Epoch 12/30\n",
      "67840/68000 [============================>.] - ETA: 0s - loss: 0.0510 - acc: 0.9767\n",
      "Epoch 00012: val_loss did not improve from 0.78518\n",
      "68000/68000 [==============================] - 3s 45us/sample - loss: 0.0511 - acc: 0.9766 - val_loss: 1.9148 - val_acc: 0.7605\n",
      "Epoch 13/30\n",
      "66816/68000 [============================>.] - ETA: 0s - loss: 0.0507 - acc: 0.9766\n",
      "Epoch 00013: val_loss did not improve from 0.78518\n",
      "68000/68000 [==============================] - 3s 49us/sample - loss: 0.0508 - acc: 0.9766 - val_loss: 1.9336 - val_acc: 0.7325\n",
      "Epoch 14/30\n",
      "67840/68000 [============================>.] - ETA: 0s - loss: 0.0507 - acc: 0.9759\n",
      "Epoch 00014: val_loss did not improve from 0.78518\n",
      "68000/68000 [==============================] - 3s 43us/sample - loss: 0.0507 - acc: 0.9759 - val_loss: 1.9273 - val_acc: 0.6878\n",
      "Epoch 15/30\n",
      "67840/68000 [============================>.] - ETA: 0s - loss: 0.0508 - acc: 0.9769\n",
      "Epoch 00015: val_loss did not improve from 0.78518\n",
      "68000/68000 [==============================] - 3s 49us/sample - loss: 0.0508 - acc: 0.9769 - val_loss: 2.1754 - val_acc: 0.6395\n",
      "Epoch 16/30\n",
      "67328/68000 [============================>.] - ETA: 0s - loss: 0.0488 - acc: 0.9779\n",
      "Epoch 00016: val_loss did not improve from 0.78518\n",
      "68000/68000 [==============================] - 3s 45us/sample - loss: 0.0489 - acc: 0.9778 - val_loss: 2.0550 - val_acc: 0.7377\n",
      "Epoch 17/30\n",
      "67840/68000 [============================>.] - ETA: 0s - loss: 0.0487 - acc: 0.9776\n",
      "Epoch 00017: val_loss did not improve from 0.78518\n",
      "68000/68000 [==============================] - 3s 47us/sample - loss: 0.0488 - acc: 0.9776 - val_loss: 1.9953 - val_acc: 0.7383\n",
      "Epoch 18/30\n",
      "66560/68000 [============================>.] - ETA: 0s - loss: 0.0494 - acc: 0.9774\n",
      "Epoch 00018: val_loss did not improve from 0.78518\n",
      "68000/68000 [==============================] - 3s 43us/sample - loss: 0.0494 - acc: 0.9774 - val_loss: 1.7646 - val_acc: 0.7347\n",
      "Epoch 19/30\n",
      "66560/68000 [============================>.] - ETA: 0s - loss: 0.0484 - acc: 0.9767\n",
      "Epoch 00019: val_loss did not improve from 0.78518\n",
      "68000/68000 [==============================] - 3s 43us/sample - loss: 0.0484 - acc: 0.9767 - val_loss: 1.8367 - val_acc: 0.7152\n",
      "Epoch 20/30\n",
      "67328/68000 [============================>.] - ETA: 0s - loss: 0.0476 - acc: 0.9780\n",
      "Epoch 00020: val_loss did not improve from 0.78518\n",
      "68000/68000 [==============================] - 3s 42us/sample - loss: 0.0474 - acc: 0.9781 - val_loss: 2.2623 - val_acc: 0.7178\n",
      "Epoch 21/30\n",
      "67328/68000 [============================>.] - ETA: 0s - loss: 0.0501 - acc: 0.9767\n",
      "Epoch 00021: val_loss did not improve from 0.78518\n",
      "68000/68000 [==============================] - 3s 42us/sample - loss: 0.0501 - acc: 0.9767 - val_loss: 1.8179 - val_acc: 0.7398\n",
      "Epoch 22/30\n",
      "66816/68000 [============================>.] - ETA: 0s - loss: 0.0488 - acc: 0.9779\n",
      "Epoch 00022: val_loss did not improve from 0.78518\n",
      "68000/68000 [==============================] - 3s 43us/sample - loss: 0.0489 - acc: 0.9779 - val_loss: 1.5218 - val_acc: 0.7795\n",
      "Epoch 23/30\n",
      "67072/68000 [============================>.] - ETA: 0s - loss: 0.0456 - acc: 0.9788\n",
      "Epoch 00023: val_loss did not improve from 0.78518\n",
      "68000/68000 [==============================] - 3s 43us/sample - loss: 0.0457 - acc: 0.9787 - val_loss: 1.8086 - val_acc: 0.7292\n",
      "Epoch 24/30\n",
      "67840/68000 [============================>.] - ETA: 0s - loss: 0.0460 - acc: 0.9779\n",
      "Epoch 00024: val_loss did not improve from 0.78518\n",
      "68000/68000 [==============================] - 3s 43us/sample - loss: 0.0461 - acc: 0.9779 - val_loss: 1.5511 - val_acc: 0.7339\n",
      "Epoch 25/30\n",
      "66816/68000 [============================>.] - ETA: 0s - loss: 0.0462 - acc: 0.9786\n",
      "Epoch 00025: val_loss did not improve from 0.78518\n",
      "68000/68000 [==============================] - 3s 43us/sample - loss: 0.0463 - acc: 0.9786 - val_loss: 1.5407 - val_acc: 0.7620\n",
      "Epoch 26/30\n",
      "67328/68000 [============================>.] - ETA: 0s - loss: 0.0455 - acc: 0.9782\n",
      "Epoch 00026: val_loss did not improve from 0.78518\n",
      "68000/68000 [==============================] - 3s 43us/sample - loss: 0.0454 - acc: 0.9782 - val_loss: 1.8647 - val_acc: 0.7115\n",
      "Epoch 27/30\n",
      "66560/68000 [============================>.] - ETA: 0s - loss: 0.0487 - acc: 0.9774\n",
      "Epoch 00027: val_loss did not improve from 0.78518\n",
      "68000/68000 [==============================] - 3s 44us/sample - loss: 0.0485 - acc: 0.9775 - val_loss: 1.5555 - val_acc: 0.7225\n",
      "Epoch 28/30\n",
      "66816/68000 [============================>.] - ETA: 0s - loss: 0.0464 - acc: 0.9779\n",
      "Epoch 00028: val_loss did not improve from 0.78518\n",
      "68000/68000 [==============================] - 3s 44us/sample - loss: 0.0466 - acc: 0.9779 - val_loss: 1.7496 - val_acc: 0.6989\n",
      "Epoch 29/30\n",
      "67072/68000 [============================>.] - ETA: 0s - loss: 0.0460 - acc: 0.9785\n",
      "Epoch 00029: val_loss did not improve from 0.78518\n",
      "68000/68000 [==============================] - 3s 47us/sample - loss: 0.0460 - acc: 0.9785 - val_loss: 2.3090 - val_acc: 0.7188\n",
      "Epoch 30/30\n",
      "67584/68000 [============================>.] - ETA: 0s - loss: 0.0448 - acc: 0.9788\n",
      "Epoch 00030: val_loss did not improve from 0.78518\n",
      "68000/68000 [==============================] - 3s 51us/sample - loss: 0.0447 - acc: 0.9789 - val_loss: 2.1611 - val_acc: 0.6722\n"
     ]
    }
   ],
   "source": [
    "#用于记录训练中每个batch的loss\n",
    "class LossHistory(keras.callbacks.Callback):\n",
    "    def on_train_begin(self, logs={}):\n",
    "        self.train_losses_per_batch = []\n",
    "        self.train_losses_per_epoch = []\n",
    "        self.valid_losses_per_epoch = []\n",
    "        \n",
    "    def on_batch_end(self, batch, logs={}):\n",
    "        self.train_losses_per_batch.append(logs.get('loss'))\n",
    "        \n",
    "    def on_epoch_end(self, epoch, logs={}):\n",
    "        self.train_losses_per_epoch.append(logs.get('loss'))\n",
    "        self.valid_losses_per_epoch.append(logs.get('val_loss')*4)   #验证集由于只有1/4的训练集大小所以损失要乘以4\n",
    "#用于记录训练中每个epoch的召回率，精确度以及f1 score\n",
    "class Metrics(keras.callbacks.Callback):\n",
    "    def on_train_begin(self, logs={}):\n",
    "        self.val_f1s = []\n",
    "        self.val_recalls = []\n",
    "        self.val_precisions = []\n",
    "        return\n",
    "\n",
    "    def on_epoch_end(self, epoch, logs={}):\n",
    "        predictions = self.model.predict(df_test_X)\n",
    "        val_predict = np.argmax(predictions, axis=1)     #把独热编码转化成数字\n",
    "        val_targ = df_test_y\n",
    "        _val_recall = recall_score(val_targ, val_predict, average='macro')\n",
    "        _val_precision = precision_score(val_targ, val_predict, average='macro')\n",
    "        _val_f1 = f1_score(val_targ, val_predict, average='macro')\n",
    "        self.val_f1s.append(_val_f1)\n",
    "        self.val_recalls.append(_val_recall)\n",
    "        self.val_precisions.append(_val_precision)\n",
    "        return       \n",
    "#回调：模型跑完epoch后选取最好的epoch模型保存，选取标准为验证集损失最小的那一个\n",
    "checkpoint = keras.callbacks.ModelCheckpoint(      \n",
    "    \"./Test8_model.h5\",\n",
    "    monitor='val_loss',\n",
    "    verbose=1,\n",
    "    save_best_only=True,\n",
    "    mode='min',\n",
    "    period=1\n",
    ")\n",
    "def simple_model():\n",
    "    model = keras.Sequential([\n",
    "        keras.layers.Dense(df_train_X.shape[1], activation=activation, input_shape=(df_train_X.shape[1],)),\n",
    "        BatchNormalization(),\n",
    "        keras.layers.Dense(64, activation=activation),\n",
    "        BatchNormalization(),\n",
    "        keras.layers.Dense(64, activation=activation),\n",
    "        BatchNormalization(),\n",
    "        keras.layers.Dense(8,activation=tf.nn.softmax)\n",
    "    ])\n",
    "    model.compile(optimizer =tf.train.AdamOptimizer(learning_rate=learning_rate),\n",
    "        loss=\"sparse_categorical_crossentropy\",\n",
    "        metrics=['accuracy']\n",
    "    )\n",
    "    model.summary()\n",
    "    history = LossHistory()\n",
    "    metrics = Metrics()\n",
    "    model.fit(\n",
    "        df_train_X,df_train_y,\n",
    "        validation_data=[df_test_X, df_test_y],\n",
    "        batch_size=batch_size,epochs=epochs,\n",
    "        callbacks=[history, metrics, checkpoint]\n",
    "    )   \n",
    "    return model,history,metrics\n",
    "model,history,metrics = simple_model()"
   ]
  },
  {
   "cell_type": "code",
   "execution_count": 10,
   "metadata": {
    "ExecuteTime": {
     "end_time": "2020-07-24T07:23:52.179035Z",
     "start_time": "2020-07-24T07:23:51.728171Z"
    }
   },
   "outputs": [],
   "source": [
    "import matplotlib.pyplot as plt\n",
    "import matplotlib\n",
    "\n",
    "%matplotlib inline\n",
    "matplotlib.rcParams['font.sans-serif'] = ['SimHei']"
   ]
  },
  {
   "cell_type": "code",
   "execution_count": 11,
   "metadata": {
    "ExecuteTime": {
     "end_time": "2020-07-24T07:23:52.997230Z",
     "start_time": "2020-07-24T07:23:52.182380Z"
    }
   },
   "outputs": [
    {
     "name": "stderr",
     "output_type": "stream",
     "text": [
      "/opt/conda/lib/python3.7/site-packages/matplotlib/font_manager.py:1241: UserWarning: findfont: Font family ['sans-serif'] not found. Falling back to DejaVu Sans.\n",
      "  (prop.get_family(), self.defaultFamily[fontext]))\n"
     ]
    },
    {
     "data": {
      "image/png": "[encoded data removed]",
      "text/plain": [
       "<Figure size 1080x288 with 1 Axes>"
      ]
     },
     "metadata": {
      "needs_background": "light"
     },
     "output_type": "display_data"
    },
    {
     "data": {
      "image/png": "[encoded data removed]",
      "text/plain": [
       "<Figure size 1080x288 with 1 Axes>"
      ]
     },
     "metadata": {
      "needs_background": "light"
     },
     "output_type": "display_data"
    }
   ],
   "source": [
    "#绘制训练集在batch下的损失变化\n",
    "plt.title('The Cost with batchs runs',fontsize=30)\n",
    "plt.xlabel('batchs',fontsize=20)\n",
    "plt.ylabel('Cost',fontsize=20)\n",
    "plt.xticks(fontsize=20)\n",
    "plt.yticks(fontsize=20)\n",
    "plt.plot(history.train_losses_per_batch)\n",
    "plt.gcf().set_size_inches(15,4)\n",
    "plt.show()\n",
    "#绘制训练集与验证集在epoch下的损失比较\n",
    "plt.title('The Cost with epoches runs',fontsize=30)\n",
    "plt.xlabel('epoch',fontsize=20)\n",
    "plt.ylabel('Cost',fontsize=20)\n",
    "plt.xticks(fontsize=20)\n",
    "plt.yticks(fontsize=20)\n",
    "plt.plot(history.train_losses_per_epoch, '-o', label='train')\n",
    "plt.plot(history.valid_losses_per_epoch, '-o', label='valid')\n",
    "plt.legend(fontsize=30,loc='upper right')\n",
    "plt.gcf().set_size_inches(15,4)\n",
    "plt.show()"
   ]
  },
  {
   "cell_type": "code",
   "execution_count": 12,
   "metadata": {
    "ExecuteTime": {
     "end_time": "2020-07-24T07:23:55.117086Z",
     "start_time": "2020-07-24T07:23:53.011252Z"
    }
   },
   "outputs": [
    {
     "name": "stdout",
     "output_type": "stream",
     "text": [
      "WARNING:tensorflow:No training configuration found in save file: the model was *not* compiled. Compile it manually.\n",
      "17000/17000 [==============================] - 1s 66us/sample - loss: 0.7852 - acc: 0.8289\n",
      "Test accuracy: 0.82888234\n"
     ]
    }
   ],
   "source": [
    "#选取验证集准确率最高的模型\n",
    "model = keras.models.load_model('./Test8_model.h5') \n",
    "model.compile(optimizer =tf.train.AdamOptimizer(learning_rate=learning_rate),\n",
    "    loss=\"sparse_categorical_crossentropy\",\n",
    "    metrics=['accuracy']\n",
    ")\n",
    "#测试集的正确率\n",
    "def use_evaluate_test():\n",
    "    test_loss,test_acc = model.evaluate(df_test_X,df_test_y)\n",
    "    print('Test accuracy:', test_acc)\n",
    "    return \n",
    "use_evaluate_test()"
   ]
  },
  {
   "cell_type": "code",
   "execution_count": 13,
   "metadata": {
    "ExecuteTime": {
     "end_time": "2020-07-24T07:23:55.862943Z",
     "start_time": "2020-07-24T07:23:55.122191Z"
    }
   },
   "outputs": [
    {
     "name": "stdout",
     "output_type": "stream",
     "text": [
      "              precision    recall  f1-score   support\n",
      "\n",
      "      BENIGN       0.81      0.98      0.89     10000\n",
      "         DoS       0.62      0.72      0.67      1000\n",
      "    PortScan       1.00      0.98      0.99      1000\n",
      "        DDoS       0.95      0.43      0.60      1000\n",
      " SSH-Patator       0.96      1.00      0.98      1000\n",
      " FTP-Patator       0.99      0.49      0.66      1000\n",
      "  Web Attack       0.15      0.03      0.04      1000\n",
      "         Bot       0.99      0.61      0.75      1000\n",
      "\n",
      "   micro avg       0.83      0.83      0.83     17000\n",
      "   macro avg       0.81      0.66      0.70     17000\n",
      "weighted avg       0.81      0.83      0.80     17000\n",
      "\n"
     ]
    }
   ],
   "source": [
    "predictions = model.predict(df_test_X)\n",
    "print(classification_report(df_test_y, np.argmax(predictions, axis=1) , target_names=labelList))"
   ]
  },
  {
   "cell_type": "code",
   "execution_count": null,
   "metadata": {
    "ExecuteTime": {
     "start_time": "2020-07-24T07:27:41.667Z"
    }
   },
   "outputs": [
    {
     "name": "stderr",
     "output_type": "stream",
     "text": [
      "/opt/conda/lib/python3.7/site-packages/sklearn/ensemble/forest.py:246: FutureWarning: The default value of n_estimators will change from 10 in version 0.20 to 100 in 0.22.\n",
      "  \"10 in version 0.20 to 100 in 0.22.\", FutureWarning)\n"
     ]
    },
    {
     "name": "stdout",
     "output_type": "stream",
     "text": [
      "0.8725294117647059\n",
      "              precision    recall  f1-score   support\n",
      "\n",
      "      BENIGN       0.82      1.00      0.90     10000\n",
      "         DoS       0.99      0.96      0.97      1000\n",
      "    PortScan       1.00      0.48      0.65      1000\n",
      "        DDoS       1.00      0.90      0.95      1000\n",
      " SSH-Patator       1.00      1.00      1.00      1000\n",
      " FTP-Patator       1.00      1.00      1.00      1000\n",
      "  Web Attack       0.98      0.11      0.19      1000\n",
      "         Bot       1.00      0.40      0.57      1000\n",
      "\n",
      "   micro avg       0.87      0.87      0.87     17000\n",
      "   macro avg       0.97      0.73      0.78     17000\n",
      "weighted avg       0.89      0.87      0.84     17000\n",
      "\n"
     ]
    },
    {
     "name": "stderr",
     "output_type": "stream",
     "text": [
      "/opt/conda/lib/python3.7/site-packages/sklearn/ensemble/forest.py:246: FutureWarning: The default value of n_estimators will change from 10 in version 0.20 to 100 in 0.22.\n",
      "  \"10 in version 0.20 to 100 in 0.22.\", FutureWarning)\n"
     ]
    },
    {
     "name": "stdout",
     "output_type": "stream",
     "text": [
      "0.8844705882352941\n",
      "              precision    recall  f1-score   support\n",
      "\n",
      "      BENIGN       0.85      1.00      0.92     10000\n",
      "         DoS       0.88      0.94      0.91      1000\n",
      "    PortScan       1.00      0.99      1.00      1000\n",
      "        DDoS       1.00      0.49      0.66      1000\n",
      " SSH-Patator       1.00      0.98      0.99      1000\n",
      " FTP-Patator       1.00      1.00      1.00      1000\n",
      "  Web Attack       1.00      0.11      0.19      1000\n",
      "         Bot       1.00      0.52      0.69      1000\n",
      "\n",
      "   micro avg       0.88      0.88      0.88     17000\n",
      "   macro avg       0.96      0.75      0.79     17000\n",
      "weighted avg       0.90      0.88      0.86     17000\n",
      "\n"
     ]
    },
    {
     "name": "stderr",
     "output_type": "stream",
     "text": [
      "/opt/conda/lib/python3.7/site-packages/sklearn/ensemble/forest.py:246: FutureWarning: The default value of n_estimators will change from 10 in version 0.20 to 100 in 0.22.\n",
      "  \"10 in version 0.20 to 100 in 0.22.\", FutureWarning)\n"
     ]
    },
    {
     "name": "stdout",
     "output_type": "stream",
     "text": [
      "0.9352941176470588\n",
      "              precision    recall  f1-score   support\n",
      "\n",
      "      BENIGN       0.90      1.00      0.95     10000\n",
      "         DoS       1.00      0.93      0.96      1000\n",
      "    PortScan       1.00      1.00      1.00      1000\n",
      "        DDoS       1.00      0.62      0.77      1000\n",
      " SSH-Patator       0.98      1.00      0.99      1000\n",
      " FTP-Patator       1.00      1.00      1.00      1000\n",
      "  Web Attack       1.00      0.78      0.88      1000\n",
      "         Bot       1.00      0.60      0.75      1000\n",
      "\n",
      "   micro avg       0.94      0.94      0.94     17000\n",
      "   macro avg       0.98      0.87      0.91     17000\n",
      "weighted avg       0.94      0.94      0.93     17000\n",
      "\n"
     ]
    },
    {
     "name": "stderr",
     "output_type": "stream",
     "text": [
      "/opt/conda/lib/python3.7/site-packages/sklearn/ensemble/forest.py:246: FutureWarning: The default value of n_estimators will change from 10 in version 0.20 to 100 in 0.22.\n",
      "  \"10 in version 0.20 to 100 in 0.22.\", FutureWarning)\n",
      "/opt/conda/lib/python3.7/site-packages/sklearn/ensemble/forest.py:246: FutureWarning: The default value of n_estimators will change from 10 in version 0.20 to 100 in 0.22.\n",
      "  \"10 in version 0.20 to 100 in 0.22.\", FutureWarning)\n",
      "/opt/conda/lib/python3.7/site-packages/sklearn/ensemble/forest.py:246: FutureWarning: The default value of n_estimators will change from 10 in version 0.20 to 100 in 0.22.\n",
      "  \"10 in version 0.20 to 100 in 0.22.\", FutureWarning)\n"
     ]
    },
    {
     "name": "stdout",
     "output_type": "stream",
     "text": [
      "0.9416470588235294\n",
      "              precision    recall  f1-score   support\n",
      "\n",
      "      BENIGN       0.91      1.00      0.95     10000\n",
      "         DoS       1.00      0.96      0.98      1000\n",
      "    PortScan       1.00      1.00      1.00      1000\n",
      "        DDoS       1.00      0.62      0.77      1000\n",
      " SSH-Patator       1.00      0.93      0.96      1000\n",
      " FTP-Patator       1.00      1.00      1.00      1000\n",
      "  Web Attack       1.00      0.77      0.87      1000\n",
      "         Bot       0.99      0.74      0.85      1000\n",
      "\n",
      "   micro avg       0.94      0.94      0.94     17000\n",
      "   macro avg       0.99      0.88      0.92     17000\n",
      "weighted avg       0.95      0.94      0.94     17000\n",
      "\n"
     ]
    },
    {
     "name": "stderr",
     "output_type": "stream",
     "text": [
      "/opt/conda/lib/python3.7/site-packages/sklearn/ensemble/forest.py:246: FutureWarning: The default value of n_estimators will change from 10 in version 0.20 to 100 in 0.22.\n",
      "  \"10 in version 0.20 to 100 in 0.22.\", FutureWarning)\n",
      "/opt/conda/lib/python3.7/site-packages/sklearn/ensemble/forest.py:246: FutureWarning: The default value of n_estimators will change from 10 in version 0.20 to 100 in 0.22.\n",
      "  \"10 in version 0.20 to 100 in 0.22.\", FutureWarning)\n",
      "/opt/conda/lib/python3.7/site-packages/sklearn/ensemble/forest.py:246: FutureWarning: The default value of n_estimators will change from 10 in version 0.20 to 100 in 0.22.\n",
      "  \"10 in version 0.20 to 100 in 0.22.\", FutureWarning)\n",
      "/opt/conda/lib/python3.7/site-packages/sklearn/ensemble/forest.py:246: FutureWarning: The default value of n_estimators will change from 10 in version 0.20 to 100 in 0.22.\n",
      "  \"10 in version 0.20 to 100 in 0.22.\", FutureWarning)\n",
      "/opt/conda/lib/python3.7/site-packages/sklearn/ensemble/forest.py:246: FutureWarning: The default value of n_estimators will change from 10 in version 0.20 to 100 in 0.22.\n",
      "  \"10 in version 0.20 to 100 in 0.22.\", FutureWarning)\n",
      "/opt/conda/lib/python3.7/site-packages/sklearn/ensemble/forest.py:246: FutureWarning: The default value of n_estimators will change from 10 in version 0.20 to 100 in 0.22.\n",
      "  \"10 in version 0.20 to 100 in 0.22.\", FutureWarning)\n",
      "/opt/conda/lib/python3.7/site-packages/sklearn/ensemble/forest.py:246: FutureWarning: The default value of n_estimators will change from 10 in version 0.20 to 100 in 0.22.\n",
      "  \"10 in version 0.20 to 100 in 0.22.\", FutureWarning)\n",
      "/opt/conda/lib/python3.7/site-packages/sklearn/ensemble/forest.py:246: FutureWarning: The default value of n_estimators will change from 10 in version 0.20 to 100 in 0.22.\n",
      "  \"10 in version 0.20 to 100 in 0.22.\", FutureWarning)\n",
      "/opt/conda/lib/python3.7/site-packages/sklearn/ensemble/forest.py:246: FutureWarning: The default value of n_estimators will change from 10 in version 0.20 to 100 in 0.22.\n",
      "  \"10 in version 0.20 to 100 in 0.22.\", FutureWarning)\n",
      "/opt/conda/lib/python3.7/site-packages/sklearn/ensemble/forest.py:246: FutureWarning: The default value of n_estimators will change from 10 in version 0.20 to 100 in 0.22.\n",
      "  \"10 in version 0.20 to 100 in 0.22.\", FutureWarning)\n",
      "/opt/conda/lib/python3.7/site-packages/sklearn/ensemble/forest.py:246: FutureWarning: The default value of n_estimators will change from 10 in version 0.20 to 100 in 0.22.\n",
      "  \"10 in version 0.20 to 100 in 0.22.\", FutureWarning)\n",
      "/opt/conda/lib/python3.7/site-packages/sklearn/ensemble/forest.py:246: FutureWarning: The default value of n_estimators will change from 10 in version 0.20 to 100 in 0.22.\n",
      "  \"10 in version 0.20 to 100 in 0.22.\", FutureWarning)\n",
      "/opt/conda/lib/python3.7/site-packages/sklearn/ensemble/forest.py:246: FutureWarning: The default value of n_estimators will change from 10 in version 0.20 to 100 in 0.22.\n",
      "  \"10 in version 0.20 to 100 in 0.22.\", FutureWarning)\n",
      "/opt/conda/lib/python3.7/site-packages/sklearn/ensemble/forest.py:246: FutureWarning: The default value of n_estimators will change from 10 in version 0.20 to 100 in 0.22.\n",
      "  \"10 in version 0.20 to 100 in 0.22.\", FutureWarning)\n",
      "/opt/conda/lib/python3.7/site-packages/sklearn/ensemble/forest.py:246: FutureWarning: The default value of n_estimators will change from 10 in version 0.20 to 100 in 0.22.\n",
      "  \"10 in version 0.20 to 100 in 0.22.\", FutureWarning)\n",
      "/opt/conda/lib/python3.7/site-packages/sklearn/ensemble/forest.py:246: FutureWarning: The default value of n_estimators will change from 10 in version 0.20 to 100 in 0.22.\n",
      "  \"10 in version 0.20 to 100 in 0.22.\", FutureWarning)\n",
      "/opt/conda/lib/python3.7/site-packages/sklearn/ensemble/forest.py:246: FutureWarning: The default value of n_estimators will change from 10 in version 0.20 to 100 in 0.22.\n",
      "  \"10 in version 0.20 to 100 in 0.22.\", FutureWarning)\n",
      "/opt/conda/lib/python3.7/site-packages/sklearn/ensemble/forest.py:246: FutureWarning: The default value of n_estimators will change from 10 in version 0.20 to 100 in 0.22.\n",
      "  \"10 in version 0.20 to 100 in 0.22.\", FutureWarning)\n",
      "/opt/conda/lib/python3.7/site-packages/sklearn/ensemble/forest.py:246: FutureWarning: The default value of n_estimators will change from 10 in version 0.20 to 100 in 0.22.\n",
      "  \"10 in version 0.20 to 100 in 0.22.\", FutureWarning)\n",
      "/opt/conda/lib/python3.7/site-packages/sklearn/ensemble/forest.py:246: FutureWarning: The default value of n_estimators will change from 10 in version 0.20 to 100 in 0.22.\n",
      "  \"10 in version 0.20 to 100 in 0.22.\", FutureWarning)\n",
      "/opt/conda/lib/python3.7/site-packages/sklearn/ensemble/forest.py:246: FutureWarning: The default value of n_estimators will change from 10 in version 0.20 to 100 in 0.22.\n",
      "  \"10 in version 0.20 to 100 in 0.22.\", FutureWarning)\n",
      "/opt/conda/lib/python3.7/site-packages/sklearn/ensemble/forest.py:246: FutureWarning: The default value of n_estimators will change from 10 in version 0.20 to 100 in 0.22.\n",
      "  \"10 in version 0.20 to 100 in 0.22.\", FutureWarning)\n",
      "/opt/conda/lib/python3.7/site-packages/sklearn/ensemble/forest.py:246: FutureWarning: The default value of n_estimators will change from 10 in version 0.20 to 100 in 0.22.\n",
      "  \"10 in version 0.20 to 100 in 0.22.\", FutureWarning)\n",
      "/opt/conda/lib/python3.7/site-packages/sklearn/ensemble/forest.py:246: FutureWarning: The default value of n_estimators will change from 10 in version 0.20 to 100 in 0.22.\n",
      "  \"10 in version 0.20 to 100 in 0.22.\", FutureWarning)\n",
      "/opt/conda/lib/python3.7/site-packages/sklearn/ensemble/forest.py:246: FutureWarning: The default value of n_estimators will change from 10 in version 0.20 to 100 in 0.22.\n",
      "  \"10 in version 0.20 to 100 in 0.22.\", FutureWarning)\n",
      "/opt/conda/lib/python3.7/site-packages/sklearn/ensemble/forest.py:246: FutureWarning: The default value of n_estimators will change from 10 in version 0.20 to 100 in 0.22.\n",
      "  \"10 in version 0.20 to 100 in 0.22.\", FutureWarning)\n",
      "/opt/conda/lib/python3.7/site-packages/sklearn/ensemble/forest.py:246: FutureWarning: The default value of n_estimators will change from 10 in version 0.20 to 100 in 0.22.\n",
      "  \"10 in version 0.20 to 100 in 0.22.\", FutureWarning)\n",
      "/opt/conda/lib/python3.7/site-packages/sklearn/ensemble/forest.py:246: FutureWarning: The default value of n_estimators will change from 10 in version 0.20 to 100 in 0.22.\n",
      "  \"10 in version 0.20 to 100 in 0.22.\", FutureWarning)\n",
      "/opt/conda/lib/python3.7/site-packages/sklearn/ensemble/forest.py:246: FutureWarning: The default value of n_estimators will change from 10 in version 0.20 to 100 in 0.22.\n",
      "  \"10 in version 0.20 to 100 in 0.22.\", FutureWarning)\n",
      "/opt/conda/lib/python3.7/site-packages/sklearn/ensemble/forest.py:246: FutureWarning: The default value of n_estimators will change from 10 in version 0.20 to 100 in 0.22.\n",
      "  \"10 in version 0.20 to 100 in 0.22.\", FutureWarning)\n",
      "/opt/conda/lib/python3.7/site-packages/sklearn/ensemble/forest.py:246: FutureWarning: The default value of n_estimators will change from 10 in version 0.20 to 100 in 0.22.\n",
      "  \"10 in version 0.20 to 100 in 0.22.\", FutureWarning)\n",
      "/opt/conda/lib/python3.7/site-packages/sklearn/ensemble/forest.py:246: FutureWarning: The default value of n_estimators will change from 10 in version 0.20 to 100 in 0.22.\n",
      "  \"10 in version 0.20 to 100 in 0.22.\", FutureWarning)\n",
      "/opt/conda/lib/python3.7/site-packages/sklearn/ensemble/forest.py:246: FutureWarning: The default value of n_estimators will change from 10 in version 0.20 to 100 in 0.22.\n",
      "  \"10 in version 0.20 to 100 in 0.22.\", FutureWarning)\n"
     ]
    },
    {
     "name": "stdout",
     "output_type": "stream",
     "text": [
      "0.9543529411764706\n",
      "              precision    recall  f1-score   support\n",
      "\n",
      "      BENIGN       0.93      1.00      0.96     10000\n",
      "         DoS       1.00      0.92      0.96      1000\n",
      "    PortScan       1.00      1.00      1.00      1000\n",
      "        DDoS       1.00      0.86      0.92      1000\n",
      " SSH-Patator       1.00      1.00      1.00      1000\n",
      " FTP-Patator       1.00      1.00      1.00      1000\n",
      "  Web Attack       1.00      0.72      0.84      1000\n",
      "         Bot       0.99      0.74      0.85      1000\n",
      "\n",
      "   micro avg       0.95      0.95      0.95     17000\n",
      "   macro avg       0.99      0.90      0.94     17000\n",
      "weighted avg       0.96      0.95      0.95     17000\n",
      "\n"
     ]
    },
    {
     "name": "stderr",
     "output_type": "stream",
     "text": [
      "/opt/conda/lib/python3.7/site-packages/sklearn/ensemble/forest.py:246: FutureWarning: The default value of n_estimators will change from 10 in version 0.20 to 100 in 0.22.\n",
      "  \"10 in version 0.20 to 100 in 0.22.\", FutureWarning)\n",
      "/opt/conda/lib/python3.7/site-packages/sklearn/ensemble/forest.py:246: FutureWarning: The default value of n_estimators will change from 10 in version 0.20 to 100 in 0.22.\n",
      "  \"10 in version 0.20 to 100 in 0.22.\", FutureWarning)\n",
      "/opt/conda/lib/python3.7/site-packages/sklearn/ensemble/forest.py:246: FutureWarning: The default value of n_estimators will change from 10 in version 0.20 to 100 in 0.22.\n",
      "  \"10 in version 0.20 to 100 in 0.22.\", FutureWarning)\n",
      "/opt/conda/lib/python3.7/site-packages/sklearn/ensemble/forest.py:246: FutureWarning: The default value of n_estimators will change from 10 in version 0.20 to 100 in 0.22.\n",
      "  \"10 in version 0.20 to 100 in 0.22.\", FutureWarning)\n",
      "/opt/conda/lib/python3.7/site-packages/sklearn/ensemble/forest.py:246: FutureWarning: The default value of n_estimators will change from 10 in version 0.20 to 100 in 0.22.\n",
      "  \"10 in version 0.20 to 100 in 0.22.\", FutureWarning)\n",
      "/opt/conda/lib/python3.7/site-packages/sklearn/ensemble/forest.py:246: FutureWarning: The default value of n_estimators will change from 10 in version 0.20 to 100 in 0.22.\n",
      "  \"10 in version 0.20 to 100 in 0.22.\", FutureWarning)\n",
      "/opt/conda/lib/python3.7/site-packages/sklearn/ensemble/forest.py:246: FutureWarning: The default value of n_estimators will change from 10 in version 0.20 to 100 in 0.22.\n",
      "  \"10 in version 0.20 to 100 in 0.22.\", FutureWarning)\n",
      "/opt/conda/lib/python3.7/site-packages/sklearn/ensemble/forest.py:246: FutureWarning: The default value of n_estimators will change from 10 in version 0.20 to 100 in 0.22.\n",
      "  \"10 in version 0.20 to 100 in 0.22.\", FutureWarning)\n",
      "/opt/conda/lib/python3.7/site-packages/sklearn/ensemble/forest.py:246: FutureWarning: The default value of n_estimators will change from 10 in version 0.20 to 100 in 0.22.\n",
      "  \"10 in version 0.20 to 100 in 0.22.\", FutureWarning)\n",
      "/opt/conda/lib/python3.7/site-packages/sklearn/ensemble/forest.py:246: FutureWarning: The default value of n_estimators will change from 10 in version 0.20 to 100 in 0.22.\n",
      "  \"10 in version 0.20 to 100 in 0.22.\", FutureWarning)\n",
      "/opt/conda/lib/python3.7/site-packages/sklearn/ensemble/forest.py:246: FutureWarning: The default value of n_estimators will change from 10 in version 0.20 to 100 in 0.22.\n",
      "  \"10 in version 0.20 to 100 in 0.22.\", FutureWarning)\n",
      "/opt/conda/lib/python3.7/site-packages/sklearn/ensemble/forest.py:246: FutureWarning: The default value of n_estimators will change from 10 in version 0.20 to 100 in 0.22.\n",
      "  \"10 in version 0.20 to 100 in 0.22.\", FutureWarning)\n",
      "/opt/conda/lib/python3.7/site-packages/sklearn/ensemble/forest.py:246: FutureWarning: The default value of n_estimators will change from 10 in version 0.20 to 100 in 0.22.\n",
      "  \"10 in version 0.20 to 100 in 0.22.\", FutureWarning)\n",
      "/opt/conda/lib/python3.7/site-packages/sklearn/ensemble/forest.py:246: FutureWarning: The default value of n_estimators will change from 10 in version 0.20 to 100 in 0.22.\n",
      "  \"10 in version 0.20 to 100 in 0.22.\", FutureWarning)\n",
      "/opt/conda/lib/python3.7/site-packages/sklearn/ensemble/forest.py:246: FutureWarning: The default value of n_estimators will change from 10 in version 0.20 to 100 in 0.22.\n",
      "  \"10 in version 0.20 to 100 in 0.22.\", FutureWarning)\n",
      "/opt/conda/lib/python3.7/site-packages/sklearn/ensemble/forest.py:246: FutureWarning: The default value of n_estimators will change from 10 in version 0.20 to 100 in 0.22.\n",
      "  \"10 in version 0.20 to 100 in 0.22.\", FutureWarning)\n",
      "/opt/conda/lib/python3.7/site-packages/sklearn/ensemble/forest.py:246: FutureWarning: The default value of n_estimators will change from 10 in version 0.20 to 100 in 0.22.\n",
      "  \"10 in version 0.20 to 100 in 0.22.\", FutureWarning)\n",
      "/opt/conda/lib/python3.7/site-packages/sklearn/ensemble/forest.py:246: FutureWarning: The default value of n_estimators will change from 10 in version 0.20 to 100 in 0.22.\n",
      "  \"10 in version 0.20 to 100 in 0.22.\", FutureWarning)\n",
      "/opt/conda/lib/python3.7/site-packages/sklearn/ensemble/forest.py:246: FutureWarning: The default value of n_estimators will change from 10 in version 0.20 to 100 in 0.22.\n",
      "  \"10 in version 0.20 to 100 in 0.22.\", FutureWarning)\n",
      "/opt/conda/lib/python3.7/site-packages/sklearn/ensemble/forest.py:246: FutureWarning: The default value of n_estimators will change from 10 in version 0.20 to 100 in 0.22.\n",
      "  \"10 in version 0.20 to 100 in 0.22.\", FutureWarning)\n",
      "/opt/conda/lib/python3.7/site-packages/sklearn/ensemble/forest.py:246: FutureWarning: The default value of n_estimators will change from 10 in version 0.20 to 100 in 0.22.\n",
      "  \"10 in version 0.20 to 100 in 0.22.\", FutureWarning)\n"
     ]
    },
    {
     "name": "stdout",
     "output_type": "stream",
     "text": [
      "0.9651764705882353\n",
      "              precision    recall  f1-score   support\n",
      "\n",
      "      BENIGN       0.95      1.00      0.97     10000\n",
      "         DoS       0.97      0.92      0.94      1000\n",
      "    PortScan       1.00      0.99      1.00      1000\n",
      "        DDoS       0.99      0.97      0.98      1000\n",
      " SSH-Patator       1.00      1.00      1.00      1000\n",
      " FTP-Patator       1.00      0.97      0.98      1000\n",
      "  Web Attack       1.00      0.95      0.97      1000\n",
      "         Bot       1.00      0.62      0.77      1000\n",
      "\n",
      "   micro avg       0.97      0.97      0.97     17000\n",
      "   macro avg       0.99      0.93      0.95     17000\n",
      "weighted avg       0.97      0.97      0.96     17000\n",
      "\n"
     ]
    },
    {
     "name": "stderr",
     "output_type": "stream",
     "text": [
      "/opt/conda/lib/python3.7/site-packages/sklearn/ensemble/forest.py:246: FutureWarning: The default value of n_estimators will change from 10 in version 0.20 to 100 in 0.22.\n",
      "  \"10 in version 0.20 to 100 in 0.22.\", FutureWarning)\n",
      "/opt/conda/lib/python3.7/site-packages/sklearn/ensemble/forest.py:246: FutureWarning: The default value of n_estimators will change from 10 in version 0.20 to 100 in 0.22.\n",
      "  \"10 in version 0.20 to 100 in 0.22.\", FutureWarning)\n",
      "/opt/conda/lib/python3.7/site-packages/sklearn/ensemble/forest.py:246: FutureWarning: The default value of n_estimators will change from 10 in version 0.20 to 100 in 0.22.\n",
      "  \"10 in version 0.20 to 100 in 0.22.\", FutureWarning)\n",
      "/opt/conda/lib/python3.7/site-packages/sklearn/ensemble/forest.py:246: FutureWarning: The default value of n_estimators will change from 10 in version 0.20 to 100 in 0.22.\n",
      "  \"10 in version 0.20 to 100 in 0.22.\", FutureWarning)\n",
      "/opt/conda/lib/python3.7/site-packages/sklearn/ensemble/forest.py:246: FutureWarning: The default value of n_estimators will change from 10 in version 0.20 to 100 in 0.22.\n",
      "  \"10 in version 0.20 to 100 in 0.22.\", FutureWarning)\n",
      "/opt/conda/lib/python3.7/site-packages/sklearn/ensemble/forest.py:246: FutureWarning: The default value of n_estimators will change from 10 in version 0.20 to 100 in 0.22.\n",
      "  \"10 in version 0.20 to 100 in 0.22.\", FutureWarning)\n",
      "/opt/conda/lib/python3.7/site-packages/sklearn/ensemble/forest.py:246: FutureWarning: The default value of n_estimators will change from 10 in version 0.20 to 100 in 0.22.\n",
      "  \"10 in version 0.20 to 100 in 0.22.\", FutureWarning)\n",
      "/opt/conda/lib/python3.7/site-packages/sklearn/ensemble/forest.py:246: FutureWarning: The default value of n_estimators will change from 10 in version 0.20 to 100 in 0.22.\n",
      "  \"10 in version 0.20 to 100 in 0.22.\", FutureWarning)\n",
      "/opt/conda/lib/python3.7/site-packages/sklearn/ensemble/forest.py:246: FutureWarning: The default value of n_estimators will change from 10 in version 0.20 to 100 in 0.22.\n",
      "  \"10 in version 0.20 to 100 in 0.22.\", FutureWarning)\n",
      "/opt/conda/lib/python3.7/site-packages/sklearn/ensemble/forest.py:246: FutureWarning: The default value of n_estimators will change from 10 in version 0.20 to 100 in 0.22.\n",
      "  \"10 in version 0.20 to 100 in 0.22.\", FutureWarning)\n",
      "/opt/conda/lib/python3.7/site-packages/sklearn/ensemble/forest.py:246: FutureWarning: The default value of n_estimators will change from 10 in version 0.20 to 100 in 0.22.\n",
      "  \"10 in version 0.20 to 100 in 0.22.\", FutureWarning)\n",
      "/opt/conda/lib/python3.7/site-packages/sklearn/ensemble/forest.py:246: FutureWarning: The default value of n_estimators will change from 10 in version 0.20 to 100 in 0.22.\n",
      "  \"10 in version 0.20 to 100 in 0.22.\", FutureWarning)\n",
      "/opt/conda/lib/python3.7/site-packages/sklearn/ensemble/forest.py:246: FutureWarning: The default value of n_estimators will change from 10 in version 0.20 to 100 in 0.22.\n",
      "  \"10 in version 0.20 to 100 in 0.22.\", FutureWarning)\n",
      "/opt/conda/lib/python3.7/site-packages/sklearn/ensemble/forest.py:246: FutureWarning: The default value of n_estimators will change from 10 in version 0.20 to 100 in 0.22.\n",
      "  \"10 in version 0.20 to 100 in 0.22.\", FutureWarning)\n",
      "/opt/conda/lib/python3.7/site-packages/sklearn/ensemble/forest.py:246: FutureWarning: The default value of n_estimators will change from 10 in version 0.20 to 100 in 0.22.\n",
      "  \"10 in version 0.20 to 100 in 0.22.\", FutureWarning)\n",
      "/opt/conda/lib/python3.7/site-packages/sklearn/ensemble/forest.py:246: FutureWarning: The default value of n_estimators will change from 10 in version 0.20 to 100 in 0.22.\n",
      "  \"10 in version 0.20 to 100 in 0.22.\", FutureWarning)\n",
      "/opt/conda/lib/python3.7/site-packages/sklearn/ensemble/forest.py:246: FutureWarning: The default value of n_estimators will change from 10 in version 0.20 to 100 in 0.22.\n",
      "  \"10 in version 0.20 to 100 in 0.22.\", FutureWarning)\n",
      "/opt/conda/lib/python3.7/site-packages/sklearn/ensemble/forest.py:246: FutureWarning: The default value of n_estimators will change from 10 in version 0.20 to 100 in 0.22.\n",
      "  \"10 in version 0.20 to 100 in 0.22.\", FutureWarning)\n",
      "/opt/conda/lib/python3.7/site-packages/sklearn/ensemble/forest.py:246: FutureWarning: The default value of n_estimators will change from 10 in version 0.20 to 100 in 0.22.\n",
      "  \"10 in version 0.20 to 100 in 0.22.\", FutureWarning)\n",
      "/opt/conda/lib/python3.7/site-packages/sklearn/ensemble/forest.py:246: FutureWarning: The default value of n_estimators will change from 10 in version 0.20 to 100 in 0.22.\n",
      "  \"10 in version 0.20 to 100 in 0.22.\", FutureWarning)\n",
      "/opt/conda/lib/python3.7/site-packages/sklearn/ensemble/forest.py:246: FutureWarning: The default value of n_estimators will change from 10 in version 0.20 to 100 in 0.22.\n",
      "  \"10 in version 0.20 to 100 in 0.22.\", FutureWarning)\n",
      "/opt/conda/lib/python3.7/site-packages/sklearn/ensemble/forest.py:246: FutureWarning: The default value of n_estimators will change from 10 in version 0.20 to 100 in 0.22.\n",
      "  \"10 in version 0.20 to 100 in 0.22.\", FutureWarning)\n"
     ]
    }
   ],
   "source": [
    "from sklearn.ensemble import RandomForestClassifier\n",
    "score = 0\n",
    "for i in range(100):\n",
    "    rfc = RandomForestClassifier()\n",
    "    rfc.fit(df_train_X, df_train_y)\n",
    "    y_pred = rfc.predict(df_test_X)\n",
    "    result = rfc.score(df_test_X, df_test_y)\n",
    "    if(score < result):\n",
    "        score = result\n",
    "        print(score)\n",
    "        print(classification_report(df_test_y, y_pred, target_names=labelList))\n",
    "        \n",
    "#测试集的正确率\n",
    "#测试集的各个参数\n",
    "\n"
   ]
  },
  {
   "cell_type": "code",
   "execution_count": null,
   "metadata": {},
   "outputs": [],
   "source": []
  },
  {
   "cell_type": "code",
   "execution_count": null,
   "metadata": {},
   "outputs": [],
   "source": []
  },
  {
   "cell_type": "code",
   "execution_count": null,
   "metadata": {},
   "outputs": [],
   "source": []
  }
 ],
 "metadata": {
  "kernelspec": {
   "display_name": "Python 3",
   "language": "python",
   "name": "python3"
  },
  "language_info": {
   "codemirror_mode": {
    "name": "ipython",
    "version": 3
   },
   "file_extension": ".py",
   "mimetype": "text/x-python",
   "name": "python",
   "nbconvert_exporter": "python",
   "pygments_lexer": "ipython3",
   "version": "3.7.3"
  },
  "toc": {
   "base_numbering": 1,
   "nav_menu": {},
   "number_sections": true,
   "sideBar": true,
   "skip_h1_title": false,
   "title_cell": "Table of Contents",
   "title_sidebar": "Contents",
   "toc_cell": false,
   "toc_position": {},
   "toc_section_display": true,
   "toc_window_display": false
  },
  "varInspector": {
   "cols": {
    "lenName": 16,
    "lenType": 16,
    "lenVar": 40
   },
   "kernels_config": {
    "python": {
     "delete_cmd_postfix": "",
     "delete_cmd_prefix": "del ",
     "library": "var_list.py",
     "varRefreshCmd": "print(var_dic_list())"
    },
    "r": {
     "delete_cmd_postfix": ") ",
     "delete_cmd_prefix": "rm(",
     "library": "var_list.r",
     "varRefreshCmd": "cat(var_dic_list()) "
    }
   },
   "types_to_exclude": [
    "module",
    "function",
    "builtin_function_or_method",
    "instance",
    "_Feature"
   ],
   "window_display": false
  }
 },
 "nbformat": 4,
 "nbformat_minor": 2
}
