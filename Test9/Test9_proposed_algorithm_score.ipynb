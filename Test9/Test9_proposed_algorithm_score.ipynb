{
 "cells": [
  {
   "cell_type": "code",
   "execution_count": 1,
   "metadata": {
    "ExecuteTime": {
     "end_time": "2020-07-18T11:16:34.663922Z",
     "start_time": "2020-07-18T11:16:31.547820Z"
    }
   },
   "outputs": [],
   "source": [
    "import pandas as pd\n",
    "from time import time\n",
    "import matplotlib.pyplot as plt\n",
    "import matplotlib\n",
    "from sklearn import preprocessing\n",
    "import pickle\n",
    "import tensorflow as tf\n",
    "from tensorflow import keras\n",
    "from sklearn.metrics import f1_score, precision_score, recall_score\n",
    "from sklearn.metrics import classification_report\n",
    "from sklearn.metrics import accuracy_score\n",
    "from sklearn.model_selection import train_test_split\n",
    "\n",
    "import math\n",
    "import numpy  as np\n",
    "\n",
    "%matplotlib inline\n",
    "matplotlib.rcParams['font.sans-serif'] = ['SimHei']"
   ]
  },
  {
   "cell_type": "code",
   "execution_count": 22,
   "metadata": {
    "ExecuteTime": {
     "end_time": "2020-07-18T11:34:14.175573Z",
     "start_time": "2020-07-18T11:34:12.857756Z"
    }
   },
   "outputs": [
    {
     "name": "stdout",
     "output_type": "stream",
     "text": [
      "WARNING:tensorflow:No training configuration found in save file: the model was *not* compiled. Compile it manually.\n"
     ]
    }
   ],
   "source": [
    "labelList = [\"Benign\", \"DoS\", \"PortScan\", \"DDoS\", \"SSH-Patator\", \"FTP-Patator\", \"Web Attack\", \"Bot\"]\n",
    "\n",
    "#加载模型、分布字典和测试集\n",
    "def load_obj(name):\n",
    "    with open('../DistributionDictionary/' + name + '.pkl', 'rb') as f:\n",
    "        return pickle.load(f)\n",
    "\n",
    "learning_rate = 0.001\n",
    "model = keras.models.load_model('../DistributionDictionary/Test7_model.h5') \n",
    "model.compile(optimizer =tf.train.AdamOptimizer(learning_rate=learning_rate),\n",
    "    loss=\"sparse_categorical_crossentropy\",\n",
    "    metrics=['accuracy']\n",
    ")\n",
    "\n",
    "test_X = np.load(\"../DistributionDictionary/test7_test_dataset_X.npy\")\n",
    "test_y = np.load(\"../DistributionDictionary/test7_test_dataset_y.npy\")\n",
    "\n",
    "distributions = {}\n",
    "distributions['Benign'] = load_obj(\"Benign_Distribution_set\")\n",
    "distributions['DoS'] = load_obj(\"DoS_Distribution_set\")\n",
    "distributions['PortScan'] = load_obj(\"PortScan_Distribution_set\")\n",
    "distributions['DDoS'] = load_obj(\"DDoS_Distribution_set\")\n",
    "distributions['SSH-Patator'] = load_obj(\"SSH_Distribution_set\")\n",
    "distributions['FTP-Patator'] = load_obj(\"FTP_Distribution_set\")\n",
    "distributions['Web Attack'] = load_obj(\"Web_Distribution_set\")\n",
    "distributions['Bot'] = load_obj(\"Bot_Distribution_set\")\n",
    "feature_numbers = 10\n",
    "attack_types = 7  #总已知攻击种类\n",
    "\n",
    "\n",
    "def split_valid_from_train(train_dataset, valid_size):\n",
    "    # Method 1\n",
    "    train_dataset, valid_dataset, _, _ = train_test_split(train_dataset, train_dataset[' Label'], test_size=valid_size, random_state=None)\n",
    "    # pandas中先重置index再打乱train. 否则只会调整各个行的顺序，而不会改变pandas的index\n",
    "    # 重置\n",
    "    train_dataset = train_dataset.reset_index(drop=True)\n",
    "    # 打乱\n",
    "    indexMask = np.arange(len(train_dataset))\n",
    "    for i in range(10):\n",
    "        np.random.shuffle(indexMask)\n",
    "    train_dataset = train_dataset.iloc[indexMask]\n",
    "\n",
    "    return train_dataset, valid_dataset\n",
    "\n",
    "#定义difference weight,取值0~1\n",
    "def calculate_dw(distribution_1, distribution_2, feature_index):\n",
    "    count1 = calculate_count(distribution_1, feature_index)\n",
    "    count2 = calculate_count(distribution_2, feature_index)\n",
    "    h = 20\n",
    "    dw = 0\n",
    "    for i in range(h):\n",
    "        start = i*5\n",
    "        end = start + 5\n",
    "        T1 = distribution_1[str(feature_index)][str(start) + '-' + str(end)]/count1\n",
    "        T2 = distribution_2[str(feature_index)][str(start) + '-' + str(end)]/count2\n",
    "        dw += abs(T1 - T2)\n",
    "    return dw/2\n",
    "#用于计算分布字典里的实例数\n",
    "def calculate_count(distribution, feature_index):\n",
    "    h = 20\n",
    "    count = 0\n",
    "    for i in range(h):\n",
    "        start = i*5\n",
    "        end = start + 5\n",
    "        count += distribution[str(feature_index)][str(start) + '-' + str(end)]\n",
    "    return count\n",
    "#定义hdw，hybird difference weight  第二个参数为：hdw应用的对应得分公式的对应的哪种字典\n",
    "def calculate_hdw(feature_index, label):\n",
    "    base = 0\n",
    "    for key in distributions:\n",
    "        if(key == label):\n",
    "            continue\n",
    "        dw = calculate_dw(distributions[label], distributions[key], feature_index)\n",
    "        if(dw > base):\n",
    "            base = dw\n",
    "    return base\n",
    "\n",
    "#计算例子在某种标签上的得分，需要提供对应标签, 这个标签的的分布统计字典\n",
    "def get_score(example, distributeObj, label):    \n",
    "    score = 0\n",
    "    count = calculate_count(distributeObj, 0)  #取哪个特征都一样\n",
    "    minBase = 1\n",
    "    baseArr = []\n",
    "    for i in range(feature_numbers):\n",
    "\n",
    "        start = int(example[i]/0.05//1)*5   #取200个分组里的分组起始位置\n",
    "        if(start == 100):     #特殊处理当该属性为1.0时溢出的情况\n",
    "            start = 95      \n",
    "        end = start + 5\n",
    "        dataRange = '{0}-{1}'.format(start, end )\n",
    "        base = distributeObj[str(i)][dataRange]/count\n",
    "        if(base != 0 and base < minBase):\n",
    "            minBase = base\n",
    "        baseArr.append(base)\n",
    "        \n",
    "    for i in range(feature_numbers):\n",
    "        if(baseArr[i] != 0):\n",
    "            score += math.log(baseArr[i]) * calculate_hdw(i, label)  / feature_numbers\n",
    "        else:\n",
    "            score += math.log(minBase) * calculate_hdw(i, label)  / feature_numbers\n",
    "            \n",
    "    return score\n",
    "\n",
    "\n",
    "def get_score_threshold(dataset_x, dataset_y):\n",
    "    #5个分数数组，表示在这个label字典下label实例的得分情况\n",
    "    Scores = {\n",
    "        \"Benign\" : [],\n",
    "        \"DoS\" : [],\n",
    "        \"PortScan\" : [],\n",
    "        \"DDoS\" : [],\n",
    "        \"SSH-Patator\" : [],        \n",
    "        \"FTP-Patator\" : [],\n",
    "        \"Web Attack\" : [],\n",
    "        \"Bot\" : []\n",
    "    }\n",
    "    for i,item in enumerate(dataset_x):\n",
    "        if(dataset_y.values[i].astype('int') == 0):\n",
    "            \n",
    "            Scores[\"Benign\"].append(get_score(item, distributions['Benign'], 'Benign'))\n",
    "            \n",
    "        elif(dataset_y.values[i].astype('int') == 1):\n",
    "            \n",
    "            Scores[\"DoS\"].append(get_score(item, distributions['DoS'], 'DoS'))\n",
    "            \n",
    "        elif(dataset_y.values[i].astype('int') == 2):\n",
    "            \n",
    "            Scores[\"PortScan\"].append(get_score(item, distributions['PortScan'], 'PortScan'))\n",
    "            \n",
    "        elif(dataset_y.values[i].astype('int') == 3):\n",
    "            \n",
    "            Scores[\"DDoS\"].append(get_score(item, distributions['DDoS'], 'DDoS'))\n",
    "            \n",
    "        elif(dataset_y.values[i].astype('int') == 4):\n",
    "            \n",
    "            Scores[\"SSH-Patator\"].append(get_score(item, distributions['SSH-Patator'], 'SSH-Patator'))\n",
    "        \n",
    "        elif(dataset_y.values[i].astype('int') == 5):\n",
    "            \n",
    "            Scores[\"FTP-Patator\"].append(get_score(item, distributions['FTP-Patator'], 'FTP-Patator'))\n",
    "            \n",
    "        elif(dataset_y.values[i].astype('int') == 6):\n",
    "            \n",
    "            Scores[\"Web Attack\"].append(get_score(item, distributions['Web Attack'], 'Web Attack'))\n",
    "            \n",
    "        elif(dataset_y.values[i].astype('int') == 7):\n",
    "            \n",
    "            Scores[\"Bot\"].append(get_score(item, distributions['Bot'], 'Bot'))\n",
    "            \n",
    "    thresholds = []\n",
    "    \n",
    "    for item in Scores.values():\n",
    "        item.sort()\n",
    "        thresholds.append(item[len(item)//10])    #取”将样例分成1：9“的threshold\n",
    "    return thresholds\n",
    "\n",
    "def sigmoid(x):\n",
    "    # TODO: Implement sigmoid function\n",
    "    return 1/(1 + np.exp(-x))\n",
    "\n",
    "def get_Full_Scores(dataset_x, dataset_y): \n",
    "    Full_Scores = {\n",
    "        \"Benign\" : {\n",
    "            \"Benign\" : [],\n",
    "            \"DoS\" : [],\n",
    "            \"PortScan\" : [],\n",
    "            \"DDoS\" : [],\n",
    "            \"SSH-Patator\" : [],        \n",
    "            \"FTP-Patator\" : [],\n",
    "            \"Web Attack\" : [],\n",
    "            \"Bot\" : []\n",
    "        },\n",
    "        \"DoS\" : {\n",
    "            \"Benign\" : [],\n",
    "            \"DoS\" : [],\n",
    "            \"PortScan\" : [],\n",
    "            \"DDoS\" : [],\n",
    "            \"SSH-Patator\" : [],        \n",
    "            \"FTP-Patator\" : [],\n",
    "            \"Web Attack\" : [],\n",
    "            \"Bot\" : []\n",
    "        },\n",
    "        \"PortScan\" : {\n",
    "            \"Benign\" : [],\n",
    "            \"DoS\" : [],\n",
    "            \"PortScan\" : [],\n",
    "            \"DDoS\" : [],\n",
    "            \"SSH-Patator\" : [],        \n",
    "            \"FTP-Patator\" : [],\n",
    "            \"Web Attack\" : [],\n",
    "            \"Bot\" : []\n",
    "        },\n",
    "        \"DDoS\" : {\n",
    "            \"Benign\" : [],\n",
    "            \"DoS\" : [],\n",
    "            \"PortScan\" : [],\n",
    "            \"DDoS\" : [],\n",
    "            \"SSH-Patator\" : [],        \n",
    "            \"FTP-Patator\" : [],\n",
    "            \"Web Attack\" : [],\n",
    "            \"Bot\" : []\n",
    "        },\n",
    "        \"SSH-Patator\" : {\n",
    "            \"Benign\" : [],\n",
    "            \"DoS\" : [],\n",
    "            \"PortScan\" : [],\n",
    "            \"DDoS\" : [],\n",
    "            \"SSH-Patator\" : [],        \n",
    "            \"FTP-Patator\" : [],\n",
    "            \"Web Attack\" : [],\n",
    "            \"Bot\" : []\n",
    "        },        \n",
    "        \"FTP-Patator\" : {\n",
    "            \"Benign\" : [],\n",
    "            \"DoS\" : [],\n",
    "            \"PortScan\" : [],\n",
    "            \"DDoS\" : [],\n",
    "            \"SSH-Patator\" : [],        \n",
    "            \"FTP-Patator\" : [],\n",
    "            \"Web Attack\" : [],\n",
    "            \"Bot\" : []\n",
    "        },\n",
    "        \"Web Attack\" : {\n",
    "            \"Benign\" : [],\n",
    "            \"DoS\" : [],\n",
    "            \"PortScan\" : [],\n",
    "            \"DDoS\" : [],\n",
    "            \"SSH-Patator\" : [],        \n",
    "            \"FTP-Patator\" : [],\n",
    "            \"Web Attack\" : [],\n",
    "            \"Bot\" : []\n",
    "        },\n",
    "        \"Bot\" : {\n",
    "            \"Benign\" : [],\n",
    "            \"DoS\" : [],\n",
    "            \"PortScan\" : [],\n",
    "            \"DDoS\" : [],\n",
    "            \"SSH-Patator\" : [],        \n",
    "            \"FTP-Patator\" : [],\n",
    "            \"Web Attack\" : [],\n",
    "            \"Bot\" : []\n",
    "        }\n",
    "    }\n",
    "    for i,item in enumerate(dataset_x):\n",
    "        itemLabel = labelList[int(dataset_y.values[i])]\n",
    "        Full_Scores[\"Benign\"][itemLabel].append(get_score(item, distributions[\"Benign\"], \"Benign\")) \n",
    "        Full_Scores[\"DoS\"][itemLabel].append(get_score(item, distributions[\"DoS\"], \"DoS\"))\n",
    "        Full_Scores[\"PortScan\"][itemLabel].append(get_score(item, distributions[\"PortScan\"], \"PortScan\"))\n",
    "        Full_Scores[\"DDoS\"][itemLabel].append(get_score(item, distributions[\"DDoS\"], \"DDoS\"))\n",
    "        Full_Scores[\"SSH-Patator\"][itemLabel].append(get_score(item, distributions[\"SSH-Patator\"], \"SSH-Patator\"))\n",
    "        Full_Scores[\"FTP-Patator\"][itemLabel].append(get_score(item, distributions[\"FTP-Patator\"], \"FTP-Patator\"))\n",
    "        Full_Scores[\"Web Attack\"][itemLabel].append(get_score(item, distributions[\"Web Attack\"], \"Web Attack\"))\n",
    "        Full_Scores[\"Bot\"][itemLabel].append(get_score(item, distributions[\"Bot\"], \"Bot\"))\n",
    "    return Full_Scores\n",
    "    \n",
    "\n",
    "\n"
   ]
  },
  {
   "cell_type": "code",
   "execution_count": 3,
   "metadata": {
    "ExecuteTime": {
     "end_time": "2020-07-18T11:16:35.760165Z",
     "start_time": "2020-07-18T11:16:35.717838Z"
    }
   },
   "outputs": [],
   "source": [
    "def read_csv(dataroot):\n",
    "    df=pd.read_csv(dataroot,header=0,low_memory=False)   \n",
    "    pd.set_option('mode.use_inf_as_na', True) # convert inf to nan\n",
    "    df['Flow Bytes/s']=df['Flow Bytes/s'].astype('float64')\n",
    "    df[' Flow Packets/s']=df[' Flow Packets/s'].astype('float64')\n",
    "    df['Flow Bytes/s'].fillna(df['Flow Bytes/s'].mean(),inplace=True)\n",
    "    df[' Flow Packets/s'].fillna(df[' Flow Packets/s'].mean(),inplace=True)\n",
    "    return df\n",
    "\n",
    "def split_valid_from_train(train_dataset, valid_size):\n",
    "    # Method 1\n",
    "    train_dataset, valid_dataset, _, _ = train_test_split(train_dataset, train_dataset[' Label'], test_size=valid_size, random_state=None)\n",
    "    # pandas中先重置index再打乱train. 否则只会调整各个行的顺序，而不会改变pandas的index\n",
    "    # 重置\n",
    "    train_dataset = train_dataset.reset_index(drop=True)\n",
    "    # 打乱\n",
    "    indexMask = np.arange(len(train_dataset))\n",
    "    for i in range(10):\n",
    "        np.random.shuffle(indexMask)\n",
    "    train_dataset = train_dataset.iloc[indexMask]\n",
    "\n",
    "    return train_dataset, valid_dataset\n",
    "\n",
    "def shuffle(dataset):  \n",
    "    # 打乱\n",
    "    indexMask = np.arange(len(dataset))\n",
    "    for i in range(10):\n",
    "        np.random.shuffle(indexMask)\n",
    "    dataset = dataset.iloc[indexMask]\n",
    "    dataset = dataset.reset_index(drop=True)\n",
    "\n",
    "    return dataset \n",
    "\n",
    "def labels_separate(dataset):\n",
    "    y_ = dataset[' Label']\n",
    "    temp = dataset\n",
    "    temp.drop([' Label'], axis=1, inplace=True)\n",
    "    x_ = temp.values\n",
    "    return x_, y_\n",
    "\n",
    "def labels_map(label):\n",
    "    if(type(label) == int):      #已是数字，无需处理\n",
    "        return label\n",
    "    if label == 'BENIGN':\n",
    "        return 0\n",
    "    if label == 'DoS':\n",
    "        return 1\n",
    "    if label == 'PortScan':\n",
    "        return 2\n",
    "    if label == 'DDoS':\n",
    "        return 3\n",
    "    if label == 'SSH-Patator':\n",
    "        return 4\n",
    "    if label == 'FTP-Patator':\n",
    "        return 5\n",
    "    if label == 'Web Attack':\n",
    "        return 6\n",
    "    if label == 'Bot':\n",
    "        return 7\n",
    "    return -1   #-1表示出错\n",
    "\n",
    "def filter_labels(dataset):\n",
    "    dataset[' Label'] = dataset[' Label'].apply(labels_map)\n",
    "    return dataset\n",
    "#特征选取\n",
    "def feature_selection(dataset):\n",
    "    return dataset[[\n",
    "        'Total Length of Fwd Packets', ' Fwd Packet Length Max', ' Fwd Packet Length Mean', \n",
    "        ' Bwd Packet Length Mean', ' Packet Length Mean', ' Packet Length Std', ' Average Packet Size', \n",
    "        ' Subflow Fwd Bytes', 'Init_Win_bytes_forward', ' Init_Win_bytes_backward',\n",
    "        ' Label'\n",
    "    ]]"
   ]
  },
  {
   "cell_type": "code",
   "execution_count": 4,
   "metadata": {
    "ExecuteTime": {
     "end_time": "2020-07-18T11:17:55.031056Z",
     "start_time": "2020-07-18T11:16:35.775941Z"
    }
   },
   "outputs": [],
   "source": [
    "#DDoS\n",
    "df_1 = read_csv(\"../MachineLearningCVE/Friday-WorkingHours-Afternoon-DDos.pcap_ISCX.csv\")\n",
    "df_1 = df_1.drop(df_1[df_1[' Label'] == 'BENIGN'].index)\n",
    "df_1 = df_1.sample(n=5000,random_state=1, replace=False)\n",
    "df_1_train, df_1_test = split_valid_from_train(df_1, 0.2)\n",
    "#PortScan\n",
    "df_2 = read_csv(\"../MachineLearningCVE/Friday-WorkingHours-Afternoon-PortScan.pcap_ISCX.csv\")\n",
    "df_2 = df_2.drop(df_2[df_2[' Label'] == 'BENIGN'].index)\n",
    "df_2 = df_2.sample(n=5000,random_state=1, replace=False)\n",
    "df_2_train, df_2_test = split_valid_from_train(df_2, 0.2)\n",
    "#Bot\n",
    "df_3 = read_csv(\"../MachineLearningCVE/Friday-WorkingHours-Morning.pcap_ISCX.csv\")\n",
    "df_3 = df_3.drop(df_3[df_3[' Label'] == 'BENIGN'].index)\n",
    "df_3 = df_3.sample(n=5000,random_state=1, replace=True)\n",
    "df_3_train, df_3_test = split_valid_from_train(df_3, 0.2)\n",
    "#Benign\n",
    "df_4 = read_csv(\"../MachineLearningCVE/Monday-WorkingHours.pcap_ISCX.csv\")\n",
    "df_4 = df_4.sample(n=50000,random_state=1, replace=False)\n",
    "df_4_train, df_4_test = split_valid_from_train(df_4, 0.2)\n",
    "#Web attack\n",
    "df_6 = read_csv(\"../MachineLearningCVE/Thursday-WorkingHours-Morning-WebAttacks.pcap_ISCX.csv\")\n",
    "df_6 = df_6.drop(df_6[df_6[' Label'] == 'BENIGN'].index)\n",
    "df_6 = df_6.sample(n=5000,random_state=1, replace=True)\n",
    "df_6[' Label'] = df_6[' Label'].apply(lambda x: 'Web Attack')\n",
    "df_6_train, df_6_test = split_valid_from_train(df_6, 0.2)\n",
    "#FTP-Patator and SSH-Patator\n",
    "df_7 = read_csv(\"../MachineLearningCVE/Tuesday-WorkingHours.pcap_ISCX.csv\")\n",
    "df_7 = df_7.drop(df_7[df_7[' Label'] == 'BENIGN'].index)\n",
    "df_7_1 = df_7.drop(df_7[df_7[' Label'] == 'FTP-Patator'].index)\n",
    "df_7_2 = df_7.drop(df_7[df_7[' Label'] == 'SSH-Patator'].index)\n",
    "df_7_1 = df_7_1.sample(n=5000,random_state=1, replace=False)\n",
    "df_7_2 = df_7_2.sample(n=5000,random_state=1, replace=False)\n",
    "df_7_1_train, df_7_1_test = split_valid_from_train(df_7_1, 0.2)\n",
    "df_7_2_train, df_7_2_test = split_valid_from_train(df_7_2, 0.2)\n",
    "#DoS\n",
    "df_8 = read_csv(\"../MachineLearningCVE/Wednesday-workingHours.pcap_ISCX.csv\")\n",
    "df_8 = df_8.drop(df_8[df_8[' Label'] == 'BENIGN'].index)\n",
    "df_8 = df_8.sample(n=5000,random_state=1, replace=False)\n",
    "df_8[' Label'] = df_8[' Label'].apply(lambda x: 'DoS')\n",
    "df_8_train, df_8_test = split_valid_from_train(df_8, 0.2)\n",
    "\n",
    "#整合\n",
    "df_train = df_1_train.append([df_2_train, df_3_train, df_4_train, df_6_train, df_7_1_train,df_7_2_train,df_8_train])\n",
    "df_test = df_1_test.append([df_2_test, df_3_test, df_4_test, df_6_test, df_7_1_test,df_7_2_test,df_8_test])"
   ]
  },
  {
   "cell_type": "code",
   "execution_count": 5,
   "metadata": {
    "ExecuteTime": {
     "end_time": "2020-07-18T11:17:55.846125Z",
     "start_time": "2020-07-18T11:17:55.047836Z"
    }
   },
   "outputs": [],
   "source": [
    "#整合后再乱序一下\n",
    "df_train = shuffle(df_train)\n",
    "#标签的字符转化成数字\n",
    "df_train = filter_labels(df_train)\n",
    "#特征选择\n",
    "df_train = feature_selection(df_train)\n",
    "#分离标签\n",
    "df_train_X, df_train_y = labels_separate(df_train)\n",
    "#Normalization\n",
    "scaler = preprocessing.MinMaxScaler()\n",
    "df_train_X = scaler.fit_transform(df_train_X)"
   ]
  },
  {
   "cell_type": "code",
   "execution_count": 6,
   "metadata": {
    "ExecuteTime": {
     "end_time": "2020-07-18T11:17:55.950430Z",
     "start_time": "2020-07-18T11:17:55.849780Z"
    }
   },
   "outputs": [],
   "source": [
    "df_test = filter_labels(df_test)\n",
    "df_test = feature_selection(df_test)\n",
    "df_test_X, df_test_y = labels_separate(df_test)\n",
    "df_test_X = scaler.fit_transform(df_test_X)"
   ]
  },
  {
   "cell_type": "code",
   "execution_count": 23,
   "metadata": {
    "ExecuteTime": {
     "end_time": "2020-07-18T11:53:30.961306Z",
     "start_time": "2020-07-18T11:34:25.255213Z"
    }
   },
   "outputs": [],
   "source": [
    "full_Scores = get_Full_Scores(df_test_X, df_test_y)"
   ]
  },
  {
   "cell_type": "code",
   "execution_count": 24,
   "metadata": {
    "ExecuteTime": {
     "end_time": "2020-07-18T11:53:42.439911Z",
     "start_time": "2020-07-18T11:53:42.426450Z"
    }
   },
   "outputs": [],
   "source": [
    "from matplotlib import pyplot\n",
    "\n",
    "def drawSingle(label):\n",
    "    pyplot.hist(full_Scores[label][label], 20, density=True, histtype='step', color='black', cumulative=True)\n",
    "    pyplot.xlabel('Scoring')\n",
    "    pyplot.ylabel('Frequency')\n",
    "    pyplot.title('Scores of '+label+' samples on '+label+' distribution') \n",
    "    #plt.savefig(\"./scores/\" + label + \"_base/Scores of \"+label+\" samples on \"+label+\" distribution.eps\",format=\"eps\")\n",
    "    pyplot.show()\n",
    "    \n",
    "def drawComparison(base_label, compare_label):\n",
    "    pyplot.hist(full_Scores[base_label][base_label], 20, density=True, histtype='step', color='black', cumulative=True)\n",
    "    pyplot.hist(full_Scores[base_label][compare_label], 20, density=True, histtype='step', cumulative=True)\n",
    "    pyplot.xlabel('Scoring')\n",
    "    pyplot.ylabel('Frequency')\n",
    "    pyplot.title('Scoring comparsion between '+compare_label+' and ' + base_label)\n",
    "    #plt.savefig(\"./scores/\" + base_label + \"_base/comparsion between \"+compare_label+\" and \" + base_label + \".eps\",format=\"eps\")\n",
    "    pyplot.show()\n"
   ]
  },
  {
   "cell_type": "code",
   "execution_count": 25,
   "metadata": {
    "ExecuteTime": {
     "end_time": "2020-07-18T11:53:58.801449Z",
     "start_time": "2020-07-18T11:53:56.444604Z"
    }
   },
   "outputs": [
    {
     "name": "stderr",
     "output_type": "stream",
     "text": [
      "/opt/conda/lib/python3.7/site-packages/matplotlib/font_manager.py:1241: UserWarning: findfont: Font family ['sans-serif'] not found. Falling back to DejaVu Sans.\n",
      "  (prop.get_family(), self.defaultFamily[fontext]))\n"
     ]
    },
    {
     "data": {
      "image/png": "[encoded data removed]",
      "text/plain": [
       "<Figure size 432x288 with 1 Axes>"
      ]
     },
     "metadata": {
      "needs_background": "light"
     },
     "output_type": "display_data"
    },
    {
     "data": {
      "image/png": "[encoded data removed]",
      "text/plain": [
       "<Figure size 432x288 with 1 Axes>"
      ]
     },
     "metadata": {
      "needs_background": "light"
     },
     "output_type": "display_data"
    },
    {
     "data": {
      "image/png": "[encoded data removed]",
      "text/plain": [
       "<Figure size 432x288 with 1 Axes>"
      ]
     },
     "metadata": {
      "needs_background": "light"
     },
     "output_type": "display_data"
    },
    {
     "data": {
      "image/png": "[encoded data removed]",
      "text/plain": [
       "<Figure size 432x288 with 1 Axes>"
      ]
     },
     "metadata": {
      "needs_background": "light"
     },
     "output_type": "display_data"
    },
    {
     "data": {
      "image/png": "[encoded data removed]",
      "text/plain": [
       "<Figure size 432x288 with 1 Axes>"
      ]
     },
     "metadata": {
      "needs_background": "light"
     },
     "output_type": "display_data"
    },
    {
     "data": {
      "image/png": "[encoded data removed]",
      "text/plain": [
       "<Figure size 432x288 with 1 Axes>"
      ]
     },
     "metadata": {
      "needs_background": "light"
     },
     "output_type": "display_data"
    },
    {
     "data": {
      "image/png": "[encoded data removed]",
      "text/plain": [
       "<Figure size 432x288 with 1 Axes>"
      ]
     },
     "metadata": {
      "needs_background": "light"
     },
     "output_type": "display_data"
    },
    {
     "data": {
      "image/png": "[encoded data removed]",
      "text/plain": [
       "<Figure size 432x288 with 1 Axes>"
      ]
     },
     "metadata": {
      "needs_background": "light"
     },
     "output_type": "display_data"
    }
   ],
   "source": [
    "drawSingle('Benign')\n",
    "drawComparison('Benign', 'DoS')\n",
    "drawComparison('Benign', 'PortScan')\n",
    "drawComparison('Benign', 'DDoS')\n",
    "drawComparison('Benign', 'SSH-Patator')\n",
    "drawComparison('Benign', 'FTP-Patator')\n",
    "drawComparison('Benign', 'Web Attack')\n",
    "drawComparison('Benign', 'Bot')\n"
   ]
  },
  {
   "cell_type": "code",
   "execution_count": null,
   "metadata": {},
   "outputs": [],
   "source": []
  }
 ],
 "metadata": {
  "kernelspec": {
   "display_name": "Python 3",
   "language": "python",
   "name": "python3"
  },
  "language_info": {
   "codemirror_mode": {
    "name": "ipython",
    "version": 3
   },
   "file_extension": ".py",
   "mimetype": "text/x-python",
   "name": "python",
   "nbconvert_exporter": "python",
   "pygments_lexer": "ipython3",
   "version": "3.7.3"
  },
  "toc": {
   "base_numbering": 1,
   "nav_menu": {},
   "number_sections": true,
   "sideBar": true,
   "skip_h1_title": false,
   "title_cell": "Table of Contents",
   "title_sidebar": "Contents",
   "toc_cell": false,
   "toc_position": {},
   "toc_section_display": true,
   "toc_window_display": false
  },
  "varInspector": {
   "cols": {
    "lenName": 16,
    "lenType": 16,
    "lenVar": 40
   },
   "kernels_config": {
    "python": {
     "delete_cmd_postfix": "",
     "delete_cmd_prefix": "del ",
     "library": "var_list.py",
     "varRefreshCmd": "print(var_dic_list())"
    },
    "r": {
     "delete_cmd_postfix": ") ",
     "delete_cmd_prefix": "rm(",
     "library": "var_list.r",
     "varRefreshCmd": "cat(var_dic_list()) "
    }
   },
   "types_to_exclude": [
    "module",
    "function",
    "builtin_function_or_method",
    "instance",
    "_Feature"
   ],
   "window_display": false
  }
 },
 "nbformat": 4,
 "nbformat_minor": 2
}
