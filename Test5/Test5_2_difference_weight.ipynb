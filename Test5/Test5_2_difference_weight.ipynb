{
 "cells": [
  {
   "cell_type": "code",
   "execution_count": 1,
   "metadata": {
    "ExecuteTime": {
     "end_time": "2020-05-27T06:12:46.440972Z",
     "start_time": "2020-05-27T06:12:45.031846Z"
    }
   },
   "outputs": [],
   "source": [
    "import pandas as pd\n",
    "from time import time\n",
    "import matplotlib.pyplot as plt\n",
    "import matplotlib\n",
    "from sklearn import preprocessing\n",
    "import pickle\n",
    "\n",
    "%matplotlib inline\n",
    "matplotlib.rcParams['font.sans-serif'] = ['SimHei']"
   ]
  },
  {
   "cell_type": "code",
   "execution_count": 2,
   "metadata": {
    "ExecuteTime": {
     "end_time": "2020-05-27T06:12:46.982519Z",
     "start_time": "2020-05-27T06:12:46.969641Z"
    }
   },
   "outputs": [],
   "source": [
    "def load_obj(name ):\n",
    "    with open('' + name + '.pkl', 'rb') as f:\n",
    "        return pickle.load(f)\n"
   ]
  },
  {
   "cell_type": "code",
   "execution_count": 26,
   "metadata": {
    "ExecuteTime": {
     "end_time": "2020-05-27T07:04:51.155523Z",
     "start_time": "2020-05-27T07:04:51.105638Z"
    }
   },
   "outputs": [
    {
     "name": "stdout",
     "output_type": "stream",
     "text": [
      "{'0-5': 97341, '5-10': 242, '10-15': 57, '15-20': 28, '20-25': 10, '25-30': 16, '30-35': 7, '35-40': 3, '40-45': 0, '45-50': 1, '50-55': 1, '55-60': 2, '60-65': 2, '65-70': 1, '70-75': 2, '75-80': 0, '80-85': 2, '85-90': 1, '90-95': 1, '95-100': 1}\n",
      "{'0-5': 47, '5-10': 1453, '10-15': 1453, '15-20': 0, '20-25': 56728, '25-30': 0, '30-35': 23180, '35-40': 22301, '40-45': 22301, '45-50': 0, '50-55': 1189, '55-60': 0, '60-65': 1001, '65-70': 18067, '70-75': 18067, '75-80': 4057, '80-85': 4057, '85-90': 3, '90-95': 3, '95-100': 1}\n",
      "{'0-5': 158926, '5-10': 1, '10-15': 2, '15-20': 0, '20-25': 0, '25-30': 0, '30-35': 0, '35-40': 0, '40-45': 0, '45-50': 0, '50-55': 0, '55-60': 0, '60-65': 0, '65-70': 0, '70-75': 0, '75-80': 0, '80-85': 0, '85-90': 0, '90-95': 0, '95-100': 1}\n"
     ]
    }
   ],
   "source": [
    "BenignDistributeObj = load_obj(\"Benign_Distribution_set\")\n",
    "print(BenignDistributeObj[\"2\"])\n",
    "DDoSDistributeObj = load_obj(\"DDoS_Distribution_set\")\n",
    "print(DDoSDistributeObj[\"2\"])\n",
    "PortScanDistributeObj = load_obj(\"PortScan_Distribution_set\")\n",
    "print(PortScanDistributeObj[\"2\"])\n",
    "Examples = load_obj(\"Examples\")"
   ]
  },
  {
   "cell_type": "code",
   "execution_count": 19,
   "metadata": {
    "ExecuteTime": {
     "end_time": "2020-05-27T06:46:09.436456Z",
     "start_time": "2020-05-27T06:46:09.420090Z"
    }
   },
   "outputs": [],
   "source": [
    "#定义difference weight,取值0~1\n",
    "def calculate_dw(distribution_1, distribution_2, feature_index):\n",
    "    count1 = calculate_count(distribution_1, feature_index)\n",
    "    count2 = calculate_count(distribution_2, feature_index)\n",
    "    h = 20\n",
    "    dw = 0\n",
    "    for i in range(h):\n",
    "        start = i*5\n",
    "        end = start + 5\n",
    "        T1 = distribution_1[str(feature_index)][str(start) + '-' + str(end)]/count1\n",
    "        T2 = distribution_2[str(feature_index)][str(start) + '-' + str(end)]/count2\n",
    "        dw += abs(T1 - T2)\n",
    "    return dw/2\n",
    "#用于计算分布字典里的实例数\n",
    "def calculate_count(distribution, feature_index):\n",
    "    h = 20\n",
    "    count = 0\n",
    "    for i in range(h):\n",
    "        start = i*5\n",
    "        end = start + 5\n",
    "        count += distribution[str(feature_index)][str(start) + '-' + str(end)]\n",
    "    return count"
   ]
  },
  {
   "cell_type": "code",
   "execution_count": 20,
   "metadata": {
    "ExecuteTime": {
     "end_time": "2020-05-27T06:46:10.187201Z",
     "start_time": "2020-05-27T06:46:10.173676Z"
    }
   },
   "outputs": [
    {
     "name": "stdout",
     "output_type": "stream",
     "text": [
      "0.9963571609103999\n",
      "0.0038328721707474524\n"
     ]
    }
   ],
   "source": [
    "#在属性2下，PortScan与Benign的dw 与 DDoS与Benign的dw 有很大区别\n",
    "print(calculate_dw(BenignDistributeObj, DDoSDistributeObj, 2))\n",
    "print(calculate_dw(BenignDistributeObj, PortScanDistributeObj, 2))"
   ]
  },
  {
   "cell_type": "code",
   "execution_count": 44,
   "metadata": {
    "ExecuteTime": {
     "end_time": "2020-05-27T07:14:51.130136Z",
     "start_time": "2020-05-27T07:14:51.108787Z"
    }
   },
   "outputs": [],
   "source": [
    "#定义hdw，hybird difference weight\n",
    "attack_types = 2  #总攻击种类\n",
    "\n",
    "def calculate_hdw(feature_index):\n",
    "    \n",
    "    a = calculate_dw(BenignDistributeObj, DDoSDistributeObj, feature_index) \n",
    "    b = calculate_dw(BenignDistributeObj, PortScanDistributeObj, feature_index)\n",
    "    if(a>b):\n",
    "        return a\n",
    "    else:\n",
    "     return b\n"
   ]
  },
  {
   "cell_type": "code",
   "execution_count": 45,
   "metadata": {
    "ExecuteTime": {
     "end_time": "2020-05-27T07:14:52.789969Z",
     "start_time": "2020-05-27T07:14:52.770942Z"
    }
   },
   "outputs": [
    {
     "name": "stdout",
     "output_type": "stream",
     "text": [
      "0.9963571609103999\n",
      "0.28043034825111096\n",
      "0.42215406881676354\n"
     ]
    }
   ],
   "source": [
    "#属性2对于构建benign distribution model的差异性权重，也就是模型建立起来的这个属性的重要性考虑度\n",
    "print(calculate_hdw(2))\n",
    "print(calculate_hdw(1))\n",
    "print(calculate_hdw(0))"
   ]
  },
  {
   "cell_type": "code",
   "execution_count": 46,
   "metadata": {
    "ExecuteTime": {
     "end_time": "2020-05-27T07:15:02.497273Z",
     "start_time": "2020-05-27T07:15:02.482413Z"
    }
   },
   "outputs": [],
   "source": [
    "#计算例子在某种标签上的得分，需要提供对应标签的分布统计字典和字典的统计量\n",
    "def get_score(example, distributeObj):    \n",
    "    features_num = 78\n",
    "    score = 0\n",
    "    count = calculate_count(distributeObj, 0)  #取哪个特征都一样\n",
    "    for i in range(78):\n",
    "\n",
    "        start = int(example[i]/0.05//1)*5   #取200个分组里的分组起始位置\n",
    "        if(start == 100):     #特殊处理当该属性为1.0时溢出的情况\n",
    "            start = 95      \n",
    "        end = start + 5\n",
    "        dataRange = '{0}-{1}'.format(start, end )\n",
    "        score += distributeObj[str(i)][dataRange] * calculate_hdw(i) /count / features_num\n",
    "    return score"
   ]
  },
  {
   "cell_type": "code",
   "execution_count": 47,
   "metadata": {
    "ExecuteTime": {
     "end_time": "2020-05-27T07:15:04.222015Z",
     "start_time": "2020-05-27T07:15:04.045490Z"
    }
   },
   "outputs": [
    {
     "name": "stdout",
     "output_type": "stream",
     "text": [
      "0.30014375914518904\n",
      "0.1768918305007896\n",
      "0.24936970736841446\n",
      "------------\n",
      "0.10284215015540706\n",
      "0.17995808150822393\n",
      "0.14571677627872265\n",
      "------------\n",
      "0.26621720628199347\n",
      "0.16812105368904542\n",
      "0.3222926918713726\n"
     ]
    }
   ],
   "source": [
    "print(get_score(Examples[\"Benign\"], BenignDistributeObj))\n",
    "print(get_score(Examples[\"DDoS\"], BenignDistributeObj))\n",
    "print(get_score(Examples[\"PortScan\"], BenignDistributeObj))\n",
    "print(\"------------\")\n",
    "print(get_score(Examples[\"Benign\"], DDoSDistributeObj))\n",
    "print(get_score(Examples[\"DDoS\"], DDoSDistributeObj))\n",
    "print(get_score(Examples[\"PortScan\"], DDoSDistributeObj))\n",
    "print(\"------------\")\n",
    "print(get_score(Examples[\"Benign\"], PortScanDistributeObj))\n",
    "print(get_score(Examples[\"DDoS\"], PortScanDistributeObj))\n",
    "print(get_score(Examples[\"PortScan\"], PortScanDistributeObj))"
   ]
  },
  {
   "cell_type": "code",
   "execution_count": null,
   "metadata": {},
   "outputs": [],
   "source": []
  }
 ],
 "metadata": {
  "kernelspec": {
   "display_name": "Python 3",
   "language": "python",
   "name": "python3"
  },
  "language_info": {
   "codemirror_mode": {
    "name": "ipython",
    "version": 3
   },
   "file_extension": ".py",
   "mimetype": "text/x-python",
   "name": "python",
   "nbconvert_exporter": "python",
   "pygments_lexer": "ipython3",
   "version": "3.7.3"
  },
  "toc": {
   "base_numbering": 1,
   "nav_menu": {},
   "number_sections": true,
   "sideBar": true,
   "skip_h1_title": false,
   "title_cell": "Table of Contents",
   "title_sidebar": "Contents",
   "toc_cell": false,
   "toc_position": {},
   "toc_section_display": true,
   "toc_window_display": false
  },
  "varInspector": {
   "cols": {
    "lenName": 16,
    "lenType": 16,
    "lenVar": 40
   },
   "kernels_config": {
    "python": {
     "delete_cmd_postfix": "",
     "delete_cmd_prefix": "del ",
     "library": "var_list.py",
     "varRefreshCmd": "print(var_dic_list())"
    },
    "r": {
     "delete_cmd_postfix": ") ",
     "delete_cmd_prefix": "rm(",
     "library": "var_list.r",
     "varRefreshCmd": "cat(var_dic_list()) "
    }
   },
   "types_to_exclude": [
    "module",
    "function",
    "builtin_function_or_method",
    "instance",
    "_Feature"
   ],
   "window_display": false
  }
 },
 "nbformat": 4,
 "nbformat_minor": 2
}
