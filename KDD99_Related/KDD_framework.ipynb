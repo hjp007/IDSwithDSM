{
 "cells": [
  {
   "cell_type": "code",
   "execution_count": 1,
   "metadata": {
    "ExecuteTime": {
     "end_time": "2020-07-23T03:09:20.568875Z",
     "start_time": "2020-07-23T03:09:12.050785Z"
    }
   },
   "outputs": [
    {
     "name": "stdout",
     "output_type": "stream",
     "text": [
      "1.13.1\n"
     ]
    }
   ],
   "source": [
    "import os\n",
    "import tensorflow as tf\n",
    "os.environ['TF_CPP_MIN_LOG_LEVEL'] = '2'  #忽略烦人的警告\n",
    "tf.logging.set_verbosity(tf.logging.ERROR)   #忽略烦人的警告\n",
    "print(tf.__version__)\n",
    "import numpy as np\n",
    "from sklearn.decomposition import PCA\n",
    "\n",
    "import pandas as pd\n",
    "from collections import Counter\n",
    "from sklearn.model_selection import train_test_split\n",
    "import pickle   #对象存储用\n",
    "\n",
    "from sklearn import preprocessing\n",
    "\n",
    "import matplotlib.pyplot as plt\n",
    "import matplotlib\n",
    "import math\n",
    "\n",
    "%matplotlib inline\n",
    "matplotlib.rcParams['font.sans-serif'] = ['SimHei']"
   ]
  },
  {
   "cell_type": "code",
   "execution_count": 2,
   "metadata": {
    "ExecuteTime": {
     "end_time": "2020-07-23T03:09:20.824555Z",
     "start_time": "2020-07-23T03:09:20.574874Z"
    }
   },
   "outputs": [],
   "source": [
    "labelList = [\"normal\", \"DoS\", \"PROBE\", \"U2R\", \"R2L\"]\n",
    "def load_obj(name):\n",
    "    with open('./' + name + '.pkl', 'rb') as f:\n",
    "        return pickle.load(f)\n",
    "\n",
    "distributions = {}\n",
    "distributions['normal'] = load_obj(\"normal_Distribution_set\")\n",
    "distributions['DoS'] = load_obj(\"DoS_Distribution_set\")\n",
    "distributions['PROBE'] = load_obj(\"PROBE_Distribution_set\")\n",
    "distributions['U2R'] = load_obj(\"U2R_Distribution_set\")\n",
    "distributions['R2L'] = load_obj(\"R2L_Distribution_set\")\n",
    "\n",
    "attack_types = 4  #总已知攻击种类\n",
    "feature_numbers = 12   #用于处理PSM的特征，位列前35的特征\n",
    "\n",
    "\n",
    "#定义difference weight,取值0~1\n",
    "def calculate_dw(distribution_1, distribution_2, feature_index):\n",
    "    count1 = calculate_count(distribution_1, feature_index)\n",
    "    count2 = calculate_count(distribution_2, feature_index)\n",
    "    h = 20\n",
    "    dw = 0\n",
    "    for i in range(h):\n",
    "        start = i*5\n",
    "        end = start + 5\n",
    "        T1 = distribution_1[str(feature_index)][str(start) + '-' + str(end)]/count1\n",
    "        T2 = distribution_2[str(feature_index)][str(start) + '-' + str(end)]/count2\n",
    "        dw += abs(T1 - T2)\n",
    "    return dw/2\n",
    "#用于计算分布字典里的实例数\n",
    "def calculate_count(distribution, feature_index):\n",
    "    h = 20\n",
    "    count = 0\n",
    "    for i in range(h):\n",
    "        start = i*5\n",
    "        end = start + 5\n",
    "        count += distribution[str(feature_index)][str(start) + '-' + str(end)]\n",
    "    return count\n",
    "#定义hdw，hybird difference weight  第二个参数为：hdw应用的对应得分公式的对应的哪种字典\n",
    "def calculate_hdw(feature_index, label):\n",
    "    base = 0\n",
    "    for key in distributions:\n",
    "        if(key == label):\n",
    "            continue\n",
    "        dw = calculate_dw(distributions[label], distributions[key], feature_index)\n",
    "        if(dw > base):\n",
    "            base = dw\n",
    "    return base\n",
    "\n",
    "\n",
    "#计算例子在某种标签上的得分，需要提供对应标签, 这个标签的的分布统计字典\n",
    "def get_score(example, distributeObj, label):    \n",
    "    score = 0\n",
    "    count = calculate_count(distributeObj, 0)  #取哪个特征都一样\n",
    "    minBase = 1\n",
    "    baseArr = []\n",
    "    for i in range(feature_numbers):\n",
    "\n",
    "        start = int(example[i]/0.05//1)*5   #取200个分组里的分组起始位置\n",
    "        if(start == 100):     #特殊处理当该属性为1.0时溢出的情况\n",
    "            start = 95      \n",
    "        end = start + 5\n",
    "        dataRange = '{0}-{1}'.format(start, end )\n",
    "        base = distributeObj[str(i)][dataRange]/count\n",
    "        if(base != 0 and base < minBase):\n",
    "            minBase = base\n",
    "        baseArr.append(base)\n",
    "        \n",
    "    for i in range(feature_numbers):\n",
    "        if(baseArr[i] != 0):\n",
    "            score += math.log(baseArr[i]) * calculate_hdw(i, label)  / feature_numbers\n",
    "        else:\n",
    "            score += math.log(minBase) * calculate_hdw(i, label)  / feature_numbers\n",
    "            \n",
    "    return score\n",
    "\n",
    "distribution_feature = [    #产生的新特征\n",
    "    'normal_Score', 'DoS_Score',\n",
    "    'PROBE_Score', 'U2R_Score', 'R2L_Score'\n",
    "]\n",
    "\n",
    "def get_score_threshold(dataset_x, dataset_y):\n",
    "    #5个分数数组，表示在这个label字典下label实例的得分情况\n",
    "    Scores = {\n",
    "        \"normal\" : [],\n",
    "        \"DoS\" : [],\n",
    "        \"PROBE\" : [],\n",
    "        \"U2R\" : [],\n",
    "        \"R2L\" : []\n",
    "    }\n",
    "    for i,item in enumerate(dataset_x):\n",
    "        if(dataset_y.values[i].astype('int') == 0):\n",
    "            \n",
    "            Scores[\"normal\"].append(get_score(item, distributions['normal'], 'normal'))\n",
    "            \n",
    "        elif(dataset_y.values[i].astype('int') == 1):\n",
    "            \n",
    "            Scores[\"DoS\"].append(get_score(item, distributions['DoS'], 'DoS'))\n",
    "            \n",
    "        elif(dataset_y.values[i].astype('int') == 2):\n",
    "            \n",
    "            Scores[\"PROBE\"].append(get_score(item, distributions['PROBE'], 'PROBE'))\n",
    "            \n",
    "        elif(dataset_y.values[i].astype('int') == 3):\n",
    "            \n",
    "            Scores[\"U2R\"].append(get_score(item, distributions['U2R'], 'U2R'))\n",
    "            \n",
    "        elif(dataset_y.values[i].astype('int') == 4):\n",
    "            \n",
    "            Scores[\"R2L\"].append(get_score(item, distributions['R2L'], 'R2L'))\n",
    "            \n",
    "    thresholds = []\n",
    "    \n",
    "    for item in Scores.values():\n",
    "        item.sort()\n",
    "        thresholds.append(item[len(item)//10])    #取”将样例分成1：9“的threshold\n",
    "    return thresholds\n",
    "\n",
    "def sigmoid(x):\n",
    "    # TODO: Implement sigmoid function\n",
    "    return 1/(1 + np.exp(-x))\n",
    "\n",
    "def fill_score(i, item, Score_revert, label, label_num):\n",
    "    #计算得分\n",
    "    score = get_score(item, distributions[label], label)\n",
    "    #score-normalization\n",
    "    score_norm = sigmoid(score - thresholds[label_num])\n",
    "    #放入要拼接的表\n",
    "    Score_revert.loc[i, (label + '_Score')] = score_norm\n",
    "    return\n",
    "\n",
    "def create_distribution_score(dataset_x, thresholds):\n",
    "    #创建空表\n",
    "    Score_revert = pd.DataFrame(\n",
    "        data=np.zeros(\n",
    "            shape=(\n",
    "                dataset_x.shape[0],\n",
    "                len(distribution_feature)\n",
    "            )\n",
    "        ),columns = distribution_feature\n",
    "    )\n",
    "    #填充空表\n",
    "    for i,item in enumerate(dataset_x):\n",
    "        fill_score(i, item, Score_revert, 'normal', 0)\n",
    "        fill_score(i, item, Score_revert, 'DoS', 1)\n",
    "        fill_score(i, item, Score_revert, 'PROBE', 2)\n",
    "        fill_score(i, item, Score_revert, 'U2R', 3)\n",
    "        fill_score(i, item, Score_revert, 'R2L', 4)\n",
    "            \n",
    "    dataset_x = np.hstack((dataset_x,Score_revert.values))\n",
    "    return dataset_x\n"
   ]
  },
  {
   "cell_type": "code",
   "execution_count": 3,
   "metadata": {
    "ExecuteTime": {
     "end_time": "2020-07-23T03:09:21.046227Z",
     "start_time": "2020-07-23T03:09:20.916813Z"
    }
   },
   "outputs": [],
   "source": [
    "def read_data():\n",
    "    \"\"\"\n",
    "        读取数据，\n",
    "        return\n",
    "            train_dataset : 训练数据 \n",
    "            test_dataset  ：测试数据\n",
    "    \"\"\"\n",
    "    input_file_dir = \".\"\n",
    "    train_file_name = \"kddcup.data_10_percent\"\n",
    "    test_file_name = \"corrected.txt\"\n",
    "    header_file_name = \"header.txt\"\n",
    "    \n",
    "    train_files = os.path.join(input_file_dir, train_file_name)\n",
    "    test_files = os.path.join(input_file_dir, test_file_name)\n",
    "    header_files = os.path.join(input_file_dir, header_file_name)\n",
    "    \n",
    "    with open(header_files, 'r') as f:\n",
    "        header = f.readline().strip().split(',')\n",
    "    train_dataset = pd.read_csv(train_files)\n",
    "    test_dataset = pd.read_csv(test_files)\n",
    "    train_dataset.columns = header\n",
    "    test_dataset.columns = header\n",
    "    dataset = train_dataset.append(test_dataset)\n",
    "    return dataset\n",
    "#选择需要进行创建字典的特征。实际有\n",
    "def feature_selection(dataset):\n",
    "    return dataset[[\n",
    "        'src_bytes', 'dst_bytes', 'logged_in', 'count', 'srv_count', 'same_srv_rate', \n",
    "        'diff_srv_rate', 'dst_host_count', 'dst_host_srv_count', 'dst_host_same_srv_rate', \n",
    "        'dst_host_diff_srv_rate', 'dst_host_same_src_port_rate', 'protocol_type_icmp', 'flag_SF', \n",
    "        'service_ecr_i', 'service_http', 'labels'\n",
    "    ]]\n",
    "\n",
    "def split_valid_from_train(train_dataset, valid_size):\n",
    "    # Method 1\n",
    "    train_dataset, valid_dataset, _, _ = train_test_split(train_dataset, train_dataset['labels'], test_size=valid_size, random_state=None)\n",
    "    # pandas中先重置index再打乱train. 否则只会调整各个行的顺序，而不会改变pandas的index\n",
    "    # 重置\n",
    "    train_dataset = train_dataset.reset_index(drop=True)\n",
    "    # 打乱\n",
    "    indexMask = np.arange(len(train_dataset))\n",
    "    for i in range(10):\n",
    "        np.random.shuffle(indexMask)\n",
    "    train_dataset = train_dataset.iloc[indexMask]\n",
    "\n",
    "    return train_dataset, valid_dataset\n",
    "\n",
    "def shuffle(dataset):  \n",
    "    # 打乱\n",
    "    indexMask = np.arange(len(dataset))\n",
    "    for i in range(10):\n",
    "        np.random.shuffle(indexMask)\n",
    "    dataset = dataset.iloc[indexMask]\n",
    "    dataset = dataset.reset_index(drop=True)\n",
    "\n",
    "    return dataset \n",
    "\n",
    "def labels_map(label):\n",
    "    if(type(label) == int):      #已是数字，无需处理\n",
    "        return label\n",
    "    label = label.split('.')[0]\n",
    "    \n",
    "    DOS = ['apache2', 'back', 'land', 'mailbomb', 'neptune', 'pod', \n",
    "                  'processtable', 'smurf', 'teardrop', 'udpstorm'] #DOS 10个\n",
    "    PROBE = ['ipsweep', 'mscan', 'nmap', 'portsweep', 'saint', 'satan'] #PROBE\n",
    "    U2R = ['buffer_overflow', 'httptunnel', 'loadmodule', 'perl', 'ps', 'rootkit', 'sqlattack', 'xterm'] #U2R\n",
    "    R2L = ['ftp_write', 'guess_passwd', 'imap', 'multihop', 'named', 'phf', \n",
    "           'sendmail', 'snmpgetattack', 'snmpguess', 'spy', 'warezclient', \n",
    "           'warezmaster', 'worm', 'xlock', 'xsnoop']#R2L\n",
    "    \n",
    "    if label == 'normal':\n",
    "        return 0\n",
    "    if label in DOS:\n",
    "        return 1\n",
    "    if label in PROBE:\n",
    "        return 2\n",
    "    if label in U2R:\n",
    "        return 3\n",
    "    if label in R2L:\n",
    "        return 4\n",
    "    return -1\n",
    "  \n",
    "def filter_labels(dataset):\n",
    "    dataset['labels'] = dataset['labels'].apply(labels_map)\n",
    "    return dataset\n",
    "\n",
    "def labels_separate(dataset):\n",
    "    y_ = dataset['labels'].astype('int')\n",
    "    temp = dataset\n",
    "    temp.drop(['labels'], axis=1, inplace=True)\n",
    "    x_ = temp.values\n",
    "    return x_, y_\n"
   ]
  },
  {
   "cell_type": "code",
   "execution_count": 4,
   "metadata": {
    "ExecuteTime": {
     "end_time": "2020-07-23T03:09:21.102711Z",
     "start_time": "2020-07-23T03:09:21.056969Z"
    }
   },
   "outputs": [],
   "source": [
    "def one_hot_process(dataset):\n",
    "    # 独热编码 protocol_type\n",
    "    protocal_type_dummies = pd.get_dummies(dataset['protocol_type'], prefix='protocol_type')\n",
    "    dataset = pd.concat([dataset, protocal_type_dummies], axis=1)\n",
    "    dataset = dataset.drop(['protocol_type'], axis=1)\n",
    "    # 独热编码 flag\n",
    "    flag_dummies = pd.get_dummies(dataset['flag'], prefix='flag')\n",
    "    dataset = pd.concat([dataset, flag_dummies], axis=1)\n",
    "    dataset = dataset.drop(['flag'], axis=1)\n",
    "    # 独热编码 service     （现阶段第三列数据对接有问题，暂时直接除掉这一条数据）\n",
    "    service_dummies = pd.get_dummies(dataset['service'], prefix='service')\n",
    "    dataset = pd.concat([dataset, service_dummies], axis=1)\n",
    "    dataset = dataset.drop(['service'], axis=1)\n",
    "    return dataset\n",
    "#归一化整个数据集，注意要存储归一化的参数x_avg,x_max,x_min以便后面真实环境预处理需要\n",
    "def normalization(dataset):\n",
    "    epsilon = 0.0001   #防止除数为0\n",
    "    dataset = dataset.astype('float')\n",
    "    target_features = [\n",
    "        'src_bytes', 'dst_bytes', 'logged_in', 'count', 'srv_count', 'same_srv_rate', \n",
    "        'diff_srv_rate', 'dst_host_count', 'dst_host_srv_count', 'dst_host_same_srv_rate', \n",
    "        'dst_host_diff_srv_rate', 'dst_host_same_src_port_rate'\n",
    "    ]\n",
    "    \n",
    "    norm_params = pd.DataFrame(np.zeros([3, len(target_features)]), columns=target_features)  #存储归一化参数\n",
    "    \n",
    "    for feature in dataset.columns.values.tolist():    #对列（特征名）进行遍历\n",
    "        if feature in target_features:\n",
    "            x = dataset[feature]\n",
    "            x_avg = dataset[feature].mean()\n",
    "            x_max = np.max(dataset[feature])\n",
    "            x_min = np.min(dataset[feature])\n",
    "\n",
    "            norm_params[feature] = [x_avg, x_max, x_min]\n",
    "            dataset[feature] = (x - x_min) / (x_max - x_min + epsilon)\n",
    "            #dataset = dataset.drop([feature], axis=1)\n",
    "    return dataset,norm_params\n",
    "    \n",
    "def combine_dataset(trainDF, testDF):\n",
    "    all = pd.concat([trainDF, testDF], axis=0)\n",
    "    return all, (trainDF.shape[0], testDF.shape[0])\n",
    "\n",
    "def separate_dataset(comb, num_comb):  \n",
    "    train_dataset_size , test_dataset_size = num_comb\n",
    "    trainDF = comb.iloc[:train_dataset_size]\n",
    "    testDF = comb.iloc[train_dataset_size: (train_dataset_size + test_dataset_size)]\n",
    "    return trainDF, testDF\n",
    "\n",
    "   \n",
    "def data_process_full(trainDF, testDF):\n",
    "    all, num_comb = combine_dataset(trainDF, testDF)\n",
    "    all = one_hot_process(all)\n",
    "    all,norm_params = normalization(all)\n",
    "    trainDF,testDF = separate_dataset(all, num_comb)\n",
    "    return trainDF,testDF,norm_params"
   ]
  },
  {
   "cell_type": "code",
   "execution_count": 5,
   "metadata": {
    "ExecuteTime": {
     "end_time": "2020-07-23T03:09:37.921265Z",
     "start_time": "2020-07-23T03:09:21.114798Z"
    }
   },
   "outputs": [],
   "source": [
    "dataset = read_data()\n",
    "\n",
    "dataset = filter_labels(dataset)\n"
   ]
  },
  {
   "cell_type": "code",
   "execution_count": 6,
   "metadata": {
    "ExecuteTime": {
     "end_time": "2020-07-23T03:09:37.994531Z",
     "start_time": "2020-07-23T03:09:37.927598Z"
    }
   },
   "outputs": [
    {
     "name": "stdout",
     "output_type": "stream",
     "text": [
      "(805048, 42)\n",
      "1    621311\n",
      "0    157869\n",
      "4     17315\n",
      "2      8273\n",
      "3       280\n",
      "Name: labels, dtype: int64\n"
     ]
    }
   ],
   "source": [
    "print(dataset.shape)\n",
    "print(dataset.loc[:,'labels'].value_counts())"
   ]
  },
  {
   "cell_type": "code",
   "execution_count": 7,
   "metadata": {
    "ExecuteTime": {
     "end_time": "2020-07-23T03:09:39.144178Z",
     "start_time": "2020-07-23T03:09:38.017710Z"
    }
   },
   "outputs": [],
   "source": [
    "normal_df = dataset.loc[dataset['labels'] == 0]\n",
    "normal_df = normal_df.sample(n=80000,random_state=1, replace=False)\n",
    "df_normal_train, df_normal_test = split_valid_from_train(normal_df, 0.2)\n",
    "\n",
    "DOS_df = dataset.loc[dataset['labels'] == 1]\n",
    "DOS_df = DOS_df.sample(n=100000,random_state=1, replace=False)\n",
    "df_DOS_train, df_DOS_test = split_valid_from_train(DOS_df, 0.2)\n",
    "\n",
    "\n",
    "PROBE_df = dataset.loc[dataset['labels'] == 2]\n",
    "PROBE_df = PROBE_df.sample(n=5000,random_state=1, replace=True)\n",
    "df_PROBE_train, df_PROBE_test = split_valid_from_train(PROBE_df, 0.2)\n",
    "\n",
    "\n",
    "U2R_df = dataset.loc[dataset['labels'] == 3]\n",
    "U2R_df = U2R_df.sample(n=1000,random_state=1, replace=True)\n",
    "df_U2R_train, df_U2R_test = split_valid_from_train(U2R_df, 0.2)\n",
    "\n",
    "\n",
    "R2L_df = dataset.loc[dataset['labels'] == 4]\n",
    "R2L_df = R2L_df.sample(n=1000,random_state=1, replace=True)\n",
    "df_R2L_train, df_R2L_test = split_valid_from_train(R2L_df, 0.2)"
   ]
  },
  {
   "cell_type": "code",
   "execution_count": 8,
   "metadata": {
    "ExecuteTime": {
     "end_time": "2020-07-23T03:09:39.223334Z",
     "start_time": "2020-07-23T03:09:39.147955Z"
    }
   },
   "outputs": [],
   "source": [
    "#整合\n",
    "df_train = df_normal_train.append([df_DOS_train, df_PROBE_train, df_U2R_train, df_R2L_train])\n",
    "df_test = df_normal_test.append([df_DOS_test, df_PROBE_test, df_U2R_test, df_R2L_test])"
   ]
  },
  {
   "cell_type": "code",
   "execution_count": 9,
   "metadata": {
    "ExecuteTime": {
     "end_time": "2020-07-23T03:09:41.085328Z",
     "start_time": "2020-07-23T03:09:39.226136Z"
    }
   },
   "outputs": [],
   "source": [
    "#独热编码和正则化\n",
    "df_train, df_test, norm_params = data_process_full(\n",
    "    df_train, df_test\n",
    ")"
   ]
  },
  {
   "cell_type": "code",
   "execution_count": 10,
   "metadata": {
    "ExecuteTime": {
     "end_time": "2020-07-23T03:09:41.208191Z",
     "start_time": "2020-07-23T03:09:41.089001Z"
    }
   },
   "outputs": [],
   "source": [
    "#特征选择\n",
    "df_train = feature_selection(df_train)\n",
    "df_test = feature_selection(df_test)"
   ]
  },
  {
   "cell_type": "code",
   "execution_count": 11,
   "metadata": {
    "ExecuteTime": {
     "end_time": "2020-07-23T03:09:41.275466Z",
     "start_time": "2020-07-23T03:09:41.230032Z"
    }
   },
   "outputs": [
    {
     "name": "stdout",
     "output_type": "stream",
     "text": [
      "(149600, 17)\n",
      "1.0    80000\n",
      "0.0    64000\n",
      "2.0     4000\n",
      "4.0      800\n",
      "3.0      800\n",
      "Name: labels, dtype: int64\n",
      "(37400, 17)\n",
      "1.0    20000\n",
      "0.0    16000\n",
      "2.0     1000\n",
      "3.0      200\n",
      "4.0      200\n",
      "Name: labels, dtype: int64\n",
      "Index(['src_bytes', 'dst_bytes', 'logged_in', 'count', 'srv_count',\n",
      "       'same_srv_rate', 'diff_srv_rate', 'dst_host_count',\n",
      "       'dst_host_srv_count', 'dst_host_same_srv_rate',\n",
      "       'dst_host_diff_srv_rate', 'dst_host_same_src_port_rate',\n",
      "       'protocol_type_icmp', 'flag_SF', 'service_ecr_i', 'service_http',\n",
      "       'labels'],\n",
      "      dtype='object')\n"
     ]
    }
   ],
   "source": [
    "print(df_train.shape)\n",
    "print(df_train.loc[:,'labels'].value_counts())\n",
    "print(df_test.shape)\n",
    "print(df_test.loc[:,'labels'].value_counts())\n",
    "print(df_train.columns)\n",
    "\n"
   ]
  },
  {
   "cell_type": "code",
   "execution_count": 12,
   "metadata": {
    "ExecuteTime": {
     "end_time": "2020-07-23T03:09:41.794647Z",
     "start_time": "2020-07-23T03:09:41.279248Z"
    }
   },
   "outputs": [],
   "source": [
    "#分离标签\n",
    "df_train_X, df_train_y = labels_separate(df_train)\n",
    "df_test_X, df_test_y = labels_separate(df_test)"
   ]
  },
  {
   "cell_type": "code",
   "execution_count": 13,
   "metadata": {
    "ExecuteTime": {
     "end_time": "2020-07-23T03:23:50.658796Z",
     "start_time": "2020-07-23T03:09:41.797627Z"
    }
   },
   "outputs": [],
   "source": [
    "thresholds = get_score_threshold(df_train_X, df_train_y)"
   ]
  },
  {
   "cell_type": "code",
   "execution_count": 14,
   "metadata": {
    "ExecuteTime": {
     "end_time": "2020-07-23T03:23:50.695685Z",
     "start_time": "2020-07-23T03:23:50.663225Z"
    }
   },
   "outputs": [
    {
     "name": "stdout",
     "output_type": "stream",
     "text": [
      "[-0.8954438339142264, -0.8548290641269687, -1.0675659894957632, -0.945461318612093, -0.7859629842535897]\n"
     ]
    }
   ],
   "source": [
    "print(thresholds)"
   ]
  },
  {
   "cell_type": "code",
   "execution_count": 15,
   "metadata": {
    "ExecuteTime": {
     "end_time": "2020-07-23T04:38:06.381328Z",
     "start_time": "2020-07-23T03:23:50.700012Z"
    }
   },
   "outputs": [],
   "source": [
    "df_train_X = create_distribution_score(df_train_X, thresholds)"
   ]
  },
  {
   "cell_type": "code",
   "execution_count": 16,
   "metadata": {
    "ExecuteTime": {
     "end_time": "2020-07-23T04:54:21.919627Z",
     "start_time": "2020-07-23T04:38:06.384150Z"
    }
   },
   "outputs": [],
   "source": [
    "df_test_X = create_distribution_score(df_test_X, thresholds)"
   ]
  },
  {
   "cell_type": "code",
   "execution_count": 17,
   "metadata": {
    "ExecuteTime": {
     "end_time": "2020-07-23T04:54:21.928605Z",
     "start_time": "2020-07-23T04:54:21.922196Z"
    }
   },
   "outputs": [],
   "source": [
    "df_train_y = df_train_y.astype('int')\n",
    "df_test_y = df_test_y.astype('int')"
   ]
  },
  {
   "cell_type": "code",
   "execution_count": 18,
   "metadata": {
    "ExecuteTime": {
     "end_time": "2020-07-23T04:54:21.938913Z",
     "start_time": "2020-07-23T04:54:21.931738Z"
    }
   },
   "outputs": [
    {
     "name": "stdout",
     "output_type": "stream",
     "text": [
      "(149600, 21)\n",
      "(37400, 21)\n",
      "(149600,)\n"
     ]
    }
   ],
   "source": [
    "print(df_train_X.shape)\n",
    "print(df_test_X.shape)\n",
    "print(df_train_y.shape)"
   ]
  },
  {
   "cell_type": "code",
   "execution_count": 19,
   "metadata": {
    "ExecuteTime": {
     "end_time": "2020-07-23T04:54:21.953687Z",
     "start_time": "2020-07-23T04:54:21.941363Z"
    }
   },
   "outputs": [],
   "source": [
    "import tensorflow as tf\n",
    "from tensorflow import keras\n",
    "from sklearn.metrics import f1_score, precision_score, recall_score\n",
    "from sklearn.metrics import classification_report\n",
    "from tensorflow.keras.layers import BatchNormalization\n",
    "#超参数设置\n",
    "learning_rate = 0.001\n",
    "epochs = 10\n",
    "batch_size = 256\n",
    "activation = tf.nn.relu         #非输出层下的激活函数"
   ]
  },
  {
   "cell_type": "code",
   "execution_count": 104,
   "metadata": {
    "ExecuteTime": {
     "end_time": "2020-07-24T01:56:07.861369Z",
     "start_time": "2020-07-24T01:52:34.942101Z"
    }
   },
   "outputs": [
    {
     "name": "stdout",
     "output_type": "stream",
     "text": [
      "_________________________________________________________________\n",
      "Layer (type)                 Output Shape              Param #   \n",
      "=================================================================\n",
      "dense_60 (Dense)             (None, 21)                462       \n",
      "_________________________________________________________________\n",
      "batch_normalization_v1_45 (B (None, 21)                84        \n",
      "_________________________________________________________________\n",
      "dense_61 (Dense)             (None, 64)                1408      \n",
      "_________________________________________________________________\n",
      "batch_normalization_v1_46 (B (None, 64)                256       \n",
      "_________________________________________________________________\n",
      "dense_62 (Dense)             (None, 32)                2080      \n",
      "_________________________________________________________________\n",
      "batch_normalization_v1_47 (B (None, 32)                128       \n",
      "_________________________________________________________________\n",
      "dense_63 (Dense)             (None, 16)                528       \n",
      "_________________________________________________________________\n",
      "batch_normalization_v1_48 (B (None, 16)                64        \n",
      "_________________________________________________________________\n",
      "dense_64 (Dense)             (None, 5)                 85        \n",
      "=================================================================\n",
      "Total params: 5,095\n",
      "Trainable params: 4,829\n",
      "Non-trainable params: 266\n",
      "_________________________________________________________________\n",
      "Train on 149600 samples, validate on 37400 samples\n",
      "Epoch 1/10\n",
      "149504/149600 [============================>.] - ETA: 0s - loss: 0.1659 - acc: 0.9653\n",
      "Epoch 00001: val_loss improved from inf to 0.07124, saving model to ./KDD_model.h5\n",
      "149600/149600 [==============================] - 33s 219us/sample - loss: 0.1659 - acc: 0.9653 - val_loss: 0.0712 - val_acc: 0.9833\n",
      "Epoch 2/10\n",
      "149504/149600 [============================>.] - ETA: 0s - loss: 0.0639 - acc: 0.9842\n",
      "Epoch 00002: val_loss improved from 0.07124 to 0.06126, saving model to ./KDD_model.h5\n",
      "149600/149600 [==============================] - 18s 119us/sample - loss: 0.0639 - acc: 0.9841 - val_loss: 0.0613 - val_acc: 0.9835\n",
      "Epoch 3/10\n",
      "148992/149600 [============================>.] - ETA: 0s - loss: 0.0557 - acc: 0.9845\n",
      "Epoch 00003: val_loss improved from 0.06126 to 0.05557, saving model to ./KDD_model.h5\n",
      "149600/149600 [==============================] - 17s 115us/sample - loss: 0.0557 - acc: 0.9846 - val_loss: 0.0556 - val_acc: 0.9845\n",
      "Epoch 4/10\n",
      "148736/149600 [============================>.] - ETA: 0s - loss: 0.0462 - acc: 0.9870\n",
      "Epoch 00004: val_loss improved from 0.05557 to 0.05086, saving model to ./KDD_model.h5\n",
      "149600/149600 [==============================] - 20s 132us/sample - loss: 0.0464 - acc: 0.9869 - val_loss: 0.0509 - val_acc: 0.9855\n",
      "Epoch 5/10\n",
      "148736/149600 [============================>.] - ETA: 0s - loss: 0.0432 - acc: 0.9875\n",
      "Epoch 00005: val_loss did not improve from 0.05086\n",
      "149600/149600 [==============================] - 19s 125us/sample - loss: 0.0434 - acc: 0.9874 - val_loss: 0.0804 - val_acc: 0.9815\n",
      "Epoch 6/10\n",
      "149248/149600 [============================>.] - ETA: 0s - loss: 0.0400 - acc: 0.9883\n",
      "Epoch 00006: val_loss improved from 0.05086 to 0.04727, saving model to ./KDD_model.h5\n",
      "149600/149600 [==============================] - 18s 119us/sample - loss: 0.0400 - acc: 0.9883 - val_loss: 0.0473 - val_acc: 0.9857\n",
      "Epoch 7/10\n",
      "149248/149600 [============================>.] - ETA: 0s - loss: 0.0394 - acc: 0.9888\n",
      "Epoch 00007: val_loss did not improve from 0.04727\n",
      "149600/149600 [==============================] - 18s 118us/sample - loss: 0.0394 - acc: 0.9888 - val_loss: 0.0522 - val_acc: 0.9859\n",
      "Epoch 8/10\n",
      "149504/149600 [============================>.] - ETA: 0s - loss: 0.0385 - acc: 0.9887\n",
      "Epoch 00008: val_loss improved from 0.04727 to 0.03761, saving model to ./KDD_model.h5\n",
      "149600/149600 [==============================] - 17s 117us/sample - loss: 0.0385 - acc: 0.9887 - val_loss: 0.0376 - val_acc: 0.9890\n",
      "Epoch 9/10\n",
      "148992/149600 [============================>.] - ETA: 0s - loss: 0.0371 - acc: 0.9893\n",
      "Epoch 00009: val_loss did not improve from 0.03761\n",
      "149600/149600 [==============================] - 17s 114us/sample - loss: 0.0371 - acc: 0.9893 - val_loss: 0.0530 - val_acc: 0.9853\n",
      "Epoch 10/10\n",
      "149248/149600 [============================>.] - ETA: 0s - loss: 0.0363 - acc: 0.9893\n",
      "Epoch 00010: val_loss did not improve from 0.03761\n",
      "149600/149600 [==============================] - 18s 118us/sample - loss: 0.0363 - acc: 0.9893 - val_loss: 0.0377 - val_acc: 0.9887\n"
     ]
    }
   ],
   "source": [
    "#用于记录训练中每个batch的loss\n",
    "class LossHistory(keras.callbacks.Callback):\n",
    "    def on_train_begin(self, logs={}):\n",
    "        self.train_losses_per_batch = []\n",
    "        self.train_losses_per_epoch = []\n",
    "        self.valid_losses_per_epoch = []\n",
    "        \n",
    "    def on_batch_end(self, batch, logs={}):\n",
    "        self.train_losses_per_batch.append(logs.get('loss'))\n",
    "        \n",
    "    def on_epoch_end(self, epoch, logs={}):\n",
    "        self.train_losses_per_epoch.append(logs.get('loss'))\n",
    "        self.valid_losses_per_epoch.append(logs.get('val_loss')*4)   #验证集由于只有1/4的训练集大小所以损失要乘以4\n",
    "#用于记录训练中每个epoch的召回率，精确度以及f1 score\n",
    "class Metrics(keras.callbacks.Callback):\n",
    "    def on_train_begin(self, logs={}):\n",
    "        self.val_f1s = []\n",
    "        self.val_recalls = []\n",
    "        self.val_precisions = []\n",
    "        return\n",
    "\n",
    "    def on_epoch_end(self, epoch, logs={}):\n",
    "        predictions = self.model.predict(df_test_X)\n",
    "        val_predict = np.argmax(predictions, axis=1)     #把独热编码转化成数字\n",
    "        val_targ = df_test_y\n",
    "        _val_recall = recall_score(val_targ, val_predict, average='macro')\n",
    "        _val_precision = precision_score(val_targ, val_predict, average='macro')\n",
    "        _val_f1 = f1_score(val_targ, val_predict, average='macro')\n",
    "        self.val_f1s.append(_val_f1)\n",
    "        self.val_recalls.append(_val_recall)\n",
    "        self.val_precisions.append(_val_precision)\n",
    "        return       \n",
    "#回调：模型跑完epoch后选取最好的epoch模型保存，选取标准为验证集损失最小的那一个\n",
    "checkpoint = keras.callbacks.ModelCheckpoint(      \n",
    "    \"./KDD_model.h5\",\n",
    "    monitor='val_loss',\n",
    "    verbose=1,\n",
    "    save_best_only=True,\n",
    "    mode='min',\n",
    "    period=1\n",
    ")\n",
    "def simple_model():\n",
    "    model = keras.Sequential([\n",
    "        keras.layers.Dense(df_train_X.shape[1], activation=activation, input_shape=(df_train_X.shape[1],)),\n",
    "        BatchNormalization(),\n",
    "        keras.layers.Dense(64, activation=activation),\n",
    "        BatchNormalization(),\n",
    "        keras.layers.Dense(32, activation=activation),\n",
    "        BatchNormalization(),\n",
    "        keras.layers.Dense(16, activation=activation),\n",
    "        BatchNormalization(),\n",
    "        keras.layers.Dense(5,activation=tf.nn.softmax)\n",
    "    ])\n",
    "    model.compile(optimizer =tf.train.AdamOptimizer(learning_rate=learning_rate),\n",
    "        loss=\"sparse_categorical_crossentropy\",\n",
    "        metrics=['accuracy']\n",
    "    )\n",
    "    model.summary()\n",
    "    history = LossHistory()\n",
    "    metrics = Metrics()\n",
    "    model.fit(\n",
    "        df_train_X,df_train_y,\n",
    "        validation_data=[df_test_X, df_test_y],\n",
    "        batch_size=batch_size,epochs=epochs,\n",
    "        callbacks=[history, metrics, checkpoint]\n",
    "    )   \n",
    "    return model,history,metrics\n",
    "model,history,metrics = simple_model()"
   ]
  },
  {
   "cell_type": "code",
   "execution_count": 105,
   "metadata": {
    "ExecuteTime": {
     "end_time": "2020-07-24T01:56:24.468896Z",
     "start_time": "2020-07-24T01:56:23.084769Z"
    }
   },
   "outputs": [
    {
     "data": {
      "image/png": "[encoded data removed]",
      "text/plain": [
       "<Figure size 1080x288 with 1 Axes>"
      ]
     },
     "metadata": {
      "needs_background": "light"
     },
     "output_type": "display_data"
    },
    {
     "data": {
      "image/png": "[encoded data removed]",
      "text/plain": [
       "<Figure size 1080x288 with 1 Axes>"
      ]
     },
     "metadata": {
      "needs_background": "light"
     },
     "output_type": "display_data"
    }
   ],
   "source": [
    "#绘制训练集在batch下的损失变化\n",
    "plt.title('The Cost with batchs runs',fontsize=30)\n",
    "plt.xlabel('batchs',fontsize=20)\n",
    "plt.ylabel('Cost',fontsize=20)\n",
    "plt.xticks(fontsize=20)\n",
    "plt.yticks(fontsize=20)\n",
    "plt.plot(history.train_losses_per_batch)\n",
    "plt.gcf().set_size_inches(15,4)\n",
    "plt.show()\n",
    "#绘制训练集与验证集在epoch下的损失比较\n",
    "plt.title('The Cost with epoches runs',fontsize=30)\n",
    "plt.xlabel('epoch',fontsize=20)\n",
    "plt.ylabel('Cost',fontsize=20)\n",
    "plt.xticks(fontsize=20)\n",
    "plt.yticks(fontsize=20)\n",
    "plt.plot(history.train_losses_per_epoch, '-o', label='train')\n",
    "plt.plot(history.valid_losses_per_epoch, '-o', label='valid')\n",
    "plt.legend(fontsize=30,loc='upper right')\n",
    "plt.gcf().set_size_inches(15,4)\n",
    "plt.show()"
   ]
  },
  {
   "cell_type": "code",
   "execution_count": 106,
   "metadata": {
    "ExecuteTime": {
     "end_time": "2020-07-24T01:57:15.099510Z",
     "start_time": "2020-07-24T01:56:37.553645Z"
    }
   },
   "outputs": [
    {
     "name": "stdout",
     "output_type": "stream",
     "text": [
      "37400/37400 [==============================] - 11s 290us/sample - loss: 0.0376 - acc: 0.9890\n",
      "Test accuracy: 0.9890107\n"
     ]
    }
   ],
   "source": [
    "#选取验证集准确率最高的模型\n",
    "model = keras.models.load_model('./KDD_model.h5') \n",
    "model.compile(optimizer =tf.train.AdamOptimizer(learning_rate=learning_rate),\n",
    "    loss=\"sparse_categorical_crossentropy\",\n",
    "    metrics=['accuracy']\n",
    ")\n",
    "#测试集的正确率\n",
    "def use_evaluate_test():\n",
    "    test_loss,test_acc = model.evaluate(df_test_X,df_test_y)\n",
    "    print('Test accuracy:', test_acc)\n",
    "    return \n",
    "use_evaluate_test()"
   ]
  },
  {
   "cell_type": "code",
   "execution_count": 107,
   "metadata": {
    "ExecuteTime": {
     "end_time": "2020-07-24T01:57:38.785652Z",
     "start_time": "2020-07-24T01:57:28.246158Z"
    }
   },
   "outputs": [
    {
     "name": "stdout",
     "output_type": "stream",
     "text": [
      "              precision    recall  f1-score   support\n",
      "\n",
      "      normal       0.98      1.00      0.99     16000\n",
      "         DoS       1.00      1.00      1.00     20000\n",
      "       PROBE       0.96      0.95      0.95      1000\n",
      "         U2R       0.78      0.57      0.66       200\n",
      "         R2L       0.97      0.20      0.33       200\n",
      "\n",
      "   micro avg       0.99      0.99      0.99     37400\n",
      "   macro avg       0.94      0.74      0.78     37400\n",
      "weighted avg       0.99      0.99      0.99     37400\n",
      "\n"
     ]
    }
   ],
   "source": [
    "predictions = model.predict(df_test_X)\n",
    "print(classification_report(df_test_y, np.argmax(predictions, axis=1) , target_names=labelList))"
   ]
  },
  {
   "cell_type": "code",
   "execution_count": 24,
   "metadata": {
    "ExecuteTime": {
     "end_time": "2020-07-23T04:55:10.436585Z",
     "start_time": "2020-07-23T04:55:10.430096Z"
    }
   },
   "outputs": [],
   "source": [
    "##############"
   ]
  },
  {
   "cell_type": "code",
   "execution_count": 25,
   "metadata": {
    "ExecuteTime": {
     "end_time": "2020-07-23T04:55:11.222805Z",
     "start_time": "2020-07-23T04:55:10.442646Z"
    }
   },
   "outputs": [],
   "source": [
    "from sklearn.metrics import accuracy_score\n",
    "from sklearn.tree import DecisionTreeClassifier\n",
    "\n",
    "\n",
    "# 运行程序\n",
    "clf = DecisionTreeClassifier(criterion='entropy', min_samples_leaf=3)\n",
    "dt_clf = clf.fit(df_train_X, df_train_y)"
   ]
  },
  {
   "cell_type": "code",
   "execution_count": 26,
   "metadata": {
    "ExecuteTime": {
     "end_time": "2020-07-23T04:55:11.240155Z",
     "start_time": "2020-07-23T04:55:11.224799Z"
    }
   },
   "outputs": [
    {
     "name": "stdout",
     "output_type": "stream",
     "text": [
      "[0 0 0 ... 0 4 0]\n",
      "0.9954812834224599\n"
     ]
    }
   ],
   "source": [
    "predictions = dt_clf.predict(df_test_X)\n",
    "print(predictions)\n",
    "print(accuracy_score(df_test_y, predictions))"
   ]
  },
  {
   "cell_type": "code",
   "execution_count": 39,
   "metadata": {
    "ExecuteTime": {
     "end_time": "2020-07-23T07:02:24.883494Z",
     "start_time": "2020-07-23T07:02:06.713431Z"
    }
   },
   "outputs": [
    {
     "name": "stdout",
     "output_type": "stream",
     "text": [
      "0.9954010695187165\n",
      "              precision    recall  f1-score   support\n",
      "\n",
      "      normal       0.99      1.00      0.99     16000\n",
      "         DoS       1.00      1.00      1.00     20000\n",
      "       PROBE       0.99      0.98      0.99      1000\n",
      "         U2R       0.92      0.96      0.94       200\n",
      "         R2L       0.96      0.49      0.65       200\n",
      "\n",
      "   micro avg       1.00      1.00      1.00     37400\n",
      "   macro avg       0.97      0.89      0.91     37400\n",
      "weighted avg       1.00      1.00      0.99     37400\n",
      "\n",
      "0.9955347593582887\n",
      "              precision    recall  f1-score   support\n",
      "\n",
      "      normal       0.99      1.00      0.99     16000\n",
      "         DoS       1.00      1.00      1.00     20000\n",
      "       PROBE       0.99      0.98      0.98      1000\n",
      "         U2R       0.93      0.96      0.95       200\n",
      "         R2L       0.97      0.50      0.66       200\n",
      "\n",
      "   micro avg       1.00      1.00      1.00     37400\n",
      "   macro avg       0.98      0.89      0.92     37400\n",
      "weighted avg       1.00      1.00      1.00     37400\n",
      "\n"
     ]
    }
   ],
   "source": [
    "score = 0\n",
    "for i in range(5):\n",
    "    clf = DecisionTreeClassifier(criterion='entropy', min_samples_leaf=3)\n",
    "    clf.fit(df_train_X, df_train_y)\n",
    "    y_pred = clf.predict(df_test_X)\n",
    "    result = clf.score(df_test_X, df_test_y)\n",
    "    if(score < result):\n",
    "        score = result\n",
    "        print(score)\n",
    "        print(classification_report(df_test_y, y_pred, target_names=labelList))\n",
    "        "
   ]
  },
  {
   "cell_type": "code",
   "execution_count": 40,
   "metadata": {
    "ExecuteTime": {
     "end_time": "2020-07-23T07:04:55.270519Z",
     "start_time": "2020-07-23T07:04:35.871649Z"
    }
   },
   "outputs": [
    {
     "name": "stdout",
     "output_type": "stream",
     "text": [
      "0.9947326203208556\n",
      "              precision    recall  f1-score   support\n",
      "\n",
      "      normal       0.99      1.00      0.99     16000\n",
      "         DoS       1.00      1.00      1.00     20000\n",
      "       PROBE       0.98      0.97      0.98      1000\n",
      "         U2R       0.91      0.96      0.93       200\n",
      "         R2L       0.95      0.49      0.65       200\n",
      "\n",
      "   micro avg       0.99      0.99      0.99     37400\n",
      "   macro avg       0.97      0.88      0.91     37400\n",
      "weighted avg       0.99      0.99      0.99     37400\n",
      "\n",
      "0.994812834224599\n",
      "              precision    recall  f1-score   support\n",
      "\n",
      "      normal       0.99      1.00      0.99     16000\n",
      "         DoS       1.00      1.00      1.00     20000\n",
      "       PROBE       0.98      0.97      0.98      1000\n",
      "         U2R       0.91      0.95      0.93       200\n",
      "         R2L       0.97      0.49      0.65       200\n",
      "\n",
      "   micro avg       0.99      0.99      0.99     37400\n",
      "   macro avg       0.97      0.88      0.91     37400\n",
      "weighted avg       0.99      0.99      0.99     37400\n",
      "\n",
      "0.9948663101604278\n",
      "              precision    recall  f1-score   support\n",
      "\n",
      "      normal       0.99      1.00      0.99     16000\n",
      "         DoS       1.00      1.00      1.00     20000\n",
      "       PROBE       0.98      0.97      0.98      1000\n",
      "         U2R       0.92      0.96      0.94       200\n",
      "         R2L       0.96      0.49      0.65       200\n",
      "\n",
      "   micro avg       0.99      0.99      0.99     37400\n",
      "   macro avg       0.97      0.88      0.91     37400\n",
      "weighted avg       0.99      0.99      0.99     37400\n",
      "\n",
      "0.9948930481283422\n",
      "              precision    recall  f1-score   support\n",
      "\n",
      "      normal       0.99      1.00      0.99     16000\n",
      "         DoS       1.00      1.00      1.00     20000\n",
      "       PROBE       0.98      0.97      0.98      1000\n",
      "         U2R       0.91      0.96      0.94       200\n",
      "         R2L       0.97      0.49      0.65       200\n",
      "\n",
      "   micro avg       0.99      0.99      0.99     37400\n",
      "   macro avg       0.97      0.88      0.91     37400\n",
      "weighted avg       0.99      0.99      0.99     37400\n",
      "\n",
      "0.9949465240641712\n",
      "              precision    recall  f1-score   support\n",
      "\n",
      "      normal       0.99      1.00      0.99     16000\n",
      "         DoS       1.00      1.00      1.00     20000\n",
      "       PROBE       0.98      0.97      0.98      1000\n",
      "         U2R       0.92      0.96      0.94       200\n",
      "         R2L       0.96      0.49      0.65       200\n",
      "\n",
      "   micro avg       0.99      0.99      0.99     37400\n",
      "   macro avg       0.97      0.88      0.91     37400\n",
      "weighted avg       0.99      0.99      0.99     37400\n",
      "\n"
     ]
    }
   ],
   "source": [
    "score = 0\n",
    "for i in range(5):\n",
    "    clf = DecisionTreeClassifier(criterion='gini', min_samples_leaf=3)\n",
    "    clf.fit(df_train_X, df_train_y)\n",
    "    y_pred = clf.predict(df_test_X)\n",
    "    result = clf.score(df_test_X, df_test_y)\n",
    "    if(score < result):\n",
    "        score = result\n",
    "        print(score)\n",
    "        print(classification_report(df_test_y, y_pred, target_names=labelList))\n",
    "        "
   ]
  },
  {
   "cell_type": "code",
   "execution_count": 27,
   "metadata": {
    "ExecuteTime": {
     "end_time": "2020-07-23T04:55:39.954458Z",
     "start_time": "2020-07-23T04:55:11.243804Z"
    }
   },
   "outputs": [
    {
     "name": "stderr",
     "output_type": "stream",
     "text": [
      "/opt/conda/lib/python3.7/site-packages/sklearn/ensemble/forest.py:246: FutureWarning: The default value of n_estimators will change from 10 in version 0.20 to 100 in 0.22.\n",
      "  \"10 in version 0.20 to 100 in 0.22.\", FutureWarning)\n"
     ]
    },
    {
     "name": "stdout",
     "output_type": "stream",
     "text": [
      "0.9956417112299465\n",
      "              precision    recall  f1-score   support\n",
      "\n",
      "      normal       0.99      1.00      1.00     16000\n",
      "         DoS       1.00      1.00      1.00     20000\n",
      "       PROBE       0.99      0.97      0.98      1000\n",
      "         U2R       0.98      0.98      0.98       200\n",
      "         R2L       0.98      0.48      0.65       200\n",
      "\n",
      "   micro avg       1.00      1.00      1.00     37400\n",
      "   macro avg       0.99      0.89      0.92     37400\n",
      "weighted avg       1.00      1.00      1.00     37400\n",
      "\n"
     ]
    },
    {
     "name": "stderr",
     "output_type": "stream",
     "text": [
      "/opt/conda/lib/python3.7/site-packages/sklearn/ensemble/forest.py:246: FutureWarning: The default value of n_estimators will change from 10 in version 0.20 to 100 in 0.22.\n",
      "  \"10 in version 0.20 to 100 in 0.22.\", FutureWarning)\n",
      "/opt/conda/lib/python3.7/site-packages/sklearn/ensemble/forest.py:246: FutureWarning: The default value of n_estimators will change from 10 in version 0.20 to 100 in 0.22.\n",
      "  \"10 in version 0.20 to 100 in 0.22.\", FutureWarning)\n"
     ]
    },
    {
     "name": "stdout",
     "output_type": "stream",
     "text": [
      "0.9957219251336898\n",
      "              precision    recall  f1-score   support\n",
      "\n",
      "      normal       0.99      1.00      1.00     16000\n",
      "         DoS       1.00      1.00      1.00     20000\n",
      "       PROBE       0.99      0.98      0.98      1000\n",
      "         U2R       0.99      0.99      0.99       200\n",
      "         R2L       0.94      0.48      0.64       200\n",
      "\n",
      "   micro avg       1.00      1.00      1.00     37400\n",
      "   macro avg       0.98      0.89      0.92     37400\n",
      "weighted avg       1.00      1.00      1.00     37400\n",
      "\n"
     ]
    },
    {
     "name": "stderr",
     "output_type": "stream",
     "text": [
      "/opt/conda/lib/python3.7/site-packages/sklearn/ensemble/forest.py:246: FutureWarning: The default value of n_estimators will change from 10 in version 0.20 to 100 in 0.22.\n",
      "  \"10 in version 0.20 to 100 in 0.22.\", FutureWarning)\n",
      "/opt/conda/lib/python3.7/site-packages/sklearn/ensemble/forest.py:246: FutureWarning: The default value of n_estimators will change from 10 in version 0.20 to 100 in 0.22.\n",
      "  \"10 in version 0.20 to 100 in 0.22.\", FutureWarning)\n",
      "/opt/conda/lib/python3.7/site-packages/sklearn/ensemble/forest.py:246: FutureWarning: The default value of n_estimators will change from 10 in version 0.20 to 100 in 0.22.\n",
      "  \"10 in version 0.20 to 100 in 0.22.\", FutureWarning)\n",
      "/opt/conda/lib/python3.7/site-packages/sklearn/ensemble/forest.py:246: FutureWarning: The default value of n_estimators will change from 10 in version 0.20 to 100 in 0.22.\n",
      "  \"10 in version 0.20 to 100 in 0.22.\", FutureWarning)\n",
      "/opt/conda/lib/python3.7/site-packages/sklearn/ensemble/forest.py:246: FutureWarning: The default value of n_estimators will change from 10 in version 0.20 to 100 in 0.22.\n",
      "  \"10 in version 0.20 to 100 in 0.22.\", FutureWarning)\n",
      "/opt/conda/lib/python3.7/site-packages/sklearn/ensemble/forest.py:246: FutureWarning: The default value of n_estimators will change from 10 in version 0.20 to 100 in 0.22.\n",
      "  \"10 in version 0.20 to 100 in 0.22.\", FutureWarning)\n",
      "/opt/conda/lib/python3.7/site-packages/sklearn/ensemble/forest.py:246: FutureWarning: The default value of n_estimators will change from 10 in version 0.20 to 100 in 0.22.\n",
      "  \"10 in version 0.20 to 100 in 0.22.\", FutureWarning)\n",
      "/opt/conda/lib/python3.7/site-packages/sklearn/ensemble/forest.py:246: FutureWarning: The default value of n_estimators will change from 10 in version 0.20 to 100 in 0.22.\n",
      "  \"10 in version 0.20 to 100 in 0.22.\", FutureWarning)\n",
      "/opt/conda/lib/python3.7/site-packages/sklearn/ensemble/forest.py:246: FutureWarning: The default value of n_estimators will change from 10 in version 0.20 to 100 in 0.22.\n",
      "  \"10 in version 0.20 to 100 in 0.22.\", FutureWarning)\n",
      "/opt/conda/lib/python3.7/site-packages/sklearn/ensemble/forest.py:246: FutureWarning: The default value of n_estimators will change from 10 in version 0.20 to 100 in 0.22.\n",
      "  \"10 in version 0.20 to 100 in 0.22.\", FutureWarning)\n",
      "/opt/conda/lib/python3.7/site-packages/sklearn/ensemble/forest.py:246: FutureWarning: The default value of n_estimators will change from 10 in version 0.20 to 100 in 0.22.\n",
      "  \"10 in version 0.20 to 100 in 0.22.\", FutureWarning)\n",
      "/opt/conda/lib/python3.7/site-packages/sklearn/ensemble/forest.py:246: FutureWarning: The default value of n_estimators will change from 10 in version 0.20 to 100 in 0.22.\n",
      "  \"10 in version 0.20 to 100 in 0.22.\", FutureWarning)\n",
      "/opt/conda/lib/python3.7/site-packages/sklearn/ensemble/forest.py:246: FutureWarning: The default value of n_estimators will change from 10 in version 0.20 to 100 in 0.22.\n",
      "  \"10 in version 0.20 to 100 in 0.22.\", FutureWarning)\n",
      "/opt/conda/lib/python3.7/site-packages/sklearn/ensemble/forest.py:246: FutureWarning: The default value of n_estimators will change from 10 in version 0.20 to 100 in 0.22.\n",
      "  \"10 in version 0.20 to 100 in 0.22.\", FutureWarning)\n",
      "/opt/conda/lib/python3.7/site-packages/sklearn/ensemble/forest.py:246: FutureWarning: The default value of n_estimators will change from 10 in version 0.20 to 100 in 0.22.\n",
      "  \"10 in version 0.20 to 100 in 0.22.\", FutureWarning)\n",
      "/opt/conda/lib/python3.7/site-packages/sklearn/ensemble/forest.py:246: FutureWarning: The default value of n_estimators will change from 10 in version 0.20 to 100 in 0.22.\n",
      "  \"10 in version 0.20 to 100 in 0.22.\", FutureWarning)\n",
      "/opt/conda/lib/python3.7/site-packages/sklearn/ensemble/forest.py:246: FutureWarning: The default value of n_estimators will change from 10 in version 0.20 to 100 in 0.22.\n",
      "  \"10 in version 0.20 to 100 in 0.22.\", FutureWarning)\n"
     ]
    }
   ],
   "source": [
    "from sklearn.ensemble import RandomForestClassifier\n",
    "score = 0\n",
    "for i in range(5):\n",
    "    rfc = RandomForestClassifier()\n",
    "    rfc.fit(df_train_X, df_train_y)\n",
    "    y_pred = rfc.predict(df_test_X)\n",
    "    result = rfc.score(df_test_X, df_test_y)\n",
    "    if(score < result):\n",
    "        score = result\n",
    "        print(score)\n",
    "        print(classification_report(df_test_y, y_pred, target_names=labelList))\n",
    "        \n",
    "#测试集的正确率\n",
    "#测试集的各个参数"
   ]
  },
  {
   "cell_type": "code",
   "execution_count": 28,
   "metadata": {
    "ExecuteTime": {
     "end_time": "2020-07-23T05:12:48.797205Z",
     "start_time": "2020-07-23T04:55:39.958838Z"
    }
   },
   "outputs": [
    {
     "name": "stdout",
     "output_type": "stream",
     "text": [
      "0.9912566844919786\n",
      "              precision    recall  f1-score   support\n",
      "\n",
      "      normal       0.98      1.00      0.99     16000\n",
      "         DoS       1.00      1.00      1.00     20000\n",
      "       PROBE       0.96      0.96      0.96      1000\n",
      "         U2R       0.86      0.74      0.80       200\n",
      "         R2L       0.92      0.22      0.35       200\n",
      "\n",
      "   micro avg       0.99      0.99      0.99     37400\n",
      "   macro avg       0.95      0.78      0.82     37400\n",
      "weighted avg       0.99      0.99      0.99     37400\n",
      "\n"
     ]
    }
   ],
   "source": [
    "from xgboost import XGBClassifier\n",
    "xgb = XGBClassifier()\n",
    "\n",
    "score = 0\n",
    "for i in range(5):\n",
    "    xgb = XGBClassifier()\n",
    "    xgb.fit(df_train_X, df_train_y)\n",
    "    y_pred = xgb.predict(df_test_X)\n",
    "    result = xgb.score(df_test_X, df_test_y)\n",
    "    if(score < result):\n",
    "        score = result\n",
    "        print(score)\n",
    "        print(classification_report(df_test_y, y_pred, target_names=labelList))\n",
    "        \n",
    "#测试集的正确率\n",
    "#测试集的各个参数"
   ]
  },
  {
   "cell_type": "code",
   "execution_count": 29,
   "metadata": {
    "ExecuteTime": {
     "end_time": "2020-07-23T05:16:53.518439Z",
     "start_time": "2020-07-23T05:12:48.800628Z"
    }
   },
   "outputs": [
    {
     "name": "stderr",
     "output_type": "stream",
     "text": [
      "/opt/conda/lib/python3.7/site-packages/sklearn/svm/base.py:196: FutureWarning: The default value of gamma will change from 'auto' to 'scale' in version 0.22 to account better for unscaled features. Set gamma explicitly to 'auto' or 'scale' to avoid this warning.\n",
      "  \"avoid this warning.\", FutureWarning)\n"
     ]
    },
    {
     "data": {
      "text/plain": [
       "SVC(C=1.0, cache_size=200, class_weight=None, coef0=0.0,\n",
       "  decision_function_shape='ovr', degree=3, gamma='auto_deprecated',\n",
       "  kernel='rbf', max_iter=-1, probability=False, random_state=None,\n",
       "  shrinking=True, tol=0.001, verbose=False)"
      ]
     },
     "execution_count": 29,
     "metadata": {},
     "output_type": "execute_result"
    }
   ],
   "source": [
    "from sklearn.svm import SVC\n",
    "clf = SVC()\n",
    "clf.fit(df_train_X, df_train_y) \n"
   ]
  },
  {
   "cell_type": "code",
   "execution_count": 30,
   "metadata": {
    "ExecuteTime": {
     "end_time": "2020-07-23T05:17:06.613580Z",
     "start_time": "2020-07-23T05:16:53.523060Z"
    }
   },
   "outputs": [
    {
     "name": "stdout",
     "output_type": "stream",
     "text": [
      "[0 0 0 ... 0 0 0]\n",
      "0.9813636363636363\n",
      "              precision    recall  f1-score   support\n",
      "\n",
      "      normal       0.97      1.00      0.98     16000\n",
      "         DoS       1.00      0.99      0.99     20000\n",
      "       PROBE       0.93      0.88      0.90      1000\n",
      "         U2R       0.73      0.40      0.52       200\n",
      "         R2L       0.00      0.00      0.00       200\n",
      "\n",
      "   micro avg       0.98      0.98      0.98     37400\n",
      "   macro avg       0.73      0.65      0.68     37400\n",
      "weighted avg       0.98      0.98      0.98     37400\n",
      "\n"
     ]
    },
    {
     "name": "stderr",
     "output_type": "stream",
     "text": [
      "/opt/conda/lib/python3.7/site-packages/sklearn/metrics/classification.py:1143: UndefinedMetricWarning: Precision and F-score are ill-defined and being set to 0.0 in labels with no predicted samples.\n",
      "  'precision', 'predicted', average, warn_for)\n"
     ]
    }
   ],
   "source": [
    "predictions = clf.predict(df_test_X)\n",
    "print(predictions)\n",
    "print(accuracy_score(df_test_y, predictions))\n",
    "print(classification_report(df_test_y, predictions , target_names=labelList))"
   ]
  },
  {
   "cell_type": "code",
   "execution_count": null,
   "metadata": {},
   "outputs": [],
   "source": []
  },
  {
   "cell_type": "code",
   "execution_count": null,
   "metadata": {},
   "outputs": [],
   "source": []
  },
  {
   "cell_type": "code",
   "execution_count": null,
   "metadata": {},
   "outputs": [],
   "source": []
  }
 ],
 "metadata": {
  "kernelspec": {
   "display_name": "Python 3",
   "language": "python",
   "name": "python3"
  },
  "language_info": {
   "codemirror_mode": {
    "name": "ipython",
    "version": 3
   },
   "file_extension": ".py",
   "mimetype": "text/x-python",
   "name": "python",
   "nbconvert_exporter": "python",
   "pygments_lexer": "ipython3",
   "version": "3.7.3"
  },
  "toc": {
   "base_numbering": 1,
   "nav_menu": {},
   "number_sections": true,
   "sideBar": true,
   "skip_h1_title": false,
   "title_cell": "Table of Contents",
   "title_sidebar": "Contents",
   "toc_cell": false,
   "toc_position": {},
   "toc_section_display": true,
   "toc_window_display": false
  },
  "varInspector": {
   "cols": {
    "lenName": 16,
    "lenType": 16,
    "lenVar": 40
   },
   "kernels_config": {
    "python": {
     "delete_cmd_postfix": "",
     "delete_cmd_prefix": "del ",
     "library": "var_list.py",
     "varRefreshCmd": "print(var_dic_list())"
    },
    "r": {
     "delete_cmd_postfix": ") ",
     "delete_cmd_prefix": "rm(",
     "library": "var_list.r",
     "varRefreshCmd": "cat(var_dic_list()) "
    }
   },
   "types_to_exclude": [
    "module",
    "function",
    "builtin_function_or_method",
    "instance",
    "_Feature"
   ],
   "window_display": false
  }
 },
 "nbformat": 4,
 "nbformat_minor": 2
}
