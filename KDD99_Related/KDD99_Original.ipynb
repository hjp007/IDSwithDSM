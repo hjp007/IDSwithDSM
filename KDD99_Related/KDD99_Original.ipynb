{
 "cells": [
  {
   "cell_type": "code",
   "execution_count": 1,
   "metadata": {
    "ExecuteTime": {
     "end_time": "2020-07-24T07:43:08.248079Z",
     "start_time": "2020-07-24T07:43:00.121579Z"
    }
   },
   "outputs": [
    {
     "name": "stdout",
     "output_type": "stream",
     "text": [
      "1.13.1\n"
     ]
    }
   ],
   "source": [
    "import os\n",
    "import tensorflow as tf\n",
    "os.environ['TF_CPP_MIN_LOG_LEVEL'] = '2'  #忽略烦人的警告\n",
    "tf.logging.set_verbosity(tf.logging.ERROR)   #忽略烦人的警告\n",
    "print(tf.__version__)\n",
    "import numpy as np\n",
    "from sklearn.decomposition import PCA\n",
    "\n",
    "import pandas as pd\n",
    "from collections import Counter\n",
    "from sklearn.model_selection import train_test_split\n",
    "import pickle   #对象存储用\n",
    "\n",
    "\n",
    "from sklearn.feature_selection import RFECV\n",
    "from sklearn.ensemble import RandomForestClassifier\n",
    "from sklearn.model_selection import KFold\n",
    "from sklearn.model_selection import StratifiedKFold\n",
    "rfr = RandomForestClassifier(n_estimators=200, criterion='entropy')"
   ]
  },
  {
   "cell_type": "code",
   "execution_count": 2,
   "metadata": {
    "ExecuteTime": {
     "end_time": "2020-07-24T07:43:08.302704Z",
     "start_time": "2020-07-24T07:43:08.252455Z"
    }
   },
   "outputs": [],
   "source": [
    "def read_data():\n",
    "    \"\"\"\n",
    "        读取数据，\n",
    "        return\n",
    "            train_dataset : 训练数据 \n",
    "            test_dataset  ：测试数据\n",
    "    \"\"\"\n",
    "    input_file_dir = \".\"\n",
    "    train_file_name = \"kddcup.data_10_percent\"\n",
    "    test_file_name = \"corrected.txt\"\n",
    "    header_file_name = \"header.txt\"\n",
    "    \n",
    "    train_files = os.path.join(input_file_dir, train_file_name)\n",
    "    test_files = os.path.join(input_file_dir, test_file_name)\n",
    "    header_files = os.path.join(input_file_dir, header_file_name)\n",
    "    \n",
    "    with open(header_files, 'r') as f:\n",
    "        header = f.readline().strip().split(',')\n",
    "    train_dataset = pd.read_csv(train_files)\n",
    "    test_dataset = pd.read_csv(test_files)\n",
    "    train_dataset.columns = header\n",
    "    test_dataset.columns = header\n",
    "    dataset = train_dataset.append(test_dataset)\n",
    "    return dataset\n",
    "  \n",
    "def filter_labels(dataset):\n",
    "    dataset['labels'] = dataset['labels'].apply(labels_map)\n",
    "    return dataset\n",
    "\n",
    "def labels_map(label):\n",
    "    if(type(label) == int):      #已是数字，无需处理\n",
    "        return label\n",
    "    label = label.split('.')[0]\n",
    "    \n",
    "    DOS = ['apache2', 'back', 'land', 'mailbomb', 'neptune', 'pod', \n",
    "                  'processtable', 'smurf', 'teardrop', 'udpstorm'] #DOS 10个\n",
    "    PROBE = ['ipsweep', 'mscan', 'nmap', 'portsweep', 'saint', 'satan'] #PROBE\n",
    "    U2R = ['buffer_overflow', 'httptunnel', 'loadmodule', 'perl', 'ps', 'rootkit', 'sqlattack', 'xterm'] #U2R\n",
    "    R2L = ['ftp_write', 'guess_passwd', 'imap', 'multihop', 'named', 'phf', \n",
    "           'sendmail', 'snmpgetattack', 'snmpguess', 'spy', 'warezclient', \n",
    "           'warezmaster', 'worm', 'xlock', 'xsnoop']#R2L\n",
    "    \n",
    "    if label == 'normal':\n",
    "        return 0\n",
    "    if label in DOS:\n",
    "        return 1\n",
    "    if label in PROBE:\n",
    "        return 2\n",
    "    if label in U2R:\n",
    "        return 3\n",
    "    if label in R2L:\n",
    "        return 4\n",
    "    return -1\n",
    "\n",
    "def split_valid_from_train(train_dataset, valid_size):\n",
    "    # Method 1\n",
    "    train_dataset, valid_dataset, _, _ = train_test_split(train_dataset, train_dataset['labels'], test_size=valid_size, random_state=None)\n",
    "    # pandas中先重置index再打乱train. 否则只会调整各个行的顺序，而不会改变pandas的index\n",
    "    # 重置\n",
    "    train_dataset = train_dataset.reset_index(drop=True)\n",
    "    # 打乱\n",
    "    indexMask = np.arange(len(train_dataset))\n",
    "    for i in range(10):\n",
    "        np.random.shuffle(indexMask)\n",
    "    train_dataset = train_dataset.iloc[indexMask]\n",
    "\n",
    "    return train_dataset, valid_dataset\n",
    "\n",
    "def labels_separate(dataset):\n",
    "    y_ = dataset['labels'].values\n",
    "    temp = dataset\n",
    "    temp.drop('labels', axis=1, inplace=True)\n",
    "    x_ = temp.values\n",
    "    return x_, y_\n",
    "\n",
    "def one_hot_process(dataset):\n",
    "    # 独热编码 protocol_type\n",
    "    protocal_type_dummies = pd.get_dummies(dataset['protocol_type'], prefix='protocol_type')\n",
    "    dataset = pd.concat([dataset, protocal_type_dummies], axis=1)\n",
    "    dataset = dataset.drop(['protocol_type'], axis=1)\n",
    "    # 独热编码 flag\n",
    "    flag_dummies = pd.get_dummies(dataset['flag'], prefix='flag')\n",
    "    dataset = pd.concat([dataset, flag_dummies], axis=1)\n",
    "    dataset = dataset.drop(['flag'], axis=1)\n",
    "    # 独热编码 service     （现阶段第三列数据对接有问题，暂时直接除掉这一条数据）\n",
    "    service_dummies = pd.get_dummies(dataset['service'], prefix='service')\n",
    "    dataset = pd.concat([dataset, service_dummies], axis=1)\n",
    "    dataset = dataset.drop(['service'], axis=1)\n",
    "    return dataset\n",
    "#归一化整个数据集，注意要存储归一化的参数x_avg,x_max,x_min以便后面真实环境预处理需要\n",
    "def normalization(dataset):\n",
    "    epsilon = 0.0001   #防止除数为0\n",
    "    dataset = dataset.astype('float')\n",
    "    target_features = [\n",
    "        'duration', 'src_bytes', 'dst_bytes','wrong_fragment',\n",
    "        'urgent', 'hot','num_failed_logins', 'num_compromised', \n",
    "        'num_root', 'num_file_creations', 'num_shells', 'num_access_files', \n",
    "        'num_outbound_cmds', 'count', 'srv_count', 'dst_host_count', 'dst_host_srv_count'\n",
    "    ]\n",
    "    norm_params = pd.DataFrame(np.zeros([3, len(target_features)]), columns=target_features)  #存储归一化参数\n",
    "    \n",
    "    for feature in dataset.columns.values.tolist():    #对列（特征名）进行遍历\n",
    "        if feature in target_features:\n",
    "            x = dataset[feature]\n",
    "            x_avg = dataset[feature].mean()\n",
    "            x_max = np.max(dataset[feature])\n",
    "            x_min = np.min(dataset[feature])\n",
    "\n",
    "            norm_params[feature] = [x_avg, x_max, x_min]\n",
    "            dataset[feature] = (x - x_min) / (x_max - x_min + epsilon)\n",
    "            #dataset = dataset.drop([feature], axis=1)\n",
    "    return dataset,norm_params\n",
    "    \n",
    "def combine_dataset(trainDF, testDF):\n",
    "    all = pd.concat([trainDF, testDF], axis=0)\n",
    "    return all, (trainDF.shape[0], testDF.shape[0])\n",
    "\n",
    "def separate_dataset(comb, num_comb):  \n",
    "    train_dataset_size , test_dataset_size = num_comb\n",
    "    trainDF = comb.iloc[:train_dataset_size]\n",
    "    testDF = comb.iloc[train_dataset_size: (train_dataset_size + test_dataset_size)]\n",
    "    return trainDF, testDF\n",
    "\n",
    "   \n",
    "def data_process_full(trainDF, testDF):\n",
    "    all, num_comb = combine_dataset(trainDF, testDF)\n",
    "    all = one_hot_process(all)\n",
    "    all,norm_params = normalization(all)\n",
    "    trainDF,testDF = separate_dataset(all, num_comb)\n",
    "    return trainDF,testDF,norm_params"
   ]
  },
  {
   "cell_type": "code",
   "execution_count": 3,
   "metadata": {
    "ExecuteTime": {
     "end_time": "2020-07-24T07:43:15.539111Z",
     "start_time": "2020-07-24T07:43:08.307512Z"
    }
   },
   "outputs": [],
   "source": [
    "dataset = read_data()\n",
    "\n",
    "dataset = filter_labels(dataset)\n"
   ]
  },
  {
   "cell_type": "code",
   "execution_count": 4,
   "metadata": {
    "ExecuteTime": {
     "end_time": "2020-07-24T07:43:15.561996Z",
     "start_time": "2020-07-24T07:43:15.541988Z"
    }
   },
   "outputs": [
    {
     "name": "stdout",
     "output_type": "stream",
     "text": [
      "1    621311\n",
      "0    157869\n",
      "4     17315\n",
      "2      8273\n",
      "3       280\n",
      "Name: labels, dtype: int64\n"
     ]
    }
   ],
   "source": [
    "print(dataset.loc[:,'labels'].value_counts())"
   ]
  },
  {
   "cell_type": "code",
   "execution_count": 5,
   "metadata": {
    "ExecuteTime": {
     "end_time": "2020-07-24T07:43:16.625612Z",
     "start_time": "2020-07-24T07:43:15.567705Z"
    }
   },
   "outputs": [],
   "source": [
    "normal_df = dataset.loc[dataset['labels'] == 0]\n",
    "normal_df = normal_df.sample(n=80000,random_state=1, replace=False)\n",
    "df_normal_train, df_normal_test = split_valid_from_train(normal_df, 0.2)\n",
    "\n",
    "DOS_df = dataset.loc[dataset['labels'] == 1]\n",
    "DOS_df = DOS_df.sample(n=100000,random_state=1, replace=False)\n",
    "df_DOS_train, df_DOS_test = split_valid_from_train(DOS_df, 0.2)\n",
    "\n",
    "\n",
    "PROBE_df = dataset.loc[dataset['labels'] == 2]\n",
    "PROBE_df = PROBE_df.sample(n=5000,random_state=1, replace=True)\n",
    "df_PROBE_train, df_PROBE_test = split_valid_from_train(PROBE_df, 0.2)\n",
    "\n",
    "\n",
    "U2R_df = dataset.loc[dataset['labels'] == 3]\n",
    "U2R_df = U2R_df.sample(n=1000,random_state=1, replace=True)\n",
    "df_U2R_train, df_U2R_test = split_valid_from_train(U2R_df, 0.2)\n",
    "\n",
    "\n",
    "R2L_df = dataset.loc[dataset['labels'] == 4]\n",
    "R2L_df = R2L_df.sample(n=1000,random_state=1, replace=True)\n",
    "df_R2L_train, df_R2L_test = split_valid_from_train(R2L_df, 0.2)\n"
   ]
  },
  {
   "cell_type": "code",
   "execution_count": 6,
   "metadata": {
    "ExecuteTime": {
     "end_time": "2020-07-24T07:43:16.695345Z",
     "start_time": "2020-07-24T07:43:16.633886Z"
    }
   },
   "outputs": [],
   "source": [
    "#整合\n",
    "df_train = df_normal_train.append([df_DOS_train, df_PROBE_train, df_U2R_train, df_R2L_train])\n",
    "df_test = df_normal_test.append([df_DOS_test, df_PROBE_test, df_U2R_test, df_R2L_test])"
   ]
  },
  {
   "cell_type": "code",
   "execution_count": 7,
   "metadata": {
    "ExecuteTime": {
     "end_time": "2020-07-24T07:43:20.854678Z",
     "start_time": "2020-07-24T07:43:16.708733Z"
    }
   },
   "outputs": [],
   "source": [
    "#独热编码和正则化\n",
    "df_train, df_test, norm_params = data_process_full(\n",
    "    df_train, df_test\n",
    ")"
   ]
  },
  {
   "cell_type": "code",
   "execution_count": 8,
   "metadata": {
    "ExecuteTime": {
     "end_time": "2020-07-24T07:43:20.926907Z",
     "start_time": "2020-07-24T07:43:20.900988Z"
    }
   },
   "outputs": [
    {
     "name": "stdout",
     "output_type": "stream",
     "text": [
      "(149600, 119)\n",
      "1.0    80000\n",
      "0.0    64000\n",
      "2.0     4000\n",
      "4.0      800\n",
      "3.0      800\n",
      "Name: labels, dtype: int64\n"
     ]
    }
   ],
   "source": [
    "print(df_train.shape)\n",
    "print(df_train.loc[:,'labels'].value_counts())"
   ]
  },
  {
   "cell_type": "code",
   "execution_count": 9,
   "metadata": {
    "ExecuteTime": {
     "end_time": "2020-07-24T07:43:21.609368Z",
     "start_time": "2020-07-24T07:43:20.930833Z"
    }
   },
   "outputs": [],
   "source": [
    "#分离标签\n",
    "df_train_X, df_train_y = labels_separate(df_train)\n",
    "df_test_X, df_test_y = labels_separate(df_test)"
   ]
  },
  {
   "cell_type": "code",
   "execution_count": 10,
   "metadata": {
    "ExecuteTime": {
     "end_time": "2020-07-24T07:43:21.649489Z",
     "start_time": "2020-07-24T07:43:21.611805Z"
    }
   },
   "outputs": [],
   "source": [
    "df_train_y = df_train_y.astype('int')\n",
    "df_test_y = df_test_y.astype('int')"
   ]
  },
  {
   "cell_type": "code",
   "execution_count": 11,
   "metadata": {
    "ExecuteTime": {
     "end_time": "2020-07-24T07:43:22.268428Z",
     "start_time": "2020-07-24T07:43:21.652690Z"
    }
   },
   "outputs": [],
   "source": [
    "import tensorflow as tf\n",
    "from tensorflow import keras\n",
    "from sklearn.metrics import f1_score, precision_score, recall_score\n",
    "from sklearn.metrics import classification_report\n",
    "from tensorflow.keras.layers import BatchNormalization\n",
    "\n",
    "import matplotlib.pyplot as plt\n",
    "import matplotlib\n",
    "#超参数设置\n",
    "learning_rate = 0.001\n",
    "epochs = 10\n",
    "batch_size = 256\n",
    "activation = tf.nn.relu         #非输出层下的激活函数"
   ]
  },
  {
   "cell_type": "code",
   "execution_count": 12,
   "metadata": {
    "ExecuteTime": {
     "end_time": "2020-07-24T07:44:36.726849Z",
     "start_time": "2020-07-24T07:43:22.270936Z"
    }
   },
   "outputs": [
    {
     "name": "stdout",
     "output_type": "stream",
     "text": [
      "_________________________________________________________________\n",
      "Layer (type)                 Output Shape              Param #   \n",
      "=================================================================\n",
      "dense (Dense)                (None, 118)               14042     \n",
      "_________________________________________________________________\n",
      "batch_normalization_v1 (Batc (None, 118)               472       \n",
      "_________________________________________________________________\n",
      "dense_1 (Dense)              (None, 64)                7616      \n",
      "_________________________________________________________________\n",
      "batch_normalization_v1_1 (Ba (None, 64)                256       \n",
      "_________________________________________________________________\n",
      "dense_2 (Dense)              (None, 32)                2080      \n",
      "_________________________________________________________________\n",
      "batch_normalization_v1_2 (Ba (None, 32)                128       \n",
      "_________________________________________________________________\n",
      "dense_3 (Dense)              (None, 16)                528       \n",
      "_________________________________________________________________\n",
      "batch_normalization_v1_3 (Ba (None, 16)                64        \n",
      "_________________________________________________________________\n",
      "dense_4 (Dense)              (None, 5)                 85        \n",
      "=================================================================\n",
      "Total params: 25,271\n",
      "Trainable params: 24,811\n",
      "Non-trainable params: 460\n",
      "_________________________________________________________________\n",
      "Train on 149600 samples, validate on 37400 samples\n",
      "Epoch 1/10\n",
      "148736/149600 [============================>.] - ETA: 0s - loss: 0.1196 - acc: 0.9785\n",
      "Epoch 00001: val_loss improved from inf to 0.03257, saving model to ./KDD_model.h5\n",
      "149600/149600 [==============================] - 8s 55us/sample - loss: 0.1191 - acc: 0.9785 - val_loss: 0.0326 - val_acc: 0.9926\n",
      "Epoch 2/10\n",
      "147968/149600 [============================>.] - ETA: 0s - loss: 0.0265 - acc: 0.9935\n",
      "Epoch 00002: val_loss did not improve from 0.03257\n",
      "149600/149600 [==============================] - 7s 48us/sample - loss: 0.0265 - acc: 0.9935 - val_loss: 0.0415 - val_acc: 0.9933\n",
      "Epoch 3/10\n",
      "148224/149600 [============================>.] - ETA: 0s - loss: 0.0238 - acc: 0.9936\n",
      "Epoch 00003: val_loss improved from 0.03257 to 0.02272, saving model to ./KDD_model.h5\n",
      "149600/149600 [==============================] - 7s 46us/sample - loss: 0.0238 - acc: 0.9936 - val_loss: 0.0227 - val_acc: 0.9940\n",
      "Epoch 4/10\n",
      "148224/149600 [============================>.] - ETA: 0s - loss: 0.0223 - acc: 0.9939\n",
      "Epoch 00004: val_loss improved from 0.02272 to 0.02118, saving model to ./KDD_model.h5\n",
      "149600/149600 [==============================] - 7s 47us/sample - loss: 0.0223 - acc: 0.9939 - val_loss: 0.0212 - val_acc: 0.9942\n",
      "Epoch 5/10\n",
      "148480/149600 [============================>.] - ETA: 0s - loss: 0.0207 - acc: 0.9942\n",
      "Epoch 00005: val_loss improved from 0.02118 to 0.02022, saving model to ./KDD_model.h5\n",
      "149600/149600 [==============================] - 7s 48us/sample - loss: 0.0207 - acc: 0.9942 - val_loss: 0.0202 - val_acc: 0.9944\n",
      "Epoch 6/10\n",
      "149504/149600 [============================>.] - ETA: 0s - loss: 0.0203 - acc: 0.9942\n",
      "Epoch 00006: val_loss did not improve from 0.02022\n",
      "149600/149600 [==============================] - 7s 47us/sample - loss: 0.0203 - acc: 0.9942 - val_loss: 0.0208 - val_acc: 0.9940\n",
      "Epoch 7/10\n",
      "148480/149600 [============================>.] - ETA: 0s - loss: 0.0202 - acc: 0.9944\n",
      "Epoch 00007: val_loss did not improve from 0.02022\n",
      "149600/149600 [==============================] - 7s 47us/sample - loss: 0.0202 - acc: 0.9944 - val_loss: 0.0211 - val_acc: 0.9937\n",
      "Epoch 8/10\n",
      "149504/149600 [============================>.] - ETA: 0s - loss: 0.0197 - acc: 0.9943\n",
      "Epoch 00008: val_loss did not improve from 0.02022\n",
      "149600/149600 [==============================] - 7s 47us/sample - loss: 0.0197 - acc: 0.9943 - val_loss: 0.0212 - val_acc: 0.9946\n",
      "Epoch 9/10\n",
      "148992/149600 [============================>.] - ETA: 0s - loss: 0.0189 - acc: 0.9946\n",
      "Epoch 00009: val_loss improved from 0.02022 to 0.01820, saving model to ./KDD_model.h5\n",
      "149600/149600 [==============================] - 7s 48us/sample - loss: 0.0189 - acc: 0.9946 - val_loss: 0.0182 - val_acc: 0.9949\n",
      "Epoch 10/10\n",
      "148224/149600 [============================>.] - ETA: 0s - loss: 0.0188 - acc: 0.9947\n",
      "Epoch 00010: val_loss did not improve from 0.01820\n",
      "149600/149600 [==============================] - 7s 47us/sample - loss: 0.0189 - acc: 0.9947 - val_loss: 0.0217 - val_acc: 0.9934\n"
     ]
    }
   ],
   "source": [
    "#用于记录训练中每个batch的loss\n",
    "class LossHistory(keras.callbacks.Callback):\n",
    "    def on_train_begin(self, logs={}):\n",
    "        self.train_losses_per_batch = []\n",
    "        self.train_losses_per_epoch = []\n",
    "        self.valid_losses_per_epoch = []\n",
    "        \n",
    "    def on_batch_end(self, batch, logs={}):\n",
    "        self.train_losses_per_batch.append(logs.get('loss'))\n",
    "        \n",
    "    def on_epoch_end(self, epoch, logs={}):\n",
    "        self.train_losses_per_epoch.append(logs.get('loss'))\n",
    "        self.valid_losses_per_epoch.append(logs.get('val_loss')*4)   #验证集由于只有1/4的训练集大小所以损失要乘以4\n",
    "#用于记录训练中每个epoch的召回率，精确度以及f1 score\n",
    "class Metrics(keras.callbacks.Callback):\n",
    "    def on_train_begin(self, logs={}):\n",
    "        self.val_f1s = []\n",
    "        self.val_recalls = []\n",
    "        self.val_precisions = []\n",
    "        return\n",
    "\n",
    "    def on_epoch_end(self, epoch, logs={}):\n",
    "        predictions = self.model.predict(df_test_X)\n",
    "        val_predict = np.argmax(predictions, axis=1)     #把独热编码转化成数字\n",
    "        val_targ = df_test_y\n",
    "        _val_recall = recall_score(val_targ, val_predict, average='macro')\n",
    "        _val_precision = precision_score(val_targ, val_predict, average='macro')\n",
    "        _val_f1 = f1_score(val_targ, val_predict, average='macro')\n",
    "        self.val_f1s.append(_val_f1)\n",
    "        self.val_recalls.append(_val_recall)\n",
    "        self.val_precisions.append(_val_precision)\n",
    "        return       \n",
    "#回调：模型跑完epoch后选取最好的epoch模型保存，选取标准为验证集损失最小的那一个\n",
    "checkpoint = keras.callbacks.ModelCheckpoint(      \n",
    "    \"./KDD_model.h5\",\n",
    "    monitor='val_loss',\n",
    "    verbose=1,\n",
    "    save_best_only=True,\n",
    "    mode='min',\n",
    "    period=1\n",
    ")\n",
    "def simple_model():\n",
    "    model = keras.Sequential([\n",
    "        keras.layers.Dense(df_train_X.shape[1], activation=activation, input_shape=(df_train_X.shape[1],)),\n",
    "        BatchNormalization(),\n",
    "        keras.layers.Dense(64, activation=activation),\n",
    "        BatchNormalization(),\n",
    "        keras.layers.Dense(32, activation=activation),\n",
    "        BatchNormalization(),\n",
    "        keras.layers.Dense(16, activation=activation),\n",
    "        BatchNormalization(),\n",
    "        keras.layers.Dense(5,activation=tf.nn.softmax)\n",
    "    ])\n",
    "    model.compile(optimizer =tf.train.AdamOptimizer(learning_rate=learning_rate),\n",
    "        loss=\"sparse_categorical_crossentropy\",\n",
    "        metrics=['accuracy']\n",
    "    )\n",
    "    model.summary()\n",
    "    history = LossHistory()\n",
    "    metrics = Metrics()\n",
    "    model.fit(\n",
    "        df_train_X,df_train_y,\n",
    "        validation_data=[df_test_X, df_test_y],\n",
    "        batch_size=batch_size,epochs=epochs,\n",
    "        callbacks=[history, metrics, checkpoint]\n",
    "    )   \n",
    "    return model,history,metrics\n",
    "model,history,metrics = simple_model()"
   ]
  },
  {
   "cell_type": "code",
   "execution_count": 13,
   "metadata": {
    "ExecuteTime": {
     "end_time": "2020-07-24T07:44:37.452323Z",
     "start_time": "2020-07-24T07:44:36.734065Z"
    }
   },
   "outputs": [
    {
     "data": {
      "image/png": "[encoded data removed]",
      "text/plain": [
       "<Figure size 1080x288 with 1 Axes>"
      ]
     },
     "metadata": {
      "needs_background": "light"
     },
     "output_type": "display_data"
    },
    {
     "data": {
      "image/png": "[encoded data removed]",
      "text/plain": [
       "<Figure size 1080x288 with 1 Axes>"
      ]
     },
     "metadata": {
      "needs_background": "light"
     },
     "output_type": "display_data"
    }
   ],
   "source": [
    "#绘制训练集在batch下的损失变化\n",
    "plt.title('The Cost with batchs runs',fontsize=30)\n",
    "plt.xlabel('batchs',fontsize=20)\n",
    "plt.ylabel('Cost',fontsize=20)\n",
    "plt.xticks(fontsize=20)\n",
    "plt.yticks(fontsize=20)\n",
    "plt.plot(history.train_losses_per_batch)\n",
    "plt.gcf().set_size_inches(15,4)\n",
    "plt.show()\n",
    "#绘制训练集与验证集在epoch下的损失比较\n",
    "plt.title('The Cost with epoches runs',fontsize=30)\n",
    "plt.xlabel('epoch',fontsize=20)\n",
    "plt.ylabel('Cost',fontsize=20)\n",
    "plt.xticks(fontsize=20)\n",
    "plt.yticks(fontsize=20)\n",
    "plt.plot(history.train_losses_per_epoch, '-o', label='train')\n",
    "plt.plot(history.valid_losses_per_epoch, '-o', label='valid')\n",
    "plt.legend(fontsize=30,loc='upper right')\n",
    "plt.gcf().set_size_inches(15,4)\n",
    "plt.show()"
   ]
  },
  {
   "cell_type": "code",
   "execution_count": 14,
   "metadata": {
    "ExecuteTime": {
     "end_time": "2020-07-24T07:44:40.936300Z",
     "start_time": "2020-07-24T07:44:37.457431Z"
    }
   },
   "outputs": [
    {
     "name": "stdout",
     "output_type": "stream",
     "text": [
      "37400/37400 [==============================] - 2s 58us/sample - loss: 0.0182 - acc: 0.9949\n",
      "Test accuracy: 0.9948931\n"
     ]
    }
   ],
   "source": [
    "#选取验证集准确率最高的模型\n",
    "model = keras.models.load_model('./KDD_model.h5') \n",
    "model.compile(optimizer =tf.train.AdamOptimizer(learning_rate=learning_rate),\n",
    "    loss=\"sparse_categorical_crossentropy\",\n",
    "    metrics=['accuracy']\n",
    ")\n",
    "#测试集的正确率\n",
    "def use_evaluate_test():\n",
    "    test_loss,test_acc = model.evaluate(df_test_X,df_test_y)\n",
    "    print('Test accuracy:', test_acc)\n",
    "    return \n",
    "use_evaluate_test()"
   ]
  },
  {
   "cell_type": "code",
   "execution_count": 16,
   "metadata": {
    "ExecuteTime": {
     "end_time": "2020-07-24T07:45:05.164803Z",
     "start_time": "2020-07-24T07:45:05.158644Z"
    }
   },
   "outputs": [],
   "source": [
    "labelList = [\"normal\", \"DoS\", \"PROBE\", \"U2R\", \"R2L\"]"
   ]
  },
  {
   "cell_type": "code",
   "execution_count": 17,
   "metadata": {
    "ExecuteTime": {
     "end_time": "2020-07-24T07:45:08.875946Z",
     "start_time": "2020-07-24T07:45:07.237986Z"
    }
   },
   "outputs": [
    {
     "name": "stdout",
     "output_type": "stream",
     "text": [
      "              precision    recall  f1-score   support\n",
      "\n",
      "      normal       0.99      1.00      0.99     16000\n",
      "         DoS       1.00      1.00      1.00     20000\n",
      "       PROBE       0.98      0.99      0.99      1000\n",
      "         U2R       0.97      0.93      0.95       200\n",
      "         R2L       0.87      0.35      0.50       200\n",
      "\n",
      "   micro avg       0.99      0.99      0.99     37400\n",
      "   macro avg       0.96      0.86      0.89     37400\n",
      "weighted avg       0.99      0.99      0.99     37400\n",
      "\n"
     ]
    }
   ],
   "source": [
    "predictions = model.predict(df_test_X)\n",
    "print(classification_report(df_test_y, np.argmax(predictions, axis=1) , target_names=labelList))"
   ]
  },
  {
   "cell_type": "code",
   "execution_count": 19,
   "metadata": {
    "ExecuteTime": {
     "end_time": "2020-07-24T07:48:20.682062Z",
     "start_time": "2020-07-24T07:48:03.314700Z"
    }
   },
   "outputs": [
    {
     "name": "stdout",
     "output_type": "stream",
     "text": [
      "0.9966310160427807\n",
      "              precision    recall  f1-score   support\n",
      "\n",
      "      normal       0.99      1.00      1.00     16000\n",
      "         DoS       1.00      1.00      1.00     20000\n",
      "       PROBE       0.99      0.99      0.99      1000\n",
      "         U2R       0.98      0.98      0.98       200\n",
      "         R2L       0.97      0.57      0.72       200\n",
      "\n",
      "   micro avg       1.00      1.00      1.00     37400\n",
      "   macro avg       0.99      0.91      0.94     37400\n",
      "weighted avg       1.00      1.00      1.00     37400\n",
      "\n",
      "0.9966577540106952\n",
      "              precision    recall  f1-score   support\n",
      "\n",
      "      normal       0.99      1.00      1.00     16000\n",
      "         DoS       1.00      1.00      1.00     20000\n",
      "       PROBE       0.99      0.99      0.99      1000\n",
      "         U2R       0.97      0.99      0.98       200\n",
      "         R2L       0.98      0.57      0.73       200\n",
      "\n",
      "   micro avg       1.00      1.00      1.00     37400\n",
      "   macro avg       0.99      0.91      0.94     37400\n",
      "weighted avg       1.00      1.00      1.00     37400\n",
      "\n"
     ]
    }
   ],
   "source": [
    "from sklearn.metrics import accuracy_score\n",
    "from sklearn.tree import DecisionTreeClassifier\n",
    "\n",
    "\n",
    "score = 0\n",
    "for i in range(20):\n",
    "    clf = DecisionTreeClassifier(criterion='entropy', min_samples_leaf=3)\n",
    "    clf.fit(df_train_X, df_train_y)\n",
    "    y_pred = clf.predict(df_test_X)\n",
    "    result = clf.score(df_test_X, df_test_y)\n",
    "    if(score < result):\n",
    "        score = result\n",
    "        print(score)\n",
    "        print(classification_report(df_test_y, y_pred, target_names=labelList))\n",
    "        "
   ]
  },
  {
   "cell_type": "code",
   "execution_count": null,
   "metadata": {},
   "outputs": [],
   "source": []
  },
  {
   "cell_type": "code",
   "execution_count": null,
   "metadata": {},
   "outputs": [],
   "source": []
  },
  {
   "cell_type": "code",
   "execution_count": null,
   "metadata": {},
   "outputs": [],
   "source": []
  },
  {
   "cell_type": "code",
   "execution_count": null,
   "metadata": {},
   "outputs": [],
   "source": []
  }
 ],
 "metadata": {
  "kernelspec": {
   "display_name": "Python 3",
   "language": "python",
   "name": "python3"
  },
  "language_info": {
   "codemirror_mode": {
    "name": "ipython",
    "version": 3
   },
   "file_extension": ".py",
   "mimetype": "text/x-python",
   "name": "python",
   "nbconvert_exporter": "python",
   "pygments_lexer": "ipython3",
   "version": "3.7.3"
  },
  "toc": {
   "base_numbering": 1,
   "nav_menu": {},
   "number_sections": true,
   "sideBar": true,
   "skip_h1_title": false,
   "title_cell": "Table of Contents",
   "title_sidebar": "Contents",
   "toc_cell": false,
   "toc_position": {},
   "toc_section_display": true,
   "toc_window_display": false
  },
  "varInspector": {
   "cols": {
    "lenName": 16,
    "lenType": 16,
    "lenVar": 40
   },
   "kernels_config": {
    "python": {
     "delete_cmd_postfix": "",
     "delete_cmd_prefix": "del ",
     "library": "var_list.py",
     "varRefreshCmd": "print(var_dic_list())"
    },
    "r": {
     "delete_cmd_postfix": ") ",
     "delete_cmd_prefix": "rm(",
     "library": "var_list.r",
     "varRefreshCmd": "cat(var_dic_list()) "
    }
   },
   "types_to_exclude": [
    "module",
    "function",
    "builtin_function_or_method",
    "instance",
    "_Feature"
   ],
   "window_display": false
  }
 },
 "nbformat": 4,
 "nbformat_minor": 2
}
