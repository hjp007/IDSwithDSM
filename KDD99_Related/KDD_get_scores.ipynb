{
 "cells": [
  {
   "cell_type": "code",
   "execution_count": 1,
   "metadata": {
    "ExecuteTime": {
     "end_time": "2020-07-18T11:35:42.685345Z",
     "start_time": "2020-07-18T11:35:39.817835Z"
    }
   },
   "outputs": [
    {
     "name": "stdout",
     "output_type": "stream",
     "text": [
      "1.13.1\n"
     ]
    }
   ],
   "source": [
    "import os\n",
    "import tensorflow as tf\n",
    "os.environ['TF_CPP_MIN_LOG_LEVEL'] = '2'  #忽略烦人的警告\n",
    "tf.logging.set_verbosity(tf.logging.ERROR)   #忽略烦人的警告\n",
    "print(tf.__version__)\n",
    "import numpy as np\n",
    "from sklearn.decomposition import PCA\n",
    "\n",
    "import pandas as pd\n",
    "from collections import Counter\n",
    "from sklearn.model_selection import train_test_split\n",
    "import pickle   #对象存储用\n",
    "\n",
    "from sklearn import preprocessing\n",
    "\n",
    "import matplotlib.pyplot as plt\n",
    "import matplotlib\n",
    "import math\n",
    "\n",
    "%matplotlib inline\n",
    "matplotlib.rcParams['font.sans-serif'] = ['SimHei']"
   ]
  },
  {
   "cell_type": "code",
   "execution_count": 15,
   "metadata": {
    "ExecuteTime": {
     "end_time": "2020-07-18T11:54:57.395046Z",
     "start_time": "2020-07-18T11:54:57.325843Z"
    },
    "code_folding": [
     123
    ]
   },
   "outputs": [],
   "source": [
    "labelList = [\"normal\", \"DoS\", \"PROBE\", \"U2R\", \"R2L\"]\n",
    "def load_obj(name):\n",
    "    with open('./' + name + '.pkl', 'rb') as f:\n",
    "        return pickle.load(f)\n",
    "\n",
    "distributions = {}\n",
    "distributions['normal'] = load_obj(\"normal_Distribution_set\")\n",
    "distributions['DoS'] = load_obj(\"DoS_Distribution_set\")\n",
    "distributions['PROBE'] = load_obj(\"PROBE_Distribution_set\")\n",
    "distributions['U2R'] = load_obj(\"U2R_Distribution_set\")\n",
    "distributions['R2L'] = load_obj(\"R2L_Distribution_set\")\n",
    "\n",
    "attack_types = 4  #总已知攻击种类\n",
    "feature_numbers = 12   #用于处理PSM的特征，位列前35的特征\n",
    "\n",
    "\n",
    "#定义difference weight,取值0~1\n",
    "def calculate_dw(distribution_1, distribution_2, feature_index):\n",
    "    count1 = calculate_count(distribution_1, feature_index)\n",
    "    count2 = calculate_count(distribution_2, feature_index)\n",
    "    h = 20\n",
    "    dw = 0\n",
    "    for i in range(h):\n",
    "        start = i*5\n",
    "        end = start + 5\n",
    "        T1 = distribution_1[str(feature_index)][str(start) + '-' + str(end)]/count1\n",
    "        T2 = distribution_2[str(feature_index)][str(start) + '-' + str(end)]/count2\n",
    "        dw += abs(T1 - T2)\n",
    "    return dw/2\n",
    "#用于计算分布字典里的实例数\n",
    "def calculate_count(distribution, feature_index):\n",
    "    h = 20\n",
    "    count = 0\n",
    "    for i in range(h):\n",
    "        start = i*5\n",
    "        end = start + 5\n",
    "        count += distribution[str(feature_index)][str(start) + '-' + str(end)]\n",
    "    return count\n",
    "#定义hdw，hybird difference weight  第二个参数为：hdw应用的对应得分公式的对应的哪种字典\n",
    "def calculate_hdw(feature_index, label):\n",
    "    base = 0\n",
    "    for key in distributions:\n",
    "        if(key == label):\n",
    "            continue\n",
    "        dw = calculate_dw(distributions[label], distributions[key], feature_index)\n",
    "        if(dw > base):\n",
    "            base = dw\n",
    "    return base\n",
    "\n",
    "\n",
    "#计算例子在某种标签上的得分，需要提供对应标签, 这个标签的的分布统计字典\n",
    "def get_score(example, distributeObj, label):    \n",
    "    score = 0\n",
    "    count = calculate_count(distributeObj, 0)  #取哪个特征都一样\n",
    "    minBase = 1\n",
    "    baseArr = []\n",
    "    for i in range(feature_numbers):\n",
    "\n",
    "        start = int(example[i]/0.05//1)*5   #取200个分组里的分组起始位置\n",
    "        if(start == 100):     #特殊处理当该属性为1.0时溢出的情况\n",
    "            start = 95      \n",
    "        end = start + 5\n",
    "        dataRange = '{0}-{1}'.format(start, end )\n",
    "        base = distributeObj[str(i)][dataRange]/count\n",
    "        if(base != 0 and base < minBase):\n",
    "            minBase = base\n",
    "        baseArr.append(base)\n",
    "        \n",
    "    for i in range(feature_numbers):\n",
    "        if(baseArr[i] != 0):\n",
    "            score += math.log(baseArr[i]) * calculate_hdw(i, label)  / feature_numbers\n",
    "        else:\n",
    "            score += math.log(minBase) * calculate_hdw(i, label)  / feature_numbers\n",
    "            \n",
    "    return score\n",
    "\n",
    "distribution_feature = [    #产生的新特征\n",
    "    'normal_Score', 'DoS_Score',\n",
    "    'PROBE_Score', 'U2R_Score', 'R2L_Score'\n",
    "]\n",
    "\n",
    "def get_score_threshold(dataset_x, dataset_y):\n",
    "    #5个分数数组，表示在这个label字典下label实例的得分情况\n",
    "    Scores = {\n",
    "        \"normal\" : [],\n",
    "        \"DoS\" : [],\n",
    "        \"PROBE\" : [],\n",
    "        \"U2R\" : [],\n",
    "        \"R2L\" : []\n",
    "    }\n",
    "    for i,item in enumerate(dataset_x):\n",
    "        if(dataset_y.values[i].astype('int') == 0):\n",
    "            \n",
    "            Scores[\"normal\"].append(get_score(item, distributions['normal'], 'normal'))\n",
    "            \n",
    "        elif(dataset_y.values[i].astype('int') == 1):\n",
    "            \n",
    "            Scores[\"DoS\"].append(get_score(item, distributions['DoS'], 'DoS'))\n",
    "            \n",
    "        elif(dataset_y.values[i].astype('int') == 2):\n",
    "            \n",
    "            Scores[\"PROBE\"].append(get_score(item, distributions['PROBE'], 'PROBE'))\n",
    "            \n",
    "        elif(dataset_y.values[i].astype('int') == 3):\n",
    "            \n",
    "            Scores[\"U2R\"].append(get_score(item, distributions['U2R'], 'U2R'))\n",
    "            \n",
    "        elif(dataset_y.values[i].astype('int') == 4):\n",
    "            \n",
    "            Scores[\"R2L\"].append(get_score(item, distributions['R2L'], 'R2L'))\n",
    "            \n",
    "    thresholds = []\n",
    "    \n",
    "    for item in Scores.values():\n",
    "        item.sort()\n",
    "        thresholds.append(item[len(item)//10])    #取”将样例分成1：9“的threshold\n",
    "    return thresholds\n",
    "\n",
    "def sigmoid(x):\n",
    "    # TODO: Implement sigmoid function\n",
    "    return 1/(1 + np.exp(-x))\n",
    "\n",
    "def get_Full_Scores(dataset_x, dataset_y): \n",
    "    Full_Scores = {\n",
    "        \"normal\" : {\n",
    "            \"normal\" : [], \n",
    "            \"DoS\" : [], \n",
    "            \"PROBE\" : [], \n",
    "            \"U2R\" : [], \n",
    "            \"R2L\" : []\n",
    "        },\n",
    "        \"DoS\" : {\n",
    "            \"normal\" : [], \n",
    "            \"DoS\" : [], \n",
    "            \"PROBE\" : [], \n",
    "            \"U2R\" : [], \n",
    "            \"R2L\" : []\n",
    "        },\n",
    "        \"PROBE\" : {\n",
    "            \"normal\" : [], \n",
    "            \"DoS\" : [], \n",
    "            \"PROBE\" : [], \n",
    "            \"U2R\" : [], \n",
    "            \"R2L\" : []\n",
    "        },\n",
    "        \"U2R\" : {\n",
    "            \"normal\" : [], \n",
    "            \"DoS\" : [], \n",
    "            \"PROBE\" : [], \n",
    "            \"U2R\" : [], \n",
    "            \"R2L\" : []\n",
    "        },\n",
    "        \"R2L\" : {\n",
    "            \"normal\" : [], \n",
    "            \"DoS\" : [], \n",
    "            \"PROBE\" : [], \n",
    "            \"U2R\" : [], \n",
    "            \"R2L\" : []\n",
    "        },\n",
    "    }\n",
    "    for i,item in enumerate(dataset_x):\n",
    "        itemLabel = labelList[int(dataset_y.values[i])]\n",
    "        Full_Scores[\"normal\"][itemLabel].append(get_score(item, distributions[\"normal\"], \"normal\")) \n",
    "        Full_Scores[\"DoS\"][itemLabel].append(get_score(item, distributions[\"DoS\"], \"DoS\"))\n",
    "        Full_Scores[\"PROBE\"][itemLabel].append(get_score(item, distributions[\"PROBE\"], \"PROBE\"))\n",
    "        Full_Scores[\"U2R\"][itemLabel].append(get_score(item, distributions[\"U2R\"], \"U2R\"))\n",
    "        Full_Scores[\"R2L\"][itemLabel].append(get_score(item, distributions[\"R2L\"], \"R2L\"))\n",
    "    return Full_Scores\n",
    "    \n"
   ]
  },
  {
   "cell_type": "code",
   "execution_count": 3,
   "metadata": {
    "ExecuteTime": {
     "end_time": "2020-07-18T11:35:42.826837Z",
     "start_time": "2020-07-18T11:35:42.785773Z"
    }
   },
   "outputs": [],
   "source": [
    "def read_data():\n",
    "    \"\"\"\n",
    "        读取数据，\n",
    "        return\n",
    "            train_dataset : 训练数据 \n",
    "            test_dataset  ：测试数据\n",
    "    \"\"\"\n",
    "    input_file_dir = \".\"\n",
    "    train_file_name = \"kddcup.data_10_percent\"\n",
    "    test_file_name = \"corrected.txt\"\n",
    "    header_file_name = \"header.txt\"\n",
    "    \n",
    "    train_files = os.path.join(input_file_dir, train_file_name)\n",
    "    test_files = os.path.join(input_file_dir, test_file_name)\n",
    "    header_files = os.path.join(input_file_dir, header_file_name)\n",
    "    \n",
    "    with open(header_files, 'r') as f:\n",
    "        header = f.readline().strip().split(',')\n",
    "    train_dataset = pd.read_csv(train_files)\n",
    "    test_dataset = pd.read_csv(test_files)\n",
    "    train_dataset.columns = header\n",
    "    test_dataset.columns = header\n",
    "    dataset = train_dataset.append(test_dataset)\n",
    "    return dataset\n",
    "#选择需要进行创建字典的特征。实际有\n",
    "def feature_selection(dataset):\n",
    "    return dataset[[\n",
    "        'src_bytes', 'dst_bytes', 'logged_in', 'count', 'srv_count', 'same_srv_rate', \n",
    "        'diff_srv_rate', 'dst_host_count', 'dst_host_srv_count', 'dst_host_same_srv_rate', \n",
    "        'dst_host_diff_srv_rate', 'dst_host_same_src_port_rate', \n",
    "        'labels'\n",
    "    ]]\n",
    "\n",
    "def split_valid_from_train(train_dataset, valid_size):\n",
    "    # Method 1\n",
    "    train_dataset, valid_dataset, _, _ = train_test_split(train_dataset, train_dataset['labels'], test_size=valid_size, random_state=None)\n",
    "    # pandas中先重置index再打乱train. 否则只会调整各个行的顺序，而不会改变pandas的index\n",
    "    # 重置\n",
    "    train_dataset = train_dataset.reset_index(drop=True)\n",
    "    # 打乱\n",
    "    indexMask = np.arange(len(train_dataset))\n",
    "    for i in range(10):\n",
    "        np.random.shuffle(indexMask)\n",
    "    train_dataset = train_dataset.iloc[indexMask]\n",
    "\n",
    "    return train_dataset, valid_dataset\n",
    "\n",
    "def shuffle(dataset):  \n",
    "    # 打乱\n",
    "    indexMask = np.arange(len(dataset))\n",
    "    for i in range(10):\n",
    "        np.random.shuffle(indexMask)\n",
    "    dataset = dataset.iloc[indexMask]\n",
    "    dataset = dataset.reset_index(drop=True)\n",
    "\n",
    "    return dataset \n",
    "\n",
    "def labels_map(label):\n",
    "    if(type(label) == int):      #已是数字，无需处理\n",
    "        return label\n",
    "    label = label.split('.')[0]\n",
    "    \n",
    "    DOS = ['apache2', 'back', 'land', 'mailbomb', 'neptune', 'pod', \n",
    "                  'processtable', 'smurf', 'teardrop', 'udpstorm'] #DOS 10个\n",
    "    PROBE = ['ipsweep', 'mscan', 'nmap', 'portsweep', 'saint', 'satan'] #PROBE\n",
    "    U2R = ['buffer_overflow', 'httptunnel', 'loadmodule', 'perl', 'ps', 'rootkit', 'sqlattack', 'xterm'] #U2R\n",
    "    R2L = ['ftp_write', 'guess_passwd', 'imap', 'multihop', 'named', 'phf', \n",
    "           'sendmail', 'snmpgetattack', 'snmpguess', 'spy', 'warezclient', \n",
    "           'warezmaster', 'worm', 'xlock', 'xsnoop']#R2L\n",
    "    \n",
    "    if label == 'normal':\n",
    "        return 0\n",
    "    if label in DOS:\n",
    "        return 1\n",
    "    if label in PROBE:\n",
    "        return 2\n",
    "    if label in U2R:\n",
    "        return 3\n",
    "    if label in R2L:\n",
    "        return 4\n",
    "    return -1\n",
    "  \n",
    "def filter_labels(dataset):\n",
    "    dataset['labels'] = dataset['labels'].apply(labels_map)\n",
    "    return dataset\n",
    "\n",
    "def labels_separate(dataset):\n",
    "    y_ = dataset['labels'].astype('int')\n",
    "    temp = dataset\n",
    "    temp.drop(['labels'], axis=1, inplace=True)\n",
    "    x_ = temp.values\n",
    "    return x_, y_\n"
   ]
  },
  {
   "cell_type": "code",
   "execution_count": 4,
   "metadata": {
    "ExecuteTime": {
     "end_time": "2020-07-18T11:35:42.865069Z",
     "start_time": "2020-07-18T11:35:42.832450Z"
    }
   },
   "outputs": [],
   "source": [
    "#归一化整个数据集，注意要存储归一化的参数x_avg,x_max,x_min以便后面真实环境预处理需要\n",
    "def normalization(dataset):\n",
    "    epsilon = 0.0001   #防止除数为0\n",
    "    dataset = dataset.astype('float')\n",
    "    target_features = [\n",
    "        'src_bytes', 'dst_bytes', 'logged_in', 'count', 'srv_count', 'same_srv_rate', \n",
    "        'diff_srv_rate', 'dst_host_count', 'dst_host_srv_count', 'dst_host_same_srv_rate', \n",
    "        'dst_host_diff_srv_rate', 'dst_host_same_src_port_rate'\n",
    "    ]\n",
    "    \n",
    "    norm_params = pd.DataFrame(np.zeros([3, len(target_features)]), columns=target_features)  #存储归一化参数\n",
    "    \n",
    "    for feature in dataset.columns.values.tolist():    #对列（特征名）进行遍历\n",
    "        if feature in target_features:\n",
    "            x = dataset[feature]\n",
    "            x_avg = dataset[feature].mean()\n",
    "            x_max = np.max(dataset[feature])\n",
    "            x_min = np.min(dataset[feature])\n",
    "\n",
    "            norm_params[feature] = [x_avg, x_max, x_min]\n",
    "            dataset[feature] = (x - x_min) / (x_max - x_min + epsilon)\n",
    "            #dataset = dataset.drop([feature], axis=1)\n",
    "    return dataset,norm_params\n",
    "    \n",
    "def combine_dataset(trainDF, testDF):\n",
    "    all = pd.concat([trainDF, testDF], axis=0)\n",
    "    return all, (trainDF.shape[0], testDF.shape[0])\n",
    "\n",
    "def separate_dataset(comb, num_comb):  \n",
    "    train_dataset_size , test_dataset_size = num_comb\n",
    "    trainDF = comb.iloc[:train_dataset_size]\n",
    "    testDF = comb.iloc[train_dataset_size: (train_dataset_size + test_dataset_size)]\n",
    "    return trainDF, testDF\n",
    "\n",
    "   \n",
    "def data_process_full(trainDF, testDF):\n",
    "    all, num_comb = combine_dataset(trainDF, testDF)\n",
    "    all,norm_params = normalization(all)\n",
    "    trainDF,testDF = separate_dataset(all, num_comb)\n",
    "    return trainDF,testDF,norm_params"
   ]
  },
  {
   "cell_type": "code",
   "execution_count": 5,
   "metadata": {
    "ExecuteTime": {
     "end_time": "2020-07-18T11:35:52.461204Z",
     "start_time": "2020-07-18T11:35:42.868677Z"
    }
   },
   "outputs": [],
   "source": [
    "dataset = read_data()\n",
    "\n",
    "dataset = filter_labels(dataset)\n"
   ]
  },
  {
   "cell_type": "code",
   "execution_count": 6,
   "metadata": {
    "ExecuteTime": {
     "end_time": "2020-07-18T11:35:53.499509Z",
     "start_time": "2020-07-18T11:35:52.464304Z"
    }
   },
   "outputs": [],
   "source": [
    "normal_df = dataset.loc[dataset['labels'] == 0]\n",
    "normal_df = normal_df.sample(n=80000,random_state=1, replace=False)\n",
    "df_normal_train, df_normal_test = split_valid_from_train(normal_df, 0.2)\n",
    "\n",
    "DOS_df = dataset.loc[dataset['labels'] == 1]\n",
    "DOS_df = DOS_df.sample(n=100000,random_state=1, replace=False)\n",
    "df_DOS_train, df_DOS_test = split_valid_from_train(DOS_df, 0.2)\n",
    "\n",
    "\n",
    "PROBE_df = dataset.loc[dataset['labels'] == 2]\n",
    "PROBE_df = PROBE_df.sample(n=5000,random_state=1, replace=True)\n",
    "df_PROBE_train, df_PROBE_test = split_valid_from_train(PROBE_df, 0.2)\n",
    "\n",
    "\n",
    "U2R_df = dataset.loc[dataset['labels'] == 3]\n",
    "U2R_df = U2R_df.sample(n=1000,random_state=1, replace=True)\n",
    "df_U2R_train, df_U2R_test = split_valid_from_train(U2R_df, 0.2)\n",
    "\n",
    "\n",
    "R2L_df = dataset.loc[dataset['labels'] == 4]\n",
    "R2L_df = R2L_df.sample(n=1000,random_state=1, replace=True)\n",
    "df_R2L_train, df_R2L_test = split_valid_from_train(R2L_df, 0.2)"
   ]
  },
  {
   "cell_type": "code",
   "execution_count": 7,
   "metadata": {
    "ExecuteTime": {
     "end_time": "2020-07-18T11:35:53.582215Z",
     "start_time": "2020-07-18T11:35:53.502822Z"
    }
   },
   "outputs": [],
   "source": [
    "#整合\n",
    "df_train = df_normal_train.append([df_DOS_train, df_PROBE_train, df_U2R_train, df_R2L_train])\n",
    "df_test = df_normal_test.append([df_DOS_test, df_PROBE_test, df_U2R_test, df_R2L_test])"
   ]
  },
  {
   "cell_type": "code",
   "execution_count": 8,
   "metadata": {
    "ExecuteTime": {
     "end_time": "2020-07-18T11:35:53.662835Z",
     "start_time": "2020-07-18T11:35:53.584189Z"
    }
   },
   "outputs": [],
   "source": [
    "#特征选择\n",
    "df_train = feature_selection(df_train)\n",
    "df_test = feature_selection(df_test)"
   ]
  },
  {
   "cell_type": "code",
   "execution_count": 9,
   "metadata": {
    "ExecuteTime": {
     "end_time": "2020-07-18T11:35:53.801835Z",
     "start_time": "2020-07-18T11:35:53.664873Z"
    }
   },
   "outputs": [],
   "source": [
    "#正则化\n",
    "df_train, df_test, norm_params = data_process_full(\n",
    "    df_train, df_test\n",
    ")"
   ]
  },
  {
   "cell_type": "code",
   "execution_count": null,
   "metadata": {
    "ExecuteTime": {
     "end_time": "2020-07-18T11:35:01.484031Z",
     "start_time": "2020-07-18T11:34:41.468Z"
    }
   },
   "outputs": [],
   "source": []
  },
  {
   "cell_type": "code",
   "execution_count": 10,
   "metadata": {
    "ExecuteTime": {
     "end_time": "2020-07-18T11:35:53.976029Z",
     "start_time": "2020-07-18T11:35:53.803819Z"
    }
   },
   "outputs": [],
   "source": [
    "#分离标签\n",
    "df_train_X, df_train_y = labels_separate(df_train)\n",
    "df_test_X, df_test_y = labels_separate(df_test)"
   ]
  },
  {
   "cell_type": "code",
   "execution_count": 11,
   "metadata": {
    "ExecuteTime": {
     "end_time": "2020-07-18T11:51:32.202664Z",
     "start_time": "2020-07-18T11:35:53.978237Z"
    }
   },
   "outputs": [],
   "source": [
    "thresholds = get_score_threshold(df_train_X, df_train_y)"
   ]
  },
  {
   "cell_type": "code",
   "execution_count": 16,
   "metadata": {
    "ExecuteTime": {
     "end_time": "2020-07-18T12:07:14.887803Z",
     "start_time": "2020-07-18T11:55:09.843053Z"
    }
   },
   "outputs": [],
   "source": [
    "full_Scores = get_Full_Scores(df_test_X, df_test_y)"
   ]
  },
  {
   "cell_type": "code",
   "execution_count": 17,
   "metadata": {
    "ExecuteTime": {
     "end_time": "2020-07-18T12:07:21.353223Z",
     "start_time": "2020-07-18T12:07:21.330239Z"
    }
   },
   "outputs": [],
   "source": [
    "from matplotlib import pyplot\n",
    "\n",
    "def drawSingle(label):\n",
    "    pyplot.hist(full_Scores[label][label], 20, density=True, histtype='step', color='black', cumulative=True)\n",
    "    pyplot.xlabel('Scoring')\n",
    "    pyplot.ylabel('Frequency')\n",
    "    pyplot.title('Scores of '+label+' samples on '+label+' distribution') \n",
    "    #plt.savefig(\"./scores/\" + label + \"_base/Scores of \"+label+\" samples on \"+label+\" distribution.eps\",format=\"eps\")\n",
    "    pyplot.show()\n",
    "    \n",
    "def drawComparison(base_label, compare_label):\n",
    "    pyplot.hist(full_Scores[base_label][base_label], 20, density=True, histtype='step', color='black', cumulative=True)\n",
    "    pyplot.hist(full_Scores[base_label][compare_label], 20, density=True, histtype='step', cumulative=True)\n",
    "    pyplot.xlabel('Scoring')\n",
    "    pyplot.ylabel('Frequency')\n",
    "    pyplot.title('Scoring comparsion between '+compare_label+' and ' + base_label)\n",
    "    #plt.savefig(\"./scores/\" + base_label + \"_base/comparsion between \"+compare_label+\" and \" + base_label + \".eps\",format=\"eps\")\n",
    "    pyplot.show()\n"
   ]
  },
  {
   "cell_type": "code",
   "execution_count": 18,
   "metadata": {
    "ExecuteTime": {
     "end_time": "2020-07-18T12:07:29.298214Z",
     "start_time": "2020-07-18T12:07:27.654825Z"
    }
   },
   "outputs": [
    {
     "name": "stderr",
     "output_type": "stream",
     "text": [
      "/opt/conda/lib/python3.7/site-packages/matplotlib/font_manager.py:1241: UserWarning: findfont: Font family ['sans-serif'] not found. Falling back to DejaVu Sans.\n",
      "  (prop.get_family(), self.defaultFamily[fontext]))\n"
     ]
    },
    {
     "data": {
      "image/png": "[encoded data removed]",
      "text/plain": [
       "<Figure size 432x288 with 1 Axes>"
      ]
     },
     "metadata": {
      "needs_background": "light"
     },
     "output_type": "display_data"
    },
    {
     "data": {
      "image/png": "[encoded data removed]",
      "text/plain": [
       "<Figure size 432x288 with 1 Axes>"
      ]
     },
     "metadata": {
      "needs_background": "light"
     },
     "output_type": "display_data"
    },
    {
     "data": {
      "image/png": "[encoded data removed]",
      "text/plain": [
       "<Figure size 432x288 with 1 Axes>"
      ]
     },
     "metadata": {
      "needs_background": "light"
     },
     "output_type": "display_data"
    },
    {
     "data": {
      "image/png": "[encoded data removed]",
      "text/plain": [
       "<Figure size 432x288 with 1 Axes>"
      ]
     },
     "metadata": {
      "needs_background": "light"
     },
     "output_type": "display_data"
    },
    {
     "data": {
      "image/png": "[encoded data removed]",
      "text/plain": [
       "<Figure size 432x288 with 1 Axes>"
      ]
     },
     "metadata": {
      "needs_background": "light"
     },
     "output_type": "display_data"
    }
   ],
   "source": [
    "drawSingle('normal')\n",
    "drawComparison('normal', 'DoS')\n",
    "drawComparison('normal', 'PROBE')\n",
    "drawComparison('normal', 'U2R')\n",
    "drawComparison('normal', 'R2L')\n"
   ]
  },
  {
   "cell_type": "code",
   "execution_count": null,
   "metadata": {},
   "outputs": [],
   "source": []
  }
 ],
 "metadata": {
  "kernelspec": {
   "display_name": "Python 3",
   "language": "python",
   "name": "python3"
  },
  "language_info": {
   "codemirror_mode": {
    "name": "ipython",
    "version": 3
   },
   "file_extension": ".py",
   "mimetype": "text/x-python",
   "name": "python",
   "nbconvert_exporter": "python",
   "pygments_lexer": "ipython3",
   "version": "3.7.3"
  },
  "toc": {
   "base_numbering": 1,
   "nav_menu": {},
   "number_sections": true,
   "sideBar": true,
   "skip_h1_title": false,
   "title_cell": "Table of Contents",
   "title_sidebar": "Contents",
   "toc_cell": false,
   "toc_position": {},
   "toc_section_display": true,
   "toc_window_display": false
  },
  "varInspector": {
   "cols": {
    "lenName": 16,
    "lenType": 16,
    "lenVar": 40
   },
   "kernels_config": {
    "python": {
     "delete_cmd_postfix": "",
     "delete_cmd_prefix": "del ",
     "library": "var_list.py",
     "varRefreshCmd": "print(var_dic_list())"
    },
    "r": {
     "delete_cmd_postfix": ") ",
     "delete_cmd_prefix": "rm(",
     "library": "var_list.r",
     "varRefreshCmd": "cat(var_dic_list()) "
    }
   },
   "types_to_exclude": [
    "module",
    "function",
    "builtin_function_or_method",
    "instance",
    "_Feature"
   ],
   "window_display": false
  }
 },
 "nbformat": 4,
 "nbformat_minor": 2
}
