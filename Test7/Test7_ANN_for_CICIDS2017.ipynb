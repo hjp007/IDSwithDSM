{
 "cells": [
  {
   "cell_type": "code",
   "execution_count": 1,
   "metadata": {
    "ExecuteTime": {
     "end_time": "2020-07-23T13:45:54.703955Z",
     "start_time": "2020-07-23T13:45:53.276723Z"
    }
   },
   "outputs": [],
   "source": [
    "import pandas as pd\n",
    "import pickle\n",
    "import numpy  as np\n",
    "from time import time\n",
    "#train_test_split\n",
    "from sklearn.model_selection import train_test_split\n",
    "#Feature scaling\n",
    "from sklearn import preprocessing\n",
    "from collections import Counter\n",
    "import math\n",
    "import tracemalloc"
   ]
  },
  {
   "cell_type": "code",
   "execution_count": 2,
   "metadata": {
    "ExecuteTime": {
     "end_time": "2020-07-23T13:45:54.725967Z",
     "start_time": "2020-07-23T13:45:54.707607Z"
    }
   },
   "outputs": [],
   "source": [
    "import pickle\n",
    "#数理统计方法，按5%区间进行数理统计\n",
    "def statistics(dataset, feature_index):\n",
    "    intervals = {'{0}-{1}'.format(5 * x, 5 * (x+1) ): 0 for x in range(20)}\n",
    "    for _ in dataset[:,feature_index]:\n",
    "        for interval in intervals:\n",
    "            start, end = tuple(interval.split('-'))\n",
    "            if int(start) <= _*100 <= int(end):\n",
    "                intervals[interval] += 1\n",
    "    return intervals\n",
    "\n",
    "def save_obj(obj, name ):\n",
    "    with open('../DistributionDictionary/'+ name + '.pkl', 'wb') as f:\n",
    "        pickle.dump(obj, f, pickle.HIGHEST_PROTOCOL)\n",
    "        "
   ]
  },
  {
   "cell_type": "code",
   "execution_count": 3,
   "metadata": {
    "ExecuteTime": {
     "end_time": "2020-07-23T13:45:54.874786Z",
     "start_time": "2020-07-23T13:45:54.739384Z"
    }
   },
   "outputs": [],
   "source": [
    "labelList = [\"BENIGN\", \"DoS\", \"PortScan\", \"DDoS\", \"SSH-Patator\", \"FTP-Patator\", \"Web Attack\", \"Bot\"]\n",
    "distribution_feature = [    #产生的新特征\n",
    "    'Benign_Score', 'DoS_Score',\n",
    "    'PortScan_Score', 'DDoS_Score', 'SSH-Patator_Score', \n",
    "    'FTP-Patator_Score', 'Web Attack_Score', 'Bot_Score'\n",
    "]\n",
    "def load_obj(name):\n",
    "    with open('../DistributionDictionary/' + name + '.pkl', 'rb') as f:\n",
    "        return pickle.load(f)\n",
    "\n",
    "distributions = {}\n",
    "distributions['Benign'] = load_obj(\"Benign_Distribution_set\")\n",
    "distributions['DoS'] = load_obj(\"DoS_Distribution_set\")\n",
    "distributions['PortScan'] = load_obj(\"PortScan_Distribution_set\")\n",
    "distributions['DDoS'] = load_obj(\"DDoS_Distribution_set\")\n",
    "distributions['SSH-Patator'] = load_obj(\"SSH_Distribution_set\")\n",
    "distributions['FTP-Patator'] = load_obj(\"FTP_Distribution_set\")\n",
    "distributions['Web Attack'] = load_obj(\"Web_Distribution_set\")\n",
    "distributions['Bot'] = load_obj(\"Bot_Distribution_set\")\n",
    "\n",
    "feature_numbers = 10\n",
    "attack_types = 7  #总已知攻击种类\n",
    "\n",
    "#定义difference weight,取值0~1\n",
    "def calculate_dw(distribution_1, distribution_2, feature_index):\n",
    "    count1 = calculate_count(distribution_1, feature_index)\n",
    "    count2 = calculate_count(distribution_2, feature_index)\n",
    "    h = 20\n",
    "    dw = 0\n",
    "    for i in range(h):\n",
    "        start = i*5\n",
    "        end = start + 5\n",
    "        T1 = distribution_1[str(feature_index)][str(start) + '-' + str(end)]/count1\n",
    "        T2 = distribution_2[str(feature_index)][str(start) + '-' + str(end)]/count2\n",
    "        dw += abs(T1 - T2)\n",
    "    return dw/2\n",
    "#用于计算分布字典里的实例数\n",
    "def calculate_count(distribution, feature_index):\n",
    "    h = 20\n",
    "    count = 0\n",
    "    for i in range(h):\n",
    "        start = i*5\n",
    "        end = start + 5\n",
    "        count += distribution[str(feature_index)][str(start) + '-' + str(end)]\n",
    "    return count\n",
    "#定义hdw，hybird difference weight  第二个参数为：hdw应用的对应得分公式的对应的哪种字典\n",
    "def calculate_hdw(feature_index, label):\n",
    "    base = 0\n",
    "    for key in distributions:\n",
    "        if(key == label):\n",
    "            continue\n",
    "        dw = calculate_dw(distributions[label], distributions[key], feature_index)\n",
    "        if(dw > base):\n",
    "            base = dw\n",
    "    return base\n",
    "\n",
    "#计算例子在某种标签上的得分，需要提供对应标签, 这个标签的的分布统计字典\n",
    "def get_score(example, distributeObj, label):    \n",
    "    score = 0\n",
    "    count = calculate_count(distributeObj, 0)  #取哪个特征都一样\n",
    "    minBase = 1\n",
    "    baseArr = []\n",
    "    for i in range(feature_numbers):\n",
    "\n",
    "        start = int(example[i]/0.05//1)*5   #取200个分组里的分组起始位置\n",
    "        if(start == 100):     #特殊处理当该属性为1.0时溢出的情况\n",
    "            start = 95      \n",
    "        end = start + 5\n",
    "        dataRange = '{0}-{1}'.format(start, end )\n",
    "        base = distributeObj[str(i)][dataRange]/count\n",
    "        if(base != 0 and base < minBase):\n",
    "            minBase = base\n",
    "        baseArr.append(base)\n",
    "        \n",
    "    for i in range(feature_numbers):\n",
    "        if(baseArr[i] != 0):\n",
    "            score += math.log(baseArr[i]) * calculate_hdw(i, label)  / feature_numbers\n",
    "        else:\n",
    "            score += math.log(minBase) * calculate_hdw(i, label)  / feature_numbers\n",
    "            \n",
    "    return score\n",
    "\n",
    "\n",
    "def get_score_threshold(dataset_x, dataset_y):\n",
    "    #5个分数数组，表示在这个label字典下label实例的得分情况\n",
    "    Scores = {\n",
    "        \"Benign\" : [],\n",
    "        \"DoS\" : [],\n",
    "        \"PortScan\" : [],\n",
    "        \"DDoS\" : [],\n",
    "        \"SSH-Patator\" : [],        \n",
    "        \"FTP-Patator\" : [],\n",
    "        \"Web Attack\" : [],\n",
    "        \"Bot\" : []\n",
    "    }\n",
    "    for i,item in enumerate(dataset_x):\n",
    "        if(dataset_y.values[i].astype('int') == 0):\n",
    "            \n",
    "            Scores[\"Benign\"].append(get_score(item, distributions['Benign'], 'Benign'))\n",
    "            \n",
    "        elif(dataset_y.values[i].astype('int') == 1):\n",
    "            \n",
    "            Scores[\"DoS\"].append(get_score(item, distributions['DoS'], 'DoS'))\n",
    "            \n",
    "        elif(dataset_y.values[i].astype('int') == 2):\n",
    "            \n",
    "            Scores[\"PortScan\"].append(get_score(item, distributions['PortScan'], 'PortScan'))\n",
    "            \n",
    "        elif(dataset_y.values[i].astype('int') == 3):\n",
    "            \n",
    "            Scores[\"DDoS\"].append(get_score(item, distributions['DDoS'], 'DDoS'))\n",
    "            \n",
    "        elif(dataset_y.values[i].astype('int') == 4):\n",
    "            \n",
    "            Scores[\"SSH-Patator\"].append(get_score(item, distributions['SSH-Patator'], 'SSH-Patator'))\n",
    "        \n",
    "        elif(dataset_y.values[i].astype('int') == 5):\n",
    "            \n",
    "            Scores[\"FTP-Patator\"].append(get_score(item, distributions['FTP-Patator'], 'FTP-Patator'))\n",
    "            \n",
    "        elif(dataset_y.values[i].astype('int') == 6):\n",
    "            \n",
    "            Scores[\"Web Attack\"].append(get_score(item, distributions['Web Attack'], 'Web Attack'))\n",
    "            \n",
    "        elif(dataset_y.values[i].astype('int') == 7):\n",
    "            \n",
    "            Scores[\"Bot\"].append(get_score(item, distributions['Bot'], 'Bot'))\n",
    "            \n",
    "    thresholds = []\n",
    "    \n",
    "    for item in Scores.values():\n",
    "        item.sort()\n",
    "        thresholds.append(item[len(item)//10])    #取”将样例分成1：9“的threshold\n",
    "    return thresholds\n",
    "\n",
    "def sigmoid(x):\n",
    "    # TODO: Implement sigmoid function\n",
    "    return 1/(1 + np.exp(-x))\n",
    "\n",
    "def fill_score(i, item, Score_revert, label, label_num):\n",
    "    #计算得分\n",
    "    score = get_score(item, distributions[label], label)\n",
    "    #score-normalization\n",
    "    score_norm = sigmoid(score - thresholds[label_num])\n",
    "    #放入要拼接的表\n",
    "    Score_revert.loc[i, (label + '_Score')] = score_norm\n",
    "    return\n",
    "\n",
    "def create_distribution_score(dataset_x, thresholds):\n",
    "    #创建空表\n",
    "    Score_revert = pd.DataFrame(\n",
    "        data=np.zeros(\n",
    "            shape=(\n",
    "                dataset_x.shape[0],\n",
    "                len(distribution_feature)\n",
    "            )\n",
    "        ),columns = distribution_feature\n",
    "    )\n",
    "    #填充空表\n",
    "    for i,item in enumerate(dataset_x):\n",
    "        fill_score(i, item, Score_revert, 'Benign', 0)\n",
    "        fill_score(i, item, Score_revert, 'DoS', 1)\n",
    "        fill_score(i, item, Score_revert, 'PortScan', 2)\n",
    "        fill_score(i, item, Score_revert, 'DDoS', 3)\n",
    "        fill_score(i, item, Score_revert, 'SSH-Patator', 4)\n",
    "        fill_score(i, item, Score_revert, 'FTP-Patator', 5)\n",
    "        fill_score(i, item, Score_revert, 'Web Attack', 6)\n",
    "        fill_score(i, item, Score_revert, 'Bot', 7)\n",
    "            \n",
    "    dataset_x = np.hstack((dataset_x,Score_revert.values))\n",
    "    return dataset_x\n"
   ]
  },
  {
   "cell_type": "code",
   "execution_count": 4,
   "metadata": {
    "ExecuteTime": {
     "end_time": "2020-07-23T13:45:54.942976Z",
     "start_time": "2020-07-23T13:45:54.877690Z"
    }
   },
   "outputs": [],
   "source": [
    "def read_csv(dataroot):\n",
    "    df=pd.read_csv(dataroot,header=0,low_memory=False)   \n",
    "    pd.set_option('mode.use_inf_as_na', True) # convert inf to nan\n",
    "    df['Flow Bytes/s']=df['Flow Bytes/s'].astype('float64')\n",
    "    df[' Flow Packets/s']=df[' Flow Packets/s'].astype('float64')\n",
    "    df['Flow Bytes/s'].fillna(df['Flow Bytes/s'].mean(),inplace=True)\n",
    "    df[' Flow Packets/s'].fillna(df[' Flow Packets/s'].mean(),inplace=True)\n",
    "    return df\n",
    "\n",
    "def split_valid_from_train(train_dataset, valid_size):\n",
    "    # Method 1\n",
    "    train_dataset, valid_dataset, _, _ = train_test_split(train_dataset, train_dataset[' Label'], test_size=valid_size, random_state=None)\n",
    "    # pandas中先重置index再打乱train. 否则只会调整各个行的顺序，而不会改变pandas的index\n",
    "    # 重置\n",
    "    train_dataset = train_dataset.reset_index(drop=True)\n",
    "    # 打乱\n",
    "    indexMask = np.arange(len(train_dataset))\n",
    "    for i in range(10):\n",
    "        np.random.shuffle(indexMask)\n",
    "    train_dataset = train_dataset.iloc[indexMask]\n",
    "\n",
    "    return train_dataset, valid_dataset\n",
    "\n",
    "def shuffle(dataset):  \n",
    "    # 打乱\n",
    "    indexMask = np.arange(len(dataset))\n",
    "    for i in range(10):\n",
    "        np.random.shuffle(indexMask)\n",
    "    dataset = dataset.iloc[indexMask]\n",
    "    dataset = dataset.reset_index(drop=True)\n",
    "\n",
    "    return dataset \n",
    "\n",
    "#独热编码。选取distination port统计大于等于10以上的port作为新增维度\n",
    "def create_columns_for_destination_port(train_dataset):\n",
    "    countDictionary = Counter(train_dataset[' Destination Port'])\n",
    "    columns = []\n",
    "    columns.append('DestinationPort_Others')\n",
    "    for key in countDictionary:\n",
    "        if(countDictionary[key] >= 10):\n",
    "            columns.append('DestinationPort_' + str(key))\n",
    "    return columns\n",
    "\n",
    "def one_hot_process_for_destination_port(dataset, columns):\n",
    "    #重置索引\n",
    "    dataset = dataset.reset_index(drop=True)\n",
    "    #创建空表\n",
    "    DestinationPort_revert = pd.DataFrame(data=np.zeros(shape=(dataset.shape[0],len(columns))), columns = columns)\n",
    "    #填充空表\n",
    "    for i,value in enumerate(dataset[' Destination Port'].values):\n",
    "        name = \"DestinationPort_\" + str(value)\n",
    "        if name in columns:\n",
    "            DestinationPort_revert.loc[i, name] = 1\n",
    "        else:\n",
    "            DestinationPort_revert.loc[i, \"DestinationPort_Others\"] = 1\n",
    "    #与原表连接\n",
    "    dataset = pd.concat([dataset, DestinationPort_revert], axis=1)\n",
    "    #删除原表的destination port列\n",
    "    dataset = dataset.drop([' Destination Port'], axis=1)\n",
    "    return dataset  \n",
    "\n",
    "\n",
    "\n",
    "def labels_separate(dataset):\n",
    "    y_ = dataset[' Label']\n",
    "    temp = dataset\n",
    "    temp.drop([' Label'], axis=1, inplace=True)\n",
    "    x_ = temp.values\n",
    "    return x_, y_\n",
    "\n",
    "def labels_map(label):\n",
    "    if(type(label) == int):      #已是数字，无需处理\n",
    "        return label\n",
    "    if label == 'BENIGN':\n",
    "        return 0\n",
    "    if label == 'DoS':\n",
    "        return 1\n",
    "    if label == 'PortScan':\n",
    "        return 2\n",
    "    if label == 'DDoS':\n",
    "        return 3\n",
    "    if label == 'SSH-Patator':\n",
    "        return 4\n",
    "    if label == 'FTP-Patator':\n",
    "        return 5\n",
    "    if label == 'Web Attack':\n",
    "        return 6\n",
    "    if label == 'Bot':\n",
    "        return 7\n",
    "    return -1   #-1表示出错\n",
    "\n",
    "def filter_labels(dataset):\n",
    "    dataset[' Label'] = dataset[' Label'].apply(labels_map)\n",
    "    return dataset\n",
    "#特征选取\n",
    "def feature_selection(dataset):\n",
    "    return dataset[[\n",
    "        'Total Length of Fwd Packets', ' Fwd Packet Length Max', ' Fwd Packet Length Mean', \n",
    "        ' Bwd Packet Length Mean', ' Packet Length Mean', ' Packet Length Std', ' Average Packet Size', \n",
    "        ' Subflow Fwd Bytes', 'Init_Win_bytes_forward', ' Init_Win_bytes_backward', 'DestinationPort_80', \n",
    "        'DestinationPort_21', 'DestinationPort_22',\n",
    "        ' Label'\n",
    "    ]]"
   ]
  },
  {
   "cell_type": "code",
   "execution_count": 5,
   "metadata": {
    "ExecuteTime": {
     "end_time": "2020-07-23T13:46:41.553694Z",
     "start_time": "2020-07-23T13:45:54.951333Z"
    }
   },
   "outputs": [],
   "source": [
    "#DDoS\n",
    "df_1 = read_csv(\"../MachineLearningCVE/Friday-WorkingHours-Afternoon-DDos.pcap_ISCX.csv\")\n",
    "df_1 = df_1.drop(df_1[df_1[' Label'] == 'BENIGN'].index)\n",
    "df_1 = df_1.sample(n=5000,random_state=1, replace=False)\n",
    "df_1_train, df_1_test = split_valid_from_train(df_1, 0.2)\n",
    "#PortScan\n",
    "df_2 = read_csv(\"../MachineLearningCVE/Friday-WorkingHours-Afternoon-PortScan.pcap_ISCX.csv\")\n",
    "df_2 = df_2.drop(df_2[df_2[' Label'] == 'BENIGN'].index)\n",
    "df_2 = df_2.sample(n=5000,random_state=1, replace=False)\n",
    "df_2_train, df_2_test = split_valid_from_train(df_2, 0.2)\n",
    "#Bot\n",
    "df_3 = read_csv(\"../MachineLearningCVE/Friday-WorkingHours-Morning.pcap_ISCX.csv\")\n",
    "df_3 = df_3.drop(df_3[df_3[' Label'] == 'BENIGN'].index)\n",
    "df_3 = df_3.sample(n=5000,random_state=1, replace=True)\n",
    "df_3_train, df_3_test = split_valid_from_train(df_3, 0.2)\n",
    "#Benign\n",
    "df_4 = read_csv(\"../MachineLearningCVE/Monday-WorkingHours.pcap_ISCX.csv\")\n",
    "df_4 = df_4.sample(n=50000,random_state=1, replace=False)\n",
    "df_4_train, df_4_test = split_valid_from_train(df_4, 0.2)\n",
    "#Web attack\n",
    "df_6 = read_csv(\"../MachineLearningCVE/Thursday-WorkingHours-Morning-WebAttacks.pcap_ISCX.csv\")\n",
    "df_6 = df_6.drop(df_6[df_6[' Label'] == 'BENIGN'].index)\n",
    "df_6 = df_6.sample(n=5000,random_state=1, replace=True)\n",
    "df_6[' Label'] = df_6[' Label'].apply(lambda x: 'Web Attack')\n",
    "df_6_train, df_6_test = split_valid_from_train(df_6, 0.2)\n",
    "#FTP-Patator and SSH-Patator\n",
    "df_7 = read_csv(\"../MachineLearningCVE/Tuesday-WorkingHours.pcap_ISCX.csv\")\n",
    "df_7 = df_7.drop(df_7[df_7[' Label'] == 'BENIGN'].index)\n",
    "df_7_1 = df_7.drop(df_7[df_7[' Label'] == 'FTP-Patator'].index)\n",
    "df_7_2 = df_7.drop(df_7[df_7[' Label'] == 'SSH-Patator'].index)\n",
    "df_7_1 = df_7_1.sample(n=5000,random_state=1, replace=False)\n",
    "df_7_2 = df_7_2.sample(n=5000,random_state=1, replace=False)\n",
    "df_7_1_train, df_7_1_test = split_valid_from_train(df_7_1, 0.2)\n",
    "df_7_2_train, df_7_2_test = split_valid_from_train(df_7_2, 0.2)\n",
    "#DoS\n",
    "df_8 = read_csv(\"../MachineLearningCVE/Wednesday-workingHours.pcap_ISCX.csv\")\n",
    "df_8 = df_8.drop(df_8[df_8[' Label'] == 'BENIGN'].index)\n",
    "df_8 = df_8.sample(n=5000,random_state=1, replace=False)\n",
    "df_8[' Label'] = df_8[' Label'].apply(lambda x: 'DoS')\n",
    "df_8_train, df_8_test = split_valid_from_train(df_8, 0.2)\n",
    "\n",
    "#整合\n",
    "df_train = df_1_train.append([df_2_train, df_3_train, df_4_train, df_6_train, df_7_1_train,df_7_2_train,df_8_train])\n",
    "df_test = df_1_test.append([df_2_test, df_3_test, df_4_test, df_6_test, df_7_1_test,df_7_2_test,df_8_test])"
   ]
  },
  {
   "cell_type": "code",
   "execution_count": 6,
   "metadata": {
    "ExecuteTime": {
     "end_time": "2020-07-23T13:46:41.614351Z",
     "start_time": "2020-07-23T13:46:41.584937Z"
    }
   },
   "outputs": [
    {
     "name": "stdout",
     "output_type": "stream",
     "text": [
      "(68000, 79)\n",
      "BENIGN         40000\n",
      "PortScan        4000\n",
      "SSH-Patator     4000\n",
      "FTP-Patator     4000\n",
      "DoS             4000\n",
      "Web Attack      4000\n",
      "Bot             4000\n",
      "DDoS            4000\n",
      "Name:  Label, dtype: int64\n",
      "(17000, 79)\n",
      "BENIGN         10000\n",
      "DDoS            1000\n",
      "PortScan        1000\n",
      "SSH-Patator     1000\n",
      "FTP-Patator     1000\n",
      "DoS             1000\n",
      "Web Attack      1000\n",
      "Bot             1000\n",
      "Name:  Label, dtype: int64\n"
     ]
    }
   ],
   "source": [
    "print(df_train.shape)\n",
    "print(df_train.loc[:,' Label'].value_counts())\n",
    "print(df_test.shape)\n",
    "print(df_test.loc[:,' Label'].value_counts())"
   ]
  },
  {
   "cell_type": "code",
   "execution_count": 7,
   "metadata": {
    "ExecuteTime": {
     "end_time": "2020-07-23T13:46:41.674003Z",
     "start_time": "2020-07-23T13:46:41.624087Z"
    }
   },
   "outputs": [
    {
     "name": "stdout",
     "output_type": "stream",
     "text": [
      "5372000\n",
      "10880000\n",
      "(17000, 79)\n"
     ]
    }
   ],
   "source": [
    "print(df_train.size)\n",
    "print(df_test.memory_usage().sum())\n",
    "print(df_test.shape)"
   ]
  },
  {
   "cell_type": "code",
   "execution_count": 8,
   "metadata": {
    "ExecuteTime": {
     "end_time": "2020-07-23T13:46:58.283204Z",
     "start_time": "2020-07-23T13:46:41.679148Z"
    }
   },
   "outputs": [],
   "source": [
    "#整合后再乱序一下\n",
    "df_train = shuffle(df_train)\n",
    "#标签的字符转化成数字\n",
    "df_train = filter_labels(df_train)\n",
    "#对destination port进行独热编码\n",
    "columns = create_columns_for_destination_port(df_train)\n",
    "df_train = one_hot_process_for_destination_port(df_train, columns)\n",
    "#特征选择\n",
    "df_train = feature_selection(df_train)\n",
    "#分离标签\n",
    "df_train_X, df_train_y = labels_separate(df_train)\n",
    "#Normalization\n",
    "scaler = preprocessing.MinMaxScaler()\n",
    "df_train_X = scaler.fit_transform(df_train_X)"
   ]
  },
  {
   "cell_type": "code",
   "execution_count": 9,
   "metadata": {
    "ExecuteTime": {
     "end_time": "2020-07-23T13:47:02.355501Z",
     "start_time": "2020-07-23T13:46:58.285195Z"
    }
   },
   "outputs": [],
   "source": [
    "df_test = filter_labels(df_test)\n",
    "df_test = one_hot_process_for_destination_port(df_test, columns)\n",
    "df_test = feature_selection(df_test)\n",
    "df_test_X, df_test_y = labels_separate(df_test)\n",
    "df_test_X = scaler.fit_transform(df_test_X)"
   ]
  },
  {
   "cell_type": "code",
   "execution_count": 10,
   "metadata": {
    "ExecuteTime": {
     "end_time": "2020-07-23T13:53:02.057119Z",
     "start_time": "2020-07-23T13:47:02.357460Z"
    }
   },
   "outputs": [],
   "source": [
    "thresholds = get_score_threshold(df_train_X, df_train_y)"
   ]
  },
  {
   "cell_type": "code",
   "execution_count": 11,
   "metadata": {
    "ExecuteTime": {
     "end_time": "2020-07-23T13:53:02.065938Z",
     "start_time": "2020-07-23T13:53:02.059750Z"
    }
   },
   "outputs": [
    {
     "name": "stdout",
     "output_type": "stream",
     "text": [
      "[-1.5359972730466047, -2.39628491304749, -0.06578879416977884, -5.3861775465640385, -1.381310173920737, -4.914427872661199, -0.4721147549358896, -1.349312098006745]\n"
     ]
    }
   ],
   "source": [
    "print(thresholds)"
   ]
  },
  {
   "cell_type": "code",
   "execution_count": 12,
   "metadata": {
    "ExecuteTime": {
     "end_time": "2020-07-23T14:44:18.579487Z",
     "start_time": "2020-07-23T13:53:02.069255Z"
    }
   },
   "outputs": [],
   "source": [
    "df_train_X = create_distribution_score(df_train_X, thresholds)"
   ]
  },
  {
   "cell_type": "code",
   "execution_count": 13,
   "metadata": {
    "ExecuteTime": {
     "end_time": "2020-07-23T14:57:05.794893Z",
     "start_time": "2020-07-23T14:44:18.582566Z"
    }
   },
   "outputs": [],
   "source": [
    "df_test_X = create_distribution_score(df_test_X, thresholds)"
   ]
  },
  {
   "cell_type": "code",
   "execution_count": 14,
   "metadata": {
    "ExecuteTime": {
     "end_time": "2020-07-23T14:57:05.808007Z",
     "start_time": "2020-07-23T14:57:05.798696Z"
    }
   },
   "outputs": [
    {
     "name": "stdout",
     "output_type": "stream",
     "text": [
      "(68000, 21)\n"
     ]
    }
   ],
   "source": [
    "print(df_train_X.shape)"
   ]
  },
  {
   "cell_type": "code",
   "execution_count": 45,
   "metadata": {
    "ExecuteTime": {
     "end_time": "2020-07-24T02:27:27.285723Z",
     "start_time": "2020-07-24T02:27:27.271911Z"
    }
   },
   "outputs": [],
   "source": [
    "import tensorflow as tf\n",
    "from tensorflow import keras\n",
    "from sklearn.metrics import f1_score, precision_score, recall_score\n",
    "from sklearn.metrics import classification_report\n",
    "from tensorflow.keras.layers import BatchNormalization\n",
    "#超参数设置\n",
    "learning_rate = 0.001\n",
    "epochs = 30\n",
    "batch_size = 256\n",
    "activation = tf.nn.relu         #非输出层下的激活函数"
   ]
  },
  {
   "cell_type": "code",
   "execution_count": 105,
   "metadata": {
    "ExecuteTime": {
     "end_time": "2020-07-24T03:54:45.757704Z",
     "start_time": "2020-07-24T03:51:09.820046Z"
    }
   },
   "outputs": [
    {
     "name": "stdout",
     "output_type": "stream",
     "text": [
      "_________________________________________________________________\n",
      "Layer (type)                 Output Shape              Param #   \n",
      "=================================================================\n",
      "dense_59 (Dense)             (None, 21)                462       \n",
      "_________________________________________________________________\n",
      "batch_normalization_v1_44 (B (None, 21)                84        \n",
      "_________________________________________________________________\n",
      "dense_60 (Dense)             (None, 128)               2816      \n",
      "_________________________________________________________________\n",
      "batch_normalization_v1_45 (B (None, 128)               512       \n",
      "_________________________________________________________________\n",
      "dense_61 (Dense)             (None, 64)                8256      \n",
      "_________________________________________________________________\n",
      "batch_normalization_v1_46 (B (None, 64)                256       \n",
      "_________________________________________________________________\n",
      "dense_62 (Dense)             (None, 32)                2080      \n",
      "_________________________________________________________________\n",
      "batch_normalization_v1_47 (B (None, 32)                128       \n",
      "_________________________________________________________________\n",
      "dense_63 (Dense)             (None, 8)                 264       \n",
      "=================================================================\n",
      "Total params: 14,858\n",
      "Trainable params: 14,368\n",
      "Non-trainable params: 490\n",
      "_________________________________________________________________\n",
      "Train on 68000 samples, validate on 17000 samples\n",
      "Epoch 1/30\n",
      "67328/68000 [============================>.] - ETA: 0s - loss: 0.5234 - acc: 0.8499"
     ]
    },
    {
     "name": "stderr",
     "output_type": "stream",
     "text": [
      "/opt/conda/lib/python3.7/site-packages/sklearn/metrics/classification.py:1143: UndefinedMetricWarning: Precision is ill-defined and being set to 0.0 in labels with no predicted samples.\n",
      "  'precision', 'predicted', average, warn_for)\n",
      "/opt/conda/lib/python3.7/site-packages/sklearn/metrics/classification.py:1143: UndefinedMetricWarning: F-score is ill-defined and being set to 0.0 in labels with no predicted samples.\n",
      "  'precision', 'predicted', average, warn_for)\n"
     ]
    },
    {
     "name": "stdout",
     "output_type": "stream",
     "text": [
      "\n",
      "Epoch 00001: val_loss improved from inf to 0.96182, saving model to ./Test7_model.h5\n",
      "WARNING:tensorflow:TensorFlow optimizers do not make it possible to access optimizer attributes or optimizer state after instantiation. As a result, we cannot save the optimizer as part of the model save file.You will have to compile your model again after loading it. Prefer using a Keras optimizer instead (see keras.io/optimizers).\n",
      "68000/68000 [==============================] - 16s 230us/sample - loss: 0.5213 - acc: 0.8501 - val_loss: 0.9618 - val_acc: 0.6776\n",
      "Epoch 2/30\n",
      "67584/68000 [============================>.] - ETA: 0s - loss: 0.2722 - acc: 0.9053\n",
      "Epoch 00002: val_loss improved from 0.96182 to 0.52245, saving model to ./Test7_model.h5\n",
      "WARNING:tensorflow:TensorFlow optimizers do not make it possible to access optimizer attributes or optimizer state after instantiation. As a result, we cannot save the optimizer as part of the model save file.You will have to compile your model again after loading it. Prefer using a Keras optimizer instead (see keras.io/optimizers).\n",
      "68000/68000 [==============================] - 7s 100us/sample - loss: 0.2721 - acc: 0.9053 - val_loss: 0.5225 - val_acc: 0.7977\n",
      "Epoch 3/30\n",
      "67840/68000 [============================>.] - ETA: 0s - loss: 0.2305 - acc: 0.9147\n",
      "Epoch 00003: val_loss did not improve from 0.52245\n",
      "68000/68000 [==============================] - 7s 106us/sample - loss: 0.2304 - acc: 0.9147 - val_loss: 0.6376 - val_acc: 0.8598\n",
      "Epoch 4/30\n",
      "67584/68000 [============================>.] - ETA: 0s - loss: 0.2142 - acc: 0.9175\n",
      "Epoch 00004: val_loss improved from 0.52245 to 0.33414, saving model to ./Test7_model.h5\n",
      "WARNING:tensorflow:TensorFlow optimizers do not make it possible to access optimizer attributes or optimizer state after instantiation. As a result, we cannot save the optimizer as part of the model save file.You will have to compile your model again after loading it. Prefer using a Keras optimizer instead (see keras.io/optimizers).\n",
      "68000/68000 [==============================] - 7s 96us/sample - loss: 0.2141 - acc: 0.9175 - val_loss: 0.3341 - val_acc: 0.8827\n",
      "Epoch 5/30\n",
      "67840/68000 [============================>.] - ETA: 0s - loss: 0.2047 - acc: 0.9205\n",
      "Epoch 00005: val_loss improved from 0.33414 to 0.28337, saving model to ./Test7_model.h5\n",
      "WARNING:tensorflow:TensorFlow optimizers do not make it possible to access optimizer attributes or optimizer state after instantiation. As a result, we cannot save the optimizer as part of the model save file.You will have to compile your model again after loading it. Prefer using a Keras optimizer instead (see keras.io/optimizers).\n",
      "68000/68000 [==============================] - 7s 97us/sample - loss: 0.2047 - acc: 0.9204 - val_loss: 0.2834 - val_acc: 0.8646\n",
      "Epoch 6/30\n",
      "67072/68000 [============================>.] - ETA: 0s - loss: 0.1966 - acc: 0.9222\n",
      "Epoch 00006: val_loss did not improve from 0.28337\n",
      "68000/68000 [==============================] - 7s 99us/sample - loss: 0.1963 - acc: 0.9224 - val_loss: 0.7789 - val_acc: 0.8175\n",
      "Epoch 7/30\n",
      "67328/68000 [============================>.] - ETA: 0s - loss: 0.1850 - acc: 0.9236\n",
      "Epoch 00007: val_loss did not improve from 0.28337\n",
      "68000/68000 [==============================] - 6s 94us/sample - loss: 0.1852 - acc: 0.9235 - val_loss: 0.4299 - val_acc: 0.8856\n",
      "Epoch 8/30\n",
      "67840/68000 [============================>.] - ETA: 0s - loss: 0.1750 - acc: 0.9263\n",
      "Epoch 00008: val_loss did not improve from 0.28337\n",
      "68000/68000 [==============================] - 7s 107us/sample - loss: 0.1750 - acc: 0.9262 - val_loss: 0.5915 - val_acc: 0.8929\n",
      "Epoch 9/30\n",
      "67328/68000 [============================>.] - ETA: 0s - loss: 0.1672 - acc: 0.9303\n",
      "Epoch 00009: val_loss did not improve from 0.28337\n",
      "68000/68000 [==============================] - 7s 101us/sample - loss: 0.1674 - acc: 0.9302 - val_loss: 0.6228 - val_acc: 0.8470\n",
      "Epoch 10/30\n",
      "67584/68000 [============================>.] - ETA: 0s - loss: 0.1645 - acc: 0.9313\n",
      "Epoch 00010: val_loss improved from 0.28337 to 0.25392, saving model to ./Test7_model.h5\n",
      "WARNING:tensorflow:TensorFlow optimizers do not make it possible to access optimizer attributes or optimizer state after instantiation. As a result, we cannot save the optimizer as part of the model save file.You will have to compile your model again after loading it. Prefer using a Keras optimizer instead (see keras.io/optimizers).\n",
      "68000/68000 [==============================] - 8s 118us/sample - loss: 0.1642 - acc: 0.9315 - val_loss: 0.2539 - val_acc: 0.8673\n",
      "Epoch 11/30\n",
      "67328/68000 [============================>.] - ETA: 0s - loss: 0.1587 - acc: 0.9363\n",
      "Epoch 00011: val_loss did not improve from 0.25392\n",
      "68000/68000 [==============================] - 7s 108us/sample - loss: 0.1588 - acc: 0.9362 - val_loss: 0.3655 - val_acc: 0.8722\n",
      "Epoch 12/30\n",
      "67584/68000 [============================>.] - ETA: 0s - loss: 0.1526 - acc: 0.9388\n",
      "Epoch 00012: val_loss did not improve from 0.25392\n",
      "68000/68000 [==============================] - 8s 122us/sample - loss: 0.1528 - acc: 0.9387 - val_loss: 1.0328 - val_acc: 0.8614\n",
      "Epoch 13/30\n",
      "67584/68000 [============================>.] - ETA: 0s - loss: 0.1458 - acc: 0.9441\n",
      "Epoch 00013: val_loss did not improve from 0.25392\n",
      "68000/68000 [==============================] - 7s 96us/sample - loss: 0.1459 - acc: 0.9441 - val_loss: 0.4343 - val_acc: 0.9147\n",
      "Epoch 14/30\n",
      "67328/68000 [============================>.] - ETA: 0s - loss: 0.1500 - acc: 0.9434\n",
      "Epoch 00014: val_loss did not improve from 0.25392\n",
      "68000/68000 [==============================] - 6s 90us/sample - loss: 0.1500 - acc: 0.9434 - val_loss: 0.5817 - val_acc: 0.8749\n",
      "Epoch 15/30\n",
      "67840/68000 [============================>.] - ETA: 0s - loss: 0.1379 - acc: 0.9471\n",
      "Epoch 00015: val_loss did not improve from 0.25392\n",
      "68000/68000 [==============================] - 6s 91us/sample - loss: 0.1378 - acc: 0.9471 - val_loss: 0.3754 - val_acc: 0.8824\n",
      "Epoch 16/30\n",
      "67584/68000 [============================>.] - ETA: 0s - loss: 0.1349 - acc: 0.9496\n",
      "Epoch 00016: val_loss did not improve from 0.25392\n",
      "68000/68000 [==============================] - 6s 85us/sample - loss: 0.1350 - acc: 0.9495 - val_loss: 0.9952 - val_acc: 0.8524\n",
      "Epoch 17/30\n",
      "67584/68000 [============================>.] - ETA: 0s - loss: 0.1376 - acc: 0.9485\n",
      "Epoch 00017: val_loss did not improve from 0.25392\n",
      "68000/68000 [==============================] - 6s 86us/sample - loss: 0.1376 - acc: 0.9485 - val_loss: 0.2827 - val_acc: 0.9166\n",
      "Epoch 18/30\n",
      "67584/68000 [============================>.] - ETA: 0s - loss: 0.1337 - acc: 0.9500\n",
      "Epoch 00018: val_loss did not improve from 0.25392\n",
      "68000/68000 [==============================] - 6s 95us/sample - loss: 0.1334 - acc: 0.9501 - val_loss: 0.7365 - val_acc: 0.8555\n",
      "Epoch 19/30\n",
      "67840/68000 [============================>.] - ETA: 0s - loss: 0.1240 - acc: 0.9538\n",
      "Epoch 00019: val_loss did not improve from 0.25392\n",
      "68000/68000 [==============================] - 7s 100us/sample - loss: 0.1241 - acc: 0.9538 - val_loss: 0.5544 - val_acc: 0.8938\n",
      "Epoch 20/30\n",
      "67328/68000 [============================>.] - ETA: 0s - loss: 0.1232 - acc: 0.9535\n",
      "Epoch 00020: val_loss did not improve from 0.25392\n",
      "68000/68000 [==============================] - 6s 94us/sample - loss: 0.1230 - acc: 0.9537 - val_loss: 0.6864 - val_acc: 0.9044\n",
      "Epoch 21/30\n",
      "66816/68000 [============================>.] - ETA: 0s - loss: 0.1205 - acc: 0.9555\n",
      "Epoch 00021: val_loss did not improve from 0.25392\n",
      "68000/68000 [==============================] - 7s 100us/sample - loss: 0.1205 - acc: 0.9554 - val_loss: 1.0466 - val_acc: 0.8779\n",
      "Epoch 22/30\n",
      "67584/68000 [============================>.] - ETA: 0s - loss: 0.1192 - acc: 0.9561\n",
      "Epoch 00022: val_loss did not improve from 0.25392\n",
      "68000/68000 [==============================] - 7s 100us/sample - loss: 0.1191 - acc: 0.9562 - val_loss: 0.6418 - val_acc: 0.8356\n",
      "Epoch 23/30\n",
      "67840/68000 [============================>.] - ETA: 0s - loss: 0.1170 - acc: 0.9579\n",
      "Epoch 00023: val_loss did not improve from 0.25392\n",
      "68000/68000 [==============================] - 7s 101us/sample - loss: 0.1171 - acc: 0.9580 - val_loss: 0.7090 - val_acc: 0.8868\n",
      "Epoch 24/30\n",
      "67840/68000 [============================>.] - ETA: 0s - loss: 0.1162 - acc: 0.9571\n",
      "Epoch 00024: val_loss did not improve from 0.25392\n",
      "68000/68000 [==============================] - 6s 85us/sample - loss: 0.1161 - acc: 0.9571 - val_loss: 0.8902 - val_acc: 0.7943\n"
     ]
    },
    {
     "name": "stdout",
     "output_type": "stream",
     "text": [
      "Epoch 25/30\n",
      "67840/68000 [============================>.] - ETA: 0s - loss: 0.1244 - acc: 0.9527\n",
      "Epoch 00025: val_loss did not improve from 0.25392\n",
      "68000/68000 [==============================] - 6s 91us/sample - loss: 0.1243 - acc: 0.9527 - val_loss: 0.6190 - val_acc: 0.8999\n",
      "Epoch 26/30\n",
      "67584/68000 [============================>.] - ETA: 0s - loss: 0.1166 - acc: 0.9555\n",
      "Epoch 00026: val_loss did not improve from 0.25392\n",
      "68000/68000 [==============================] - 8s 111us/sample - loss: 0.1165 - acc: 0.9556 - val_loss: 0.5603 - val_acc: 0.8641\n",
      "Epoch 27/30\n",
      "67328/68000 [============================>.] - ETA: 0s - loss: 0.1120 - acc: 0.9593\n",
      "Epoch 00027: val_loss did not improve from 0.25392\n",
      "68000/68000 [==============================] - 5s 80us/sample - loss: 0.1121 - acc: 0.9593 - val_loss: 0.4407 - val_acc: 0.9038\n",
      "Epoch 28/30\n",
      "67328/68000 [============================>.] - ETA: 0s - loss: 0.1095 - acc: 0.9599\n",
      "Epoch 00028: val_loss did not improve from 0.25392\n",
      "68000/68000 [==============================] - 5s 77us/sample - loss: 0.1095 - acc: 0.9599 - val_loss: 0.5263 - val_acc: 0.9216\n",
      "Epoch 29/30\n",
      "67584/68000 [============================>.] - ETA: 0s - loss: 0.1061 - acc: 0.9609\n",
      "Epoch 00029: val_loss did not improve from 0.25392\n",
      "68000/68000 [==============================] - 5s 74us/sample - loss: 0.1062 - acc: 0.9609 - val_loss: 0.6515 - val_acc: 0.8844\n",
      "Epoch 30/30\n",
      "67072/68000 [============================>.] - ETA: 0s - loss: 0.1071 - acc: 0.9607\n",
      "Epoch 00030: val_loss did not improve from 0.25392\n",
      "68000/68000 [==============================] - 5s 70us/sample - loss: 0.1071 - acc: 0.9607 - val_loss: 0.5839 - val_acc: 0.8822\n"
     ]
    }
   ],
   "source": [
    "#用于记录训练中每个batch的loss\n",
    "class LossHistory(keras.callbacks.Callback):\n",
    "    def on_train_begin(self, logs={}):\n",
    "        self.train_losses_per_batch = []\n",
    "        self.train_losses_per_epoch = []\n",
    "        self.valid_losses_per_epoch = []\n",
    "        \n",
    "    def on_batch_end(self, batch, logs={}):\n",
    "        self.train_losses_per_batch.append(logs.get('loss'))\n",
    "        \n",
    "    def on_epoch_end(self, epoch, logs={}):\n",
    "        self.train_losses_per_epoch.append(logs.get('loss'))\n",
    "        self.valid_losses_per_epoch.append(logs.get('val_loss')*4)   #验证集由于只有1/4的训练集大小所以损失要乘以4\n",
    "#用于记录训练中每个epoch的召回率，精确度以及f1 score\n",
    "class Metrics(keras.callbacks.Callback):\n",
    "    def on_train_begin(self, logs={}):\n",
    "        self.val_f1s = []\n",
    "        self.val_recalls = []\n",
    "        self.val_precisions = []\n",
    "        return\n",
    "\n",
    "    def on_epoch_end(self, epoch, logs={}):\n",
    "        predictions = self.model.predict(df_test_X)\n",
    "        val_predict = np.argmax(predictions, axis=1)     #把独热编码转化成数字\n",
    "        val_targ = df_test_y\n",
    "        _val_recall = recall_score(val_targ, val_predict, average='macro')\n",
    "        _val_precision = precision_score(val_targ, val_predict, average='macro')\n",
    "        _val_f1 = f1_score(val_targ, val_predict, average='macro')\n",
    "        self.val_f1s.append(_val_f1)\n",
    "        self.val_recalls.append(_val_recall)\n",
    "        self.val_precisions.append(_val_precision)\n",
    "        return       \n",
    "#回调：模型跑完epoch后选取最好的epoch模型保存，选取标准为验证集损失最小的那一个\n",
    "checkpoint = keras.callbacks.ModelCheckpoint(      \n",
    "    \"./Test7_model.h5\",\n",
    "    monitor='val_loss',\n",
    "    verbose=1,\n",
    "    save_best_only=True,\n",
    "    mode='min',\n",
    "    period=1\n",
    ")\n",
    "def simple_model():\n",
    "    model = keras.Sequential([\n",
    "        keras.layers.Dense(df_train_X.shape[1], activation=activation, input_shape=(df_train_X.shape[1],)),\n",
    "        BatchNormalization(),\n",
    "        keras.layers.Dense(128, activation=activation),\n",
    "        BatchNormalization(),\n",
    "        keras.layers.Dense(64, activation=activation),\n",
    "        BatchNormalization(),\n",
    "        keras.layers.Dense(32, activation=activation),\n",
    "        BatchNormalization(),\n",
    "        keras.layers.Dense(8,activation=tf.nn.softmax)\n",
    "    ])\n",
    "    model.compile(optimizer =tf.train.AdamOptimizer(learning_rate=learning_rate),\n",
    "        loss=\"sparse_categorical_crossentropy\",\n",
    "        metrics=['accuracy']\n",
    "    )\n",
    "    model.summary()\n",
    "    history = LossHistory()\n",
    "    metrics = Metrics()\n",
    "    model.fit(\n",
    "        df_train_X,df_train_y,\n",
    "        validation_data=[df_test_X, df_test_y],\n",
    "        batch_size=batch_size,epochs=epochs,\n",
    "        callbacks=[history, metrics, checkpoint]\n",
    "    )   \n",
    "    return model,history,metrics\n",
    "model,history,metrics = simple_model()"
   ]
  },
  {
   "cell_type": "code",
   "execution_count": 106,
   "metadata": {
    "ExecuteTime": {
     "end_time": "2020-07-24T03:54:53.213121Z",
     "start_time": "2020-07-24T03:54:53.194153Z"
    }
   },
   "outputs": [],
   "source": [
    "import matplotlib.pyplot as plt\n",
    "import matplotlib\n",
    "\n",
    "%matplotlib inline\n",
    "matplotlib.rcParams['font.sans-serif'] = ['SimHei']"
   ]
  },
  {
   "cell_type": "code",
   "execution_count": 107,
   "metadata": {
    "ExecuteTime": {
     "end_time": "2020-07-24T03:55:02.338813Z",
     "start_time": "2020-07-24T03:55:01.045320Z"
    }
   },
   "outputs": [
    {
     "data": {
      "image/png": "[encoded data removed]",
      "text/plain": [
       "<Figure size 1080x288 with 1 Axes>"
      ]
     },
     "metadata": {
      "needs_background": "light"
     },
     "output_type": "display_data"
    },
    {
     "data": {
      "image/png": "[encoded data removed]",
      "text/plain": [
       "<Figure size 1080x288 with 1 Axes>"
      ]
     },
     "metadata": {
      "needs_background": "light"
     },
     "output_type": "display_data"
    }
   ],
   "source": [
    "#绘制训练集在batch下的损失变化\n",
    "plt.title('The Cost with batchs runs',fontsize=30)\n",
    "plt.xlabel('batchs',fontsize=20)\n",
    "plt.ylabel('Cost',fontsize=20)\n",
    "plt.xticks(fontsize=20)\n",
    "plt.yticks(fontsize=20)\n",
    "plt.plot(history.train_losses_per_batch)\n",
    "plt.gcf().set_size_inches(15,4)\n",
    "plt.show()\n",
    "#绘制训练集与验证集在epoch下的损失比较\n",
    "plt.title('The Cost with epoches runs',fontsize=30)\n",
    "plt.xlabel('epoch',fontsize=20)\n",
    "plt.ylabel('Cost',fontsize=20)\n",
    "plt.xticks(fontsize=20)\n",
    "plt.yticks(fontsize=20)\n",
    "plt.plot(history.train_losses_per_epoch, '-o', label='train')\n",
    "plt.plot(history.valid_losses_per_epoch, '-o', label='valid')\n",
    "plt.legend(fontsize=30,loc='upper right')\n",
    "plt.gcf().set_size_inches(15,4)\n",
    "plt.show()"
   ]
  },
  {
   "cell_type": "code",
   "execution_count": 108,
   "metadata": {
    "ExecuteTime": {
     "end_time": "2020-07-24T03:55:24.477397Z",
     "start_time": "2020-07-24T03:55:10.664116Z"
    }
   },
   "outputs": [
    {
     "name": "stdout",
     "output_type": "stream",
     "text": [
      "WARNING:tensorflow:No training configuration found in save file: the model was *not* compiled. Compile it manually.\n",
      "17000/17000 [==============================] - 3s 166us/sample - loss: 0.2539 - acc: 0.8673\n",
      "Test accuracy: 0.86729413\n"
     ]
    }
   ],
   "source": [
    "#选取验证集准确率最高的模型\n",
    "model = keras.models.load_model('./Test7_model.h5') \n",
    "model.compile(optimizer =tf.train.AdamOptimizer(learning_rate=learning_rate),\n",
    "    loss=\"sparse_categorical_crossentropy\",\n",
    "    metrics=['accuracy']\n",
    ")\n",
    "#测试集的正确率\n",
    "def use_evaluate_test():\n",
    "    test_loss,test_acc = model.evaluate(df_test_X,df_test_y)\n",
    "    print('Test accuracy:', test_acc)\n",
    "    return \n",
    "use_evaluate_test()"
   ]
  },
  {
   "cell_type": "code",
   "execution_count": 109,
   "metadata": {
    "ExecuteTime": {
     "end_time": "2020-07-24T03:55:38.582284Z",
     "start_time": "2020-07-24T03:55:34.314875Z"
    }
   },
   "outputs": [
    {
     "name": "stdout",
     "output_type": "stream",
     "text": [
      "              precision    recall  f1-score   support\n",
      "\n",
      "      BENIGN       0.85      0.94      0.90     10000\n",
      "         DoS       0.98      0.64      0.78      1000\n",
      "    PortScan       0.79      0.48      0.60      1000\n",
      "        DDoS       0.93      0.60      0.73      1000\n",
      " SSH-Patator       0.97      1.00      0.98      1000\n",
      " FTP-Patator       0.99      1.00      0.99      1000\n",
      "  Web Attack       0.94      0.91      0.92      1000\n",
      "         Bot       0.67      0.66      0.67      1000\n",
      "\n",
      "   micro avg       0.87      0.87      0.87     17000\n",
      "   macro avg       0.89      0.78      0.82     17000\n",
      "weighted avg       0.87      0.87      0.86     17000\n",
      "\n"
     ]
    }
   ],
   "source": [
    "predictions = model.predict(df_test_X)\n",
    "print(classification_report(df_test_y, np.argmax(predictions, axis=1) , target_names=labelList))"
   ]
  },
  {
   "cell_type": "code",
   "execution_count": 21,
   "metadata": {
    "ExecuteTime": {
     "end_time": "2020-07-23T14:58:59.126576Z",
     "start_time": "2020-07-23T14:58:59.118148Z"
    }
   },
   "outputs": [],
   "source": [
    "def save_classifier(obj, name ):\n",
    "    with open('../Test11/'+ name + '.pkl', 'wb') as f:\n",
    "        pickle.dump(obj, f, pickle.HIGHEST_PROTOCOL)\n",
    "        "
   ]
  },
  {
   "cell_type": "code",
   "execution_count": 22,
   "metadata": {
    "ExecuteTime": {
     "end_time": "2020-07-23T14:58:59.770136Z",
     "start_time": "2020-07-23T14:58:59.136566Z"
    }
   },
   "outputs": [],
   "source": [
    "from sklearn.metrics import accuracy_score\n",
    "from sklearn.tree import DecisionTreeClassifier\n",
    "\n",
    "\n",
    "# 运行程序\n",
    "clf = DecisionTreeClassifier(criterion='entropy', min_samples_leaf=3)\n",
    "dt_clf = clf.fit(df_train_X, df_train_y)\n",
    "save_classifier(dt_clf, \"DT\")"
   ]
  },
  {
   "cell_type": "code",
   "execution_count": 23,
   "metadata": {
    "ExecuteTime": {
     "end_time": "2020-07-23T14:58:59.803691Z",
     "start_time": "2020-07-23T14:58:59.782705Z"
    }
   },
   "outputs": [
    {
     "name": "stdout",
     "output_type": "stream",
     "text": [
      "[0 0 0 ... 1 1 1]\n",
      "0.8950588235294118\n",
      "15388\n"
     ]
    }
   ],
   "source": [
    "tracemalloc.start()\n",
    "predictions = dt_clf.predict(df_test_X)\n",
    "print(predictions)\n",
    "print(accuracy_score(df_test_y, predictions))\n",
    "print(tracemalloc.get_tracemalloc_memory())"
   ]
  },
  {
   "cell_type": "code",
   "execution_count": 34,
   "metadata": {
    "ExecuteTime": {
     "end_time": "2020-07-24T01:29:40.492599Z",
     "start_time": "2020-07-24T01:29:25.012085Z"
    }
   },
   "outputs": [
    {
     "name": "stdout",
     "output_type": "stream",
     "text": [
      "0.901\n",
      "              precision    recall  f1-score   support\n",
      "\n",
      "      BENIGN       0.86      0.99      0.92     10000\n",
      "         DoS       0.99      0.99      0.99      1000\n",
      "    PortScan       1.00      0.49      0.65      1000\n",
      "        DDoS       0.98      0.17      0.30      1000\n",
      " SSH-Patator       1.00      1.00      1.00      1000\n",
      " FTP-Patator       0.99      1.00      0.99      1000\n",
      "  Web Attack       0.97      0.99      0.98      1000\n",
      "         Bot       0.99      0.73      0.84      1000\n",
      "\n",
      "   micro avg       0.90      0.90      0.90     17000\n",
      "   macro avg       0.97      0.80      0.84     17000\n",
      "weighted avg       0.91      0.90      0.88     17000\n",
      "\n",
      "0.9021764705882352\n",
      "              precision    recall  f1-score   support\n",
      "\n",
      "      BENIGN       0.86      0.99      0.92     10000\n",
      "         DoS       0.99      0.99      0.99      1000\n",
      "    PortScan       1.00      1.00      1.00      1000\n",
      "        DDoS       0.96      0.07      0.13      1000\n",
      " SSH-Patator       1.00      1.00      1.00      1000\n",
      " FTP-Patator       0.99      1.00      0.99      1000\n",
      "  Web Attack       0.97      0.99      0.98      1000\n",
      "         Bot       0.98      0.35      0.52      1000\n",
      "\n",
      "   micro avg       0.90      0.90      0.90     17000\n",
      "   macro avg       0.97      0.80      0.82     17000\n",
      "weighted avg       0.91      0.90      0.87     17000\n",
      "\n",
      "0.909235294117647\n",
      "              precision    recall  f1-score   support\n",
      "\n",
      "      BENIGN       0.87      1.00      0.93     10000\n",
      "         DoS       0.99      0.99      0.99      1000\n",
      "    PortScan       1.00      1.00      1.00      1000\n",
      "        DDoS       0.98      0.17      0.30      1000\n",
      " SSH-Patator       1.00      1.00      1.00      1000\n",
      " FTP-Patator       1.00      1.00      1.00      1000\n",
      "  Web Attack       0.97      0.99      0.98      1000\n",
      "         Bot       0.99      0.35      0.52      1000\n",
      "\n",
      "   micro avg       0.91      0.91      0.91     17000\n",
      "   macro avg       0.97      0.81      0.84     17000\n",
      "weighted avg       0.92      0.91      0.89     17000\n",
      "\n",
      "0.9208235294117647\n",
      "              precision    recall  f1-score   support\n",
      "\n",
      "      BENIGN       0.89      0.99      0.94     10000\n",
      "         DoS       0.99      0.99      0.99      1000\n",
      "    PortScan       1.00      1.00      1.00      1000\n",
      "        DDoS       0.25      0.00      0.00      1000\n",
      " SSH-Patator       1.00      1.00      1.00      1000\n",
      " FTP-Patator       0.99      1.00      0.99      1000\n",
      "  Web Attack       0.97      0.99      0.98      1000\n",
      "         Bot       0.99      0.73      0.84      1000\n",
      "\n",
      "   micro avg       0.92      0.92      0.92     17000\n",
      "   macro avg       0.88      0.84      0.84     17000\n",
      "weighted avg       0.88      0.92      0.89     17000\n",
      "\n"
     ]
    }
   ],
   "source": [
    "score = 0\n",
    "for i in range(5):\n",
    "    clf = DecisionTreeClassifier(criterion='entropy', min_samples_leaf=3)\n",
    "    clf.fit(df_train_X, df_train_y)\n",
    "    y_pred = clf.predict(df_test_X)\n",
    "    result = clf.score(df_test_X, df_test_y)\n",
    "    if(score < result):\n",
    "        score = result\n",
    "        print(score)\n",
    "        print(classification_report(df_test_y, y_pred, target_names=labelList))\n",
    "        "
   ]
  },
  {
   "cell_type": "code",
   "execution_count": 24,
   "metadata": {
    "ExecuteTime": {
     "end_time": "2020-07-23T14:59:00.595660Z",
     "start_time": "2020-07-23T14:58:59.832767Z"
    }
   },
   "outputs": [
    {
     "name": "stderr",
     "output_type": "stream",
     "text": [
      "/opt/conda/lib/python3.7/site-packages/sklearn/ensemble/forest.py:246: FutureWarning: The default value of n_estimators will change from 10 in version 0.20 to 100 in 0.22.\n",
      "  \"10 in version 0.20 to 100 in 0.22.\", FutureWarning)\n"
     ]
    },
    {
     "name": "stdout",
     "output_type": "stream",
     "text": [
      "0.9226470588235294\n",
      "              precision    recall  f1-score   support\n",
      "\n",
      "      BENIGN       0.89      1.00      0.94     10000\n",
      "         DoS       0.99      0.98      0.99      1000\n",
      "    PortScan       1.00      0.49      0.66      1000\n",
      "        DDoS       1.00      0.61      0.76      1000\n",
      " SSH-Patator       1.00      1.00      1.00      1000\n",
      " FTP-Patator       1.00      1.00      1.00      1000\n",
      "  Web Attack       0.97      0.97      0.97      1000\n",
      "         Bot       0.98      0.69      0.81      1000\n",
      "\n",
      "   micro avg       0.92      0.92      0.92     17000\n",
      "   macro avg       0.98      0.84      0.89     17000\n",
      "weighted avg       0.93      0.92      0.92     17000\n",
      "\n",
      "475880\n"
     ]
    }
   ],
   "source": [
    "from sklearn.ensemble import RandomForestClassifier\n",
    "tracemalloc.start()\n",
    "rfc = RandomForestClassifier()\n",
    "rfc.fit(df_train_X, df_train_y)\n",
    "save_classifier(rfc, \"RF\")\n",
    "#测试集的正确率\n",
    "print(rfc.score(df_test_X, df_test_y))\n",
    "#测试集的各个参数\n",
    "y_pred = rfc.predict(df_test_X)\n",
    "print(classification_report(df_test_y, y_pred, target_names=labelList))\n",
    "print(tracemalloc.get_tracemalloc_memory())"
   ]
  },
  {
   "cell_type": "code",
   "execution_count": 25,
   "metadata": {
    "ExecuteTime": {
     "end_time": "2020-07-23T15:00:07.313991Z",
     "start_time": "2020-07-23T14:59:00.599913Z"
    }
   },
   "outputs": [
    {
     "name": "stderr",
     "output_type": "stream",
     "text": [
      "/opt/conda/lib/python3.7/site-packages/sklearn/ensemble/forest.py:246: FutureWarning: The default value of n_estimators will change from 10 in version 0.20 to 100 in 0.22.\n",
      "  \"10 in version 0.20 to 100 in 0.22.\", FutureWarning)\n"
     ]
    },
    {
     "name": "stdout",
     "output_type": "stream",
     "text": [
      "0.9108823529411765\n",
      "              precision    recall  f1-score   support\n",
      "\n",
      "      BENIGN       0.89      0.99      0.94     10000\n",
      "         DoS       0.99      1.00      0.99      1000\n",
      "    PortScan       0.79      1.00      0.88      1000\n",
      "        DDoS       1.00      0.61      0.76      1000\n",
      " SSH-Patator       1.00      1.00      1.00      1000\n",
      " FTP-Patator       1.00      0.52      0.68      1000\n",
      "  Web Attack       0.97      0.95      0.96      1000\n",
      "         Bot       0.98      0.46      0.63      1000\n",
      "\n",
      "   micro avg       0.91      0.91      0.91     17000\n",
      "   macro avg       0.95      0.82      0.86     17000\n",
      "weighted avg       0.92      0.91      0.90     17000\n",
      "\n"
     ]
    },
    {
     "name": "stderr",
     "output_type": "stream",
     "text": [
      "/opt/conda/lib/python3.7/site-packages/sklearn/ensemble/forest.py:246: FutureWarning: The default value of n_estimators will change from 10 in version 0.20 to 100 in 0.22.\n",
      "  \"10 in version 0.20 to 100 in 0.22.\", FutureWarning)\n"
     ]
    },
    {
     "name": "stdout",
     "output_type": "stream",
     "text": [
      "0.9348823529411765\n",
      "              precision    recall  f1-score   support\n",
      "\n",
      "      BENIGN       0.90      1.00      0.95     10000\n",
      "         DoS       0.99      0.99      0.99      1000\n",
      "    PortScan       1.00      1.00      1.00      1000\n",
      "        DDoS       1.00      0.61      0.76      1000\n",
      " SSH-Patator       1.00      1.00      1.00      1000\n",
      " FTP-Patator       1.00      1.00      1.00      1000\n",
      "  Web Attack       0.97      0.95      0.96      1000\n",
      "         Bot       0.97      0.39      0.55      1000\n",
      "\n",
      "   micro avg       0.93      0.93      0.93     17000\n",
      "   macro avg       0.98      0.87      0.90     17000\n",
      "weighted avg       0.94      0.93      0.93     17000\n",
      "\n"
     ]
    },
    {
     "name": "stderr",
     "output_type": "stream",
     "text": [
      "/opt/conda/lib/python3.7/site-packages/sklearn/ensemble/forest.py:246: FutureWarning: The default value of n_estimators will change from 10 in version 0.20 to 100 in 0.22.\n",
      "  \"10 in version 0.20 to 100 in 0.22.\", FutureWarning)\n"
     ]
    },
    {
     "name": "stdout",
     "output_type": "stream",
     "text": [
      "0.9525882352941176\n",
      "              precision    recall  f1-score   support\n",
      "\n",
      "      BENIGN       0.93      1.00      0.96     10000\n",
      "         DoS       0.99      0.99      0.99      1000\n",
      "    PortScan       1.00      1.00      1.00      1000\n",
      "        DDoS       1.00      0.61      0.76      1000\n",
      " SSH-Patator       1.00      0.99      1.00      1000\n",
      " FTP-Patator       1.00      1.00      1.00      1000\n",
      "  Web Attack       0.97      0.93      0.95      1000\n",
      "         Bot       0.98      0.71      0.83      1000\n",
      "\n",
      "   micro avg       0.95      0.95      0.95     17000\n",
      "   macro avg       0.98      0.90      0.94     17000\n",
      "weighted avg       0.96      0.95      0.95     17000\n",
      "\n"
     ]
    },
    {
     "name": "stderr",
     "output_type": "stream",
     "text": [
      "/opt/conda/lib/python3.7/site-packages/sklearn/ensemble/forest.py:246: FutureWarning: The default value of n_estimators will change from 10 in version 0.20 to 100 in 0.22.\n",
      "  \"10 in version 0.20 to 100 in 0.22.\", FutureWarning)\n",
      "/opt/conda/lib/python3.7/site-packages/sklearn/ensemble/forest.py:246: FutureWarning: The default value of n_estimators will change from 10 in version 0.20 to 100 in 0.22.\n",
      "  \"10 in version 0.20 to 100 in 0.22.\", FutureWarning)\n",
      "/opt/conda/lib/python3.7/site-packages/sklearn/ensemble/forest.py:246: FutureWarning: The default value of n_estimators will change from 10 in version 0.20 to 100 in 0.22.\n",
      "  \"10 in version 0.20 to 100 in 0.22.\", FutureWarning)\n",
      "/opt/conda/lib/python3.7/site-packages/sklearn/ensemble/forest.py:246: FutureWarning: The default value of n_estimators will change from 10 in version 0.20 to 100 in 0.22.\n",
      "  \"10 in version 0.20 to 100 in 0.22.\", FutureWarning)\n",
      "/opt/conda/lib/python3.7/site-packages/sklearn/ensemble/forest.py:246: FutureWarning: The default value of n_estimators will change from 10 in version 0.20 to 100 in 0.22.\n",
      "  \"10 in version 0.20 to 100 in 0.22.\", FutureWarning)\n",
      "/opt/conda/lib/python3.7/site-packages/sklearn/ensemble/forest.py:246: FutureWarning: The default value of n_estimators will change from 10 in version 0.20 to 100 in 0.22.\n",
      "  \"10 in version 0.20 to 100 in 0.22.\", FutureWarning)\n",
      "/opt/conda/lib/python3.7/site-packages/sklearn/ensemble/forest.py:246: FutureWarning: The default value of n_estimators will change from 10 in version 0.20 to 100 in 0.22.\n",
      "  \"10 in version 0.20 to 100 in 0.22.\", FutureWarning)\n",
      "/opt/conda/lib/python3.7/site-packages/sklearn/ensemble/forest.py:246: FutureWarning: The default value of n_estimators will change from 10 in version 0.20 to 100 in 0.22.\n",
      "  \"10 in version 0.20 to 100 in 0.22.\", FutureWarning)\n",
      "/opt/conda/lib/python3.7/site-packages/sklearn/ensemble/forest.py:246: FutureWarning: The default value of n_estimators will change from 10 in version 0.20 to 100 in 0.22.\n",
      "  \"10 in version 0.20 to 100 in 0.22.\", FutureWarning)\n",
      "/opt/conda/lib/python3.7/site-packages/sklearn/ensemble/forest.py:246: FutureWarning: The default value of n_estimators will change from 10 in version 0.20 to 100 in 0.22.\n",
      "  \"10 in version 0.20 to 100 in 0.22.\", FutureWarning)\n",
      "/opt/conda/lib/python3.7/site-packages/sklearn/ensemble/forest.py:246: FutureWarning: The default value of n_estimators will change from 10 in version 0.20 to 100 in 0.22.\n",
      "  \"10 in version 0.20 to 100 in 0.22.\", FutureWarning)\n"
     ]
    },
    {
     "name": "stdout",
     "output_type": "stream",
     "text": [
      "0.9701176470588235\n",
      "              precision    recall  f1-score   support\n",
      "\n",
      "      BENIGN       0.96      1.00      0.98     10000\n",
      "         DoS       0.99      0.98      0.99      1000\n",
      "    PortScan       1.00      1.00      1.00      1000\n",
      "        DDoS       1.00      0.61      0.76      1000\n",
      " SSH-Patator       1.00      1.00      1.00      1000\n",
      " FTP-Patator       1.00      1.00      1.00      1000\n",
      "  Web Attack       0.97      0.95      0.96      1000\n",
      "         Bot       0.99      0.99      0.99      1000\n",
      "\n",
      "   micro avg       0.97      0.97      0.97     17000\n",
      "   macro avg       0.99      0.94      0.96     17000\n",
      "weighted avg       0.97      0.97      0.97     17000\n",
      "\n"
     ]
    },
    {
     "name": "stderr",
     "output_type": "stream",
     "text": [
      "/opt/conda/lib/python3.7/site-packages/sklearn/ensemble/forest.py:246: FutureWarning: The default value of n_estimators will change from 10 in version 0.20 to 100 in 0.22.\n",
      "  \"10 in version 0.20 to 100 in 0.22.\", FutureWarning)\n",
      "/opt/conda/lib/python3.7/site-packages/sklearn/ensemble/forest.py:246: FutureWarning: The default value of n_estimators will change from 10 in version 0.20 to 100 in 0.22.\n",
      "  \"10 in version 0.20 to 100 in 0.22.\", FutureWarning)\n",
      "/opt/conda/lib/python3.7/site-packages/sklearn/ensemble/forest.py:246: FutureWarning: The default value of n_estimators will change from 10 in version 0.20 to 100 in 0.22.\n",
      "  \"10 in version 0.20 to 100 in 0.22.\", FutureWarning)\n"
     ]
    },
    {
     "name": "stdout",
     "output_type": "stream",
     "text": [
      "0.9705882352941176\n",
      "              precision    recall  f1-score   support\n",
      "\n",
      "      BENIGN       0.96      1.00      0.98     10000\n",
      "         DoS       0.99      0.98      0.99      1000\n",
      "    PortScan       1.00      1.00      1.00      1000\n",
      "        DDoS       1.00      0.61      0.76      1000\n",
      " SSH-Patator       1.00      1.00      1.00      1000\n",
      " FTP-Patator       1.00      1.00      1.00      1000\n",
      "  Web Attack       0.97      0.95      0.96      1000\n",
      "         Bot       0.99      1.00      0.99      1000\n",
      "\n",
      "   micro avg       0.97      0.97      0.97     17000\n",
      "   macro avg       0.99      0.94      0.96     17000\n",
      "weighted avg       0.97      0.97      0.97     17000\n",
      "\n"
     ]
    },
    {
     "name": "stderr",
     "output_type": "stream",
     "text": [
      "/opt/conda/lib/python3.7/site-packages/sklearn/ensemble/forest.py:246: FutureWarning: The default value of n_estimators will change from 10 in version 0.20 to 100 in 0.22.\n",
      "  \"10 in version 0.20 to 100 in 0.22.\", FutureWarning)\n",
      "/opt/conda/lib/python3.7/site-packages/sklearn/ensemble/forest.py:246: FutureWarning: The default value of n_estimators will change from 10 in version 0.20 to 100 in 0.22.\n",
      "  \"10 in version 0.20 to 100 in 0.22.\", FutureWarning)\n",
      "/opt/conda/lib/python3.7/site-packages/sklearn/ensemble/forest.py:246: FutureWarning: The default value of n_estimators will change from 10 in version 0.20 to 100 in 0.22.\n",
      "  \"10 in version 0.20 to 100 in 0.22.\", FutureWarning)\n",
      "/opt/conda/lib/python3.7/site-packages/sklearn/ensemble/forest.py:246: FutureWarning: The default value of n_estimators will change from 10 in version 0.20 to 100 in 0.22.\n",
      "  \"10 in version 0.20 to 100 in 0.22.\", FutureWarning)\n",
      "/opt/conda/lib/python3.7/site-packages/sklearn/ensemble/forest.py:246: FutureWarning: The default value of n_estimators will change from 10 in version 0.20 to 100 in 0.22.\n",
      "  \"10 in version 0.20 to 100 in 0.22.\", FutureWarning)\n",
      "/opt/conda/lib/python3.7/site-packages/sklearn/ensemble/forest.py:246: FutureWarning: The default value of n_estimators will change from 10 in version 0.20 to 100 in 0.22.\n",
      "  \"10 in version 0.20 to 100 in 0.22.\", FutureWarning)\n",
      "/opt/conda/lib/python3.7/site-packages/sklearn/ensemble/forest.py:246: FutureWarning: The default value of n_estimators will change from 10 in version 0.20 to 100 in 0.22.\n",
      "  \"10 in version 0.20 to 100 in 0.22.\", FutureWarning)\n",
      "/opt/conda/lib/python3.7/site-packages/sklearn/ensemble/forest.py:246: FutureWarning: The default value of n_estimators will change from 10 in version 0.20 to 100 in 0.22.\n",
      "  \"10 in version 0.20 to 100 in 0.22.\", FutureWarning)\n",
      "/opt/conda/lib/python3.7/site-packages/sklearn/ensemble/forest.py:246: FutureWarning: The default value of n_estimators will change from 10 in version 0.20 to 100 in 0.22.\n",
      "  \"10 in version 0.20 to 100 in 0.22.\", FutureWarning)\n",
      "/opt/conda/lib/python3.7/site-packages/sklearn/ensemble/forest.py:246: FutureWarning: The default value of n_estimators will change from 10 in version 0.20 to 100 in 0.22.\n",
      "  \"10 in version 0.20 to 100 in 0.22.\", FutureWarning)\n",
      "/opt/conda/lib/python3.7/site-packages/sklearn/ensemble/forest.py:246: FutureWarning: The default value of n_estimators will change from 10 in version 0.20 to 100 in 0.22.\n",
      "  \"10 in version 0.20 to 100 in 0.22.\", FutureWarning)\n",
      "/opt/conda/lib/python3.7/site-packages/sklearn/ensemble/forest.py:246: FutureWarning: The default value of n_estimators will change from 10 in version 0.20 to 100 in 0.22.\n",
      "  \"10 in version 0.20 to 100 in 0.22.\", FutureWarning)\n",
      "/opt/conda/lib/python3.7/site-packages/sklearn/ensemble/forest.py:246: FutureWarning: The default value of n_estimators will change from 10 in version 0.20 to 100 in 0.22.\n",
      "  \"10 in version 0.20 to 100 in 0.22.\", FutureWarning)\n",
      "/opt/conda/lib/python3.7/site-packages/sklearn/ensemble/forest.py:246: FutureWarning: The default value of n_estimators will change from 10 in version 0.20 to 100 in 0.22.\n",
      "  \"10 in version 0.20 to 100 in 0.22.\", FutureWarning)\n",
      "/opt/conda/lib/python3.7/site-packages/sklearn/ensemble/forest.py:246: FutureWarning: The default value of n_estimators will change from 10 in version 0.20 to 100 in 0.22.\n",
      "  \"10 in version 0.20 to 100 in 0.22.\", FutureWarning)\n",
      "/opt/conda/lib/python3.7/site-packages/sklearn/ensemble/forest.py:246: FutureWarning: The default value of n_estimators will change from 10 in version 0.20 to 100 in 0.22.\n",
      "  \"10 in version 0.20 to 100 in 0.22.\", FutureWarning)\n",
      "/opt/conda/lib/python3.7/site-packages/sklearn/ensemble/forest.py:246: FutureWarning: The default value of n_estimators will change from 10 in version 0.20 to 100 in 0.22.\n",
      "  \"10 in version 0.20 to 100 in 0.22.\", FutureWarning)\n",
      "/opt/conda/lib/python3.7/site-packages/sklearn/ensemble/forest.py:246: FutureWarning: The default value of n_estimators will change from 10 in version 0.20 to 100 in 0.22.\n",
      "  \"10 in version 0.20 to 100 in 0.22.\", FutureWarning)\n",
      "/opt/conda/lib/python3.7/site-packages/sklearn/ensemble/forest.py:246: FutureWarning: The default value of n_estimators will change from 10 in version 0.20 to 100 in 0.22.\n",
      "  \"10 in version 0.20 to 100 in 0.22.\", FutureWarning)\n",
      "/opt/conda/lib/python3.7/site-packages/sklearn/ensemble/forest.py:246: FutureWarning: The default value of n_estimators will change from 10 in version 0.20 to 100 in 0.22.\n",
      "  \"10 in version 0.20 to 100 in 0.22.\", FutureWarning)\n",
      "/opt/conda/lib/python3.7/site-packages/sklearn/ensemble/forest.py:246: FutureWarning: The default value of n_estimators will change from 10 in version 0.20 to 100 in 0.22.\n",
      "  \"10 in version 0.20 to 100 in 0.22.\", FutureWarning)\n",
      "/opt/conda/lib/python3.7/site-packages/sklearn/ensemble/forest.py:246: FutureWarning: The default value of n_estimators will change from 10 in version 0.20 to 100 in 0.22.\n",
      "  \"10 in version 0.20 to 100 in 0.22.\", FutureWarning)\n",
      "/opt/conda/lib/python3.7/site-packages/sklearn/ensemble/forest.py:246: FutureWarning: The default value of n_estimators will change from 10 in version 0.20 to 100 in 0.22.\n",
      "  \"10 in version 0.20 to 100 in 0.22.\", FutureWarning)\n",
      "/opt/conda/lib/python3.7/site-packages/sklearn/ensemble/forest.py:246: FutureWarning: The default value of n_estimators will change from 10 in version 0.20 to 100 in 0.22.\n",
      "  \"10 in version 0.20 to 100 in 0.22.\", FutureWarning)\n",
      "/opt/conda/lib/python3.7/site-packages/sklearn/ensemble/forest.py:246: FutureWarning: The default value of n_estimators will change from 10 in version 0.20 to 100 in 0.22.\n",
      "  \"10 in version 0.20 to 100 in 0.22.\", FutureWarning)\n",
      "/opt/conda/lib/python3.7/site-packages/sklearn/ensemble/forest.py:246: FutureWarning: The default value of n_estimators will change from 10 in version 0.20 to 100 in 0.22.\n",
      "  \"10 in version 0.20 to 100 in 0.22.\", FutureWarning)\n",
      "/opt/conda/lib/python3.7/site-packages/sklearn/ensemble/forest.py:246: FutureWarning: The default value of n_estimators will change from 10 in version 0.20 to 100 in 0.22.\n",
      "  \"10 in version 0.20 to 100 in 0.22.\", FutureWarning)\n",
      "/opt/conda/lib/python3.7/site-packages/sklearn/ensemble/forest.py:246: FutureWarning: The default value of n_estimators will change from 10 in version 0.20 to 100 in 0.22.\n",
      "  \"10 in version 0.20 to 100 in 0.22.\", FutureWarning)\n",
      "/opt/conda/lib/python3.7/site-packages/sklearn/ensemble/forest.py:246: FutureWarning: The default value of n_estimators will change from 10 in version 0.20 to 100 in 0.22.\n",
      "  \"10 in version 0.20 to 100 in 0.22.\", FutureWarning)\n",
      "/opt/conda/lib/python3.7/site-packages/sklearn/ensemble/forest.py:246: FutureWarning: The default value of n_estimators will change from 10 in version 0.20 to 100 in 0.22.\n",
      "  \"10 in version 0.20 to 100 in 0.22.\", FutureWarning)\n",
      "/opt/conda/lib/python3.7/site-packages/sklearn/ensemble/forest.py:246: FutureWarning: The default value of n_estimators will change from 10 in version 0.20 to 100 in 0.22.\n",
      "  \"10 in version 0.20 to 100 in 0.22.\", FutureWarning)\n",
      "/opt/conda/lib/python3.7/site-packages/sklearn/ensemble/forest.py:246: FutureWarning: The default value of n_estimators will change from 10 in version 0.20 to 100 in 0.22.\n",
      "  \"10 in version 0.20 to 100 in 0.22.\", FutureWarning)\n",
      "/opt/conda/lib/python3.7/site-packages/sklearn/ensemble/forest.py:246: FutureWarning: The default value of n_estimators will change from 10 in version 0.20 to 100 in 0.22.\n",
      "  \"10 in version 0.20 to 100 in 0.22.\", FutureWarning)\n",
      "/opt/conda/lib/python3.7/site-packages/sklearn/ensemble/forest.py:246: FutureWarning: The default value of n_estimators will change from 10 in version 0.20 to 100 in 0.22.\n",
      "  \"10 in version 0.20 to 100 in 0.22.\", FutureWarning)\n",
      "/opt/conda/lib/python3.7/site-packages/sklearn/ensemble/forest.py:246: FutureWarning: The default value of n_estimators will change from 10 in version 0.20 to 100 in 0.22.\n",
      "  \"10 in version 0.20 to 100 in 0.22.\", FutureWarning)\n",
      "/opt/conda/lib/python3.7/site-packages/sklearn/ensemble/forest.py:246: FutureWarning: The default value of n_estimators will change from 10 in version 0.20 to 100 in 0.22.\n",
      "  \"10 in version 0.20 to 100 in 0.22.\", FutureWarning)\n",
      "/opt/conda/lib/python3.7/site-packages/sklearn/ensemble/forest.py:246: FutureWarning: The default value of n_estimators will change from 10 in version 0.20 to 100 in 0.22.\n",
      "  \"10 in version 0.20 to 100 in 0.22.\", FutureWarning)\n"
     ]
    },
    {
     "name": "stderr",
     "output_type": "stream",
     "text": [
      "/opt/conda/lib/python3.7/site-packages/sklearn/ensemble/forest.py:246: FutureWarning: The default value of n_estimators will change from 10 in version 0.20 to 100 in 0.22.\n",
      "  \"10 in version 0.20 to 100 in 0.22.\", FutureWarning)\n",
      "/opt/conda/lib/python3.7/site-packages/sklearn/ensemble/forest.py:246: FutureWarning: The default value of n_estimators will change from 10 in version 0.20 to 100 in 0.22.\n",
      "  \"10 in version 0.20 to 100 in 0.22.\", FutureWarning)\n",
      "/opt/conda/lib/python3.7/site-packages/sklearn/ensemble/forest.py:246: FutureWarning: The default value of n_estimators will change from 10 in version 0.20 to 100 in 0.22.\n",
      "  \"10 in version 0.20 to 100 in 0.22.\", FutureWarning)\n",
      "/opt/conda/lib/python3.7/site-packages/sklearn/ensemble/forest.py:246: FutureWarning: The default value of n_estimators will change from 10 in version 0.20 to 100 in 0.22.\n",
      "  \"10 in version 0.20 to 100 in 0.22.\", FutureWarning)\n",
      "/opt/conda/lib/python3.7/site-packages/sklearn/ensemble/forest.py:246: FutureWarning: The default value of n_estimators will change from 10 in version 0.20 to 100 in 0.22.\n",
      "  \"10 in version 0.20 to 100 in 0.22.\", FutureWarning)\n",
      "/opt/conda/lib/python3.7/site-packages/sklearn/ensemble/forest.py:246: FutureWarning: The default value of n_estimators will change from 10 in version 0.20 to 100 in 0.22.\n",
      "  \"10 in version 0.20 to 100 in 0.22.\", FutureWarning)\n",
      "/opt/conda/lib/python3.7/site-packages/sklearn/ensemble/forest.py:246: FutureWarning: The default value of n_estimators will change from 10 in version 0.20 to 100 in 0.22.\n",
      "  \"10 in version 0.20 to 100 in 0.22.\", FutureWarning)\n",
      "/opt/conda/lib/python3.7/site-packages/sklearn/ensemble/forest.py:246: FutureWarning: The default value of n_estimators will change from 10 in version 0.20 to 100 in 0.22.\n",
      "  \"10 in version 0.20 to 100 in 0.22.\", FutureWarning)\n",
      "/opt/conda/lib/python3.7/site-packages/sklearn/ensemble/forest.py:246: FutureWarning: The default value of n_estimators will change from 10 in version 0.20 to 100 in 0.22.\n",
      "  \"10 in version 0.20 to 100 in 0.22.\", FutureWarning)\n",
      "/opt/conda/lib/python3.7/site-packages/sklearn/ensemble/forest.py:246: FutureWarning: The default value of n_estimators will change from 10 in version 0.20 to 100 in 0.22.\n",
      "  \"10 in version 0.20 to 100 in 0.22.\", FutureWarning)\n",
      "/opt/conda/lib/python3.7/site-packages/sklearn/ensemble/forest.py:246: FutureWarning: The default value of n_estimators will change from 10 in version 0.20 to 100 in 0.22.\n",
      "  \"10 in version 0.20 to 100 in 0.22.\", FutureWarning)\n",
      "/opt/conda/lib/python3.7/site-packages/sklearn/ensemble/forest.py:246: FutureWarning: The default value of n_estimators will change from 10 in version 0.20 to 100 in 0.22.\n",
      "  \"10 in version 0.20 to 100 in 0.22.\", FutureWarning)\n",
      "/opt/conda/lib/python3.7/site-packages/sklearn/ensemble/forest.py:246: FutureWarning: The default value of n_estimators will change from 10 in version 0.20 to 100 in 0.22.\n",
      "  \"10 in version 0.20 to 100 in 0.22.\", FutureWarning)\n",
      "/opt/conda/lib/python3.7/site-packages/sklearn/ensemble/forest.py:246: FutureWarning: The default value of n_estimators will change from 10 in version 0.20 to 100 in 0.22.\n",
      "  \"10 in version 0.20 to 100 in 0.22.\", FutureWarning)\n",
      "/opt/conda/lib/python3.7/site-packages/sklearn/ensemble/forest.py:246: FutureWarning: The default value of n_estimators will change from 10 in version 0.20 to 100 in 0.22.\n",
      "  \"10 in version 0.20 to 100 in 0.22.\", FutureWarning)\n",
      "/opt/conda/lib/python3.7/site-packages/sklearn/ensemble/forest.py:246: FutureWarning: The default value of n_estimators will change from 10 in version 0.20 to 100 in 0.22.\n",
      "  \"10 in version 0.20 to 100 in 0.22.\", FutureWarning)\n",
      "/opt/conda/lib/python3.7/site-packages/sklearn/ensemble/forest.py:246: FutureWarning: The default value of n_estimators will change from 10 in version 0.20 to 100 in 0.22.\n",
      "  \"10 in version 0.20 to 100 in 0.22.\", FutureWarning)\n",
      "/opt/conda/lib/python3.7/site-packages/sklearn/ensemble/forest.py:246: FutureWarning: The default value of n_estimators will change from 10 in version 0.20 to 100 in 0.22.\n",
      "  \"10 in version 0.20 to 100 in 0.22.\", FutureWarning)\n",
      "/opt/conda/lib/python3.7/site-packages/sklearn/ensemble/forest.py:246: FutureWarning: The default value of n_estimators will change from 10 in version 0.20 to 100 in 0.22.\n",
      "  \"10 in version 0.20 to 100 in 0.22.\", FutureWarning)\n",
      "/opt/conda/lib/python3.7/site-packages/sklearn/ensemble/forest.py:246: FutureWarning: The default value of n_estimators will change from 10 in version 0.20 to 100 in 0.22.\n",
      "  \"10 in version 0.20 to 100 in 0.22.\", FutureWarning)\n",
      "/opt/conda/lib/python3.7/site-packages/sklearn/ensemble/forest.py:246: FutureWarning: The default value of n_estimators will change from 10 in version 0.20 to 100 in 0.22.\n",
      "  \"10 in version 0.20 to 100 in 0.22.\", FutureWarning)\n",
      "/opt/conda/lib/python3.7/site-packages/sklearn/ensemble/forest.py:246: FutureWarning: The default value of n_estimators will change from 10 in version 0.20 to 100 in 0.22.\n",
      "  \"10 in version 0.20 to 100 in 0.22.\", FutureWarning)\n",
      "/opt/conda/lib/python3.7/site-packages/sklearn/ensemble/forest.py:246: FutureWarning: The default value of n_estimators will change from 10 in version 0.20 to 100 in 0.22.\n",
      "  \"10 in version 0.20 to 100 in 0.22.\", FutureWarning)\n",
      "/opt/conda/lib/python3.7/site-packages/sklearn/ensemble/forest.py:246: FutureWarning: The default value of n_estimators will change from 10 in version 0.20 to 100 in 0.22.\n",
      "  \"10 in version 0.20 to 100 in 0.22.\", FutureWarning)\n",
      "/opt/conda/lib/python3.7/site-packages/sklearn/ensemble/forest.py:246: FutureWarning: The default value of n_estimators will change from 10 in version 0.20 to 100 in 0.22.\n",
      "  \"10 in version 0.20 to 100 in 0.22.\", FutureWarning)\n",
      "/opt/conda/lib/python3.7/site-packages/sklearn/ensemble/forest.py:246: FutureWarning: The default value of n_estimators will change from 10 in version 0.20 to 100 in 0.22.\n",
      "  \"10 in version 0.20 to 100 in 0.22.\", FutureWarning)\n",
      "/opt/conda/lib/python3.7/site-packages/sklearn/ensemble/forest.py:246: FutureWarning: The default value of n_estimators will change from 10 in version 0.20 to 100 in 0.22.\n",
      "  \"10 in version 0.20 to 100 in 0.22.\", FutureWarning)\n",
      "/opt/conda/lib/python3.7/site-packages/sklearn/ensemble/forest.py:246: FutureWarning: The default value of n_estimators will change from 10 in version 0.20 to 100 in 0.22.\n",
      "  \"10 in version 0.20 to 100 in 0.22.\", FutureWarning)\n",
      "/opt/conda/lib/python3.7/site-packages/sklearn/ensemble/forest.py:246: FutureWarning: The default value of n_estimators will change from 10 in version 0.20 to 100 in 0.22.\n",
      "  \"10 in version 0.20 to 100 in 0.22.\", FutureWarning)\n",
      "/opt/conda/lib/python3.7/site-packages/sklearn/ensemble/forest.py:246: FutureWarning: The default value of n_estimators will change from 10 in version 0.20 to 100 in 0.22.\n",
      "  \"10 in version 0.20 to 100 in 0.22.\", FutureWarning)\n",
      "/opt/conda/lib/python3.7/site-packages/sklearn/ensemble/forest.py:246: FutureWarning: The default value of n_estimators will change from 10 in version 0.20 to 100 in 0.22.\n",
      "  \"10 in version 0.20 to 100 in 0.22.\", FutureWarning)\n",
      "/opt/conda/lib/python3.7/site-packages/sklearn/ensemble/forest.py:246: FutureWarning: The default value of n_estimators will change from 10 in version 0.20 to 100 in 0.22.\n",
      "  \"10 in version 0.20 to 100 in 0.22.\", FutureWarning)\n",
      "/opt/conda/lib/python3.7/site-packages/sklearn/ensemble/forest.py:246: FutureWarning: The default value of n_estimators will change from 10 in version 0.20 to 100 in 0.22.\n",
      "  \"10 in version 0.20 to 100 in 0.22.\", FutureWarning)\n",
      "/opt/conda/lib/python3.7/site-packages/sklearn/ensemble/forest.py:246: FutureWarning: The default value of n_estimators will change from 10 in version 0.20 to 100 in 0.22.\n",
      "  \"10 in version 0.20 to 100 in 0.22.\", FutureWarning)\n",
      "/opt/conda/lib/python3.7/site-packages/sklearn/ensemble/forest.py:246: FutureWarning: The default value of n_estimators will change from 10 in version 0.20 to 100 in 0.22.\n",
      "  \"10 in version 0.20 to 100 in 0.22.\", FutureWarning)\n",
      "/opt/conda/lib/python3.7/site-packages/sklearn/ensemble/forest.py:246: FutureWarning: The default value of n_estimators will change from 10 in version 0.20 to 100 in 0.22.\n",
      "  \"10 in version 0.20 to 100 in 0.22.\", FutureWarning)\n",
      "/opt/conda/lib/python3.7/site-packages/sklearn/ensemble/forest.py:246: FutureWarning: The default value of n_estimators will change from 10 in version 0.20 to 100 in 0.22.\n",
      "  \"10 in version 0.20 to 100 in 0.22.\", FutureWarning)\n"
     ]
    },
    {
     "name": "stderr",
     "output_type": "stream",
     "text": [
      "/opt/conda/lib/python3.7/site-packages/sklearn/ensemble/forest.py:246: FutureWarning: The default value of n_estimators will change from 10 in version 0.20 to 100 in 0.22.\n",
      "  \"10 in version 0.20 to 100 in 0.22.\", FutureWarning)\n",
      "/opt/conda/lib/python3.7/site-packages/sklearn/ensemble/forest.py:246: FutureWarning: The default value of n_estimators will change from 10 in version 0.20 to 100 in 0.22.\n",
      "  \"10 in version 0.20 to 100 in 0.22.\", FutureWarning)\n",
      "/opt/conda/lib/python3.7/site-packages/sklearn/ensemble/forest.py:246: FutureWarning: The default value of n_estimators will change from 10 in version 0.20 to 100 in 0.22.\n",
      "  \"10 in version 0.20 to 100 in 0.22.\", FutureWarning)\n",
      "/opt/conda/lib/python3.7/site-packages/sklearn/ensemble/forest.py:246: FutureWarning: The default value of n_estimators will change from 10 in version 0.20 to 100 in 0.22.\n",
      "  \"10 in version 0.20 to 100 in 0.22.\", FutureWarning)\n",
      "/opt/conda/lib/python3.7/site-packages/sklearn/ensemble/forest.py:246: FutureWarning: The default value of n_estimators will change from 10 in version 0.20 to 100 in 0.22.\n",
      "  \"10 in version 0.20 to 100 in 0.22.\", FutureWarning)\n",
      "/opt/conda/lib/python3.7/site-packages/sklearn/ensemble/forest.py:246: FutureWarning: The default value of n_estimators will change from 10 in version 0.20 to 100 in 0.22.\n",
      "  \"10 in version 0.20 to 100 in 0.22.\", FutureWarning)\n",
      "/opt/conda/lib/python3.7/site-packages/sklearn/ensemble/forest.py:246: FutureWarning: The default value of n_estimators will change from 10 in version 0.20 to 100 in 0.22.\n",
      "  \"10 in version 0.20 to 100 in 0.22.\", FutureWarning)\n",
      "/opt/conda/lib/python3.7/site-packages/sklearn/ensemble/forest.py:246: FutureWarning: The default value of n_estimators will change from 10 in version 0.20 to 100 in 0.22.\n",
      "  \"10 in version 0.20 to 100 in 0.22.\", FutureWarning)\n",
      "/opt/conda/lib/python3.7/site-packages/sklearn/ensemble/forest.py:246: FutureWarning: The default value of n_estimators will change from 10 in version 0.20 to 100 in 0.22.\n",
      "  \"10 in version 0.20 to 100 in 0.22.\", FutureWarning)\n"
     ]
    }
   ],
   "source": [
    "from sklearn.ensemble import RandomForestClassifier\n",
    "score = 0\n",
    "for i in range(5):\n",
    "    rfc = RandomForestClassifier()\n",
    "    rfc.fit(df_train_X, df_train_y)\n",
    "    y_pred = rfc.predict(df_test_X)\n",
    "    result = rfc.score(df_test_X, df_test_y)\n",
    "    if(score < result):\n",
    "        score = result\n",
    "        save_classifier(rfc, \"RF\")\n",
    "        print(score)\n",
    "        print(classification_report(df_test_y, y_pred, target_names=labelList))\n",
    "        \n",
    "#测试集的正确率\n",
    "#测试集的各个参数\n",
    "\n"
   ]
  },
  {
   "cell_type": "code",
   "execution_count": 26,
   "metadata": {
    "ExecuteTime": {
     "end_time": "2020-07-23T15:12:44.131374Z",
     "start_time": "2020-07-23T15:00:07.316307Z"
    }
   },
   "outputs": [
    {
     "name": "stdout",
     "output_type": "stream",
     "text": [
      "0.9307058823529412\n",
      "              precision    recall  f1-score   support\n",
      "\n",
      "      BENIGN       0.90      0.99      0.94     10000\n",
      "         DoS       0.99      0.99      0.99      1000\n",
      "    PortScan       0.97      0.49      0.65      1000\n",
      "        DDoS       0.99      0.49      0.65      1000\n",
      " SSH-Patator       1.00      1.00      1.00      1000\n",
      " FTP-Patator       0.99      1.00      0.99      1000\n",
      "  Web Attack       0.96      0.98      0.97      1000\n",
      "         Bot       0.98      0.97      0.97      1000\n",
      "\n",
      "   micro avg       0.93      0.93      0.93     17000\n",
      "   macro avg       0.97      0.86      0.90     17000\n",
      "weighted avg       0.94      0.93      0.92     17000\n",
      "\n"
     ]
    }
   ],
   "source": [
    "from xgboost import XGBClassifier\n",
    "xgb = XGBClassifier()\n",
    "\n",
    "from sklearn.ensemble import RandomForestClassifier\n",
    "score = 0\n",
    "for i in range(20):\n",
    "    xgb = XGBClassifier()\n",
    "    xgb.fit(df_train_X, df_train_y)\n",
    "    y_pred = xgb.predict(df_test_X)\n",
    "    result = xgb.score(df_test_X, df_test_y)\n",
    "    if(score < result):\n",
    "        score = result\n",
    "        save_classifier(xgb, \"XGB\")\n",
    "        print(score)\n",
    "        print(classification_report(df_test_y, y_pred, target_names=labelList))\n",
    "        \n",
    "#测试集的正确率\n",
    "#测试集的各个参数\n"
   ]
  },
  {
   "cell_type": "code",
   "execution_count": 27,
   "metadata": {
    "ExecuteTime": {
     "end_time": "2020-07-23T15:14:46.425679Z",
     "start_time": "2020-07-23T15:12:44.135924Z"
    }
   },
   "outputs": [
    {
     "name": "stderr",
     "output_type": "stream",
     "text": [
      "/opt/conda/lib/python3.7/site-packages/sklearn/svm/base.py:196: FutureWarning: The default value of gamma will change from 'auto' to 'scale' in version 0.22 to account better for unscaled features. Set gamma explicitly to 'auto' or 'scale' to avoid this warning.\n",
      "  \"avoid this warning.\", FutureWarning)\n"
     ]
    }
   ],
   "source": [
    "from sklearn.svm import SVC\n",
    "clf = SVC()\n",
    "clf.fit(df_train_X, df_train_y) \n",
    "save_classifier(clf, \"SVM\")"
   ]
  },
  {
   "cell_type": "code",
   "execution_count": 28,
   "metadata": {
    "ExecuteTime": {
     "end_time": "2020-07-23T15:15:09.788579Z",
     "start_time": "2020-07-23T15:14:46.428959Z"
    }
   },
   "outputs": [
    {
     "name": "stdout",
     "output_type": "stream",
     "text": [
      "[1 3 1 ... 1 0 1]\n",
      "0.8331764705882353\n",
      "              precision    recall  f1-score   support\n",
      "\n",
      "      BENIGN       0.86      0.94      0.90     10000\n",
      "         DoS       0.51      0.88      0.64      1000\n",
      "    PortScan       0.00      0.00      0.00      1000\n",
      "        DDoS       0.86      0.49      0.62      1000\n",
      " SSH-Patator       0.98      0.99      0.99      1000\n",
      " FTP-Patator       0.98      1.00      0.99      1000\n",
      "  Web Attack       0.83      0.85      0.84      1000\n",
      "         Bot       0.80      0.58      0.67      1000\n",
      "\n",
      "   micro avg       0.83      0.83      0.83     17000\n",
      "   macro avg       0.73      0.72      0.71     17000\n",
      "weighted avg       0.80      0.83      0.81     17000\n",
      "\n"
     ]
    },
    {
     "name": "stderr",
     "output_type": "stream",
     "text": [
      "/opt/conda/lib/python3.7/site-packages/sklearn/metrics/classification.py:1143: UndefinedMetricWarning: Precision and F-score are ill-defined and being set to 0.0 in labels with no predicted samples.\n",
      "  'precision', 'predicted', average, warn_for)\n"
     ]
    }
   ],
   "source": [
    "predictions = clf.predict(df_test_X)\n",
    "print(predictions)\n",
    "print(accuracy_score(df_test_y, predictions))\n",
    "print(classification_report(df_test_y, predictions , target_names=labelList))"
   ]
  },
  {
   "cell_type": "code",
   "execution_count": null,
   "metadata": {},
   "outputs": [],
   "source": []
  }
 ],
 "metadata": {
  "kernelspec": {
   "display_name": "Python 3",
   "language": "python",
   "name": "python3"
  },
  "language_info": {
   "codemirror_mode": {
    "name": "ipython",
    "version": 3
   },
   "file_extension": ".py",
   "mimetype": "text/x-python",
   "name": "python",
   "nbconvert_exporter": "python",
   "pygments_lexer": "ipython3",
   "version": "3.7.3"
  },
  "toc": {
   "base_numbering": 1,
   "nav_menu": {},
   "number_sections": true,
   "sideBar": true,
   "skip_h1_title": false,
   "title_cell": "Table of Contents",
   "title_sidebar": "Contents",
   "toc_cell": false,
   "toc_position": {},
   "toc_section_display": true,
   "toc_window_display": false
  },
  "varInspector": {
   "cols": {
    "lenName": 16,
    "lenType": 16,
    "lenVar": 40
   },
   "kernels_config": {
    "python": {
     "delete_cmd_postfix": "",
     "delete_cmd_prefix": "del ",
     "library": "var_list.py",
     "varRefreshCmd": "print(var_dic_list())"
    },
    "r": {
     "delete_cmd_postfix": ") ",
     "delete_cmd_prefix": "rm(",
     "library": "var_list.r",
     "varRefreshCmd": "cat(var_dic_list()) "
    }
   },
   "types_to_exclude": [
    "module",
    "function",
    "builtin_function_or_method",
    "instance",
    "_Feature"
   ],
   "window_display": false
  }
 },
 "nbformat": 4,
 "nbformat_minor": 2
}
