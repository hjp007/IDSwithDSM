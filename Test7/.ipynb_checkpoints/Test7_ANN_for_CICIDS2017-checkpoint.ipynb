{
 "cells": [
  {
   "cell_type": "code",
   "execution_count": 1,
   "metadata": {
    "ExecuteTime": {
     "end_time": "2020-06-28T03:54:29.316350Z",
     "start_time": "2020-06-28T03:54:26.401472Z"
    }
   },
   "outputs": [],
   "source": [
    "import pandas as pd\n",
    "import pickle\n",
    "import numpy  as np\n",
    "from time import time\n",
    "#train_test_split\n",
    "from sklearn.model_selection import train_test_split\n",
    "#Feature scaling\n",
    "from sklearn import preprocessing\n",
    "from collections import Counter\n",
    "import math\n",
    "import tracemalloc"
   ]
  },
  {
   "cell_type": "code",
   "execution_count": 2,
   "metadata": {
    "ExecuteTime": {
     "end_time": "2020-06-28T03:54:29.388323Z",
     "start_time": "2020-06-28T03:54:29.319872Z"
    }
   },
   "outputs": [],
   "source": [
    "def load_obj(name):\n",
    "    with open('../DistributionDictionary/' + name + '.pkl', 'rb') as f:\n",
    "        return pickle.load(f)\n",
    "\n",
    "distributions = {}\n",
    "distributions['Benign'] = load_obj(\"Benign_Distribution_set\")\n",
    "distributions['DoS'] = load_obj(\"DoS_Distribution_set\")\n",
    "distributions['PortScan'] = load_obj(\"PortScan_Distribution_set\")\n",
    "distributions['DDoS'] = load_obj(\"DDoS_Distribution_set\")\n",
    "distributions['SSH'] = load_obj(\"SSH_Distribution_set\")\n",
    "distributions['FTP'] = load_obj(\"FTP_Distribution_set\")\n",
    "distributions['Web'] = load_obj(\"Web_Distribution_set\")\n",
    "distributions['Bot'] = load_obj(\"Bot_Distribution_set\")\n",
    "\n",
    "attack_types = 7  #总已知攻击种类\n",
    "\n",
    "#定义difference weight,取值0~1\n",
    "def calculate_dw(distribution_1, distribution_2, feature_index):\n",
    "    count1 = calculate_count(distribution_1, feature_index)\n",
    "    count2 = calculate_count(distribution_2, feature_index)\n",
    "    h = 20\n",
    "    dw = 0\n",
    "    for i in range(h):\n",
    "        start = i*5\n",
    "        end = start + 5\n",
    "        T1 = distribution_1[str(feature_index)][str(start) + '-' + str(end)]/count1\n",
    "        T2 = distribution_2[str(feature_index)][str(start) + '-' + str(end)]/count2\n",
    "        dw += abs(T1 - T2)\n",
    "    return dw/2\n",
    "#用于计算分布字典里的实例数\n",
    "def calculate_count(distribution, feature_index):\n",
    "    h = 20\n",
    "    count = 0\n",
    "    for i in range(h):\n",
    "        start = i*5\n",
    "        end = start + 5\n",
    "        count += distribution[str(feature_index)][str(start) + '-' + str(end)]\n",
    "    return count\n",
    "#定义hdw，hybird difference weight  第二个参数为：hdw应用的对应得分公式的对应的哪种字典\n",
    "def calculate_hdw(feature_index, label):\n",
    "    base = 0\n",
    "    for key in distributions:\n",
    "        if(key == label):\n",
    "            continue\n",
    "        dw = calculate_dw(distributions[label], distributions[key], feature_index)\n",
    "        if(dw > base):\n",
    "            base = dw\n",
    "    return base\n",
    "\n",
    "\n",
    "#计算例子在某种标签上的得分，需要提供对应标签, 这个标签的的分布统计字典\n",
    "def get_score(example, distributeObj, label):    \n",
    "    score = 0\n",
    "    count = calculate_count(distributeObj, 0)  #取哪个特征都一样\n",
    "    minBase = 1\n",
    "    baseArr = []\n",
    "    for i in range(feature_numbers):\n",
    "\n",
    "        start = int(example[i]/0.05//1)*5   #取200个分组里的分组起始位置\n",
    "        if(start == 100):     #特殊处理当该属性为1.0时溢出的情况\n",
    "            start = 95      \n",
    "        end = start + 5\n",
    "        dataRange = '{0}-{1}'.format(start, end )\n",
    "        base = distributeObj[str(i)][dataRange]/count\n",
    "        if(base != 0 and base < minBase):\n",
    "            minBase = base\n",
    "        baseArr.append(base)\n",
    "        \n",
    "    for i in range(feature_numbers):\n",
    "        if(baseArr[i] != 0):\n",
    "            score += math.log(baseArr[i]) * calculate_hdw(i, label)  / feature_numbers\n",
    "        else:\n",
    "            score += math.log(minBase) * calculate_hdw(i, label)  / feature_numbers\n",
    "            \n",
    "    return score\n",
    "\n",
    "def get_max(array):\n",
    "    base = 0\n",
    "    for value in array:\n",
    "        if(base < value):\n",
    "            base = value\n",
    "    return base\n",
    "def get_min(array):\n",
    "    base = array[0]\n",
    "    for value in array:\n",
    "        if(base > value):\n",
    "            base = value\n",
    "    return base\n",
    "def get_average(array):\n",
    "    return float(sum(array))/len(array)\n",
    "def get_medium(array):\n",
    "    array.sort()\n",
    "    mid = int(len(array) / 2)\n",
    "    if len(array) % 2 == 0:\n",
    "        median = (array[mid - 1] + array[mid]) / 2.0\n",
    "    else:\n",
    "        median = array[mid]\n",
    "    return median\n",
    "def get_analysis(label_num):\n",
    "    count = 0.0\n",
    "    judge_attack_count = 0.0\n",
    "    Indexs = []\n",
    "    for index, item in enumerate(test_y3):  \n",
    "        if(item == label_num):\n",
    "            Indexs.append(index)\n",
    "            count+=1\n",
    "    Scores = []\n",
    "    for index, item in enumerate(Indexs):\n",
    "        t = get_score(test_x3[item], distributions['Benign'], 'Benign')\n",
    "        if(t == \"attack\"):\n",
    "            judge_attack_count+=1\n",
    "            t = -4.0\n",
    "        Scores.append(t)\n",
    "\n",
    "    print(get_max(Scores))\n",
    "    print(get_min(Scores))\n",
    "    print(get_medium(Scores))\n",
    "    print(get_average(Scores))  \n",
    "    print(judge_attack_count / count) \n",
    "    return Scores"
   ]
  },
  {
   "cell_type": "code",
   "execution_count": 3,
   "metadata": {
    "ExecuteTime": {
     "end_time": "2020-06-28T03:54:29.428913Z",
     "start_time": "2020-06-28T03:54:29.390821Z"
    }
   },
   "outputs": [],
   "source": [
    "def read_csv(dataroot):\n",
    "    df=pd.read_csv(dataroot,header=0,low_memory=False)   \n",
    "    pd.set_option('mode.use_inf_as_na', True) # convert inf to nan\n",
    "    df['Flow Bytes/s']=df['Flow Bytes/s'].astype('float64')\n",
    "    df[' Flow Packets/s']=df[' Flow Packets/s'].astype('float64')\n",
    "    df['Flow Bytes/s'].fillna(df['Flow Bytes/s'].mean(),inplace=True)\n",
    "    df[' Flow Packets/s'].fillna(df[' Flow Packets/s'].mean(),inplace=True)\n",
    "    return df\n",
    "\n",
    "def split_valid_from_train(train_dataset, valid_size):\n",
    "    # Method 1\n",
    "    train_dataset, valid_dataset, _, _ = train_test_split(train_dataset, train_dataset[' Label'], test_size=valid_size, random_state=None)\n",
    "    # pandas中先重置index再打乱train. 否则只会调整各个行的顺序，而不会改变pandas的index\n",
    "    # 重置\n",
    "    train_dataset = train_dataset.reset_index(drop=True)\n",
    "    # 打乱\n",
    "    indexMask = np.arange(len(train_dataset))\n",
    "    for i in range(10):\n",
    "        np.random.shuffle(indexMask)\n",
    "    train_dataset = train_dataset.iloc[indexMask]\n",
    "\n",
    "    return train_dataset, valid_dataset\n",
    "\n",
    "def shuffle(dataset):  \n",
    "    # 打乱\n",
    "    indexMask = np.arange(len(dataset))\n",
    "    for i in range(10):\n",
    "        np.random.shuffle(indexMask)\n",
    "    dataset = dataset.iloc[indexMask]\n",
    "    dataset = dataset.reset_index(drop=True)\n",
    "\n",
    "    return dataset \n",
    "\n",
    "#独热编码。选取distination port统计大于等于10以上的port作为新增维度\n",
    "def create_columns_for_destination_port(train_dataset):\n",
    "    countDictionary = Counter(train_dataset[' Destination Port'])\n",
    "    columns = []\n",
    "    columns.append('DestinationPort_Others')\n",
    "    for key in countDictionary:\n",
    "        if(countDictionary[key] >= 10):\n",
    "            columns.append('DestinationPort_' + str(key))\n",
    "    return columns\n",
    "\n",
    "def one_hot_process_for_destination_port(dataset, columns):\n",
    "    #重置索引\n",
    "    dataset = dataset.reset_index(drop=True)\n",
    "    #创建空表\n",
    "    DestinationPort_revert = pd.DataFrame(data=np.zeros(shape=(dataset.shape[0],len(columns))), columns = columns)\n",
    "    #填充空表\n",
    "    for i,value in enumerate(dataset[' Destination Port'].values):\n",
    "        name = \"DestinationPort_\" + str(value)\n",
    "        if name in columns:\n",
    "            DestinationPort_revert.loc[i, name] = 1\n",
    "        else:\n",
    "            DestinationPort_revert.loc[i, \"DestinationPort_Others\"] = 1\n",
    "    #与原表连接\n",
    "    dataset = pd.concat([dataset, DestinationPort_revert], axis=1)\n",
    "    #删除原表的destination port列\n",
    "    dataset = dataset.drop([' Destination Port'], axis=1)\n",
    "    return dataset  \n",
    "\n",
    "\n",
    "\n",
    "def labels_separate(dataset):\n",
    "    y_ = dataset[' Label']\n",
    "    temp = dataset\n",
    "    temp.drop([' Label'], axis=1, inplace=True)\n",
    "    x_ = temp.values\n",
    "    return x_, y_\n",
    "\n",
    "def labels_map(label):\n",
    "    if(type(label) == int):      #已是数字，无需处理\n",
    "        return label\n",
    "    if label == 'BENIGN':\n",
    "        return 0\n",
    "    if label == 'DoS':\n",
    "        return 1\n",
    "    if label == 'PortScan':\n",
    "        return 2\n",
    "    if label == 'DDoS':\n",
    "        return 3\n",
    "    if label == 'SSH-Patator':\n",
    "        return 4\n",
    "    if label == 'FTP-Patator':\n",
    "        return 5\n",
    "    if label == 'Web Attack':\n",
    "        return 6\n",
    "    if label == 'Bot':\n",
    "        return 7\n",
    "    if label == 'Infiltration':\n",
    "        return 8\n",
    "    return -1   #-1表示出错\n",
    "def filter_labels(dataset):\n",
    "    dataset[' Label'] = dataset[' Label'].apply(labels_map)\n",
    "    return dataset\n",
    "#特征选取\n",
    "def feature_selection(dataset):\n",
    "    return dataset[[\n",
    "        ' Destination Port', 'Bwd Packet Length Max',' Bwd Packet Length Min', ' Bwd Packet Length Std',\n",
    "        ' Flow IAT Mean', ' Flow IAT Std', ' Flow IAT Min', ' Fwd IAT Min', ' Bwd Packets/s', ' Min Packet Length',\n",
    "        ' Max Packet Length', ' Init_Win_bytes_backward', ' act_data_pkt_fwd', ' Label'\n",
    "    ]]\n",
    "def feature_selection2(dataset):\n",
    "    return dataset[[' Destination Port', ' Flow Duration', ' Total Fwd Packets', 'Total Length of Fwd Packets', \n",
    "                    ' Total Length of Bwd Packets', ' Fwd Packet Length Std', 'Bwd Packet Length Max', \n",
    "                    ' Bwd Packet Length Mean', ' Bwd Packet Length Std', 'Flow Bytes/s', ' Flow IAT Mean', \n",
    "                    ' Flow IAT Max', ' Flow IAT Min', ' Fwd IAT Mean', ' Fwd IAT Max', ' Fwd IAT Min', \n",
    "                    ' Bwd IAT Min', ' Fwd Header Length', ' Bwd Header Length', 'Fwd Packets/s', \n",
    "                    ' Bwd Packets/s', ' Max Packet Length', ' Packet Length Variance', ' ACK Flag Count', \n",
    "                    ' URG Flag Count', ' Average Packet Size', ' Avg Bwd Segment Size', ' Fwd Header Length.1', \n",
    "                    ' Subflow Fwd Bytes', 'Init_Win_bytes_forward', ' Init_Win_bytes_backward', \n",
    "                    ' act_data_pkt_fwd', ' Label'\n",
    "                   ]]\n",
    "\n",
    "\n",
    "labelList = [\"BENIGN\", \"DoS\", \"PortScan\", \"DDoS\", \"SSH-Patator\", \"FTP-Patator\", \"Web Attack\", \"Bot\"]"
   ]
  },
  {
   "cell_type": "code",
   "execution_count": 4,
   "metadata": {
    "ExecuteTime": {
     "end_time": "2020-06-28T03:55:25.258230Z",
     "start_time": "2020-06-28T03:54:29.433811Z"
    }
   },
   "outputs": [
    {
     "name": "stdout",
     "output_type": "stream",
     "text": [
      "485396\n"
     ]
    }
   ],
   "source": [
    "tracemalloc.start()\n",
    "#DDoS\n",
    "df_1 = read_csv(\"../MachineLearningCVE/Friday-WorkingHours-Afternoon-DDos.pcap_ISCX.csv\")\n",
    "df_1 = df_1.drop(df_1[df_1[' Label'] == 'BENIGN'].index)\n",
    "df_1 = df_1.sample(n=5000,random_state=1, replace=False)\n",
    "df_1_train, df_1_test = split_valid_from_train(df_1, 0.2)\n",
    "#PortScan\n",
    "df_2 = read_csv(\"../MachineLearningCVE/Friday-WorkingHours-Afternoon-PortScan.pcap_ISCX.csv\")\n",
    "df_2 = df_2.drop(df_2[df_2[' Label'] == 'BENIGN'].index)\n",
    "df_2 = df_2.sample(n=5000,random_state=1, replace=False)\n",
    "df_2_train, df_2_test = split_valid_from_train(df_2, 0.2)\n",
    "#Bot\n",
    "df_3 = read_csv(\"../MachineLearningCVE/Friday-WorkingHours-Morning.pcap_ISCX.csv\")\n",
    "df_3 = df_3.drop(df_3[df_3[' Label'] == 'BENIGN'].index)\n",
    "df_3 = df_3.sample(n=5000,random_state=1, replace=True)\n",
    "df_3_train, df_3_test = split_valid_from_train(df_3, 0.2)\n",
    "#Benign\n",
    "df_4 = read_csv(\"../MachineLearningCVE/Monday-WorkingHours.pcap_ISCX.csv\")\n",
    "df_4 = df_4.sample(n=50000,random_state=1, replace=False)\n",
    "df_4_train, df_4_test = split_valid_from_train(df_4, 0.2)\n",
    "#Web attack\n",
    "df_6 = read_csv(\"../MachineLearningCVE/Thursday-WorkingHours-Morning-WebAttacks.pcap_ISCX.csv\")\n",
    "df_6 = df_6.drop(df_6[df_6[' Label'] == 'BENIGN'].index)\n",
    "df_6 = df_6.sample(n=5000,random_state=1, replace=True)\n",
    "df_6[' Label'] = df_6[' Label'].apply(lambda x: 'Web Attack')\n",
    "df_6_train, df_6_test = split_valid_from_train(df_6, 0.2)\n",
    "#FTP-Patator and SSH-Patator\n",
    "df_7 = read_csv(\"../MachineLearningCVE/Tuesday-WorkingHours.pcap_ISCX.csv\")\n",
    "df_7 = df_7.drop(df_7[df_7[' Label'] == 'BENIGN'].index)\n",
    "df_7_1 = df_7.drop(df_7[df_7[' Label'] == 'FTP-Patator'].index)\n",
    "df_7_2 = df_7.drop(df_7[df_7[' Label'] == 'SSH-Patator'].index)\n",
    "df_7_1 = df_7_1.sample(n=5000,random_state=1, replace=False)\n",
    "df_7_2 = df_7_2.sample(n=5000,random_state=1, replace=False)\n",
    "df_7_1_train, df_7_1_test = split_valid_from_train(df_7_1, 0.2)\n",
    "df_7_2_train, df_7_2_test = split_valid_from_train(df_7_2, 0.2)\n",
    "#DoS\n",
    "df_8 = read_csv(\"../MachineLearningCVE/Wednesday-workingHours.pcap_ISCX.csv\")\n",
    "df_8 = df_8.drop(df_8[df_8[' Label'] == 'BENIGN'].index)\n",
    "df_8 = df_8.sample(n=5000,random_state=1, replace=False)\n",
    "df_8[' Label'] = df_8[' Label'].apply(lambda x: 'DoS')\n",
    "df_8_train, df_8_test = split_valid_from_train(df_8, 0.2)\n",
    "\n",
    "#整合\n",
    "df_train = df_1_train.append([df_2_train, df_3_train, df_4_train, df_6_train, df_7_1_train,df_7_2_train,df_8_train])\n",
    "df_test = df_1_test.append([df_2_test, df_3_test, df_4_test, df_6_test, df_7_1_test,df_7_2_test,df_8_test])\n",
    "print(tracemalloc.get_tracemalloc_memory())\n",
    "tracemalloc.stop()"
   ]
  },
  {
   "cell_type": "code",
   "execution_count": 5,
   "metadata": {
    "ExecuteTime": {
     "end_time": "2020-06-28T03:55:25.287273Z",
     "start_time": "2020-06-28T03:55:25.263198Z"
    }
   },
   "outputs": [
    {
     "name": "stdout",
     "output_type": "stream",
     "text": [
      "(68000, 79)\n",
      "BENIGN         40000\n",
      "Web Attack      4000\n",
      "FTP-Patator     4000\n",
      "DDoS            4000\n",
      "SSH-Patator     4000\n",
      "Bot             4000\n",
      "DoS             4000\n",
      "PortScan        4000\n",
      "Name:  Label, dtype: int64\n",
      "(17000, 79)\n",
      "BENIGN         10000\n",
      "Bot             1000\n",
      "Web Attack      1000\n",
      "DDoS            1000\n",
      "DoS             1000\n",
      "FTP-Patator     1000\n",
      "PortScan        1000\n",
      "SSH-Patator     1000\n",
      "Name:  Label, dtype: int64\n"
     ]
    }
   ],
   "source": [
    "print(df_train.shape)\n",
    "print(df_train.loc[:,' Label'].value_counts())\n",
    "print(df_test.shape)\n",
    "print(df_test.loc[:,' Label'].value_counts())"
   ]
  },
  {
   "cell_type": "code",
   "execution_count": 6,
   "metadata": {
    "ExecuteTime": {
     "end_time": "2020-06-28T03:55:25.331244Z",
     "start_time": "2020-06-28T03:55:25.293122Z"
    }
   },
   "outputs": [
    {
     "name": "stdout",
     "output_type": "stream",
     "text": [
      "5372000\n",
      "10880000\n",
      "(17000, 79)\n"
     ]
    }
   ],
   "source": [
    "print(df_train.size)\n",
    "print(df_test.memory_usage().sum())\n",
    "print(df_test.shape)"
   ]
  },
  {
   "cell_type": "code",
   "execution_count": 7,
   "metadata": {
    "ExecuteTime": {
     "end_time": "2020-06-28T03:55:25.355587Z",
     "start_time": "2020-06-28T03:55:25.336071Z"
    }
   },
   "outputs": [],
   "source": [
    "import pickle\n",
    "#数理统计方法，按5%区间进行数理统计\n",
    "def statistics(dataset, feature_index):\n",
    "    intervals = {'{0}-{1}'.format(5 * x, 5 * (x+1) ): 0 for x in range(20)}\n",
    "    for _ in dataset[:,feature_index]:\n",
    "        for interval in intervals:\n",
    "            start, end = tuple(interval.split('-'))\n",
    "            if int(start) <= _*100 <= int(end):\n",
    "                intervals[interval] += 1\n",
    "    return intervals\n",
    "\n",
    "def save_obj(obj, name ):\n",
    "    with open('../DistributionDictionary/'+ name + '.pkl', 'wb') as f:\n",
    "        pickle.dump(obj, f, pickle.HIGHEST_PROTOCOL)\n",
    "        "
   ]
  },
  {
   "cell_type": "code",
   "execution_count": 8,
   "metadata": {
    "ExecuteTime": {
     "end_time": "2020-06-28T03:55:45.922734Z",
     "start_time": "2020-06-28T03:55:25.360802Z"
    }
   },
   "outputs": [],
   "source": [
    "#整合后再乱序一下\n",
    "df_train = shuffle(df_train)\n",
    "#标签的字符转化成数字\n",
    "df_train = filter_labels(df_train)\n",
    "\n",
    "#特征选择\n",
    "df_train = feature_selection(df_train)\n",
    "#对destination port进行独热编码\n",
    "columns = create_columns_for_destination_port(df_train)\n",
    "df_train = one_hot_process_for_destination_port(df_train, columns)\n",
    "#分离标签\n",
    "df_train_X, df_train_y = labels_separate(df_train)\n",
    "#Normalization\n",
    "scaler = preprocessing.MinMaxScaler()\n",
    "df_train_X = scaler.fit_transform(df_train_X)"
   ]
  },
  {
   "cell_type": "code",
   "execution_count": 9,
   "metadata": {
    "ExecuteTime": {
     "end_time": "2020-06-28T03:55:53.538412Z",
     "start_time": "2020-06-28T03:55:45.934724Z"
    }
   },
   "outputs": [
    {
     "name": "stdout",
     "output_type": "stream",
     "text": [
      "49804\n"
     ]
    }
   ],
   "source": [
    "tracemalloc.start()\n",
    "df_test = filter_labels(df_test)\n",
    "df_test = feature_selection(df_test)\n",
    "df_test = one_hot_process_for_destination_port(df_test, columns)\n",
    "df_test_X, df_test_y = labels_separate(df_test)\n",
    "df_test_X = scaler.fit_transform(df_test_X)\n",
    "print(tracemalloc.get_tracemalloc_memory())\n",
    "tracemalloc.stop()"
   ]
  },
  {
   "cell_type": "code",
   "execution_count": 10,
   "metadata": {
    "ExecuteTime": {
     "end_time": "2020-06-28T03:55:53.558365Z",
     "start_time": "2020-06-28T03:55:53.542848Z"
    }
   },
   "outputs": [],
   "source": [
    "feature_numbers = 12   #选前12个特征\n",
    "distribution_feature = [    #产生的新特征\n",
    "    'Benign_Score', 'DoS_Score',\n",
    "    'PortScan_Score', 'DDoS_Score', 'SSH_Score',\n",
    "    'FTP_Score', ' Web_Score', 'Bot_Score'\n",
    "]\n",
    "def create_distribution_score(dataset):\n",
    "    #创建空表\n",
    "    Score_revert = pd.DataFrame(\n",
    "        data=np.zeros(\n",
    "            shape=(\n",
    "                dataset.shape[0],\n",
    "                len(distribution_feature)\n",
    "            )\n",
    "        ),columns = distribution_feature\n",
    "    )\n",
    "    #填充空表\n",
    "    for i,item in enumerate(dataset):\n",
    "        score = []\n",
    "        minIndex = 0\n",
    "        Score_revert.loc[i, 'Benign_Score'] = get_score(item, distributions['Benign'], 'Benign')\n",
    "        Score_revert.loc[i, 'DoS_Score'] = get_score(item, distributions['DoS'], 'DoS')\n",
    "        Score_revert.loc[i, 'PortScan_Score'] = get_score(item, distributions['PortScan'], 'PortScan')\n",
    "        Score_revert.loc[i, 'DDoS_Score'] = get_score(item, distributions['DDoS'], 'DDoS')\n",
    "        Score_revert.loc[i, 'SSH_Score'] = get_score(item, distributions['SSH'], 'SSH')\n",
    "        Score_revert.loc[i, 'FTP_Score'] = get_score(item, distributions['FTP'], 'FTP')\n",
    "        Score_revert.loc[i, 'Web_Score'] = get_score(item, distributions['Web'], 'Web')\n",
    "        Score_revert.loc[i, 'Bot_Score'] = get_score(item, distributions['Bot'], 'Bot')\n",
    "\n",
    "    dataset = np.hstack((dataset,Score_revert.values))\n",
    "    return dataset  \n"
   ]
  },
  {
   "cell_type": "code",
   "execution_count": 11,
   "metadata": {
    "ExecuteTime": {
     "end_time": "2020-06-28T06:34:31.234000Z",
     "start_time": "2020-06-28T03:55:53.563003Z"
    }
   },
   "outputs": [
    {
     "name": "stdout",
     "output_type": "stream",
     "text": [
      "39016\n"
     ]
    }
   ],
   "source": [
    "tracemalloc.start()\n",
    "df_train_X = create_distribution_score(df_train_X)\n",
    "print(tracemalloc.get_tracemalloc_memory())\n",
    "tracemalloc.stop()\n"
   ]
  },
  {
   "cell_type": "code",
   "execution_count": 12,
   "metadata": {
    "ExecuteTime": {
     "end_time": "2020-06-28T07:17:13.768040Z",
     "start_time": "2020-06-28T06:34:31.240498Z"
    }
   },
   "outputs": [
    {
     "name": "stdout",
     "output_type": "stream",
     "text": [
      "26124\n"
     ]
    }
   ],
   "source": [
    "tracemalloc.start()\n",
    "df_test_X = create_distribution_score(df_test_X)\n",
    "print(tracemalloc.get_tracemalloc_memory())\n",
    "tracemalloc.stop()"
   ]
  },
  {
   "cell_type": "code",
   "execution_count": 13,
   "metadata": {
    "ExecuteTime": {
     "end_time": "2020-06-28T07:17:13.920030Z",
     "start_time": "2020-06-28T07:17:13.771650Z"
    }
   },
   "outputs": [
    {
     "name": "stdout",
     "output_type": "stream",
     "text": [
      "26280\n"
     ]
    }
   ],
   "source": [
    "tracemalloc.start()\n",
    "T = create_distribution_score(df_train_X[0:1])\n",
    "print(tracemalloc.get_tracemalloc_memory())\n",
    "tracemalloc.stop()"
   ]
  },
  {
   "cell_type": "code",
   "execution_count": 14,
   "metadata": {
    "ExecuteTime": {
     "end_time": "2020-06-28T07:17:13.958227Z",
     "start_time": "2020-06-28T07:17:13.940659Z"
    }
   },
   "outputs": [
    {
     "name": "stdout",
     "output_type": "stream",
     "text": [
      "(1, 47)\n"
     ]
    }
   ],
   "source": [
    "print(df_train_X[0:1].shape)"
   ]
  },
  {
   "cell_type": "code",
   "execution_count": 15,
   "metadata": {
    "ExecuteTime": {
     "end_time": "2020-06-28T07:17:13.980060Z",
     "start_time": "2020-06-28T07:17:13.971425Z"
    }
   },
   "outputs": [
    {
     "name": "stdout",
     "output_type": "stream",
     "text": [
      "['DestinationPort_Others', 'DestinationPort_80', 'DestinationPort_443', 'DestinationPort_22', 'DestinationPort_53', 'DestinationPort_21', 'DestinationPort_8080', 'DestinationPort_425', 'DestinationPort_123', 'DestinationPort_137', 'DestinationPort_135', 'DestinationPort_88', 'DestinationPort_1007', 'DestinationPort_389', 'DestinationPort_465', 'DestinationPort_139', 'DestinationPort_3268', 'DestinationPort_138', 'DestinationPort_445', 'DestinationPort_1201', 'DestinationPort_79', 'DestinationPort_5214', 'DestinationPort_1720', 'DestinationPort_0', 'DestinationPort_2968', 'DestinationPort_1900']\n",
      "26\n"
     ]
    }
   ],
   "source": [
    "print(columns)\n",
    "print(len(columns))"
   ]
  },
  {
   "cell_type": "code",
   "execution_count": 16,
   "metadata": {
    "ExecuteTime": {
     "end_time": "2020-06-28T07:17:14.385922Z",
     "start_time": "2020-06-28T07:17:13.983606Z"
    }
   },
   "outputs": [
    {
     "name": "stdout",
     "output_type": "stream",
     "text": [
      "(68000, 47)\n",
      "(68000,)\n",
      "(17000, 47)\n",
      "(17000,)\n",
      "[ 0.00000000e+00  0.00000000e+00  0.00000000e+00  3.21695906e-05\n",
      "  7.72901066e-05  1.75438595e-08  8.34971603e-09  4.54462825e-05\n",
      "  0.00000000e+00  2.56849315e-04  3.60107422e-03  6.30040323e-05\n",
      "  0.00000000e+00  1.00000000e+00  0.00000000e+00  0.00000000e+00\n",
      "  0.00000000e+00  0.00000000e+00  0.00000000e+00  0.00000000e+00\n",
      "  0.00000000e+00  0.00000000e+00  0.00000000e+00  0.00000000e+00\n",
      "  0.00000000e+00  0.00000000e+00  0.00000000e+00  0.00000000e+00\n",
      "  0.00000000e+00  0.00000000e+00  0.00000000e+00  0.00000000e+00\n",
      "  0.00000000e+00  0.00000000e+00  0.00000000e+00  0.00000000e+00\n",
      "  0.00000000e+00  0.00000000e+00 -7.56854345e-02 -4.78748425e-01\n",
      " -3.94508836e-01 -1.00186920e+00 -6.74629153e-01 -7.35629842e-01\n",
      "  0.00000000e+00 -4.85033479e-01 -9.23136038e-01]\n",
      "0        1\n",
      "1        0\n",
      "2        4\n",
      "3        0\n",
      "4        0\n",
      "5        0\n",
      "6        5\n",
      "7        0\n",
      "8        7\n",
      "9        0\n",
      "10       0\n",
      "11       4\n",
      "12       7\n",
      "13       0\n",
      "14       7\n",
      "15       6\n",
      "16       0\n",
      "17       0\n",
      "18       7\n",
      "19       0\n",
      "20       0\n",
      "21       7\n",
      "22       4\n",
      "23       0\n",
      "24       0\n",
      "25       6\n",
      "26       0\n",
      "27       2\n",
      "28       0\n",
      "29       0\n",
      "        ..\n",
      "67970    0\n",
      "67971    5\n",
      "67972    0\n",
      "67973    0\n",
      "67974    0\n",
      "67975    0\n",
      "67976    0\n",
      "67977    0\n",
      "67978    0\n",
      "67979    1\n",
      "67980    0\n",
      "67981    0\n",
      "67982    0\n",
      "67983    4\n",
      "67984    0\n",
      "67985    0\n",
      "67986    0\n",
      "67987    0\n",
      "67988    0\n",
      "67989    2\n",
      "67990    0\n",
      "67991    6\n",
      "67992    0\n",
      "67993    5\n",
      "67994    0\n",
      "67995    0\n",
      "67996    0\n",
      "67997    0\n",
      "67998    0\n",
      "67999    0\n",
      "Name:  Label, Length: 68000, dtype: int64\n"
     ]
    }
   ],
   "source": [
    "print(df_train_X.shape)\n",
    "print(df_train_y.shape)\n",
    "print(df_test_X.shape)\n",
    "print(df_test_y.shape)\n",
    "print(df_train_X[0])\n",
    "print(df_train_y)\n",
    "\n",
    "np.save(\"../Test11/train_X.npy\",df_train_X)\n",
    "np.save(\"../Test11/train_y.npy\",df_train_y)\n",
    "np.save(\"../Test11/test_X.npy\",df_test_X)\n",
    "np.save(\"../Test11/test_y.npy\",df_test_y)"
   ]
  },
  {
   "cell_type": "code",
   "execution_count": 17,
   "metadata": {
    "ExecuteTime": {
     "end_time": "2020-06-28T07:17:14.396716Z",
     "start_time": "2020-06-28T07:17:14.388275Z"
    }
   },
   "outputs": [
    {
     "name": "stdout",
     "output_type": "stream",
     "text": [
      "(68000, 12)\n",
      "(68000,)\n",
      "(17000, 12)\n",
      "(17000,)\n"
     ]
    }
   ],
   "source": [
    "T_train_X = df_train_X[:,0:12]\n",
    "T_test_X = df_test_X[:,0:12]\n",
    "print(T_train_X.shape)\n",
    "print(df_train_y.shape)\n",
    "print(T_test_X.shape)\n",
    "print(df_test_y.shape)"
   ]
  },
  {
   "cell_type": "code",
   "execution_count": 33,
   "metadata": {
    "ExecuteTime": {
     "end_time": "2020-06-28T07:26:21.578293Z",
     "start_time": "2020-06-28T07:26:21.567707Z"
    }
   },
   "outputs": [],
   "source": [
    "import tensorflow as tf\n",
    "from tensorflow import keras\n",
    "from sklearn.metrics import f1_score, precision_score, recall_score\n",
    "from sklearn.metrics import classification_report\n",
    "from tensorflow.keras.layers import BatchNormalization\n",
    "#超参数设置\n",
    "learning_rate = 0.001\n",
    "epochs = 50\n",
    "batch_size = 256\n",
    "activation = tf.nn.relu         #非输出层下的激活函数"
   ]
  },
  {
   "cell_type": "code",
   "execution_count": 34,
   "metadata": {
    "ExecuteTime": {
     "end_time": "2020-06-28T07:29:33.644148Z",
     "start_time": "2020-06-28T07:26:46.221344Z"
    }
   },
   "outputs": [
    {
     "name": "stdout",
     "output_type": "stream",
     "text": [
      "_________________________________________________________________\n",
      "Layer (type)                 Output Shape              Param #   \n",
      "=================================================================\n",
      "dense_4 (Dense)              (None, 47)                2256      \n",
      "_________________________________________________________________\n",
      "batch_normalization_v1_3 (Ba (None, 47)                188       \n",
      "_________________________________________________________________\n",
      "dense_5 (Dense)              (None, 64)                3072      \n",
      "_________________________________________________________________\n",
      "batch_normalization_v1_4 (Ba (None, 64)                256       \n",
      "_________________________________________________________________\n",
      "dense_6 (Dense)              (None, 64)                4160      \n",
      "_________________________________________________________________\n",
      "batch_normalization_v1_5 (Ba (None, 64)                256       \n",
      "_________________________________________________________________\n",
      "dense_7 (Dense)              (None, 8)                 520       \n",
      "=================================================================\n",
      "Total params: 10,708\n",
      "Trainable params: 10,358\n",
      "Non-trainable params: 350\n",
      "_________________________________________________________________\n",
      "Train on 68000 samples, validate on 17000 samples\n",
      "Epoch 1/50\n",
      "67072/68000 [============================>.] - ETA: 0s - loss: 0.5298 - acc: 0.8124"
     ]
    },
    {
     "name": "stderr",
     "output_type": "stream",
     "text": [
      "/opt/conda/lib/python3.7/site-packages/sklearn/metrics/classification.py:1143: UndefinedMetricWarning: Precision is ill-defined and being set to 0.0 in labels with no predicted samples.\n",
      "  'precision', 'predicted', average, warn_for)\n",
      "/opt/conda/lib/python3.7/site-packages/sklearn/metrics/classification.py:1143: UndefinedMetricWarning: F-score is ill-defined and being set to 0.0 in labels with no predicted samples.\n",
      "  'precision', 'predicted', average, warn_for)\n"
     ]
    },
    {
     "name": "stdout",
     "output_type": "stream",
     "text": [
      "\n",
      "Epoch 00001: val_loss improved from inf to 0.69511, saving model to ./Test7_model.h5\n",
      "WARNING:tensorflow:TensorFlow optimizers do not make it possible to access optimizer attributes or optimizer state after instantiation. As a result, we cannot save the optimizer as part of the model save file.You will have to compile your model again after loading it. Prefer using a Keras optimizer instead (see keras.io/optimizers).\n",
      "68000/68000 [==============================] - 4s 64us/sample - loss: 0.5273 - acc: 0.8130 - val_loss: 0.6951 - val_acc: 0.7512\n",
      "Epoch 2/50\n",
      "66816/68000 [============================>.] - ETA: 0s - loss: 0.3233 - acc: 0.8729\n",
      "Epoch 00002: val_loss improved from 0.69511 to 0.43847, saving model to ./Test7_model.h5\n",
      "WARNING:tensorflow:TensorFlow optimizers do not make it possible to access optimizer attributes or optimizer state after instantiation. As a result, we cannot save the optimizer as part of the model save file.You will have to compile your model again after loading it. Prefer using a Keras optimizer instead (see keras.io/optimizers).\n",
      "68000/68000 [==============================] - 3s 48us/sample - loss: 0.3229 - acc: 0.8730 - val_loss: 0.4385 - val_acc: 0.8354\n",
      "Epoch 3/50\n",
      "67072/68000 [============================>.] - ETA: 0s - loss: 0.2508 - acc: 0.9048\n",
      "Epoch 00003: val_loss improved from 0.43847 to 0.40078, saving model to ./Test7_model.h5\n",
      "WARNING:tensorflow:TensorFlow optimizers do not make it possible to access optimizer attributes or optimizer state after instantiation. As a result, we cannot save the optimizer as part of the model save file.You will have to compile your model again after loading it. Prefer using a Keras optimizer instead (see keras.io/optimizers).\n",
      "68000/68000 [==============================] - 3s 48us/sample - loss: 0.2505 - acc: 0.9049 - val_loss: 0.4008 - val_acc: 0.8637\n",
      "Epoch 4/50\n",
      "66816/68000 [============================>.] - ETA: 0s - loss: 0.2189 - acc: 0.9188\n",
      "Epoch 00004: val_loss did not improve from 0.40078\n",
      "68000/68000 [==============================] - 3s 45us/sample - loss: 0.2188 - acc: 0.9190 - val_loss: 0.5454 - val_acc: 0.8524\n",
      "Epoch 5/50\n",
      "66304/68000 [============================>.] - ETA: 0s - loss: 0.1959 - acc: 0.9272\n",
      "Epoch 00005: val_loss did not improve from 0.40078\n",
      "68000/68000 [==============================] - 4s 53us/sample - loss: 0.1957 - acc: 0.9273 - val_loss: 0.4468 - val_acc: 0.8794\n",
      "Epoch 6/50\n",
      "66304/68000 [============================>.] - ETA: 0s - loss: 0.1846 - acc: 0.9306\n",
      "Epoch 00006: val_loss improved from 0.40078 to 0.33580, saving model to ./Test7_model.h5\n",
      "WARNING:tensorflow:TensorFlow optimizers do not make it possible to access optimizer attributes or optimizer state after instantiation. As a result, we cannot save the optimizer as part of the model save file.You will have to compile your model again after loading it. Prefer using a Keras optimizer instead (see keras.io/optimizers).\n",
      "68000/68000 [==============================] - 3s 49us/sample - loss: 0.1843 - acc: 0.9309 - val_loss: 0.3358 - val_acc: 0.8642\n",
      "Epoch 7/50\n",
      "67072/68000 [============================>.] - ETA: 0s - loss: 0.1711 - acc: 0.9374\n",
      "Epoch 00007: val_loss did not improve from 0.33580\n",
      "68000/68000 [==============================] - 3s 45us/sample - loss: 0.1707 - acc: 0.9376 - val_loss: 0.3483 - val_acc: 0.8906\n",
      "Epoch 8/50\n",
      "66816/68000 [============================>.] - ETA: 0s - loss: 0.1641 - acc: 0.9396\n",
      "Epoch 00008: val_loss did not improve from 0.33580\n",
      "68000/68000 [==============================] - 3s 48us/sample - loss: 0.1643 - acc: 0.9394 - val_loss: 0.3767 - val_acc: 0.8856\n",
      "Epoch 9/50\n",
      "67328/68000 [============================>.] - ETA: 0s - loss: 0.1499 - acc: 0.9441\n",
      "Epoch 00009: val_loss did not improve from 0.33580\n",
      "68000/68000 [==============================] - 3s 49us/sample - loss: 0.1496 - acc: 0.9442 - val_loss: 0.4258 - val_acc: 0.8692\n",
      "Epoch 10/50\n",
      "66304/68000 [============================>.] - ETA: 0s - loss: 0.1446 - acc: 0.9455\n",
      "Epoch 00010: val_loss improved from 0.33580 to 0.30937, saving model to ./Test7_model.h5\n",
      "WARNING:tensorflow:TensorFlow optimizers do not make it possible to access optimizer attributes or optimizer state after instantiation. As a result, we cannot save the optimizer as part of the model save file.You will have to compile your model again after loading it. Prefer using a Keras optimizer instead (see keras.io/optimizers).\n",
      "68000/68000 [==============================] - 4s 52us/sample - loss: 0.1444 - acc: 0.9457 - val_loss: 0.3094 - val_acc: 0.9057\n",
      "Epoch 11/50\n",
      "67328/68000 [============================>.] - ETA: 0s - loss: 0.1448 - acc: 0.9454\n",
      "Epoch 00011: val_loss did not improve from 0.30937\n",
      "68000/68000 [==============================] - 3s 48us/sample - loss: 0.1447 - acc: 0.9455 - val_loss: 0.6922 - val_acc: 0.8672\n",
      "Epoch 12/50\n",
      "67328/68000 [============================>.] - ETA: 0s - loss: 0.1346 - acc: 0.9479\n",
      "Epoch 00012: val_loss did not improve from 0.30937\n",
      "68000/68000 [==============================] - 4s 59us/sample - loss: 0.1347 - acc: 0.9478 - val_loss: 1.7128 - val_acc: 0.8430\n",
      "Epoch 13/50\n",
      "67328/68000 [============================>.] - ETA: 0s - loss: 0.1328 - acc: 0.9497\n",
      "Epoch 00013: val_loss improved from 0.30937 to 0.28735, saving model to ./Test7_model.h5\n",
      "WARNING:tensorflow:TensorFlow optimizers do not make it possible to access optimizer attributes or optimizer state after instantiation. As a result, we cannot save the optimizer as part of the model save file.You will have to compile your model again after loading it. Prefer using a Keras optimizer instead (see keras.io/optimizers).\n",
      "68000/68000 [==============================] - 4s 52us/sample - loss: 0.1327 - acc: 0.9497 - val_loss: 0.2874 - val_acc: 0.9089\n",
      "Epoch 14/50\n",
      "67328/68000 [============================>.] - ETA: 0s - loss: 0.1288 - acc: 0.9508\n",
      "Epoch 00014: val_loss did not improve from 0.28735\n",
      "68000/68000 [==============================] - 3s 47us/sample - loss: 0.1290 - acc: 0.9507 - val_loss: 0.8674 - val_acc: 0.8717\n",
      "Epoch 15/50\n",
      "66816/68000 [============================>.] - ETA: 0s - loss: 0.1420 - acc: 0.9455\n",
      "Epoch 00015: val_loss did not improve from 0.28735\n",
      "68000/68000 [==============================] - 3s 45us/sample - loss: 0.1418 - acc: 0.9457 - val_loss: 0.3421 - val_acc: 0.8961\n",
      "Epoch 16/50\n",
      "66816/68000 [============================>.] - ETA: 0s - loss: 0.1301 - acc: 0.9494- E\n",
      "Epoch 00016: val_loss did not improve from 0.28735\n",
      "68000/68000 [==============================] - 3s 45us/sample - loss: 0.1301 - acc: 0.9495 - val_loss: 0.5165 - val_acc: 0.8829\n",
      "Epoch 17/50\n",
      "66048/68000 [============================>.] - ETA: 0s - loss: 0.1314 - acc: 0.9486\n",
      "Epoch 00017: val_loss did not improve from 0.28735\n",
      "68000/68000 [==============================] - 4s 64us/sample - loss: 0.1308 - acc: 0.9487 - val_loss: 0.8412 - val_acc: 0.8522\n",
      "Epoch 18/50\n",
      "67840/68000 [============================>.] - ETA: 0s - loss: 0.1257 - acc: 0.9512\n",
      "Epoch 00018: val_loss did not improve from 0.28735\n",
      "68000/68000 [==============================] - 4s 52us/sample - loss: 0.1257 - acc: 0.9512 - val_loss: 0.4135 - val_acc: 0.8988\n",
      "Epoch 19/50\n",
      "66304/68000 [============================>.] - ETA: 0s - loss: 0.1182 - acc: 0.9542\n",
      "Epoch 00019: val_loss did not improve from 0.28735\n",
      "68000/68000 [==============================] - 3s 43us/sample - loss: 0.1187 - acc: 0.9540 - val_loss: 0.7077 - val_acc: 0.8881\n",
      "Epoch 20/50\n",
      "67072/68000 [============================>.] - ETA: 0s - loss: 0.1198 - acc: 0.9528\n",
      "Epoch 00020: val_loss did not improve from 0.28735\n",
      "68000/68000 [==============================] - 4s 52us/sample - loss: 0.1201 - acc: 0.9526 - val_loss: 0.3488 - val_acc: 0.8836\n",
      "Epoch 21/50\n",
      "67072/68000 [============================>.] - ETA: 0s - loss: 0.1257 - acc: 0.9512\n",
      "Epoch 00021: val_loss did not improve from 0.28735\n",
      "68000/68000 [==============================] - 3s 51us/sample - loss: 0.1255 - acc: 0.9513 - val_loss: 0.3906 - val_acc: 0.8971\n",
      "Epoch 22/50\n",
      "66816/68000 [============================>.] - ETA: 0s - loss: 0.1215 - acc: 0.9519\n",
      "Epoch 00022: val_loss did not improve from 0.28735\n",
      "68000/68000 [==============================] - 3s 50us/sample - loss: 0.1214 - acc: 0.9517 - val_loss: 0.7503 - val_acc: 0.8756\n",
      "Epoch 23/50\n"
     ]
    },
    {
     "name": "stdout",
     "output_type": "stream",
     "text": [
      "67584/68000 [============================>.] - ETA: 0s - loss: 0.1206 - acc: 0.9528\n",
      "Epoch 00023: val_loss did not improve from 0.28735\n",
      "68000/68000 [==============================] - 3s 48us/sample - loss: 0.1207 - acc: 0.9528 - val_loss: 0.3796 - val_acc: 0.8546\n",
      "Epoch 24/50\n",
      "67072/68000 [============================>.] - ETA: 0s - loss: 0.1154 - acc: 0.9546\n",
      "Epoch 00024: val_loss did not improve from 0.28735\n",
      "68000/68000 [==============================] - 3s 50us/sample - loss: 0.1154 - acc: 0.9547 - val_loss: 0.6392 - val_acc: 0.8209\n",
      "Epoch 25/50\n",
      "67840/68000 [============================>.] - ETA: 0s - loss: 0.1145 - acc: 0.9545\n",
      "Epoch 00025: val_loss did not improve from 0.28735\n",
      "68000/68000 [==============================] - 3s 43us/sample - loss: 0.1145 - acc: 0.9545 - val_loss: 0.5015 - val_acc: 0.8765\n",
      "Epoch 26/50\n",
      "66304/68000 [============================>.] - ETA: 0s - loss: 0.1131 - acc: 0.9544\n",
      "Epoch 00026: val_loss did not improve from 0.28735\n",
      "68000/68000 [==============================] - 3s 42us/sample - loss: 0.1134 - acc: 0.9542 - val_loss: 0.4324 - val_acc: 0.8728\n",
      "Epoch 27/50\n",
      "67072/68000 [============================>.] - ETA: 0s - loss: 0.1107 - acc: 0.9550\n",
      "Epoch 00027: val_loss did not improve from 0.28735\n",
      "68000/68000 [==============================] - 3s 43us/sample - loss: 0.1108 - acc: 0.9549 - val_loss: 2.0574 - val_acc: 0.7846\n",
      "Epoch 28/50\n",
      "66560/68000 [============================>.] - ETA: 0s - loss: 0.1138 - acc: 0.9539\n",
      "Epoch 00028: val_loss did not improve from 0.28735\n",
      "68000/68000 [==============================] - 3s 51us/sample - loss: 0.1134 - acc: 0.9540 - val_loss: 0.9531 - val_acc: 0.8114\n",
      "Epoch 29/50\n",
      "67840/68000 [============================>.] - ETA: 0s - loss: 0.1120 - acc: 0.9554\n",
      "Epoch 00029: val_loss did not improve from 0.28735\n",
      "68000/68000 [==============================] - 3s 48us/sample - loss: 0.1119 - acc: 0.9555 - val_loss: 0.5141 - val_acc: 0.8975\n",
      "Epoch 30/50\n",
      "66048/68000 [============================>.] - ETA: 0s - loss: 0.1081 - acc: 0.9563\n",
      "Epoch 00030: val_loss did not improve from 0.28735\n",
      "68000/68000 [==============================] - 3s 45us/sample - loss: 0.1086 - acc: 0.9561 - val_loss: 0.9911 - val_acc: 0.8212\n",
      "Epoch 31/50\n",
      "67328/68000 [============================>.] - ETA: 0s - loss: 0.1095 - acc: 0.9557\n",
      "Epoch 00031: val_loss did not improve from 0.28735\n",
      "68000/68000 [==============================] - 3s 45us/sample - loss: 0.1094 - acc: 0.9558 - val_loss: 0.4010 - val_acc: 0.8869\n",
      "Epoch 32/50\n",
      "66560/68000 [============================>.] - ETA: 0s - loss: 0.1096 - acc: 0.9555\n",
      "Epoch 00032: val_loss did not improve from 0.28735\n",
      "68000/68000 [==============================] - 3s 43us/sample - loss: 0.1099 - acc: 0.9553 - val_loss: 2.1478 - val_acc: 0.8041\n",
      "Epoch 33/50\n",
      "66560/68000 [============================>.] - ETA: 0s - loss: 0.1126 - acc: 0.9540\n",
      "Epoch 00033: val_loss did not improve from 0.28735\n",
      "68000/68000 [==============================] - 3s 48us/sample - loss: 0.1127 - acc: 0.9540 - val_loss: 0.5194 - val_acc: 0.9014\n",
      "Epoch 34/50\n",
      "67584/68000 [============================>.] - ETA: 0s - loss: 0.1120 - acc: 0.9541\n",
      "Epoch 00034: val_loss did not improve from 0.28735\n",
      "68000/68000 [==============================] - 3s 45us/sample - loss: 0.1124 - acc: 0.9540 - val_loss: 0.9861 - val_acc: 0.8294\n",
      "Epoch 35/50\n",
      "67328/68000 [============================>.] - ETA: 0s - loss: 0.1108 - acc: 0.9546\n",
      "Epoch 00035: val_loss did not improve from 0.28735\n",
      "68000/68000 [==============================] - 3s 47us/sample - loss: 0.1108 - acc: 0.9546 - val_loss: 0.9339 - val_acc: 0.8523\n",
      "Epoch 36/50\n",
      "67072/68000 [============================>.] - ETA: 0s - loss: 0.1083 - acc: 0.9553\n",
      "Epoch 00036: val_loss did not improve from 0.28735\n",
      "68000/68000 [==============================] - 4s 53us/sample - loss: 0.1086 - acc: 0.9552 - val_loss: 1.2572 - val_acc: 0.8427\n",
      "Epoch 37/50\n",
      "66560/68000 [============================>.] - ETA: 0s - loss: 0.1065 - acc: 0.9566\n",
      "Epoch 00037: val_loss did not improve from 0.28735\n",
      "68000/68000 [==============================] - 3s 51us/sample - loss: 0.1065 - acc: 0.9565 - val_loss: 1.0261 - val_acc: 0.8553\n",
      "Epoch 38/50\n",
      "66560/68000 [============================>.] - ETA: 0s - loss: 0.1094 - acc: 0.9552\n",
      "Epoch 00038: val_loss did not improve from 0.28735\n",
      "68000/68000 [==============================] - 3s 45us/sample - loss: 0.1104 - acc: 0.9549 - val_loss: 2.1227 - val_acc: 0.7714\n",
      "Epoch 39/50\n",
      "67072/68000 [============================>.] - ETA: 0s - loss: 0.1209 - acc: 0.9533\n",
      "Epoch 00039: val_loss did not improve from 0.28735\n",
      "68000/68000 [==============================] - 3s 48us/sample - loss: 0.1211 - acc: 0.9531 - val_loss: 0.3421 - val_acc: 0.8795\n",
      "Epoch 40/50\n",
      "67072/68000 [============================>.] - ETA: 0s - loss: 0.1126 - acc: 0.9542\n",
      "Epoch 00040: val_loss did not improve from 0.28735\n",
      "68000/68000 [==============================] - 4s 60us/sample - loss: 0.1127 - acc: 0.9541 - val_loss: 0.7646 - val_acc: 0.8760\n",
      "Epoch 41/50\n",
      "67840/68000 [============================>.] - ETA: 0s - loss: 0.1112 - acc: 0.9556\n",
      "Epoch 00041: val_loss did not improve from 0.28735\n",
      "68000/68000 [==============================] - 3s 49us/sample - loss: 0.1112 - acc: 0.9556 - val_loss: 0.7869 - val_acc: 0.8616\n",
      "Epoch 42/50\n",
      "67584/68000 [============================>.] - ETA: 0s - loss: 0.1080 - acc: 0.9561\n",
      "Epoch 00042: val_loss did not improve from 0.28735\n",
      "68000/68000 [==============================] - 3s 51us/sample - loss: 0.1079 - acc: 0.9561 - val_loss: 0.8547 - val_acc: 0.8664\n",
      "Epoch 43/50\n",
      "67584/68000 [============================>.] - ETA: 0s - loss: 0.1057 - acc: 0.9573\n",
      "Epoch 00043: val_loss did not improve from 0.28735\n",
      "68000/68000 [==============================] - 3s 50us/sample - loss: 0.1058 - acc: 0.9572 - val_loss: 0.8663 - val_acc: 0.8699\n",
      "Epoch 44/50\n",
      "66560/68000 [============================>.] - ETA: 0s - loss: 0.1068 - acc: 0.9565\n",
      "Epoch 00044: val_loss did not improve from 0.28735\n",
      "68000/68000 [==============================] - 3s 45us/sample - loss: 0.1066 - acc: 0.9565 - val_loss: 0.8874 - val_acc: 0.8184\n",
      "Epoch 45/50\n",
      "67840/68000 [============================>.] - ETA: 0s - loss: 0.1063 - acc: 0.9569\n",
      "Epoch 00045: val_loss did not improve from 0.28735\n",
      "68000/68000 [==============================] - 3s 43us/sample - loss: 0.1064 - acc: 0.9568 - val_loss: 0.6467 - val_acc: 0.8501\n",
      "Epoch 46/50\n",
      "66560/68000 [============================>.] - ETA: 0s - loss: 0.1059 - acc: 0.9573\n",
      "Epoch 00046: val_loss did not improve from 0.28735\n",
      "68000/68000 [==============================] - 3s 44us/sample - loss: 0.1065 - acc: 0.9571 - val_loss: 0.8219 - val_acc: 0.8541\n",
      "Epoch 47/50\n",
      "66816/68000 [============================>.] - ETA: 0s - loss: 0.1055 - acc: 0.9571\n",
      "Epoch 00047: val_loss did not improve from 0.28735\n",
      "68000/68000 [==============================] - 3s 43us/sample - loss: 0.1053 - acc: 0.9571 - val_loss: 0.8029 - val_acc: 0.8258\n",
      "Epoch 48/50\n",
      "67840/68000 [============================>.] - ETA: 0s - loss: 0.1034 - acc: 0.9577\n",
      "Epoch 00048: val_loss did not improve from 0.28735\n",
      "68000/68000 [==============================] - 3s 44us/sample - loss: 0.1035 - acc: 0.9577 - val_loss: 1.2458 - val_acc: 0.7872\n",
      "Epoch 49/50\n",
      "67328/68000 [============================>.] - ETA: 0s - loss: 0.1065 - acc: 0.9559\n",
      "Epoch 00049: val_loss did not improve from 0.28735\n",
      "68000/68000 [==============================] - 3s 41us/sample - loss: 0.1065 - acc: 0.9559 - val_loss: 1.0472 - val_acc: 0.8166\n",
      "Epoch 50/50\n",
      "66816/68000 [============================>.] - ETA: 0s - loss: 0.1075 - acc: 0.9560\n",
      "Epoch 00050: val_loss did not improve from 0.28735\n",
      "68000/68000 [==============================] - 3s 41us/sample - loss: 0.1072 - acc: 0.9562 - val_loss: 0.8157 - val_acc: 0.8275\n"
     ]
    }
   ],
   "source": [
    "#用于记录训练中每个batch的loss\n",
    "class LossHistory(keras.callbacks.Callback):\n",
    "    def on_train_begin(self, logs={}):\n",
    "        self.train_losses_per_batch = []\n",
    "        self.train_losses_per_epoch = []\n",
    "        self.valid_losses_per_epoch = []\n",
    "        \n",
    "    def on_batch_end(self, batch, logs={}):\n",
    "        self.train_losses_per_batch.append(logs.get('loss'))\n",
    "        \n",
    "    def on_epoch_end(self, epoch, logs={}):\n",
    "        self.train_losses_per_epoch.append(logs.get('loss'))\n",
    "        self.valid_losses_per_epoch.append(logs.get('val_loss')*4)   #验证集由于只有1/4的训练集大小所以损失要乘以4\n",
    "#用于记录训练中每个epoch的召回率，精确度以及f1 score\n",
    "class Metrics(keras.callbacks.Callback):\n",
    "    def on_train_begin(self, logs={}):\n",
    "        self.val_f1s = []\n",
    "        self.val_recalls = []\n",
    "        self.val_precisions = []\n",
    "        return\n",
    "\n",
    "    def on_epoch_end(self, epoch, logs={}):\n",
    "        predictions = self.model.predict(df_test_X)\n",
    "        val_predict = np.argmax(predictions, axis=1)     #把独热编码转化成数字\n",
    "        val_targ = df_test_y\n",
    "        _val_recall = recall_score(val_targ, val_predict, average='macro')\n",
    "        _val_precision = precision_score(val_targ, val_predict, average='macro')\n",
    "        _val_f1 = f1_score(val_targ, val_predict, average='macro')\n",
    "        self.val_f1s.append(_val_f1)\n",
    "        self.val_recalls.append(_val_recall)\n",
    "        self.val_precisions.append(_val_precision)\n",
    "        return       \n",
    "#回调：模型跑完epoch后选取最好的epoch模型保存，选取标准为验证集损失最小的那一个\n",
    "checkpoint = keras.callbacks.ModelCheckpoint(      \n",
    "    \"./Test7_model.h5\",\n",
    "    monitor='val_loss',\n",
    "    verbose=1,\n",
    "    save_best_only=True,\n",
    "    mode='min',\n",
    "    period=1\n",
    ")\n",
    "def simple_model():\n",
    "    model = keras.Sequential([\n",
    "        keras.layers.Dense(df_train_X.shape[1], activation=activation, input_shape=(df_train_X.shape[1],)),\n",
    "        BatchNormalization(),\n",
    "        keras.layers.Dense(64, activation=activation),\n",
    "        BatchNormalization(),\n",
    "        keras.layers.Dense(64, activation=activation),\n",
    "        BatchNormalization(),\n",
    "        keras.layers.Dense(8,activation=tf.nn.softmax)\n",
    "    ])\n",
    "    model.compile(optimizer =tf.train.AdamOptimizer(learning_rate=learning_rate),\n",
    "        loss=\"sparse_categorical_crossentropy\",\n",
    "        metrics=['accuracy']\n",
    "    )\n",
    "    model.summary()\n",
    "    history = LossHistory()\n",
    "    metrics = Metrics()\n",
    "    model.fit(\n",
    "        df_train_X,df_train_y,\n",
    "        validation_data=[df_test_X, df_test_y],\n",
    "        batch_size=batch_size,epochs=epochs,\n",
    "        callbacks=[history, metrics, checkpoint]\n",
    "    )   \n",
    "    return model,history,metrics\n",
    "model,history,metrics = simple_model()"
   ]
  },
  {
   "cell_type": "code",
   "execution_count": 35,
   "metadata": {
    "ExecuteTime": {
     "end_time": "2020-06-28T07:29:57.440042Z",
     "start_time": "2020-06-28T07:29:57.427741Z"
    }
   },
   "outputs": [],
   "source": [
    "import matplotlib.pyplot as plt\n",
    "import matplotlib\n",
    "\n",
    "%matplotlib inline\n",
    "matplotlib.rcParams['font.sans-serif'] = ['SimHei']"
   ]
  },
  {
   "cell_type": "code",
   "execution_count": 36,
   "metadata": {
    "ExecuteTime": {
     "end_time": "2020-06-28T07:30:26.871457Z",
     "start_time": "2020-06-28T07:30:25.887180Z"
    }
   },
   "outputs": [
    {
     "data": {
      "image/png": "[encoded data removed]",
      "text/plain": [
       "<Figure size 1080x288 with 1 Axes>"
      ]
     },
     "metadata": {
      "needs_background": "light"
     },
     "output_type": "display_data"
    },
    {
     "data": {
      "image/png": "[encoded data removed]",
      "text/plain": [
       "<Figure size 1080x288 with 1 Axes>"
      ]
     },
     "metadata": {
      "needs_background": "light"
     },
     "output_type": "display_data"
    }
   ],
   "source": [
    "#绘制训练集在batch下的损失变化\n",
    "plt.title('The Cost with batchs runs',fontsize=30)\n",
    "plt.xlabel('batchs',fontsize=20)\n",
    "plt.ylabel('Cost',fontsize=20)\n",
    "plt.xticks(fontsize=20)\n",
    "plt.yticks(fontsize=20)\n",
    "plt.plot(history.train_losses_per_batch)\n",
    "plt.gcf().set_size_inches(15,4)\n",
    "plt.show()\n",
    "#绘制训练集与验证集在epoch下的损失比较\n",
    "plt.title('The Cost with epoches runs',fontsize=30)\n",
    "plt.xlabel('epoch',fontsize=20)\n",
    "plt.ylabel('Cost',fontsize=20)\n",
    "plt.xticks(fontsize=20)\n",
    "plt.yticks(fontsize=20)\n",
    "plt.plot(history.train_losses_per_epoch, '-o', label='train')\n",
    "plt.plot(history.valid_losses_per_epoch, '-o', label='valid')\n",
    "plt.legend(fontsize=30,loc='upper right')\n",
    "plt.gcf().set_size_inches(15,4)\n",
    "plt.show()"
   ]
  },
  {
   "cell_type": "code",
   "execution_count": 37,
   "metadata": {
    "ExecuteTime": {
     "end_time": "2020-06-28T07:30:57.883197Z",
     "start_time": "2020-06-28T07:30:54.676535Z"
    }
   },
   "outputs": [
    {
     "name": "stdout",
     "output_type": "stream",
     "text": [
      "WARNING:tensorflow:No training configuration found in save file: the model was *not* compiled. Compile it manually.\n",
      "17000/17000 [==============================] - 1s 81us/sample - loss: 0.2874 - acc: 0.9089\n",
      "Test accuracy: 0.90894115\n"
     ]
    }
   ],
   "source": [
    "#选取验证集准确率最高的模型\n",
    "model = keras.models.load_model('./Test7_model.h5') \n",
    "model.compile(optimizer =tf.train.AdamOptimizer(learning_rate=learning_rate),\n",
    "    loss=\"sparse_categorical_crossentropy\",\n",
    "    metrics=['accuracy']\n",
    ")\n",
    "#测试集的正确率\n",
    "def use_evaluate_test():\n",
    "    test_loss,test_acc = model.evaluate(df_test_X,df_test_y)\n",
    "    print('Test accuracy:', test_acc)\n",
    "    return \n",
    "use_evaluate_test()"
   ]
  },
  {
   "cell_type": "code",
   "execution_count": 38,
   "metadata": {
    "ExecuteTime": {
     "end_time": "2020-06-28T07:31:26.672276Z",
     "start_time": "2020-06-28T07:31:25.703434Z"
    }
   },
   "outputs": [
    {
     "name": "stdout",
     "output_type": "stream",
     "text": [
      "              precision    recall  f1-score   support\n",
      "\n",
      "      BENIGN       0.95      0.94      0.94     10000\n",
      "         DoS       0.67      0.87      0.76      1000\n",
      "    PortScan       0.73      0.78      0.76      1000\n",
      "        DDoS       0.87      0.84      0.85      1000\n",
      " SSH-Patator       0.98      1.00      0.99      1000\n",
      " FTP-Patator       0.99      1.00      0.99      1000\n",
      "  Web Attack       0.89      0.93      0.91      1000\n",
      "         Bot       0.96      0.67      0.79      1000\n",
      "\n",
      "   micro avg       0.91      0.91      0.91     17000\n",
      "   macro avg       0.88      0.88      0.87     17000\n",
      "weighted avg       0.91      0.91      0.91     17000\n",
      "\n"
     ]
    }
   ],
   "source": [
    "predictions = model.predict(df_test_X)\n",
    "print(classification_report(df_test_y, np.argmax(predictions, axis=1) , target_names=labelList))"
   ]
  },
  {
   "cell_type": "code",
   "execution_count": 24,
   "metadata": {
    "ExecuteTime": {
     "end_time": "2020-06-28T07:18:55.685880Z",
     "start_time": "2020-06-28T07:18:55.680157Z"
    }
   },
   "outputs": [],
   "source": [
    "def save_classifier(obj, name ):\n",
    "    with open('../Test11/'+ name + '.pkl', 'wb') as f:\n",
    "        pickle.dump(obj, f, pickle.HIGHEST_PROTOCOL)\n",
    "        "
   ]
  },
  {
   "cell_type": "code",
   "execution_count": 25,
   "metadata": {
    "ExecuteTime": {
     "end_time": "2020-06-28T07:18:56.331914Z",
     "start_time": "2020-06-28T07:18:55.688697Z"
    }
   },
   "outputs": [],
   "source": [
    "from sklearn.metrics import accuracy_score\n",
    "from sklearn.tree import DecisionTreeClassifier\n",
    "\n",
    "\n",
    "# 运行程序\n",
    "clf = DecisionTreeClassifier(criterion='entropy', min_samples_leaf=3)\n",
    "dt_clf = clf.fit(df_train_X, df_train_y)\n",
    "save_classifier(dt_clf, \"DT\")"
   ]
  },
  {
   "cell_type": "code",
   "execution_count": 26,
   "metadata": {
    "ExecuteTime": {
     "end_time": "2020-06-28T07:18:56.348039Z",
     "start_time": "2020-06-28T07:18:56.334779Z"
    }
   },
   "outputs": [
    {
     "name": "stdout",
     "output_type": "stream",
     "text": [
      "[0 0 0 ... 1 1 0]\n",
      "0.8890588235294118\n",
      "13760\n"
     ]
    }
   ],
   "source": [
    "tracemalloc.start()\n",
    "predictions = dt_clf.predict(df_test_X)\n",
    "print(predictions)\n",
    "print(accuracy_score(df_test_y, predictions))\n",
    "print(tracemalloc.get_tracemalloc_memory())"
   ]
  },
  {
   "cell_type": "code",
   "execution_count": 41,
   "metadata": {
    "ExecuteTime": {
     "end_time": "2020-06-28T07:43:32.050263Z",
     "start_time": "2020-06-28T07:43:31.185402Z"
    }
   },
   "outputs": [
    {
     "name": "stderr",
     "output_type": "stream",
     "text": [
      "/opt/conda/lib/python3.7/site-packages/sklearn/ensemble/forest.py:246: FutureWarning: The default value of n_estimators will change from 10 in version 0.20 to 100 in 0.22.\n",
      "  \"10 in version 0.20 to 100 in 0.22.\", FutureWarning)\n"
     ]
    },
    {
     "name": "stdout",
     "output_type": "stream",
     "text": [
      "0.9181176470588235\n",
      "              precision    recall  f1-score   support\n",
      "\n",
      "      BENIGN       0.91      0.98      0.94     10000\n",
      "         DoS       0.85      0.83      0.84      1000\n",
      "    PortScan       0.91      0.97      0.94      1000\n",
      "        DDoS       0.87      0.85      0.86      1000\n",
      " SSH-Patator       1.00      1.00      1.00      1000\n",
      " FTP-Patator       1.00      0.48      0.65      1000\n",
      "  Web Attack       0.99      0.95      0.97      1000\n",
      "         Bot       0.99      0.72      0.83      1000\n",
      "\n",
      "   micro avg       0.92      0.92      0.92     17000\n",
      "   macro avg       0.94      0.85      0.88     17000\n",
      "weighted avg       0.92      0.92      0.91     17000\n",
      "\n",
      "28211612\n"
     ]
    }
   ],
   "source": [
    "from sklearn.ensemble import RandomForestClassifier\n",
    "tracemalloc.start()\n",
    "rfc = RandomForestClassifier()\n",
    "rfc.fit(df_train_X, df_train_y)\n",
    "save_classifier(rfc, \"RF\")\n",
    "#测试集的正确率\n",
    "print(rfc.score(df_test_X, df_test_y))\n",
    "#测试集的各个参数\n",
    "y_pred = rfc.predict(df_test_X)\n",
    "print(classification_report(df_test_y, y_pred, target_names=labelList))\n",
    "print(tracemalloc.get_tracemalloc_memory())"
   ]
  },
  {
   "cell_type": "code",
   "execution_count": 43,
   "metadata": {
    "ExecuteTime": {
     "end_time": "2020-06-28T08:00:16.796554Z",
     "start_time": "2020-06-28T08:00:01.266285Z"
    }
   },
   "outputs": [
    {
     "name": "stderr",
     "output_type": "stream",
     "text": [
      "/opt/conda/lib/python3.7/site-packages/sklearn/ensemble/forest.py:246: FutureWarning: The default value of n_estimators will change from 10 in version 0.20 to 100 in 0.22.\n",
      "  \"10 in version 0.20 to 100 in 0.22.\", FutureWarning)\n"
     ]
    },
    {
     "name": "stdout",
     "output_type": "stream",
     "text": [
      "0.8644117647058823\n",
      "              precision    recall  f1-score   support\n",
      "\n",
      "      BENIGN       0.85      0.98      0.91     10000\n",
      "         DoS       0.82      0.96      0.89      1000\n",
      "    PortScan       0.70      0.97      0.81      1000\n",
      "        DDoS       1.00      0.78      0.88      1000\n",
      " SSH-Patator       1.00      1.00      1.00      1000\n",
      " FTP-Patator       1.00      0.48      0.65      1000\n",
      "  Web Attack       0.93      0.09      0.16      1000\n",
      "         Bot       1.00      0.68      0.81      1000\n",
      "\n",
      "   micro avg       0.86      0.86      0.86     17000\n",
      "   macro avg       0.91      0.74      0.76     17000\n",
      "weighted avg       0.88      0.86      0.84     17000\n",
      "\n"
     ]
    },
    {
     "name": "stderr",
     "output_type": "stream",
     "text": [
      "/opt/conda/lib/python3.7/site-packages/sklearn/ensemble/forest.py:246: FutureWarning: The default value of n_estimators will change from 10 in version 0.20 to 100 in 0.22.\n",
      "  \"10 in version 0.20 to 100 in 0.22.\", FutureWarning)\n",
      "/opt/conda/lib/python3.7/site-packages/sklearn/ensemble/forest.py:246: FutureWarning: The default value of n_estimators will change from 10 in version 0.20 to 100 in 0.22.\n",
      "  \"10 in version 0.20 to 100 in 0.22.\", FutureWarning)\n"
     ]
    },
    {
     "name": "stdout",
     "output_type": "stream",
     "text": [
      "0.8899411764705882\n",
      "              precision    recall  f1-score   support\n",
      "\n",
      "      BENIGN       0.89      0.96      0.93     10000\n",
      "         DoS       0.87      0.94      0.90      1000\n",
      "    PortScan       0.67      0.97      0.79      1000\n",
      "        DDoS       0.97      0.66      0.79      1000\n",
      " SSH-Patator       1.00      1.00      1.00      1000\n",
      " FTP-Patator       1.00      1.00      1.00      1000\n",
      "  Web Attack       0.95      0.19      0.32      1000\n",
      "         Bot       0.99      0.73      0.84      1000\n",
      "\n",
      "   micro avg       0.89      0.89      0.89     17000\n",
      "   macro avg       0.92      0.81      0.82     17000\n",
      "weighted avg       0.90      0.89      0.88     17000\n",
      "\n"
     ]
    },
    {
     "name": "stderr",
     "output_type": "stream",
     "text": [
      "/opt/conda/lib/python3.7/site-packages/sklearn/ensemble/forest.py:246: FutureWarning: The default value of n_estimators will change from 10 in version 0.20 to 100 in 0.22.\n",
      "  \"10 in version 0.20 to 100 in 0.22.\", FutureWarning)\n",
      "/opt/conda/lib/python3.7/site-packages/sklearn/ensemble/forest.py:246: FutureWarning: The default value of n_estimators will change from 10 in version 0.20 to 100 in 0.22.\n",
      "  \"10 in version 0.20 to 100 in 0.22.\", FutureWarning)\n"
     ]
    },
    {
     "name": "stdout",
     "output_type": "stream",
     "text": [
      "0.9376470588235294\n",
      "              precision    recall  f1-score   support\n",
      "\n",
      "      BENIGN       0.91      0.99      0.95     10000\n",
      "         DoS       0.97      0.95      0.96      1000\n",
      "    PortScan       0.95      0.97      0.96      1000\n",
      "        DDoS       0.99      0.99      0.99      1000\n",
      " SSH-Patator       1.00      1.00      1.00      1000\n",
      " FTP-Patator       1.00      0.48      0.65      1000\n",
      "  Web Attack       0.99      0.92      0.95      1000\n",
      "         Bot       1.00      0.68      0.81      1000\n",
      "\n",
      "   micro avg       0.94      0.94      0.94     17000\n",
      "   macro avg       0.98      0.87      0.91     17000\n",
      "weighted avg       0.94      0.94      0.93     17000\n",
      "\n"
     ]
    },
    {
     "name": "stderr",
     "output_type": "stream",
     "text": [
      "/opt/conda/lib/python3.7/site-packages/sklearn/ensemble/forest.py:246: FutureWarning: The default value of n_estimators will change from 10 in version 0.20 to 100 in 0.22.\n",
      "  \"10 in version 0.20 to 100 in 0.22.\", FutureWarning)\n"
     ]
    },
    {
     "name": "stdout",
     "output_type": "stream",
     "text": [
      "0.9554705882352941\n",
      "              precision    recall  f1-score   support\n",
      "\n",
      "      BENIGN       0.98      0.97      0.97     10000\n",
      "         DoS       0.87      0.95      0.91      1000\n",
      "    PortScan       0.70      0.97      0.82      1000\n",
      "        DDoS       1.00      0.98      0.99      1000\n",
      " SSH-Patator       1.00      1.00      1.00      1000\n",
      " FTP-Patator       1.00      1.00      1.00      1000\n",
      "  Web Attack       0.99      0.95      0.97      1000\n",
      "         Bot       0.97      0.74      0.84      1000\n",
      "\n",
      "   micro avg       0.96      0.96      0.96     17000\n",
      "   macro avg       0.94      0.94      0.94     17000\n",
      "weighted avg       0.96      0.96      0.96     17000\n",
      "\n"
     ]
    },
    {
     "name": "stderr",
     "output_type": "stream",
     "text": [
      "/opt/conda/lib/python3.7/site-packages/sklearn/ensemble/forest.py:246: FutureWarning: The default value of n_estimators will change from 10 in version 0.20 to 100 in 0.22.\n",
      "  \"10 in version 0.20 to 100 in 0.22.\", FutureWarning)\n",
      "/opt/conda/lib/python3.7/site-packages/sklearn/ensemble/forest.py:246: FutureWarning: The default value of n_estimators will change from 10 in version 0.20 to 100 in 0.22.\n",
      "  \"10 in version 0.20 to 100 in 0.22.\", FutureWarning)\n",
      "/opt/conda/lib/python3.7/site-packages/sklearn/ensemble/forest.py:246: FutureWarning: The default value of n_estimators will change from 10 in version 0.20 to 100 in 0.22.\n",
      "  \"10 in version 0.20 to 100 in 0.22.\", FutureWarning)\n",
      "/opt/conda/lib/python3.7/site-packages/sklearn/ensemble/forest.py:246: FutureWarning: The default value of n_estimators will change from 10 in version 0.20 to 100 in 0.22.\n",
      "  \"10 in version 0.20 to 100 in 0.22.\", FutureWarning)\n",
      "/opt/conda/lib/python3.7/site-packages/sklearn/ensemble/forest.py:246: FutureWarning: The default value of n_estimators will change from 10 in version 0.20 to 100 in 0.22.\n",
      "  \"10 in version 0.20 to 100 in 0.22.\", FutureWarning)\n",
      "/opt/conda/lib/python3.7/site-packages/sklearn/ensemble/forest.py:246: FutureWarning: The default value of n_estimators will change from 10 in version 0.20 to 100 in 0.22.\n",
      "  \"10 in version 0.20 to 100 in 0.22.\", FutureWarning)\n",
      "/opt/conda/lib/python3.7/site-packages/sklearn/ensemble/forest.py:246: FutureWarning: The default value of n_estimators will change from 10 in version 0.20 to 100 in 0.22.\n",
      "  \"10 in version 0.20 to 100 in 0.22.\", FutureWarning)\n",
      "/opt/conda/lib/python3.7/site-packages/sklearn/ensemble/forest.py:246: FutureWarning: The default value of n_estimators will change from 10 in version 0.20 to 100 in 0.22.\n",
      "  \"10 in version 0.20 to 100 in 0.22.\", FutureWarning)\n",
      "/opt/conda/lib/python3.7/site-packages/sklearn/ensemble/forest.py:246: FutureWarning: The default value of n_estimators will change from 10 in version 0.20 to 100 in 0.22.\n",
      "  \"10 in version 0.20 to 100 in 0.22.\", FutureWarning)\n",
      "/opt/conda/lib/python3.7/site-packages/sklearn/ensemble/forest.py:246: FutureWarning: The default value of n_estimators will change from 10 in version 0.20 to 100 in 0.22.\n",
      "  \"10 in version 0.20 to 100 in 0.22.\", FutureWarning)\n",
      "/opt/conda/lib/python3.7/site-packages/sklearn/ensemble/forest.py:246: FutureWarning: The default value of n_estimators will change from 10 in version 0.20 to 100 in 0.22.\n",
      "  \"10 in version 0.20 to 100 in 0.22.\", FutureWarning)\n",
      "/opt/conda/lib/python3.7/site-packages/sklearn/ensemble/forest.py:246: FutureWarning: The default value of n_estimators will change from 10 in version 0.20 to 100 in 0.22.\n",
      "  \"10 in version 0.20 to 100 in 0.22.\", FutureWarning)\n",
      "/opt/conda/lib/python3.7/site-packages/sklearn/ensemble/forest.py:246: FutureWarning: The default value of n_estimators will change from 10 in version 0.20 to 100 in 0.22.\n",
      "  \"10 in version 0.20 to 100 in 0.22.\", FutureWarning)\n",
      "/opt/conda/lib/python3.7/site-packages/sklearn/ensemble/forest.py:246: FutureWarning: The default value of n_estimators will change from 10 in version 0.20 to 100 in 0.22.\n",
      "  \"10 in version 0.20 to 100 in 0.22.\", FutureWarning)\n"
     ]
    }
   ],
   "source": [
    "from sklearn.ensemble import RandomForestClassifier\n",
    "score = 0\n",
    "for i in range(20):\n",
    "    rfc = RandomForestClassifier()\n",
    "    rfc.fit(df_train_X, df_train_y)\n",
    "    y_pred = rfc.predict(df_test_X)\n",
    "    result = rfc.score(df_test_X, df_test_y)\n",
    "    if(score < result):\n",
    "        score = result\n",
    "        save_classifier(rfc, \"RF\")\n",
    "        print(score)\n",
    "        print(classification_report(df_test_y, y_pred, target_names=labelList))\n",
    "        \n",
    "#测试集的正确率\n",
    "#测试集的各个参数\n",
    "\n"
   ]
  },
  {
   "cell_type": "code",
   "execution_count": 44,
   "metadata": {
    "ExecuteTime": {
     "end_time": "2020-06-28T08:25:50.926029Z",
     "start_time": "2020-06-28T08:02:46.378394Z"
    }
   },
   "outputs": [
    {
     "name": "stdout",
     "output_type": "stream",
     "text": [
      "0.9195882352941176\n",
      "              precision    recall  f1-score   support\n",
      "\n",
      "      BENIGN       0.94      0.96      0.95     10000\n",
      "         DoS       0.96      0.98      0.97      1000\n",
      "    PortScan       0.63      0.99      0.77      1000\n",
      "        DDoS       0.91      0.99      0.95      1000\n",
      " SSH-Patator       1.00      1.00      1.00      1000\n",
      " FTP-Patator       1.00      0.48      0.65      1000\n",
      "  Web Attack       0.99      0.98      0.98      1000\n",
      "         Bot       1.00      0.60      0.75      1000\n",
      "\n",
      "   micro avg       0.92      0.92      0.92     17000\n",
      "   macro avg       0.93      0.87      0.88     17000\n",
      "weighted avg       0.93      0.92      0.92     17000\n",
      "\n"
     ]
    }
   ],
   "source": [
    "from xgboost import XGBClassifier\n",
    "xgb = XGBClassifier()\n",
    "\n",
    "from sklearn.ensemble import RandomForestClassifier\n",
    "score = 0\n",
    "for i in range(20):\n",
    "    xgb = XGBClassifier()\n",
    "    xgb.fit(df_train_X, df_train_y)\n",
    "    y_pred = xgb.predict(df_test_X)\n",
    "    result = xgb.score(df_test_X, df_test_y)\n",
    "    if(score < result):\n",
    "        score = result\n",
    "        save_classifier(xgb, \"XGB\")\n",
    "        print(score)\n",
    "        print(classification_report(df_test_y, y_pred, target_names=labelList))\n",
    "        \n",
    "#测试集的正确率\n",
    "#测试集的各个参数\n"
   ]
  },
  {
   "cell_type": "code",
   "execution_count": 29,
   "metadata": {
    "ExecuteTime": {
     "end_time": "2020-06-28T07:22:40.805493Z",
     "start_time": "2020-06-28T07:20:01.607792Z"
    }
   },
   "outputs": [
    {
     "name": "stderr",
     "output_type": "stream",
     "text": [
      "/opt/conda/lib/python3.7/site-packages/sklearn/svm/base.py:196: FutureWarning: The default value of gamma will change from 'auto' to 'scale' in version 0.22 to account better for unscaled features. Set gamma explicitly to 'auto' or 'scale' to avoid this warning.\n",
      "  \"avoid this warning.\", FutureWarning)\n"
     ]
    }
   ],
   "source": [
    "from sklearn.svm import SVC\n",
    "clf = SVC()\n",
    "clf.fit(df_train_X, df_train_y) \n",
    "save_classifier(clf, \"SVM\")"
   ]
  },
  {
   "cell_type": "code",
   "execution_count": 30,
   "metadata": {
    "ExecuteTime": {
     "end_time": "2020-06-28T07:23:12.146089Z",
     "start_time": "2020-06-28T07:22:40.808817Z"
    }
   },
   "outputs": [
    {
     "name": "stdout",
     "output_type": "stream",
     "text": [
      "[0 0 0 ... 0 1 6]\n",
      "0.8395294117647059\n",
      "              precision    recall  f1-score   support\n",
      "\n",
      "      BENIGN       0.81      0.98      0.89     10000\n",
      "         DoS       0.82      0.53      0.64      1000\n",
      "    PortScan       0.00      0.00      0.00      1000\n",
      "        DDoS       0.74      0.50      0.59      1000\n",
      " SSH-Patator       0.95      1.00      0.98      1000\n",
      " FTP-Patator       0.98      1.00      0.99      1000\n",
      "  Web Attack       0.86      0.84      0.85      1000\n",
      "         Bot       1.00      0.63      0.77      1000\n",
      "\n",
      "   micro avg       0.84      0.84      0.84     17000\n",
      "   macro avg       0.77      0.68      0.71     17000\n",
      "weighted avg       0.79      0.84      0.81     17000\n",
      "\n"
     ]
    },
    {
     "name": "stderr",
     "output_type": "stream",
     "text": [
      "/opt/conda/lib/python3.7/site-packages/sklearn/metrics/classification.py:1143: UndefinedMetricWarning: Precision and F-score are ill-defined and being set to 0.0 in labels with no predicted samples.\n",
      "  'precision', 'predicted', average, warn_for)\n"
     ]
    }
   ],
   "source": [
    "predictions = clf.predict(df_test_X)\n",
    "print(predictions)\n",
    "print(accuracy_score(df_test_y, predictions))\n",
    "print(classification_report(df_test_y, predictions , target_names=labelList))"
   ]
  },
  {
   "cell_type": "code",
   "execution_count": null,
   "metadata": {
    "ExecuteTime": {
     "end_time": "2020-06-24T03:40:08.723815Z",
     "start_time": "2020-06-24T03:40:08.715059Z"
    }
   },
   "outputs": [],
   "source": []
  },
  {
   "cell_type": "code",
   "execution_count": null,
   "metadata": {},
   "outputs": [],
   "source": []
  }
 ],
 "metadata": {
  "kernelspec": {
   "display_name": "Python 3",
   "language": "python",
   "name": "python3"
  },
  "language_info": {
   "codemirror_mode": {
    "name": "ipython",
    "version": 3
   },
   "file_extension": ".py",
   "mimetype": "text/x-python",
   "name": "python",
   "nbconvert_exporter": "python",
   "pygments_lexer": "ipython3",
   "version": "3.7.3"
  },
  "toc": {
   "base_numbering": 1,
   "nav_menu": {},
   "number_sections": true,
   "sideBar": true,
   "skip_h1_title": false,
   "title_cell": "Table of Contents",
   "title_sidebar": "Contents",
   "toc_cell": false,
   "toc_position": {},
   "toc_section_display": true,
   "toc_window_display": false
  },
  "varInspector": {
   "cols": {
    "lenName": 16,
    "lenType": 16,
    "lenVar": 40
   },
   "kernels_config": {
    "python": {
     "delete_cmd_postfix": "",
     "delete_cmd_prefix": "del ",
     "library": "var_list.py",
     "varRefreshCmd": "print(var_dic_list())"
    },
    "r": {
     "delete_cmd_postfix": ") ",
     "delete_cmd_prefix": "rm(",
     "library": "var_list.r",
     "varRefreshCmd": "cat(var_dic_list()) "
    }
   },
   "types_to_exclude": [
    "module",
    "function",
    "builtin_function_or_method",
    "instance",
    "_Feature"
   ],
   "window_display": false
  }
 },
 "nbformat": 4,
 "nbformat_minor": 2
}
