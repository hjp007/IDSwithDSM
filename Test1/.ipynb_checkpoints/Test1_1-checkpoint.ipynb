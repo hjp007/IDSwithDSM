{
 "cells": [
  {
   "cell_type": "code",
   "execution_count": null,
   "metadata": {},
   "outputs": [],
   "source": [
    "import pandas as pd\n",
    "from time import time\n",
    "from sklearn.model_selection import train_test_split\n",
    "dataroot=\".\\MachineLearningCVE\\CICIDS2017.csv\"\n",
    "TrainData_Name = \".\\MachineLearningCVE\\TrainData.csv\"\n",
    "TestData_Name = \"E:\\dataset\\MachineLearningCVE\\TestData.csv\"\n",
    "\n",
    "df=pd.read_csv(dataroot,header=0,low_memory=False)\n",
    "\n",
    "#train_test_split\n",
    "t0 = time()\n",
    "X_train, X_test, y_train,y_test = train_test_split(df.iloc[:,0:-1], df[' Label'], test_size=0.3, random_state=42)\n",
    "tt = time()-t0\n",
    "print (\"Split dataset in {} seconds\".format(round(tt,3)))\n",
    "\n",
    "#Save csvfiles\n",
    "TrainData= pd.concat([X_train, y_train], axis=1)\n",
    "TestData= pd.concat([X_test, y_test], axis=1)\n",
    "TrainData.to_csv(TrainData_Name,index=False,mode='a+') \n",
    "TestData.to_csv(TestData_Name,index=False,mode='a+') "
   ]
  },
  {
   "cell_type": "code",
   "execution_count": null,
   "metadata": {},
   "outputs": [],
   "source": []
  }
 ],
 "metadata": {
  "kernelspec": {
   "display_name": "Python 3",
   "language": "python",
   "name": "python3"
  },
  "language_info": {
   "codemirror_mode": {
    "name": "ipython",
    "version": 3
   },
   "file_extension": ".py",
   "mimetype": "text/x-python",
   "name": "python",
   "nbconvert_exporter": "python",
   "pygments_lexer": "ipython3",
   "version": "3.7.3"
  },
  "toc": {
   "base_numbering": 1,
   "nav_menu": {},
   "number_sections": true,
   "sideBar": true,
   "skip_h1_title": false,
   "title_cell": "Table of Contents",
   "title_sidebar": "Contents",
   "toc_cell": false,
   "toc_position": {},
   "toc_section_display": true,
   "toc_window_display": false
  },
  "varInspector": {
   "cols": {
    "lenName": 16,
    "lenType": 16,
    "lenVar": 40
   },
   "kernels_config": {
    "python": {
     "delete_cmd_postfix": "",
     "delete_cmd_prefix": "del ",
     "library": "var_list.py",
     "varRefreshCmd": "print(var_dic_list())"
    },
    "r": {
     "delete_cmd_postfix": ") ",
     "delete_cmd_prefix": "rm(",
     "library": "var_list.r",
     "varRefreshCmd": "cat(var_dic_list()) "
    }
   },
   "types_to_exclude": [
    "module",
    "function",
    "builtin_function_or_method",
    "instance",
    "_Feature"
   ],
   "window_display": false
  }
 },
 "nbformat": 4,
 "nbformat_minor": 2
}
