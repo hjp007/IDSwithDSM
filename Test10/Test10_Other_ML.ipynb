{
 "cells": [
  {
   "cell_type": "code",
   "execution_count": 1,
   "metadata": {
    "ExecuteTime": {
     "end_time": "2020-06-24T01:45:38.812805Z",
     "start_time": "2020-06-24T01:45:38.220934Z"
    }
   },
   "outputs": [],
   "source": [
    "import pandas as pd\n",
    "import pickle\n",
    "import numpy  as np\n",
    "from time import time\n",
    "#train_test_split\n",
    "from sklearn.model_selection import train_test_split\n",
    "#Feature scaling\n",
    "from sklearn import preprocessing\n",
    "from collections import Counter\n",
    "import math\n",
    "from sklearn.metrics import accuracy_score"
   ]
  },
  {
   "cell_type": "code",
   "execution_count": 2,
   "metadata": {
    "ExecuteTime": {
     "end_time": "2020-06-24T01:45:42.339242Z",
     "start_time": "2020-06-24T01:45:42.260072Z"
    }
   },
   "outputs": [],
   "source": [
    "def load_obj(name):\n",
    "    with open('../DistributionDictionary/' + name + '.pkl', 'rb') as f:\n",
    "        return pickle.load(f)\n",
    "\n",
    "distributions = {}\n",
    "distributions['Benign'] = load_obj(\"Benign_Distribution_set\")\n",
    "distributions['DoS'] = load_obj(\"DoS_Distribution_set\")\n",
    "distributions['PortScan'] = load_obj(\"PortScan_Distribution_set\")\n",
    "distributions['DDoS'] = load_obj(\"DDoS_Distribution_set\")\n",
    "distributions['SSH'] = load_obj(\"SSH_Distribution_set\")\n",
    "distributions['FTP'] = load_obj(\"FTP_Distribution_set\")\n",
    "distributions['Web'] = load_obj(\"Web_Distribution_set\")\n",
    "distributions['Bot'] = load_obj(\"Bot_Distribution_set\")\n",
    "\n",
    "attack_types = 7  #总已知攻击种类\n",
    "\n",
    "#定义difference weight,取值0~1\n",
    "def calculate_dw(distribution_1, distribution_2, feature_index):\n",
    "    count1 = calculate_count(distribution_1, feature_index)\n",
    "    count2 = calculate_count(distribution_2, feature_index)\n",
    "    h = 20\n",
    "    dw = 0\n",
    "    for i in range(h):\n",
    "        start = i*5\n",
    "        end = start + 5\n",
    "        T1 = distribution_1[str(feature_index)][str(start) + '-' + str(end)]/count1\n",
    "        T2 = distribution_2[str(feature_index)][str(start) + '-' + str(end)]/count2\n",
    "        dw += abs(T1 - T2)\n",
    "    return dw/2\n",
    "#用于计算分布字典里的实例数\n",
    "def calculate_count(distribution, feature_index):\n",
    "    h = 20\n",
    "    count = 0\n",
    "    for i in range(h):\n",
    "        start = i*5\n",
    "        end = start + 5\n",
    "        count += distribution[str(feature_index)][str(start) + '-' + str(end)]\n",
    "    return count\n",
    "#定义hdw，hybird difference weight\n",
    "def calculate_hdw(feature_index):\n",
    "    base = 0\n",
    "    for key in distributions:\n",
    "        if(key == \"Benign\"):\n",
    "            continue\n",
    "        dw = calculate_dw(distributions['Benign'], distributions[key], feature_index)\n",
    "        if(dw > base):\n",
    "            base = dw\n",
    "    return base\n",
    "\n",
    "\n",
    "#计算例子在某种标签上的得分，需要提供对应标签的分布统计字典和字典的统计量\n",
    "def get_score(example, distributeObj):    \n",
    "    score = 0\n",
    "    count = calculate_count(distributeObj, 0)  #取哪个特征都一样\n",
    "    minBase = 1\n",
    "    baseArr = []\n",
    "    for i in range(feature_numbers):\n",
    "\n",
    "        start = int(example[i]/0.05//1)*5   #取200个分组里的分组起始位置\n",
    "        if(start == 100):     #特殊处理当该属性为1.0时溢出的情况\n",
    "            start = 95      \n",
    "        end = start + 5\n",
    "        dataRange = '{0}-{1}'.format(start, end )\n",
    "        base = distributeObj[str(i)][dataRange]/count\n",
    "        if(base != 0 and base < minBase):\n",
    "            minBase = base\n",
    "        baseArr.append(base)\n",
    "        \n",
    "    for i in range(feature_numbers):\n",
    "        if(baseArr[i] != 0):\n",
    "            score += math.log(baseArr[i]) * calculate_hdw(i)  / feature_numbers\n",
    "        else:\n",
    "            score += math.log(minBase) * calculate_hdw(i)  / feature_numbers\n",
    "            \n",
    "    return score\n",
    "def get_max(array):\n",
    "    base = 0\n",
    "    for value in array:\n",
    "        if(base < value):\n",
    "            base = value\n",
    "    return base\n",
    "def get_min(array):\n",
    "    base = array[0]\n",
    "    for value in array:\n",
    "        if(base > value):\n",
    "            base = value\n",
    "    return base\n",
    "def get_average(array):\n",
    "    return float(sum(array))/len(array)\n",
    "def get_medium(array):\n",
    "    array.sort()\n",
    "    mid = int(len(array) / 2)\n",
    "    if len(array) % 2 == 0:\n",
    "        median = (array[mid - 1] + array[mid]) / 2.0\n",
    "    else:\n",
    "        median = array[mid]\n",
    "    return median\n",
    "def get_analysis(label_num):\n",
    "    count = 0.0\n",
    "    judge_attack_count = 0.0\n",
    "    Indexs = []\n",
    "    for index, item in enumerate(test_y3):  \n",
    "        if(item == label_num):\n",
    "            Indexs.append(index)\n",
    "            count+=1\n",
    "    Scores = []\n",
    "    for index, item in enumerate(Indexs):\n",
    "        t = get_score(test_x3[item], distributions['Benign'])\n",
    "        if(t == \"attack\"):\n",
    "            judge_attack_count+=1\n",
    "            t = -4.0\n",
    "        Scores.append(t)\n",
    "\n",
    "    print(get_max(Scores))\n",
    "    print(get_min(Scores))\n",
    "    print(get_medium(Scores))\n",
    "    print(get_average(Scores))  \n",
    "    print(judge_attack_count / count) \n",
    "    return Scores"
   ]
  },
  {
   "cell_type": "code",
   "execution_count": 3,
   "metadata": {
    "ExecuteTime": {
     "end_time": "2020-06-24T01:45:44.021057Z",
     "start_time": "2020-06-24T01:45:43.982168Z"
    }
   },
   "outputs": [],
   "source": [
    "def read_csv(dataroot):\n",
    "    df=pd.read_csv(dataroot,header=0,low_memory=False)   \n",
    "    pd.set_option('mode.use_inf_as_na', True) # convert inf to nan\n",
    "    df['Flow Bytes/s']=df['Flow Bytes/s'].astype('float64')\n",
    "    df[' Flow Packets/s']=df[' Flow Packets/s'].astype('float64')\n",
    "    df['Flow Bytes/s'].fillna(df['Flow Bytes/s'].mean(),inplace=True)\n",
    "    df[' Flow Packets/s'].fillna(df[' Flow Packets/s'].mean(),inplace=True)\n",
    "    return df\n",
    "\n",
    "def split_valid_from_train(train_dataset, valid_size):\n",
    "    # Method 1\n",
    "    train_dataset, valid_dataset, _, _ = train_test_split(train_dataset, train_dataset[' Label'], test_size=valid_size, random_state=None)\n",
    "    # pandas中先重置index再打乱train. 否则只会调整各个行的顺序，而不会改变pandas的index\n",
    "    # 重置\n",
    "    train_dataset = train_dataset.reset_index(drop=True)\n",
    "    # 打乱\n",
    "    indexMask = np.arange(len(train_dataset))\n",
    "    for i in range(10):\n",
    "        np.random.shuffle(indexMask)\n",
    "    train_dataset = train_dataset.iloc[indexMask]\n",
    "\n",
    "    return train_dataset, valid_dataset\n",
    "\n",
    "def shuffle(dataset):  \n",
    "    # 打乱\n",
    "    indexMask = np.arange(len(dataset))\n",
    "    for i in range(10):\n",
    "        np.random.shuffle(indexMask)\n",
    "    dataset = dataset.iloc[indexMask]\n",
    "    dataset = dataset.reset_index(drop=True)\n",
    "\n",
    "    return dataset \n",
    "\n",
    "#独热编码。选取distination port统计大于等于10以上的port作为新增维度\n",
    "def create_columns_for_destination_port(train_dataset):\n",
    "    countDictionary = Counter(train_dataset[' Destination Port'])\n",
    "    columns = []\n",
    "    columns.append('DestinationPort_Others')\n",
    "    for key in countDictionary:\n",
    "        if(countDictionary[key] >= 10):\n",
    "            columns.append('DestinationPort_' + str(key))\n",
    "    return columns\n",
    "\n",
    "def one_hot_process_for_destination_port(dataset, columns):\n",
    "    #重置索引\n",
    "    dataset = dataset.reset_index(drop=True)\n",
    "    #创建空表\n",
    "    DestinationPort_revert = pd.DataFrame(data=np.zeros(shape=(dataset.shape[0],len(columns))), columns = columns)\n",
    "    #填充空表\n",
    "    for i,value in enumerate(dataset[' Destination Port'].values):\n",
    "        name = \"DestinationPort_\" + str(value)\n",
    "        if name in columns:\n",
    "            DestinationPort_revert.loc[i, name] = 1\n",
    "        else:\n",
    "            DestinationPort_revert.loc[i, \"DestinationPort_Others\"] = 1\n",
    "    #与原表连接\n",
    "    dataset = pd.concat([dataset, DestinationPort_revert], axis=1)\n",
    "    #删除原表的destination port列\n",
    "    dataset = dataset.drop([' Destination Port'], axis=1)\n",
    "    return dataset  \n",
    "\n",
    "\n",
    "\n",
    "def labels_separate(dataset):\n",
    "    y_ = dataset[' Label']\n",
    "    temp = dataset\n",
    "    temp.drop([' Label'], axis=1, inplace=True)\n",
    "    x_ = temp.values\n",
    "    return x_, y_\n",
    "\n",
    "def labels_map(label):\n",
    "    if(type(label) == int):      #已是数字，无需处理\n",
    "        return label\n",
    "    if label == 'BENIGN':\n",
    "        return 0\n",
    "    if label == 'DoS':\n",
    "        return 1\n",
    "    if label == 'PortScan':\n",
    "        return 2\n",
    "    if label == 'DDoS':\n",
    "        return 3\n",
    "    if label == 'SSH-Patator':\n",
    "        return 4\n",
    "    if label == 'FTP-Patator':\n",
    "        return 5\n",
    "    if label == 'Web Attack':\n",
    "        return 6\n",
    "    if label == 'Bot':\n",
    "        return 7\n",
    "    if label == 'Infiltration':\n",
    "        return 8\n",
    "    return -1   #-1表示出错\n",
    "def filter_labels(dataset):\n",
    "    dataset[' Label'] = dataset[' Label'].apply(labels_map)\n",
    "    return dataset\n",
    "#特征选取\n",
    "def feature_selection(dataset):\n",
    "    return dataset[[\n",
    "        ' Destination Port', 'Bwd Packet Length Max',' Bwd Packet Length Min', ' Bwd Packet Length Std',\n",
    "        ' Flow IAT Mean', ' Flow IAT Std', ' Flow IAT Min', ' Fwd IAT Min', ' Bwd Packets/s', ' Min Packet Length',\n",
    "        ' Max Packet Length', ' Init_Win_bytes_backward', ' act_data_pkt_fwd', ' Label'\n",
    "    ]]\n",
    "def feature_selection2(dataset):\n",
    "    return dataset[[' Destination Port', ' Flow Duration', ' Total Fwd Packets', 'Total Length of Fwd Packets', \n",
    "                    ' Total Length of Bwd Packets', ' Fwd Packet Length Std', 'Bwd Packet Length Max', \n",
    "                    ' Bwd Packet Length Mean', ' Bwd Packet Length Std', 'Flow Bytes/s', ' Flow IAT Mean', \n",
    "                    ' Flow IAT Max', ' Flow IAT Min', ' Fwd IAT Mean', ' Fwd IAT Max', ' Fwd IAT Min', \n",
    "                    ' Bwd IAT Min', ' Fwd Header Length', ' Bwd Header Length', 'Fwd Packets/s', \n",
    "                    ' Bwd Packets/s', ' Max Packet Length', ' Packet Length Variance', ' ACK Flag Count', \n",
    "                    ' URG Flag Count', ' Average Packet Size', ' Avg Bwd Segment Size', ' Fwd Header Length.1', \n",
    "                    ' Subflow Fwd Bytes', 'Init_Win_bytes_forward', ' Init_Win_bytes_backward', \n",
    "                    ' act_data_pkt_fwd', ' Label'\n",
    "                   ]]\n",
    "\n",
    "\n",
    "labelList = [\"BENIGN\", \"DoS\", \"PortScan\", \"DDoS\", \"SSH-Patator\", \"FTP-Patator\", \"Web Attack\", \"Bot\"]"
   ]
  },
  {
   "cell_type": "code",
   "execution_count": 4,
   "metadata": {
    "ExecuteTime": {
     "end_time": "2020-06-24T01:46:39.516805Z",
     "start_time": "2020-06-24T01:45:45.132648Z"
    }
   },
   "outputs": [],
   "source": [
    "#DDoS\n",
    "df_1 = read_csv(\"../MachineLearningCVE/Friday-WorkingHours-Afternoon-DDos.pcap_ISCX.csv\")\n",
    "df_1 = df_1.drop(df_1[df_1[' Label'] == 'BENIGN'].index)\n",
    "df_1 = df_1.sample(n=5000,random_state=1, replace=False)\n",
    "df_1_train, df_1_test = split_valid_from_train(df_1, 0.2)\n",
    "#PortScan\n",
    "df_2 = read_csv(\"../MachineLearningCVE/Friday-WorkingHours-Afternoon-PortScan.pcap_ISCX.csv\")\n",
    "df_2 = df_2.drop(df_2[df_2[' Label'] == 'BENIGN'].index)\n",
    "df_2 = df_2.sample(n=5000,random_state=1, replace=False)\n",
    "df_2_train, df_2_test = split_valid_from_train(df_2, 0.2)\n",
    "#Bot\n",
    "df_3 = read_csv(\"../MachineLearningCVE/Friday-WorkingHours-Morning.pcap_ISCX.csv\")\n",
    "df_3 = df_3.drop(df_3[df_3[' Label'] == 'BENIGN'].index)\n",
    "df_3 = df_3.sample(n=5000,random_state=1, replace=True)\n",
    "df_3_train, df_3_test = split_valid_from_train(df_3, 0.2)\n",
    "#Benign\n",
    "df_4 = read_csv(\"../MachineLearningCVE/Monday-WorkingHours.pcap_ISCX.csv\")\n",
    "df_4 = df_4.sample(n=50000,random_state=1, replace=False)\n",
    "df_4_train, df_4_test = split_valid_from_train(df_4, 0.2)\n",
    "#Web attack\n",
    "df_6 = read_csv(\"../MachineLearningCVE/Thursday-WorkingHours-Morning-WebAttacks.pcap_ISCX.csv\")\n",
    "df_6 = df_6.drop(df_6[df_6[' Label'] == 'BENIGN'].index)\n",
    "df_6 = df_6.sample(n=5000,random_state=1, replace=True)\n",
    "df_6[' Label'] = df_6[' Label'].apply(lambda x: 'Web Attack')\n",
    "df_6_train, df_6_test = split_valid_from_train(df_6, 0.2)\n",
    "#FTP-Patator and SSH-Patator\n",
    "df_7 = read_csv(\"../MachineLearningCVE/Tuesday-WorkingHours.pcap_ISCX.csv\")\n",
    "df_7 = df_7.drop(df_7[df_7[' Label'] == 'BENIGN'].index)\n",
    "df_7_1 = df_7.drop(df_7[df_7[' Label'] == 'FTP-Patator'].index)\n",
    "df_7_2 = df_7.drop(df_7[df_7[' Label'] == 'SSH-Patator'].index)\n",
    "df_7_1 = df_7_1.sample(n=5000,random_state=1, replace=False)\n",
    "df_7_2 = df_7_2.sample(n=5000,random_state=1, replace=False)\n",
    "df_7_1_train, df_7_1_test = split_valid_from_train(df_7_1, 0.2)\n",
    "df_7_2_train, df_7_2_test = split_valid_from_train(df_7_2, 0.2)\n",
    "#DoS\n",
    "df_8 = read_csv(\"../MachineLearningCVE/Wednesday-workingHours.pcap_ISCX.csv\")\n",
    "df_8 = df_8.drop(df_8[df_8[' Label'] == 'BENIGN'].index)\n",
    "df_8 = df_8.sample(n=5000,random_state=1, replace=False)\n",
    "df_8[' Label'] = df_8[' Label'].apply(lambda x: 'DoS')\n",
    "df_8_train, df_8_test = split_valid_from_train(df_8, 0.2)\n",
    "\n",
    "#整合\n",
    "df_train = df_1_train.append([df_2_train, df_3_train, df_4_train, df_6_train, df_7_1_train,df_7_2_train,df_8_train])\n",
    "df_test = df_1_test.append([df_2_test, df_3_test, df_4_test, df_6_test, df_7_1_test,df_7_2_test,df_8_test])"
   ]
  },
  {
   "cell_type": "code",
   "execution_count": 5,
   "metadata": {
    "ExecuteTime": {
     "end_time": "2020-06-24T01:46:41.734281Z",
     "start_time": "2020-06-24T01:46:41.708902Z"
    }
   },
   "outputs": [
    {
     "name": "stdout",
     "output_type": "stream",
     "text": [
      "(68000, 79)\n",
      "BENIGN         40000\n",
      "SSH-Patator     4000\n",
      "PortScan        4000\n",
      "FTP-Patator     4000\n",
      "DDoS            4000\n",
      "Web Attack      4000\n",
      "Bot             4000\n",
      "DoS             4000\n",
      "Name:  Label, dtype: int64\n",
      "(17000, 79)\n",
      "BENIGN         10000\n",
      "Web Attack      1000\n",
      "Bot             1000\n",
      "PortScan        1000\n",
      "DoS             1000\n",
      "FTP-Patator     1000\n",
      "SSH-Patator     1000\n",
      "DDoS            1000\n",
      "Name:  Label, dtype: int64\n"
     ]
    }
   ],
   "source": [
    "print(df_train.shape)\n",
    "print(df_train.loc[:,' Label'].value_counts())\n",
    "print(df_test.shape)\n",
    "print(df_test.loc[:,' Label'].value_counts())"
   ]
  },
  {
   "cell_type": "code",
   "execution_count": 6,
   "metadata": {
    "ExecuteTime": {
     "end_time": "2020-06-24T01:46:43.662493Z",
     "start_time": "2020-06-24T01:46:43.654468Z"
    }
   },
   "outputs": [],
   "source": [
    "import pickle\n",
    "#数理统计方法，按5%区间进行数理统计\n",
    "def statistics(dataset, feature_index):\n",
    "    intervals = {'{0}-{1}'.format(5 * x, 5 * (x+1) ): 0 for x in range(20)}\n",
    "    for _ in dataset[:,feature_index]:\n",
    "        for interval in intervals:\n",
    "            start, end = tuple(interval.split('-'))\n",
    "            if int(start) <= _*100 <= int(end):\n",
    "                intervals[interval] += 1\n",
    "    return intervals\n",
    "\n",
    "def save_obj(obj, name ):\n",
    "    with open('../DistributionDictionary/'+ name + '.pkl', 'wb') as f:\n",
    "        pickle.dump(obj, f, pickle.HIGHEST_PROTOCOL)\n",
    "        "
   ]
  },
  {
   "cell_type": "code",
   "execution_count": 7,
   "metadata": {
    "ExecuteTime": {
     "end_time": "2020-06-24T01:46:46.254899Z",
     "start_time": "2020-06-24T01:46:45.962543Z"
    }
   },
   "outputs": [],
   "source": [
    "#整合后再乱序一下\n",
    "df_train = shuffle(df_train)\n",
    "#标签的字符转化成数字\n",
    "df_train = filter_labels(df_train)\n",
    "df_test = filter_labels(df_test)\n",
    "#分离标签\n",
    "df_train_X, df_train_y = labels_separate(df_train)\n",
    "df_test_X, df_test_y = labels_separate(df_test)\n",
    "#Normalization\n",
    "scaler = preprocessing.MinMaxScaler()\n",
    "df_train_X = scaler.fit_transform(df_train_X)\n",
    "df_test_X = scaler.fit_transform(df_test_X)"
   ]
  },
  {
   "cell_type": "code",
   "execution_count": 8,
   "metadata": {
    "ExecuteTime": {
     "end_time": "2020-06-24T01:46:48.820550Z",
     "start_time": "2020-06-24T01:46:48.803745Z"
    }
   },
   "outputs": [
    {
     "name": "stdout",
     "output_type": "stream",
     "text": [
      "(68000, 78)\n",
      "(68000,)\n",
      "(17000, 78)\n",
      "(17000,)\n",
      "[5.64867092e-01 4.50002700e-07 0.00000000e+00 2.32514881e-05\n",
      " 0.00000000e+00 0.00000000e+00 0.00000000e+00 0.00000000e+00\n",
      " 0.00000000e+00 0.00000000e+00 0.00000000e+00 0.00000000e+00\n",
      " 0.00000000e+00 0.00000000e+00 0.00000000e+00 1.23456730e-02\n",
      " 4.94721854e-07 0.00000000e+00 4.50126819e-07 5.03883365e-07\n",
      " 0.00000000e+00 0.00000000e+00 0.00000000e+00 0.00000000e+00\n",
      " 0.00000000e+00 0.00000000e+00 0.00000000e+00 0.00000000e+00\n",
      " 0.00000000e+00 0.00000000e+00 0.00000000e+00 0.00000000e+00\n",
      " 0.00000000e+00 0.00000000e+00 9.92150477e-01 9.89850433e-01\n",
      " 6.17283951e-03 1.38888889e-02 0.00000000e+00 0.00000000e+00\n",
      " 0.00000000e+00 0.00000000e+00 0.00000000e+00 0.00000000e+00\n",
      " 0.00000000e+00 0.00000000e+00 0.00000000e+00 1.00000000e+00\n",
      " 1.00000000e+00 0.00000000e+00 0.00000000e+00 2.00000000e-01\n",
      " 0.00000000e+00 0.00000000e+00 0.00000000e+00 9.92150477e-01\n",
      " 0.00000000e+00 0.00000000e+00 0.00000000e+00 0.00000000e+00\n",
      " 0.00000000e+00 0.00000000e+00 0.00000000e+00 0.00000000e+00\n",
      " 2.32514881e-05 0.00000000e+00 5.46264648e-03 5.09643555e-03\n",
      " 0.00000000e+00 9.99999666e-01 0.00000000e+00 0.00000000e+00\n",
      " 0.00000000e+00 0.00000000e+00 0.00000000e+00 0.00000000e+00\n",
      " 0.00000000e+00 0.00000000e+00]\n",
      "0        0\n",
      "1        2\n",
      "2        3\n",
      "3        4\n",
      "4        0\n",
      "5        0\n",
      "6        0\n",
      "7        0\n",
      "8        0\n",
      "9        5\n",
      "10       0\n",
      "11       2\n",
      "12       0\n",
      "13       0\n",
      "14       0\n",
      "15       6\n",
      "16       1\n",
      "17       0\n",
      "18       7\n",
      "19       5\n",
      "20       0\n",
      "21       6\n",
      "22       0\n",
      "23       5\n",
      "24       0\n",
      "25       0\n",
      "26       0\n",
      "27       0\n",
      "28       0\n",
      "29       0\n",
      "        ..\n",
      "67970    0\n",
      "67971    0\n",
      "67972    0\n",
      "67973    1\n",
      "67974    0\n",
      "67975    5\n",
      "67976    0\n",
      "67977    0\n",
      "67978    0\n",
      "67979    0\n",
      "67980    0\n",
      "67981    1\n",
      "67982    7\n",
      "67983    0\n",
      "67984    0\n",
      "67985    0\n",
      "67986    1\n",
      "67987    4\n",
      "67988    0\n",
      "67989    0\n",
      "67990    6\n",
      "67991    7\n",
      "67992    3\n",
      "67993    0\n",
      "67994    0\n",
      "67995    0\n",
      "67996    3\n",
      "67997    4\n",
      "67998    0\n",
      "67999    0\n",
      "Name:  Label, Length: 68000, dtype: int64\n"
     ]
    }
   ],
   "source": [
    "print(df_train_X.shape)\n",
    "print(df_train_y.shape)\n",
    "print(df_test_X.shape)\n",
    "print(df_test_y.shape)\n",
    "print(df_train_X[0])\n",
    "print(df_train_y)"
   ]
  },
  {
   "cell_type": "code",
   "execution_count": 9,
   "metadata": {
    "ExecuteTime": {
     "end_time": "2020-06-24T01:46:53.459455Z",
     "start_time": "2020-06-24T01:46:51.344397Z"
    }
   },
   "outputs": [],
   "source": [
    "import tensorflow as tf\n",
    "from tensorflow import keras\n",
    "from sklearn.metrics import f1_score, precision_score, recall_score\n",
    "from sklearn.metrics import classification_report\n",
    "from tensorflow.keras.layers import BatchNormalization\n",
    "#超参数设置\n",
    "learning_rate = 0.001\n",
    "epochs = 20\n",
    "batch_size = 64\n",
    "activation = tf.nn.relu         #非输出层下的激活函数"
   ]
  },
  {
   "cell_type": "code",
   "execution_count": 33,
   "metadata": {
    "ExecuteTime": {
     "end_time": "2020-06-24T03:28:20.580931Z",
     "start_time": "2020-06-24T03:26:19.068999Z"
    }
   },
   "outputs": [
    {
     "name": "stdout",
     "output_type": "stream",
     "text": [
      "_________________________________________________________________\n",
      "Layer (type)                 Output Shape              Param #   \n",
      "=================================================================\n",
      "dense_3 (Dense)              (None, 78)                6162      \n",
      "_________________________________________________________________\n",
      "batch_normalization_v1_1 (Ba (None, 78)                312       \n",
      "_________________________________________________________________\n",
      "dense_4 (Dense)              (None, 64)                5056      \n",
      "_________________________________________________________________\n",
      "batch_normalization_v1_2 (Ba (None, 64)                256       \n",
      "_________________________________________________________________\n",
      "dense_5 (Dense)              (None, 64)                4160      \n",
      "_________________________________________________________________\n",
      "batch_normalization_v1_3 (Ba (None, 64)                256       \n",
      "_________________________________________________________________\n",
      "dense_6 (Dense)              (None, 8)                 520       \n",
      "=================================================================\n",
      "Total params: 16,722\n",
      "Trainable params: 16,310\n",
      "Non-trainable params: 412\n",
      "_________________________________________________________________\n",
      "Train on 68000 samples, validate on 17000 samples\n",
      "Epoch 1/20\n",
      "67904/68000 [============================>.] - ETA: 0s - loss: 0.2845 - acc: 0.9114"
     ]
    },
    {
     "name": "stderr",
     "output_type": "stream",
     "text": [
      "/opt/conda/lib/python3.7/site-packages/sklearn/metrics/classification.py:1143: UndefinedMetricWarning: Precision is ill-defined and being set to 0.0 in labels with no predicted samples.\n",
      "  'precision', 'predicted', average, warn_for)\n",
      "/opt/conda/lib/python3.7/site-packages/sklearn/metrics/classification.py:1143: UndefinedMetricWarning: F-score is ill-defined and being set to 0.0 in labels with no predicted samples.\n",
      "  'precision', 'predicted', average, warn_for)\n"
     ]
    },
    {
     "name": "stdout",
     "output_type": "stream",
     "text": [
      "\n",
      "Epoch 00001: val_loss improved from inf to 2.69149, saving model to ./Test10_model.h5\n",
      "WARNING:tensorflow:TensorFlow optimizers do not make it possible to access optimizer attributes or optimizer state after instantiation. As a result, we cannot save the optimizer as part of the model save file.You will have to compile your model again after loading it. Prefer using a Keras optimizer instead (see keras.io/optimizers).\n",
      "68000/68000 [==============================] - 7s 110us/sample - loss: 0.2845 - acc: 0.9114 - val_loss: 2.6915 - val_acc: 0.6077\n",
      "Epoch 2/20\n",
      "67968/68000 [============================>.] - ETA: 0s - loss: 0.1548 - acc: 0.9452\n",
      "Epoch 00002: val_loss did not improve from 2.69149\n",
      "68000/68000 [==============================] - 6s 86us/sample - loss: 0.1549 - acc: 0.9452 - val_loss: 2.8795 - val_acc: 0.6772\n",
      "Epoch 3/20\n",
      "67584/68000 [============================>.] - ETA: 0s - loss: 0.1247 - acc: 0.9555\n",
      "Epoch 00003: val_loss did not improve from 2.69149\n",
      "68000/68000 [==============================] - 6s 93us/sample - loss: 0.1245 - acc: 0.9556 - val_loss: 3.1251 - val_acc: 0.6595\n",
      "Epoch 4/20\n",
      "67328/68000 [============================>.] - ETA: 0s - loss: 0.1068 - acc: 0.9611\n",
      "Epoch 00004: val_loss did not improve from 2.69149\n",
      "68000/68000 [==============================] - 6s 89us/sample - loss: 0.1071 - acc: 0.9611 - val_loss: 3.4177 - val_acc: 0.6758\n",
      "Epoch 5/20\n",
      "67904/68000 [============================>.] - ETA: 0s - loss: 0.0965 - acc: 0.9640\n",
      "Epoch 00005: val_loss did not improve from 2.69149\n",
      "68000/68000 [==============================] - 6s 82us/sample - loss: 0.0964 - acc: 0.9640 - val_loss: 3.9448 - val_acc: 0.6831\n",
      "Epoch 6/20\n",
      "67648/68000 [============================>.] - ETA: 0s - loss: 0.0862 - acc: 0.9683\n",
      "Epoch 00006: val_loss did not improve from 2.69149\n",
      "68000/68000 [==============================] - 5s 80us/sample - loss: 0.0862 - acc: 0.9683 - val_loss: 3.4119 - val_acc: 0.6944\n",
      "Epoch 7/20\n",
      "67712/68000 [============================>.] - ETA: 0s - loss: 0.0802 - acc: 0.9706\n",
      "Epoch 00007: val_loss did not improve from 2.69149\n",
      "68000/68000 [==============================] - 5s 79us/sample - loss: 0.0801 - acc: 0.9706 - val_loss: 3.7108 - val_acc: 0.6966\n",
      "Epoch 8/20\n",
      "67520/68000 [============================>.] - ETA: 0s - loss: 0.0764 - acc: 0.9715\n",
      "Epoch 00008: val_loss did not improve from 2.69149\n",
      "68000/68000 [==============================] - 6s 86us/sample - loss: 0.0766 - acc: 0.9715 - val_loss: 3.6472 - val_acc: 0.6788\n",
      "Epoch 9/20\n",
      "67904/68000 [============================>.] - ETA: 0s - loss: 0.0722 - acc: 0.9737\n",
      "Epoch 00009: val_loss did not improve from 2.69149\n",
      "68000/68000 [==============================] - 7s 108us/sample - loss: 0.0722 - acc: 0.9737 - val_loss: 3.5836 - val_acc: 0.7022\n",
      "Epoch 10/20\n",
      "67968/68000 [============================>.] - ETA: 0s - loss: 0.0677 - acc: 0.9755\n",
      "Epoch 00010: val_loss did not improve from 2.69149\n",
      "68000/68000 [==============================] - 6s 94us/sample - loss: 0.0677 - acc: 0.9755 - val_loss: 3.7287 - val_acc: 0.7199\n",
      "Epoch 11/20\n",
      "67840/68000 [============================>.] - ETA: 0s - loss: 0.0648 - acc: 0.9764\n",
      "Epoch 00011: val_loss did not improve from 2.69149\n",
      "68000/68000 [==============================] - 6s 84us/sample - loss: 0.0649 - acc: 0.9764 - val_loss: 3.8927 - val_acc: 0.6852\n",
      "Epoch 12/20\n",
      "67904/68000 [============================>.] - ETA: 0s - loss: 0.0646 - acc: 0.9767\n",
      "Epoch 00012: val_loss did not improve from 2.69149\n",
      "68000/68000 [==============================] - 6s 88us/sample - loss: 0.0646 - acc: 0.9766 - val_loss: 3.7246 - val_acc: 0.7164\n",
      "Epoch 13/20\n",
      "67520/68000 [============================>.] - ETA: 0s - loss: 0.0633 - acc: 0.9762\n",
      "Epoch 00013: val_loss did not improve from 2.69149\n",
      "68000/68000 [==============================] - 6s 89us/sample - loss: 0.0633 - acc: 0.9762 - val_loss: 3.6164 - val_acc: 0.7088\n",
      "Epoch 14/20\n",
      "67264/68000 [============================>.] - ETA: 0s - loss: 0.0606 - acc: 0.9775\n",
      "Epoch 00014: val_loss did not improve from 2.69149\n",
      "68000/68000 [==============================] - 7s 98us/sample - loss: 0.0609 - acc: 0.9774 - val_loss: 3.4089 - val_acc: 0.7163\n",
      "Epoch 15/20\n",
      "67648/68000 [============================>.] - ETA: 0s - loss: 0.0577 - acc: 0.9784\n",
      "Epoch 00015: val_loss did not improve from 2.69149\n",
      "68000/68000 [==============================] - 6s 85us/sample - loss: 0.0577 - acc: 0.9784 - val_loss: 3.4673 - val_acc: 0.7112\n",
      "Epoch 16/20\n",
      "67328/68000 [============================>.] - ETA: 0s - loss: 0.0573 - acc: 0.9781\n",
      "Epoch 00016: val_loss did not improve from 2.69149\n",
      "68000/68000 [==============================] - 6s 91us/sample - loss: 0.0573 - acc: 0.9781 - val_loss: 3.7410 - val_acc: 0.7085\n",
      "Epoch 17/20\n",
      "67200/68000 [============================>.] - ETA: 0s - loss: 0.0547 - acc: 0.9791\n",
      "Epoch 00017: val_loss did not improve from 2.69149\n",
      "68000/68000 [==============================] - 5s 74us/sample - loss: 0.0546 - acc: 0.9791 - val_loss: 3.5094 - val_acc: 0.7115\n",
      "Epoch 18/20\n",
      "67776/68000 [============================>.] - ETA: 0s - loss: 0.0556 - acc: 0.9785\n",
      "Epoch 00018: val_loss did not improve from 2.69149\n",
      "68000/68000 [==============================] - 5s 76us/sample - loss: 0.0554 - acc: 0.9785 - val_loss: 3.1855 - val_acc: 0.7066\n",
      "Epoch 19/20\n",
      "67840/68000 [============================>.] - ETA: 0s - loss: 0.0547 - acc: 0.9787\n",
      "Epoch 00019: val_loss did not improve from 2.69149\n",
      "68000/68000 [==============================] - 5s 77us/sample - loss: 0.0548 - acc: 0.9786 - val_loss: 3.6460 - val_acc: 0.7087\n",
      "Epoch 20/20\n",
      "67328/68000 [============================>.] - ETA: 0s - loss: 0.0526 - acc: 0.9800\n",
      "Epoch 00020: val_loss did not improve from 2.69149\n",
      "68000/68000 [==============================] - 5s 76us/sample - loss: 0.0526 - acc: 0.9801 - val_loss: 3.6201 - val_acc: 0.7045\n"
     ]
    }
   ],
   "source": [
    "#用于记录训练中每个batch的loss\n",
    "class LossHistory(keras.callbacks.Callback):\n",
    "    def on_train_begin(self, logs={}):\n",
    "        self.train_losses_per_batch = []\n",
    "        self.train_losses_per_epoch = []\n",
    "        self.valid_losses_per_epoch = []\n",
    "        \n",
    "    def on_batch_end(self, batch, logs={}):\n",
    "        self.train_losses_per_batch.append(logs.get('loss'))\n",
    "        \n",
    "    def on_epoch_end(self, epoch, logs={}):\n",
    "        self.train_losses_per_epoch.append(logs.get('loss'))\n",
    "        self.valid_losses_per_epoch.append(logs.get('val_loss')*4)   #验证集由于只有1/4的训练集大小所以损失要乘以4\n",
    "#用于记录训练中每个epoch的召回率，精确度以及f1 score\n",
    "class Metrics(keras.callbacks.Callback):\n",
    "    def on_train_begin(self, logs={}):\n",
    "        self.val_f1s = []\n",
    "        self.val_recalls = []\n",
    "        self.val_precisions = []\n",
    "        return\n",
    "\n",
    "    def on_epoch_end(self, epoch, logs={}):\n",
    "        predictions = self.model.predict(df_test_X)\n",
    "        val_predict = np.argmax(predictions, axis=1)     #把独热编码转化成数字\n",
    "        val_targ = df_test_y\n",
    "        _val_recall = recall_score(val_targ, val_predict, average='macro')\n",
    "        _val_precision = precision_score(val_targ, val_predict, average='macro')\n",
    "        _val_f1 = f1_score(val_targ, val_predict, average='macro')\n",
    "        self.val_f1s.append(_val_f1)\n",
    "        self.val_recalls.append(_val_recall)\n",
    "        self.val_precisions.append(_val_precision)\n",
    "        return       \n",
    "#回调：模型跑完epoch后选取最好的epoch模型保存，选取标准为验证集损失最小的那一个\n",
    "checkpoint = keras.callbacks.ModelCheckpoint(      \n",
    "    \"./Test10_model.h5\",\n",
    "    monitor='val_loss',\n",
    "    verbose=1,\n",
    "    save_best_only=True,\n",
    "    mode='min',\n",
    "    period=1\n",
    ")\n",
    "def simple_model():\n",
    "    model = keras.Sequential([\n",
    "        keras.layers.Dense(df_train_X.shape[1], activation=activation, input_shape=(df_train_X.shape[1],)),\n",
    "        BatchNormalization(),\n",
    "        keras.layers.Dense(64, activation=activation),\n",
    "        BatchNormalization(),\n",
    "        keras.layers.Dense(64, activation=activation),\n",
    "        BatchNormalization(),\n",
    "        keras.layers.Dense(8,activation=tf.nn.softmax)\n",
    "    ])\n",
    "    model.compile(optimizer =tf.train.AdamOptimizer(learning_rate=learning_rate),\n",
    "        loss=\"sparse_categorical_crossentropy\",\n",
    "        metrics=['accuracy']\n",
    "    )\n",
    "    model.summary()\n",
    "    history = LossHistory()\n",
    "    metrics = Metrics()\n",
    "    model.fit(\n",
    "        df_train_X,df_train_y,\n",
    "        validation_data=[df_test_X, df_test_y],\n",
    "        batch_size=batch_size,epochs=epochs,\n",
    "        callbacks=[history, metrics, checkpoint]\n",
    "    )   \n",
    "    return model,history,metrics\n",
    "model,history,metrics = simple_model()"
   ]
  },
  {
   "cell_type": "code",
   "execution_count": 34,
   "metadata": {
    "ExecuteTime": {
     "end_time": "2020-06-24T03:28:22.770320Z",
     "start_time": "2020-06-24T03:28:22.759643Z"
    }
   },
   "outputs": [],
   "source": [
    "import matplotlib.pyplot as plt\n",
    "import matplotlib\n",
    "\n",
    "%matplotlib inline\n",
    "matplotlib.rcParams['font.sans-serif'] = ['SimHei']"
   ]
  },
  {
   "cell_type": "code",
   "execution_count": 35,
   "metadata": {
    "ExecuteTime": {
     "end_time": "2020-06-24T03:28:25.702766Z",
     "start_time": "2020-06-24T03:28:24.912384Z"
    }
   },
   "outputs": [
    {
     "data": {
      "image/png": "[encoded data removed]",
      "text/plain": [
       "<Figure size 1080x288 with 1 Axes>"
      ]
     },
     "metadata": {
      "needs_background": "light"
     },
     "output_type": "display_data"
    },
    {
     "data": {
      "image/png": "[encoded data removed]",
      "text/plain": [
       "<Figure size 1080x288 with 1 Axes>"
      ]
     },
     "metadata": {
      "needs_background": "light"
     },
     "output_type": "display_data"
    }
   ],
   "source": [
    "#绘制训练集在batch下的损失变化\n",
    "plt.title('The Cost with batchs runs',fontsize=30)\n",
    "plt.xlabel('batchs',fontsize=20)\n",
    "plt.ylabel('Cost',fontsize=20)\n",
    "plt.xticks(fontsize=20)\n",
    "plt.yticks(fontsize=20)\n",
    "plt.plot(history.train_losses_per_batch)\n",
    "plt.gcf().set_size_inches(15,4)\n",
    "plt.show()\n",
    "#绘制训练集与验证集在epoch下的损失比较\n",
    "plt.title('The Cost with epoches runs',fontsize=30)\n",
    "plt.xlabel('epoch',fontsize=20)\n",
    "plt.ylabel('Cost',fontsize=20)\n",
    "plt.xticks(fontsize=20)\n",
    "plt.yticks(fontsize=20)\n",
    "plt.plot(history.train_losses_per_epoch, '-o', label='train')\n",
    "plt.plot(history.valid_losses_per_epoch, '-o', label='valid')\n",
    "plt.legend(fontsize=30,loc='upper right')\n",
    "plt.gcf().set_size_inches(15,4)\n",
    "plt.show()"
   ]
  },
  {
   "cell_type": "code",
   "execution_count": 36,
   "metadata": {
    "ExecuteTime": {
     "end_time": "2020-06-24T03:28:30.659890Z",
     "start_time": "2020-06-24T03:28:27.749258Z"
    }
   },
   "outputs": [
    {
     "name": "stdout",
     "output_type": "stream",
     "text": [
      "WARNING:tensorflow:No training configuration found in save file: the model was *not* compiled. Compile it manually.\n",
      "17000/17000 [==============================] - 1s 81us/sample - loss: 2.6915 - acc: 0.6077\n",
      "Test accuracy: 0.6077059\n"
     ]
    }
   ],
   "source": [
    "#选取验证集准确率最高的模型\n",
    "model = keras.models.load_model('./Test10_model.h5') \n",
    "model.compile(optimizer =tf.train.AdamOptimizer(learning_rate=learning_rate),\n",
    "    loss=\"sparse_categorical_crossentropy\",\n",
    "    metrics=['accuracy']\n",
    ")\n",
    "#测试集的正确率\n",
    "def use_evaluate_test():\n",
    "    test_loss,test_acc = model.evaluate(df_test_X,df_test_y)\n",
    "    print('Test accuracy:', test_acc)\n",
    "    return \n",
    "use_evaluate_test()"
   ]
  },
  {
   "cell_type": "code",
   "execution_count": 37,
   "metadata": {
    "ExecuteTime": {
     "end_time": "2020-06-24T03:28:33.629888Z",
     "start_time": "2020-06-24T03:28:32.750397Z"
    }
   },
   "outputs": [
    {
     "name": "stdout",
     "output_type": "stream",
     "text": [
      "              precision    recall  f1-score   support\n",
      "\n",
      "      BENIGN       0.68      0.85      0.76     10000\n",
      "         DoS       0.76      0.56      0.64      1000\n",
      "    PortScan       0.30      0.67      0.41      1000\n",
      "        DDoS       1.00      0.00      0.00      1000\n",
      " SSH-Patator       0.00      0.00      0.00      1000\n",
      " FTP-Patator       0.70      0.36      0.47      1000\n",
      "  Web Attack       0.00      0.00      0.00      1000\n",
      "         Bot       0.35      0.23      0.28      1000\n",
      "\n",
      "   micro avg       0.61      0.61      0.61     17000\n",
      "   macro avg       0.47      0.33      0.32     17000\n",
      "weighted avg       0.58      0.61      0.55     17000\n",
      "\n"
     ]
    },
    {
     "name": "stderr",
     "output_type": "stream",
     "text": [
      "/opt/conda/lib/python3.7/site-packages/sklearn/metrics/classification.py:1143: UndefinedMetricWarning: Precision and F-score are ill-defined and being set to 0.0 in labels with no predicted samples.\n",
      "  'precision', 'predicted', average, warn_for)\n"
     ]
    }
   ],
   "source": [
    "predictions = model.predict(df_test_X)\n",
    "print(classification_report(df_test_y, np.argmax(predictions, axis=1) , target_names=labelList))"
   ]
  },
  {
   "cell_type": "code",
   "execution_count": 15,
   "metadata": {
    "ExecuteTime": {
     "end_time": "2020-06-24T01:49:52.507867Z",
     "start_time": "2020-06-24T01:49:50.525053Z"
    }
   },
   "outputs": [
    {
     "name": "stdout",
     "output_type": "stream",
     "text": [
      "[3 3 3 ... 1 0 1]\n",
      "0.9207058823529412\n"
     ]
    }
   ],
   "source": [
    "from sklearn.tree import DecisionTreeClassifier\n",
    "clf = DecisionTreeClassifier(criterion='entropy', min_samples_leaf=3)\n",
    "dt_clf = clf.fit(df_train_X, df_train_y)\n",
    "predictions = dt_clf.predict(df_test_X)\n",
    "print(predictions)\n",
    "print(accuracy_score(df_test_y, predictions))"
   ]
  },
  {
   "cell_type": "code",
   "execution_count": 20,
   "metadata": {
    "ExecuteTime": {
     "end_time": "2020-06-24T01:57:17.595706Z",
     "start_time": "2020-06-24T01:57:17.557966Z"
    }
   },
   "outputs": [
    {
     "name": "stdout",
     "output_type": "stream",
     "text": [
      "              precision    recall  f1-score   support\n",
      "\n",
      "      BENIGN       0.96      0.97      0.96     10000\n",
      "         DoS       0.99      0.68      0.81      1000\n",
      "    PortScan       0.61      0.99      0.75      1000\n",
      "        DDoS       0.84      1.00      0.91      1000\n",
      " SSH-Patator       1.00      1.00      1.00      1000\n",
      " FTP-Patator       0.98      1.00      0.99      1000\n",
      "  Web Attack       0.98      0.91      0.95      1000\n",
      "         Bot       0.85      0.38      0.53      1000\n",
      "\n",
      "   micro avg       0.92      0.92      0.92     17000\n",
      "   macro avg       0.90      0.87      0.86     17000\n",
      "weighted avg       0.93      0.92      0.92     17000\n",
      "\n"
     ]
    }
   ],
   "source": [
    "print(classification_report(df_test_y, predictions , target_names=labelList))"
   ]
  },
  {
   "cell_type": "code",
   "execution_count": 21,
   "metadata": {
    "ExecuteTime": {
     "end_time": "2020-06-24T02:11:58.557376Z",
     "start_time": "2020-06-24T02:04:04.542615Z"
    }
   },
   "outputs": [
    {
     "name": "stderr",
     "output_type": "stream",
     "text": [
      "/opt/conda/lib/python3.7/site-packages/sklearn/svm/base.py:196: FutureWarning: The default value of gamma will change from 'auto' to 'scale' in version 0.22 to account better for unscaled features. Set gamma explicitly to 'auto' or 'scale' to avoid this warning.\n",
      "  \"avoid this warning.\", FutureWarning)\n"
     ]
    },
    {
     "name": "stdout",
     "output_type": "stream",
     "text": [
      "[3 3 3 ... 1 0 1]\n",
      "0.9207058823529412\n"
     ]
    }
   ],
   "source": [
    "from sklearn.svm import SVC\n",
    "clf = SVC()\n",
    "clf.fit(df_train_X, df_train_y) \n",
    "# predictions = dt_clf.predict(df_test_X)\n",
    "# print(predictions)\n",
    "# print(accuracy_score(df_test_y, predictions))\n"
   ]
  },
  {
   "cell_type": "code",
   "execution_count": 29,
   "metadata": {
    "ExecuteTime": {
     "end_time": "2020-06-24T02:24:02.316756Z",
     "start_time": "2020-06-24T02:22:43.224473Z"
    }
   },
   "outputs": [
    {
     "name": "stdout",
     "output_type": "stream",
     "text": [
      "[3 0 0 ... 1 0 1]\n",
      "0.8374117647058823\n",
      "              precision    recall  f1-score   support\n",
      "\n",
      "      BENIGN       0.85      0.94      0.89     10000\n",
      "         DoS       0.86      0.65      0.74      1000\n",
      "    PortScan       0.78      0.99      0.87      1000\n",
      "        DDoS       0.98      0.56      0.71      1000\n",
      " SSH-Patator       0.52      0.47      0.49      1000\n",
      " FTP-Patator       0.84      1.00      0.91      1000\n",
      "  Web Attack       0.91      0.83      0.87      1000\n",
      "         Bot       0.83      0.35      0.49      1000\n",
      "\n",
      "   micro avg       0.84      0.84      0.84     17000\n",
      "   macro avg       0.82      0.72      0.75     17000\n",
      "weighted avg       0.84      0.84      0.83     17000\n",
      "\n"
     ]
    }
   ],
   "source": [
    "predictions = clf.predict(df_test_X)\n",
    "print(predictions)\n",
    "print(accuracy_score(df_test_y, predictions))\n",
    "print(classification_report(df_test_y, predictions , target_names=labelList))"
   ]
  },
  {
   "cell_type": "code",
   "execution_count": 22,
   "metadata": {
    "ExecuteTime": {
     "end_time": "2020-06-24T02:12:21.037315Z",
     "start_time": "2020-06-24T02:12:21.009555Z"
    }
   },
   "outputs": [
    {
     "name": "stdout",
     "output_type": "stream",
     "text": [
      "              precision    recall  f1-score   support\n",
      "\n",
      "      BENIGN       0.96      0.97      0.96     10000\n",
      "         DoS       0.99      0.68      0.81      1000\n",
      "    PortScan       0.61      0.99      0.75      1000\n",
      "        DDoS       0.84      1.00      0.91      1000\n",
      " SSH-Patator       1.00      1.00      1.00      1000\n",
      " FTP-Patator       0.98      1.00      0.99      1000\n",
      "  Web Attack       0.98      0.91      0.95      1000\n",
      "         Bot       0.85      0.38      0.53      1000\n",
      "\n",
      "   micro avg       0.92      0.92      0.92     17000\n",
      "   macro avg       0.90      0.87      0.86     17000\n",
      "weighted avg       0.93      0.92      0.92     17000\n",
      "\n"
     ]
    }
   ],
   "source": []
  },
  {
   "cell_type": "code",
   "execution_count": 24,
   "metadata": {
    "ExecuteTime": {
     "end_time": "2020-06-24T02:14:28.600459Z",
     "start_time": "2020-06-24T02:14:26.959060Z"
    }
   },
   "outputs": [
    {
     "name": "stderr",
     "output_type": "stream",
     "text": [
      "/opt/conda/lib/python3.7/site-packages/sklearn/ensemble/forest.py:246: FutureWarning: The default value of n_estimators will change from 10 in version 0.20 to 100 in 0.22.\n",
      "  \"10 in version 0.20 to 100 in 0.22.\", FutureWarning)\n"
     ]
    },
    {
     "name": "stdout",
     "output_type": "stream",
     "text": [
      "0.9147647058823529\n",
      "              precision    recall  f1-score   support\n",
      "\n",
      "      BENIGN       0.87      1.00      0.93     10000\n",
      "         DoS       0.99      0.93      0.96      1000\n",
      "    PortScan       1.00      1.00      1.00      1000\n",
      "        DDoS       0.99      0.65      0.78      1000\n",
      " SSH-Patator       1.00      0.99      1.00      1000\n",
      " FTP-Patator       1.00      0.77      0.87      1000\n",
      "  Web Attack       1.00      0.92      0.96      1000\n",
      "         Bot       1.00      0.31      0.47      1000\n",
      "\n",
      "   micro avg       0.91      0.91      0.91     17000\n",
      "   macro avg       0.98      0.82      0.87     17000\n",
      "weighted avg       0.93      0.91      0.90     17000\n",
      "\n"
     ]
    }
   ],
   "source": [
    "from sklearn.ensemble import RandomForestClassifier\n",
    "rfc = RandomForestClassifier()\n",
    "rfc.fit(df_train_X, df_train_y)\n",
    "#测试集的正确率\n",
    "print(rfc.score(df_test_X, df_test_y))\n",
    "#测试集的各个参数\n",
    "y_pred = rfc.predict(df_test_X)\n",
    "print(classification_report(df_test_y, y_pred, target_names=labelList))"
   ]
  },
  {
   "cell_type": "code",
   "execution_count": 26,
   "metadata": {
    "ExecuteTime": {
     "end_time": "2020-06-24T02:19:15.775179Z",
     "start_time": "2020-06-24T02:16:43.497825Z"
    }
   },
   "outputs": [
    {
     "name": "stdout",
     "output_type": "stream",
     "text": [
      "0.9146470588235294\n",
      "              precision    recall  f1-score   support\n",
      "\n",
      "      BENIGN       0.89      0.98      0.93     10000\n",
      "         DoS       0.98      0.98      0.98      1000\n",
      "    PortScan       1.00      0.49      0.66      1000\n",
      "        DDoS       0.81      1.00      0.90      1000\n",
      " SSH-Patator       1.00      1.00      1.00      1000\n",
      " FTP-Patator       1.00      0.51      0.67      1000\n",
      "  Web Attack       1.00      0.85      0.92      1000\n",
      "         Bot       0.99      0.97      0.98      1000\n",
      "\n",
      "   micro avg       0.91      0.91      0.91     17000\n",
      "   macro avg       0.96      0.85      0.88     17000\n",
      "weighted avg       0.92      0.91      0.91     17000\n",
      "\n"
     ]
    }
   ],
   "source": [
    "from xgboost import XGBClassifier\n",
    "xgb = XGBClassifier()\n",
    "xgb.fit(df_train_X, df_train_y)\n",
    "#测试集的正确率\n",
    "print(xgb.score(df_test_X, df_test_y))\n",
    "#测试集的各个参数\n",
    "y_pred = xgb.predict(df_test_X)\n",
    "print(classification_report(df_test_y, y_pred, target_names=labelList))"
   ]
  },
  {
   "cell_type": "code",
   "execution_count": 32,
   "metadata": {
    "ExecuteTime": {
     "end_time": "2020-06-24T02:24:39.603216Z",
     "start_time": "2020-06-24T02:24:39.592459Z"
    }
   },
   "outputs": [
    {
     "name": "stdout",
     "output_type": "stream",
     "text": [
      "SVC(C=1.0, cache_size=200, class_weight=None, coef0=0.0,\n",
      "  decision_function_shape='ovr', degree=3, gamma='auto_deprecated',\n",
      "  kernel='rbf', max_iter=-1, probability=False, random_state=None,\n",
      "  shrinking=True, tol=0.001, verbose=False)\n",
      "RandomForestClassifier(bootstrap=True, class_weight=None, criterion='gini',\n",
      "            max_depth=None, max_features='auto', max_leaf_nodes=None,\n",
      "            min_impurity_decrease=0.0, min_impurity_split=None,\n",
      "            min_samples_leaf=1, min_samples_split=2,\n",
      "            min_weight_fraction_leaf=0.0, n_estimators=10, n_jobs=None,\n",
      "            oob_score=False, random_state=None, verbose=0,\n",
      "            warm_start=False)\n",
      "32\n"
     ]
    }
   ],
   "source": [
    "import sys\n",
    "\n",
    "print(clf.__sizeof__())\n",
    "print(rfc.__sizeof__())\n",
    "print(xgb.__sizeof__())"
   ]
  },
  {
   "cell_type": "code",
   "execution_count": null,
   "metadata": {},
   "outputs": [],
   "source": []
  }
 ],
 "metadata": {
  "kernelspec": {
   "display_name": "Python 3",
   "language": "python",
   "name": "python3"
  },
  "language_info": {
   "codemirror_mode": {
    "name": "ipython",
    "version": 3
   },
   "file_extension": ".py",
   "mimetype": "text/x-python",
   "name": "python",
   "nbconvert_exporter": "python",
   "pygments_lexer": "ipython3",
   "version": "3.7.3"
  },
  "toc": {
   "base_numbering": 1,
   "nav_menu": {},
   "number_sections": true,
   "sideBar": true,
   "skip_h1_title": false,
   "title_cell": "Table of Contents",
   "title_sidebar": "Contents",
   "toc_cell": false,
   "toc_position": {},
   "toc_section_display": true,
   "toc_window_display": false
  },
  "varInspector": {
   "cols": {
    "lenName": 16,
    "lenType": 16,
    "lenVar": 40
   },
   "kernels_config": {
    "python": {
     "delete_cmd_postfix": "",
     "delete_cmd_prefix": "del ",
     "library": "var_list.py",
     "varRefreshCmd": "print(var_dic_list())"
    },
    "r": {
     "delete_cmd_postfix": ") ",
     "delete_cmd_prefix": "rm(",
     "library": "var_list.r",
     "varRefreshCmd": "cat(var_dic_list()) "
    }
   },
   "types_to_exclude": [
    "module",
    "function",
    "builtin_function_or_method",
    "instance",
    "_Feature"
   ],
   "window_display": false
  }
 },
 "nbformat": 4,
 "nbformat_minor": 2
}
