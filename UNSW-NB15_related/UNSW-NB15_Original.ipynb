{
 "cells": [
  {
   "cell_type": "code",
   "execution_count": 1,
   "metadata": {
    "ExecuteTime": {
     "end_time": "2020-07-24T07:32:36.276567Z",
     "start_time": "2020-07-24T07:32:32.184013Z"
    }
   },
   "outputs": [
    {
     "name": "stdout",
     "output_type": "stream",
     "text": [
      "1.13.1\n"
     ]
    }
   ],
   "source": [
    "import os\n",
    "import tensorflow as tf\n",
    "os.environ['TF_CPP_MIN_LOG_LEVEL'] = '2'  #忽略烦人的警告\n",
    "tf.logging.set_verbosity(tf.logging.ERROR)   #忽略烦人的警告\n",
    "print(tf.__version__)\n",
    "import numpy as np\n",
    "from sklearn.decomposition import PCA\n",
    "\n",
    "import pandas as pd\n",
    "from collections import Counter\n",
    "from sklearn.model_selection import train_test_split\n",
    "import pickle   #对象存储用\n",
    "\n",
    "\n",
    "from sklearn.feature_selection import RFECV\n",
    "from sklearn.ensemble import RandomForestClassifier\n",
    "from sklearn.model_selection import KFold\n",
    "from sklearn.model_selection import StratifiedKFold\n",
    "rfr = RandomForestClassifier(n_estimators=200, criterion='entropy')\n",
    "\n",
    "dataroot_1 = \"./UNSW-NB15 - CSV Files/a part of training and testing set/UNSW_NB15_training-set.csv\"\n",
    "dataroot_2 = \"./UNSW-NB15 - CSV Files/a part of training and testing set/UNSW_NB15_testing-set.csv\""
   ]
  },
  {
   "cell_type": "code",
   "execution_count": 2,
   "metadata": {
    "ExecuteTime": {
     "end_time": "2020-07-24T07:32:38.343294Z",
     "start_time": "2020-07-24T07:32:36.279419Z"
    }
   },
   "outputs": [],
   "source": [
    "df_train_1 = pd.read_csv(dataroot_1,header=0,low_memory=False)  \n",
    "df_train_2 = pd.read_csv(dataroot_2,header=0,low_memory=False)  \n",
    "dataset = df_train_1.append([df_train_2])"
   ]
  },
  {
   "cell_type": "code",
   "execution_count": 3,
   "metadata": {
    "ExecuteTime": {
     "end_time": "2020-07-24T07:32:38.905826Z",
     "start_time": "2020-07-24T07:32:38.346644Z"
    }
   },
   "outputs": [
    {
     "name": "stdout",
     "output_type": "stream",
     "text": [
      "(257673, 45)\n",
      "Index(['id', 'dur', 'proto', 'service', 'state', 'spkts', 'dpkts', 'sbytes',\n",
      "       'dbytes', 'rate', 'sttl', 'dttl', 'sload', 'dload', 'sloss', 'dloss',\n",
      "       'sinpkt', 'dinpkt', 'sjit', 'djit', 'swin', 'stcpb', 'dtcpb', 'dwin',\n",
      "       'tcprtt', 'synack', 'ackdat', 'smean', 'dmean', 'trans_depth',\n",
      "       'response_body_len', 'ct_srv_src', 'ct_state_ttl', 'ct_dst_ltm',\n",
      "       'ct_src_dport_ltm', 'ct_dst_sport_ltm', 'ct_dst_src_ltm',\n",
      "       'is_ftp_login', 'ct_ftp_cmd', 'ct_flw_http_mthd', 'ct_src_ltm',\n",
      "       'ct_srv_dst', 'is_sm_ips_ports', 'attack_cat', 'label'],\n",
      "      dtype='object')\n",
      "[1 1.1e-05 'udp' '-' 'INT' 2 0 496 0 90909.0902 254 0 180363632.0 0.0 0 0\n",
      " 0.011000000000000001 0.0 0.0 0.0 0 0 0 0 0.0 0.0 0.0 248 0 0 0 2 2 1 1 1\n",
      " 2 0 0 0 1 2 0 'Normal' 0]\n",
      "Normal            93000\n",
      "Generic           58871\n",
      "Exploits          44525\n",
      "Fuzzers           24246\n",
      "DoS               16353\n",
      "Reconnaissance    13987\n",
      "Analysis           2677\n",
      "Backdoor           2329\n",
      "Shellcode          1511\n",
      "Worms               174\n",
      "Name: attack_cat, dtype: int64\n"
     ]
    }
   ],
   "source": [
    "print(dataset.shape)\n",
    "print(dataset.columns)\n",
    "print(dataset.values[0])\n",
    "print(dataset.loc[:,'attack_cat'].value_counts())"
   ]
  },
  {
   "cell_type": "code",
   "execution_count": 4,
   "metadata": {
    "ExecuteTime": {
     "end_time": "2020-07-24T07:32:38.946957Z",
     "start_time": "2020-07-24T07:32:38.909130Z"
    }
   },
   "outputs": [],
   "source": [
    "def filter_useless_feature(dataset):\n",
    "    dataset = dataset.drop(['label'], axis=1)    #两个特征没用\n",
    "    dataset = dataset.drop(['id'], axis=1)\n",
    "    return dataset\n",
    "\n",
    "def filter_labels(dataset):\n",
    "    dataset['attack_cat'] = dataset['attack_cat'].apply(labels_map)\n",
    "    return dataset\n",
    "\n",
    "def labels_map(label):\n",
    "    if(type(label) == int):      #已是数字，无需处理\n",
    "        return label\n",
    "    \n",
    "    if label == 'Normal':\n",
    "        return 0\n",
    "    if label == 'Fuzzers':\n",
    "        return 1\n",
    "    if label == 'Analysis':\n",
    "        return 2\n",
    "    if label == 'Backdoor':\n",
    "        return 3\n",
    "    if label == 'DoS':\n",
    "        return 4\n",
    "    if label == 'Exploits':\n",
    "        return 5\n",
    "    if label == 'Generic':\n",
    "        return 6\n",
    "    if label == 'Reconnaissance':\n",
    "        return 7\n",
    "    if label == 'Shellcode':\n",
    "        return 8\n",
    "    if label == 'Worms':\n",
    "        return 9\n",
    "    return -1\n",
    "\n",
    "def split_valid_from_train(train_dataset, valid_size):\n",
    "    # Method 1\n",
    "    train_dataset, valid_dataset, _, _ = train_test_split(train_dataset, train_dataset['attack_cat'], test_size=valid_size, random_state=None)\n",
    "    # pandas中先重置index再打乱train. 否则只会调整各个行的顺序，而不会改变pandas的index\n",
    "    # 重置\n",
    "    train_dataset = train_dataset.reset_index(drop=True)\n",
    "    # 打乱\n",
    "    indexMask = np.arange(len(train_dataset))\n",
    "    for i in range(10):\n",
    "        np.random.shuffle(indexMask)\n",
    "    train_dataset = train_dataset.iloc[indexMask]\n",
    "\n",
    "    return train_dataset, valid_dataset\n",
    "\n",
    "def labels_separate(dataset):\n",
    "    y_ = dataset['attack_cat'].values\n",
    "    temp = dataset\n",
    "    temp.drop('attack_cat', axis=1, inplace=True)\n",
    "    x_ = temp.values\n",
    "    return x_, y_\n",
    "\n",
    "def one_hot_process(dataset):\n",
    "    # 独热编码 state\n",
    "    state_dummies = pd.get_dummies(dataset['state'], prefix='state')\n",
    "    dataset = pd.concat([dataset, state_dummies], axis=1)\n",
    "    dataset = dataset.drop(['state'], axis=1)\n",
    "    # 独热编码 proto\n",
    "    proto_dummies = pd.get_dummies(dataset['proto'], prefix='proto')\n",
    "    dataset = pd.concat([dataset, proto_dummies], axis=1)\n",
    "    dataset = dataset.drop(['proto'], axis=1)\n",
    "    # 独热编码 service     \n",
    "    service_dummies = pd.get_dummies(dataset['service'], prefix='service')\n",
    "    dataset = pd.concat([dataset, service_dummies], axis=1)\n",
    "    dataset = dataset.drop(['service'], axis=1)\n",
    "    return dataset\n",
    "#归一化整个数据集，注意要存储归一化的参数x_avg,x_max,x_min以便后面真实环境预处理需要\n",
    "def normalization(dataset):\n",
    "    epsilon = 0.0001   #防止除数为0\n",
    "    dataset = dataset.astype('float')\n",
    "    target_features = ['dur','spkts', 'dpkts', 'sbytes',\n",
    "       'dbytes', 'rate', 'sttl', 'dttl', 'sload', 'dload', 'sloss', 'dloss',\n",
    "       'sinpkt', 'dinpkt', 'sjit', 'djit', 'swin', 'stcpb', 'dtcpb', 'dwin',\n",
    "       'tcprtt', 'synack', 'ackdat', 'smean', 'dmean', 'trans_depth',\n",
    "       'response_body_len', 'ct_srv_src', 'ct_state_ttl', 'ct_dst_ltm',\n",
    "       'ct_src_dport_ltm', 'ct_dst_sport_ltm', 'ct_dst_src_ltm',\n",
    "       'ct_ftp_cmd', 'ct_flw_http_mthd', 'ct_src_ltm',\n",
    "       'ct_srv_dst'\n",
    "    ]\n",
    "    norm_params = pd.DataFrame(np.zeros([3, len(target_features)]), columns=target_features)  #存储归一化参数\n",
    "    \n",
    "    for feature in dataset.columns.values.tolist():    #对列（特征名）进行遍历\n",
    "        if feature in target_features:\n",
    "            x = dataset[feature]\n",
    "            x_avg = dataset[feature].mean()\n",
    "            x_max = np.max(dataset[feature])\n",
    "            x_min = np.min(dataset[feature])\n",
    "\n",
    "            norm_params[feature] = [x_avg, x_max, x_min]\n",
    "            dataset[feature] = (x - x_min) / (x_max - x_min + epsilon)\n",
    "    return dataset,norm_params\n",
    "    \n",
    "def combine_dataset(trainDF, testDF):\n",
    "    all = pd.concat([trainDF, testDF], axis=0)\n",
    "    return all, (trainDF.shape[0], testDF.shape[0])\n",
    "\n",
    "def separate_dataset(comb, num_comb):  \n",
    "    train_dataset_size , test_dataset_size = num_comb\n",
    "    trainDF = comb.iloc[:train_dataset_size]\n",
    "    testDF = comb.iloc[train_dataset_size: (train_dataset_size + test_dataset_size)]\n",
    "    return trainDF, testDF\n",
    "\n",
    "   \n",
    "def data_process_full(trainDF, testDF):\n",
    "    all, num_comb = combine_dataset(trainDF, testDF)\n",
    "    all = one_hot_process(all)\n",
    "    all,norm_params = normalization(all)\n",
    "    trainDF,testDF = separate_dataset(all, num_comb)\n",
    "    return trainDF,testDF,norm_params"
   ]
  },
  {
   "cell_type": "code",
   "execution_count": 5,
   "metadata": {
    "ExecuteTime": {
     "end_time": "2020-07-24T07:32:39.210433Z",
     "start_time": "2020-07-24T07:32:38.950886Z"
    }
   },
   "outputs": [],
   "source": [
    "dataset = filter_useless_feature(dataset)\n",
    "dataset = filter_labels(dataset)"
   ]
  },
  {
   "cell_type": "code",
   "execution_count": 6,
   "metadata": {
    "ExecuteTime": {
     "end_time": "2020-07-24T07:32:39.664399Z",
     "start_time": "2020-07-24T07:32:39.213073Z"
    }
   },
   "outputs": [],
   "source": [
    "normal_df = dataset.loc[dataset['attack_cat'] == 0]\n",
    "normal_df = normal_df.sample(n=90000,random_state=1, replace=False)\n",
    "df_normal_train, df_normal_test = split_valid_from_train(normal_df, 0.2)\n",
    "\n",
    "Fuzzers_df = dataset.loc[dataset['attack_cat'] == 1]\n",
    "Fuzzers_df = Fuzzers_df.sample(n=24000,random_state=1, replace=False)\n",
    "df_Fuzzers_train, df_Fuzzers_test = split_valid_from_train(Fuzzers_df, 0.2)\n",
    "\n",
    "Analysis_df = dataset.loc[dataset['attack_cat'] == 2]\n",
    "Analysis_df = Analysis_df.sample(n=2400,random_state=1, replace=False)\n",
    "df_Analysis_train, df_Analysis_test = split_valid_from_train(Analysis_df, 0.2)\n",
    "\n",
    "Backdoor_df = dataset.loc[dataset['attack_cat'] == 3]\n",
    "Backdoor_df = Backdoor_df.sample(n=2000,random_state=1, replace=False)\n",
    "df_Backdoor_train, df_Backdoor_test = split_valid_from_train(Backdoor_df, 0.2)\n",
    "\n",
    "DoS_df = dataset.loc[dataset['attack_cat'] == 4]\n",
    "DoS_df = DoS_df.sample(n=16000,random_state=1, replace=False)\n",
    "df_DoS_train, df_DoS_test = split_valid_from_train(DoS_df, 0.2)\n",
    "\n",
    "Exploits_df = dataset.loc[dataset['attack_cat'] == 5]\n",
    "Exploits_df = Exploits_df.sample(n=40000,random_state=1, replace=False)\n",
    "df_Exploits_train, df_Exploits_test = split_valid_from_train(Exploits_df, 0.2)\n",
    "\n",
    "Generic_df = dataset.loc[dataset['attack_cat'] == 6]\n",
    "Generic_df = Generic_df.sample(n=50000,random_state=1, replace=False)\n",
    "df_Generic_train, df_Generic_test = split_valid_from_train(Generic_df, 0.2)\n",
    "\n",
    "Reconnaissance_df = dataset.loc[dataset['attack_cat'] == 7]\n",
    "Reconnaissance_df = Reconnaissance_df.sample(n=10000,random_state=1, replace=False)\n",
    "df_Reconnaissance_train, df_Reconnaissance_test = split_valid_from_train(Reconnaissance_df, 0.2)\n",
    "\n",
    "Shellcode_df = dataset.loc[dataset['attack_cat'] == 8]\n",
    "Shellcode_df = Shellcode_df.sample(n=1500,random_state=1, replace=False)\n",
    "df_Shellcode_train, df_Shellcode_test = split_valid_from_train(Shellcode_df, 0.2)\n",
    "\n",
    "Worms_df = dataset.loc[dataset['attack_cat'] == 9]\n",
    "Worms_df = Worms_df.sample(n=174,random_state=1, replace=False)\n",
    "df_Worms_train, df_Worms_test = split_valid_from_train(Worms_df, 0.2)\n"
   ]
  },
  {
   "cell_type": "code",
   "execution_count": 7,
   "metadata": {
    "ExecuteTime": {
     "end_time": "2020-07-24T07:32:39.785159Z",
     "start_time": "2020-07-24T07:32:39.673870Z"
    }
   },
   "outputs": [],
   "source": [
    "#整合\n",
    "df_train = df_normal_train.append([df_Fuzzers_train, df_Analysis_train, df_Backdoor_train, df_DoS_train, df_Exploits_train, df_Generic_train, df_Reconnaissance_train, df_Shellcode_train, df_Worms_train])\n",
    "df_test = df_normal_test.append([df_Fuzzers_test, df_Analysis_test, df_Backdoor_test, df_DoS_test, df_Exploits_test, df_Generic_test, df_Reconnaissance_test, df_Shellcode_test, df_Worms_test])\n"
   ]
  },
  {
   "cell_type": "code",
   "execution_count": 8,
   "metadata": {
    "ExecuteTime": {
     "end_time": "2020-07-24T07:32:47.358409Z",
     "start_time": "2020-07-24T07:32:39.790607Z"
    }
   },
   "outputs": [],
   "source": [
    "#独热编码和正则化\n",
    "df_train, df_test, norm_params = data_process_full(\n",
    "    df_train, df_test\n",
    ")"
   ]
  },
  {
   "cell_type": "code",
   "execution_count": 9,
   "metadata": {
    "ExecuteTime": {
     "end_time": "2020-07-24T07:32:47.464001Z",
     "start_time": "2020-07-24T07:32:47.409916Z"
    }
   },
   "outputs": [
    {
     "name": "stdout",
     "output_type": "stream",
     "text": [
      "(188859, 197)\n",
      "0.0    72000\n",
      "6.0    40000\n",
      "5.0    32000\n",
      "1.0    19200\n",
      "4.0    12800\n",
      "7.0     8000\n",
      "2.0     1920\n",
      "3.0     1600\n",
      "8.0     1200\n",
      "9.0      139\n",
      "Name: attack_cat, dtype: int64\n"
     ]
    }
   ],
   "source": [
    "print(df_train.shape)\n",
    "print(df_train.loc[:,'attack_cat'].value_counts())"
   ]
  },
  {
   "cell_type": "code",
   "execution_count": 10,
   "metadata": {
    "ExecuteTime": {
     "end_time": "2020-07-24T07:32:48.065652Z",
     "start_time": "2020-07-24T07:32:47.466701Z"
    }
   },
   "outputs": [],
   "source": [
    "#分离标签\n",
    "df_train_X, df_train_y = labels_separate(df_train)\n",
    "df_test_X, df_test_y = labels_separate(df_test)"
   ]
  },
  {
   "cell_type": "code",
   "execution_count": 11,
   "metadata": {
    "ExecuteTime": {
     "end_time": "2020-07-24T07:32:48.140317Z",
     "start_time": "2020-07-24T07:32:48.068653Z"
    }
   },
   "outputs": [],
   "source": [
    "df_train_y = df_train_y.astype('int')\n",
    "df_test_y = df_test_y.astype('int')"
   ]
  },
  {
   "cell_type": "code",
   "execution_count": 12,
   "metadata": {
    "ExecuteTime": {
     "end_time": "2020-07-24T07:32:48.201403Z",
     "start_time": "2020-07-24T07:32:48.143559Z"
    }
   },
   "outputs": [],
   "source": [
    "import tensorflow as tf\n",
    "from tensorflow import keras\n",
    "from sklearn.metrics import f1_score, precision_score, recall_score\n",
    "from sklearn.metrics import classification_report\n",
    "from tensorflow.keras.layers import BatchNormalization\n",
    "#超参数设置\n",
    "learning_rate = 0.001\n",
    "epochs = 30\n",
    "batch_size = 256\n",
    "activation = tf.nn.relu         #非输出层下的激活函数"
   ]
  },
  {
   "cell_type": "code",
   "execution_count": 13,
   "metadata": {
    "ExecuteTime": {
     "end_time": "2020-07-24T07:39:50.070708Z",
     "start_time": "2020-07-24T07:32:48.204541Z"
    }
   },
   "outputs": [
    {
     "name": "stdout",
     "output_type": "stream",
     "text": [
      "_________________________________________________________________\n",
      "Layer (type)                 Output Shape              Param #   \n",
      "=================================================================\n",
      "dense (Dense)                (None, 196)               38612     \n",
      "_________________________________________________________________\n",
      "batch_normalization_v1 (Batc (None, 196)               784       \n",
      "_________________________________________________________________\n",
      "dense_1 (Dense)              (None, 128)               25216     \n",
      "_________________________________________________________________\n",
      "batch_normalization_v1_1 (Ba (None, 128)               512       \n",
      "_________________________________________________________________\n",
      "dense_2 (Dense)              (None, 64)                8256      \n",
      "_________________________________________________________________\n",
      "batch_normalization_v1_2 (Ba (None, 64)                256       \n",
      "_________________________________________________________________\n",
      "dense_3 (Dense)              (None, 10)                650       \n",
      "=================================================================\n",
      "Total params: 74,286\n",
      "Trainable params: 73,510\n",
      "Non-trainable params: 776\n",
      "_________________________________________________________________\n",
      "Train on 188859 samples, validate on 47215 samples\n",
      "Epoch 1/30\n",
      "188160/188859 [============================>.] - ETA: 0s - loss: 0.6186 - acc: 0.7526"
     ]
    },
    {
     "name": "stderr",
     "output_type": "stream",
     "text": [
      "/opt/conda/lib/python3.7/site-packages/sklearn/metrics/classification.py:1143: UndefinedMetricWarning: Precision is ill-defined and being set to 0.0 in labels with no predicted samples.\n",
      "  'precision', 'predicted', average, warn_for)\n",
      "/opt/conda/lib/python3.7/site-packages/sklearn/metrics/classification.py:1143: UndefinedMetricWarning: F-score is ill-defined and being set to 0.0 in labels with no predicted samples.\n",
      "  'precision', 'predicted', average, warn_for)\n"
     ]
    },
    {
     "name": "stdout",
     "output_type": "stream",
     "text": [
      "\n",
      "Epoch 00001: val_loss improved from inf to 0.55887, saving model to ./UNSW-NB15_model.h5\n",
      "188859/188859 [==============================] - 14s 75us/sample - loss: 0.6185 - acc: 0.7526 - val_loss: 0.5589 - val_acc: 0.7688\n",
      "Epoch 2/30\n",
      "188416/188859 [============================>.] - ETA: 0s - loss: 0.5448 - acc: 0.7776\n",
      "Epoch 00002: val_loss improved from 0.55887 to 0.53580, saving model to ./UNSW-NB15_model.h5\n",
      "188859/188859 [==============================] - 13s 71us/sample - loss: 0.5447 - acc: 0.7777 - val_loss: 0.5358 - val_acc: 0.7805\n",
      "Epoch 3/30\n",
      "188160/188859 [============================>.] - ETA: 0s - loss: 0.5260 - acc: 0.7855\n",
      "Epoch 00003: val_loss improved from 0.53580 to 0.53111, saving model to ./UNSW-NB15_model.h5\n",
      "188859/188859 [==============================] - 15s 77us/sample - loss: 0.5261 - acc: 0.7854 - val_loss: 0.5311 - val_acc: 0.7765\n",
      "Epoch 4/30\n",
      "187904/188859 [============================>.] - ETA: 0s - loss: 0.5108 - acc: 0.7915\n",
      "Epoch 00004: val_loss did not improve from 0.53111\n",
      "188859/188859 [==============================] - 13s 70us/sample - loss: 0.5108 - acc: 0.7915 - val_loss: 0.5328 - val_acc: 0.7843\n",
      "Epoch 5/30\n",
      "188672/188859 [============================>.] - ETA: 0s - loss: 0.5003 - acc: 0.7949\n",
      "Epoch 00005: val_loss improved from 0.53111 to 0.49858, saving model to ./UNSW-NB15_model.h5\n",
      "188859/188859 [==============================] - 13s 70us/sample - loss: 0.5004 - acc: 0.7948 - val_loss: 0.4986 - val_acc: 0.7966\n",
      "Epoch 6/30\n",
      "188416/188859 [============================>.] - ETA: 0s - loss: 0.4927 - acc: 0.7970\n",
      "Epoch 00006: val_loss did not improve from 0.49858\n",
      "188859/188859 [==============================] - 13s 68us/sample - loss: 0.4927 - acc: 0.7971 - val_loss: 0.5112 - val_acc: 0.7933\n",
      "Epoch 7/30\n",
      "188160/188859 [============================>.] - ETA: 0s - loss: 0.4856 - acc: 0.7995\n",
      "Epoch 00007: val_loss improved from 0.49858 to 0.49634, saving model to ./UNSW-NB15_model.h5\n",
      "188859/188859 [==============================] - 14s 72us/sample - loss: 0.4855 - acc: 0.7995 - val_loss: 0.4963 - val_acc: 0.7990\n",
      "Epoch 8/30\n",
      "188416/188859 [============================>.] - ETA: 0s - loss: 0.4799 - acc: 0.8019\n",
      "Epoch 00008: val_loss improved from 0.49634 to 0.48587, saving model to ./UNSW-NB15_model.h5\n",
      "188859/188859 [==============================] - 14s 73us/sample - loss: 0.4799 - acc: 0.8019 - val_loss: 0.4859 - val_acc: 0.8006\n",
      "Epoch 9/30\n",
      "188416/188859 [============================>.] - ETA: 0s - loss: 0.4724 - acc: 0.8042\n",
      "Epoch 00009: val_loss improved from 0.48587 to 0.48485, saving model to ./UNSW-NB15_model.h5\n",
      "188859/188859 [==============================] - 14s 72us/sample - loss: 0.4725 - acc: 0.8042 - val_loss: 0.4848 - val_acc: 0.7992\n",
      "Epoch 10/30\n",
      "187904/188859 [============================>.] - ETA: 0s - loss: 0.4687 - acc: 0.8053\n",
      "Epoch 00010: val_loss improved from 0.48485 to 0.48309, saving model to ./UNSW-NB15_model.h5\n",
      "188859/188859 [==============================] - 14s 74us/sample - loss: 0.4688 - acc: 0.8053 - val_loss: 0.4831 - val_acc: 0.7954\n",
      "Epoch 11/30\n",
      "188416/188859 [============================>.] - ETA: 0s - loss: 0.4645 - acc: 0.8061\n",
      "Epoch 00011: val_loss improved from 0.48309 to 0.47684, saving model to ./UNSW-NB15_model.h5\n",
      "188859/188859 [==============================] - 14s 75us/sample - loss: 0.4644 - acc: 0.8062 - val_loss: 0.4768 - val_acc: 0.8068\n",
      "Epoch 12/30\n",
      "188416/188859 [============================>.] - ETA: 0s - loss: 0.4604 - acc: 0.8076\n",
      "Epoch 00012: val_loss did not improve from 0.47684\n",
      "188859/188859 [==============================] - 15s 79us/sample - loss: 0.4605 - acc: 0.8076 - val_loss: 0.4864 - val_acc: 0.7976\n",
      "Epoch 13/30\n",
      "188672/188859 [============================>.] - ETA: 0s - loss: 0.4585 - acc: 0.8085\n",
      "Epoch 00013: val_loss did not improve from 0.47684\n",
      "188859/188859 [==============================] - 13s 71us/sample - loss: 0.4585 - acc: 0.8085 - val_loss: 0.5261 - val_acc: 0.7838\n",
      "Epoch 14/30\n",
      "188160/188859 [============================>.] - ETA: 0s - loss: 0.4572 - acc: 0.8090\n",
      "Epoch 00014: val_loss did not improve from 0.47684\n",
      "188859/188859 [==============================] - 13s 70us/sample - loss: 0.4570 - acc: 0.8092 - val_loss: 0.4850 - val_acc: 0.8007\n",
      "Epoch 15/30\n",
      "188672/188859 [============================>.] - ETA: 0s - loss: 0.4536 - acc: 0.8106\n",
      "Epoch 00015: val_loss did not improve from 0.47684\n",
      "188859/188859 [==============================] - 13s 70us/sample - loss: 0.4535 - acc: 0.8106 - val_loss: 0.5657 - val_acc: 0.7851\n",
      "Epoch 16/30\n",
      "188672/188859 [============================>.] - ETA: 0s - loss: 0.4505 - acc: 0.8115\n",
      "Epoch 00016: val_loss did not improve from 0.47684\n",
      "188859/188859 [==============================] - 14s 73us/sample - loss: 0.4506 - acc: 0.8115 - val_loss: 0.5270 - val_acc: 0.7868\n",
      "Epoch 17/30\n",
      "188416/188859 [============================>.] - ETA: 0s - loss: 0.4482 - acc: 0.8127\n",
      "Epoch 00017: val_loss improved from 0.47684 to 0.46490, saving model to ./UNSW-NB15_model.h5\n",
      "188859/188859 [==============================] - 14s 76us/sample - loss: 0.4482 - acc: 0.8127 - val_loss: 0.4649 - val_acc: 0.8068\n",
      "Epoch 18/30\n",
      "188160/188859 [============================>.] - ETA: 0s - loss: 0.4466 - acc: 0.8132\n",
      "Epoch 00018: val_loss did not improve from 0.46490\n",
      "188859/188859 [==============================] - 13s 70us/sample - loss: 0.4466 - acc: 0.8132 - val_loss: 0.8413 - val_acc: 0.7651\n",
      "Epoch 19/30\n",
      "187904/188859 [============================>.] - ETA: 0s - loss: 0.4436 - acc: 0.8139\n",
      "Epoch 00019: val_loss improved from 0.46490 to 0.45927, saving model to ./UNSW-NB15_model.h5\n",
      "188859/188859 [==============================] - 14s 73us/sample - loss: 0.4435 - acc: 0.8140 - val_loss: 0.4593 - val_acc: 0.8079\n",
      "Epoch 20/30\n",
      "188160/188859 [============================>.] - ETA: 0s - loss: 0.4426 - acc: 0.8143\n",
      "Epoch 00020: val_loss did not improve from 0.45927\n",
      "188859/188859 [==============================] - 14s 75us/sample - loss: 0.4427 - acc: 0.8143 - val_loss: 0.4996 - val_acc: 0.7962\n",
      "Epoch 21/30\n",
      "187904/188859 [============================>.] - ETA: 0s - loss: 0.4412 - acc: 0.8149\n",
      "Epoch 00021: val_loss did not improve from 0.45927\n",
      "188859/188859 [==============================] - 14s 75us/sample - loss: 0.4411 - acc: 0.8149 - val_loss: 0.5064 - val_acc: 0.7949\n",
      "Epoch 22/30\n",
      "188416/188859 [============================>.] - ETA: 0s - loss: 0.4432 - acc: 0.8145\n",
      "Epoch 00022: val_loss did not improve from 0.45927\n",
      "188859/188859 [==============================] - 15s 80us/sample - loss: 0.4434 - acc: 0.8144 - val_loss: 0.4783 - val_acc: 0.8029\n",
      "Epoch 23/30\n",
      "188416/188859 [============================>.] - ETA: 0s - loss: 0.4400 - acc: 0.8151\n",
      "Epoch 00023: val_loss improved from 0.45927 to 0.45016, saving model to ./UNSW-NB15_model.h5\n",
      "188859/188859 [==============================] - 15s 78us/sample - loss: 0.4400 - acc: 0.8151 - val_loss: 0.4502 - val_acc: 0.8085\n",
      "Epoch 24/30\n",
      "187904/188859 [============================>.] - ETA: 0s - loss: 0.4376 - acc: 0.8170\n",
      "Epoch 00024: val_loss did not improve from 0.45016\n",
      "188859/188859 [==============================] - 14s 73us/sample - loss: 0.4376 - acc: 0.8169 - val_loss: 0.4743 - val_acc: 0.8013\n",
      "Epoch 25/30\n",
      "187904/188859 [============================>.] - ETA: 0s - loss: 0.4355 - acc: 0.8167\n",
      "Epoch 00025: val_loss did not improve from 0.45016\n",
      "188859/188859 [==============================] - 13s 71us/sample - loss: 0.4354 - acc: 0.8167 - val_loss: 0.4533 - val_acc: 0.8093\n",
      "Epoch 26/30\n",
      "188672/188859 [============================>.] - ETA: 0s - loss: 0.4341 - acc: 0.8172\n",
      "Epoch 00026: val_loss did not improve from 0.45016\n",
      "188859/188859 [==============================] - 13s 70us/sample - loss: 0.4341 - acc: 0.8173 - val_loss: 0.5191 - val_acc: 0.7926\n",
      "Epoch 27/30\n",
      "187904/188859 [============================>.] - ETA: 0s - loss: 0.4330 - acc: 0.8176\n",
      "Epoch 00027: val_loss did not improve from 0.45016\n",
      "188859/188859 [==============================] - 14s 76us/sample - loss: 0.4331 - acc: 0.8176 - val_loss: 0.4504 - val_acc: 0.8121\n",
      "Epoch 28/30\n",
      "188416/188859 [============================>.] - ETA: 0s - loss: 0.4317 - acc: 0.8190\n",
      "Epoch 00028: val_loss did not improve from 0.45016\n",
      "188859/188859 [==============================] - 15s 78us/sample - loss: 0.4318 - acc: 0.8190 - val_loss: 0.4504 - val_acc: 0.8138\n"
     ]
    },
    {
     "name": "stdout",
     "output_type": "stream",
     "text": [
      "Epoch 29/30\n",
      "188416/188859 [============================>.] - ETA: 0s - loss: 0.4313 - acc: 0.8187\n",
      "Epoch 00029: val_loss did not improve from 0.45016\n",
      "188859/188859 [==============================] - 15s 79us/sample - loss: 0.4313 - acc: 0.8187 - val_loss: 0.4587 - val_acc: 0.8090\n",
      "Epoch 30/30\n",
      "188416/188859 [============================>.] - ETA: 0s - loss: 0.4298 - acc: 0.8191\n",
      "Epoch 00030: val_loss did not improve from 0.45016\n",
      "188859/188859 [==============================] - 16s 85us/sample - loss: 0.4298 - acc: 0.8191 - val_loss: 0.4911 - val_acc: 0.8000\n"
     ]
    }
   ],
   "source": [
    "#用于记录训练中每个batch的loss\n",
    "class LossHistory(keras.callbacks.Callback):\n",
    "    def on_train_begin(self, logs={}):\n",
    "        self.train_losses_per_batch = []\n",
    "        self.train_losses_per_epoch = []\n",
    "        self.valid_losses_per_epoch = []\n",
    "        \n",
    "    def on_batch_end(self, batch, logs={}):\n",
    "        self.train_losses_per_batch.append(logs.get('loss'))\n",
    "        \n",
    "    def on_epoch_end(self, epoch, logs={}):\n",
    "        self.train_losses_per_epoch.append(logs.get('loss'))\n",
    "        self.valid_losses_per_epoch.append(logs.get('val_loss')*4)   #验证集由于只有1/4的训练集大小所以损失要乘以4\n",
    "#用于记录训练中每个epoch的召回率，精确度以及f1 score\n",
    "class Metrics(keras.callbacks.Callback):\n",
    "    def on_train_begin(self, logs={}):\n",
    "        self.val_f1s = []\n",
    "        self.val_recalls = []\n",
    "        self.val_precisions = []\n",
    "        return\n",
    "\n",
    "    def on_epoch_end(self, epoch, logs={}):\n",
    "        predictions = self.model.predict(df_test_X)\n",
    "        val_predict = np.argmax(predictions, axis=1)     #把独热编码转化成数字\n",
    "        val_targ = df_test_y\n",
    "        _val_recall = recall_score(val_targ, val_predict, average='macro')\n",
    "        _val_precision = precision_score(val_targ, val_predict, average='macro')\n",
    "        _val_f1 = f1_score(val_targ, val_predict, average='macro')\n",
    "        self.val_f1s.append(_val_f1)\n",
    "        self.val_recalls.append(_val_recall)\n",
    "        self.val_precisions.append(_val_precision)\n",
    "        return       \n",
    "#回调：模型跑完epoch后选取最好的epoch模型保存，选取标准为验证集损失最小的那一个\n",
    "checkpoint = keras.callbacks.ModelCheckpoint(      \n",
    "    \"./UNSW-NB15_model.h5\",\n",
    "    monitor='val_loss',\n",
    "    verbose=1,\n",
    "    save_best_only=True,\n",
    "    mode='min',\n",
    "    period=1\n",
    ")\n",
    "def simple_model():\n",
    "    model = keras.Sequential([\n",
    "        keras.layers.Dense(df_train_X.shape[1], activation=activation, input_shape=(df_train_X.shape[1],)),\n",
    "        BatchNormalization(),\n",
    "        keras.layers.Dense(128, activation=activation),\n",
    "        BatchNormalization(),\n",
    "        keras.layers.Dense(64, activation=activation),\n",
    "        BatchNormalization(),        \n",
    "        keras.layers.Dense(10,activation=tf.nn.softmax)\n",
    "    ])\n",
    "    model.compile(optimizer =tf.train.AdamOptimizer(learning_rate=learning_rate),\n",
    "        loss=\"sparse_categorical_crossentropy\",\n",
    "        metrics=['accuracy']\n",
    "    )\n",
    "    model.summary()\n",
    "    history = LossHistory()\n",
    "    metrics = Metrics()\n",
    "    model.fit(\n",
    "        df_train_X,df_train_y,\n",
    "        validation_data=[df_test_X, df_test_y],\n",
    "        batch_size=batch_size,epochs=epochs,\n",
    "        callbacks=[history, metrics, checkpoint]\n",
    "    )   \n",
    "    return model,history,metrics\n",
    "model,history,metrics = simple_model()"
   ]
  },
  {
   "cell_type": "code",
   "execution_count": 16,
   "metadata": {
    "ExecuteTime": {
     "end_time": "2020-07-24T07:42:36.815367Z",
     "start_time": "2020-07-24T07:42:35.961072Z"
    }
   },
   "outputs": [
    {
     "data": {
      "image/png": "[encoded data removed]",
      "text/plain": [
       "<Figure size 1080x288 with 1 Axes>"
      ]
     },
     "metadata": {
      "needs_background": "light"
     },
     "output_type": "display_data"
    },
    {
     "data": {
      "image/png": "[encoded data removed]",
      "text/plain": [
       "<Figure size 1080x288 with 1 Axes>"
      ]
     },
     "metadata": {
      "needs_background": "light"
     },
     "output_type": "display_data"
    }
   ],
   "source": [
    "\n",
    "import matplotlib.pyplot as plt\n",
    "import matplotlib\n",
    "#绘制训练集在batch下的损失变化\n",
    "plt.title('The Cost with batchs runs',fontsize=30)\n",
    "plt.xlabel('batchs',fontsize=20)\n",
    "plt.ylabel('Cost',fontsize=20)\n",
    "plt.xticks(fontsize=20)\n",
    "plt.yticks(fontsize=20)\n",
    "plt.plot(history.train_losses_per_batch)\n",
    "plt.gcf().set_size_inches(15,4)\n",
    "plt.show()\n",
    "#绘制训练集与验证集在epoch下的损失比较\n",
    "plt.title('The Cost with epoches runs',fontsize=30)\n",
    "plt.xlabel('epoch',fontsize=20)\n",
    "plt.ylabel('Cost',fontsize=20)\n",
    "plt.xticks(fontsize=20)\n",
    "plt.yticks(fontsize=20)\n",
    "plt.plot(history.train_losses_per_epoch, '-o', label='train')\n",
    "plt.plot(history.valid_losses_per_epoch, '-o', label='valid')\n",
    "plt.legend(fontsize=30,loc='upper right')\n",
    "plt.gcf().set_size_inches(15,4)\n",
    "plt.show()"
   ]
  },
  {
   "cell_type": "code",
   "execution_count": 17,
   "metadata": {
    "ExecuteTime": {
     "end_time": "2020-07-24T07:42:46.585898Z",
     "start_time": "2020-07-24T07:42:41.416664Z"
    }
   },
   "outputs": [
    {
     "name": "stdout",
     "output_type": "stream",
     "text": [
      "47215/47215 [==============================] - 4s 82us/sample - loss: 0.4502 - acc: 0.8085\n",
      "Test accuracy: 0.8084931\n"
     ]
    }
   ],
   "source": [
    "#选取验证集准确率最高的模型\n",
    "model = keras.models.load_model('./UNSW-NB15_model.h5') \n",
    "model.compile(optimizer =tf.train.AdamOptimizer(learning_rate=learning_rate),\n",
    "    loss=\"sparse_categorical_crossentropy\",\n",
    "    metrics=['accuracy']\n",
    ")\n",
    "#测试集的正确率\n",
    "def use_evaluate_test():\n",
    "    test_loss,test_acc = model.evaluate(df_test_X,df_test_y)\n",
    "    print('Test accuracy:', test_acc)\n",
    "    return \n",
    "use_evaluate_test()"
   ]
  },
  {
   "cell_type": "code",
   "execution_count": 19,
   "metadata": {
    "ExecuteTime": {
     "end_time": "2020-07-24T07:45:25.170563Z",
     "start_time": "2020-07-24T07:45:25.162571Z"
    }
   },
   "outputs": [],
   "source": [
    "labelList = [\n",
    "    \"Normal\", \"Fuzzers\", \"Analysis\", \"Backdoor\", \"DoS\", \"Exploits\", \n",
    "    \"Generic\", \"Reconnaissance\", \"Shellcode\", \"Worms\"\n",
    "]"
   ]
  },
  {
   "cell_type": "code",
   "execution_count": 20,
   "metadata": {
    "ExecuteTime": {
     "end_time": "2020-07-24T07:45:34.375598Z",
     "start_time": "2020-07-24T07:45:31.035644Z"
    }
   },
   "outputs": [
    {
     "name": "stdout",
     "output_type": "stream",
     "text": [
      "                precision    recall  f1-score   support\n",
      "\n",
      "        Normal       0.89      0.94      0.92     18000\n",
      "       Fuzzers       0.70      0.50      0.58      4800\n",
      "      Analysis       1.00      0.04      0.07       480\n",
      "      Backdoor       0.67      0.06      0.11       400\n",
      "           DoS       0.38      0.42      0.40      3200\n",
      "      Exploits       0.66      0.74      0.70      8000\n",
      "       Generic       1.00      0.97      0.99     10000\n",
      "Reconnaissance       0.78      0.77      0.78      2000\n",
      "     Shellcode       0.57      0.60      0.59       300\n",
      "         Worms       0.50      0.11      0.19        35\n",
      "\n",
      "     micro avg       0.81      0.81      0.81     47215\n",
      "     macro avg       0.71      0.52      0.53     47215\n",
      "  weighted avg       0.81      0.81      0.80     47215\n",
      "\n"
     ]
    }
   ],
   "source": [
    "predictions = model.predict(df_test_X)\n",
    "print(classification_report(df_test_y, np.argmax(predictions, axis=1) , target_names=labelList))"
   ]
  },
  {
   "cell_type": "code",
   "execution_count": 21,
   "metadata": {
    "ExecuteTime": {
     "end_time": "2020-07-24T07:47:33.334001Z",
     "start_time": "2020-07-24T07:45:39.197656Z"
    }
   },
   "outputs": [
    {
     "name": "stderr",
     "output_type": "stream",
     "text": [
      "/opt/conda/lib/python3.7/site-packages/sklearn/ensemble/forest.py:246: FutureWarning: The default value of n_estimators will change from 10 in version 0.20 to 100 in 0.22.\n",
      "  \"10 in version 0.20 to 100 in 0.22.\", FutureWarning)\n"
     ]
    },
    {
     "name": "stdout",
     "output_type": "stream",
     "text": [
      "0.8164142751244308\n",
      "                precision    recall  f1-score   support\n",
      "\n",
      "        Normal       0.91      0.94      0.93     18000\n",
      "       Fuzzers       0.67      0.60      0.63      4800\n",
      "      Analysis       0.84      0.11      0.19       480\n",
      "      Backdoor       0.67      0.09      0.15       400\n",
      "           DoS       0.37      0.31      0.34      3200\n",
      "      Exploits       0.64      0.78      0.70      8000\n",
      "       Generic       1.00      0.98      0.99     10000\n",
      "Reconnaissance       0.88      0.74      0.81      2000\n",
      "     Shellcode       0.66      0.54      0.59       300\n",
      "         Worms       0.33      0.09      0.14        35\n",
      "\n",
      "     micro avg       0.82      0.82      0.82     47215\n",
      "     macro avg       0.70      0.52      0.55     47215\n",
      "  weighted avg       0.82      0.82      0.81     47215\n",
      "\n"
     ]
    },
    {
     "name": "stderr",
     "output_type": "stream",
     "text": [
      "/opt/conda/lib/python3.7/site-packages/sklearn/ensemble/forest.py:246: FutureWarning: The default value of n_estimators will change from 10 in version 0.20 to 100 in 0.22.\n",
      "  \"10 in version 0.20 to 100 in 0.22.\", FutureWarning)\n",
      "/opt/conda/lib/python3.7/site-packages/sklearn/ensemble/forest.py:246: FutureWarning: The default value of n_estimators will change from 10 in version 0.20 to 100 in 0.22.\n",
      "  \"10 in version 0.20 to 100 in 0.22.\", FutureWarning)\n",
      "/opt/conda/lib/python3.7/site-packages/sklearn/ensemble/forest.py:246: FutureWarning: The default value of n_estimators will change from 10 in version 0.20 to 100 in 0.22.\n",
      "  \"10 in version 0.20 to 100 in 0.22.\", FutureWarning)\n"
     ]
    },
    {
     "name": "stdout",
     "output_type": "stream",
     "text": [
      "0.8164566345441068\n",
      "                precision    recall  f1-score   support\n",
      "\n",
      "        Normal       0.91      0.94      0.92     18000\n",
      "       Fuzzers       0.67      0.59      0.63      4800\n",
      "      Analysis       0.91      0.10      0.19       480\n",
      "      Backdoor       0.61      0.09      0.16       400\n",
      "           DoS       0.37      0.32      0.34      3200\n",
      "      Exploits       0.64      0.79      0.71      8000\n",
      "       Generic       1.00      0.97      0.99     10000\n",
      "Reconnaissance       0.91      0.74      0.82      2000\n",
      "     Shellcode       0.65      0.59      0.62       300\n",
      "         Worms       0.30      0.09      0.13        35\n",
      "\n",
      "     micro avg       0.82      0.82      0.82     47215\n",
      "     macro avg       0.70      0.52      0.55     47215\n",
      "  weighted avg       0.82      0.82      0.81     47215\n",
      "\n"
     ]
    },
    {
     "name": "stderr",
     "output_type": "stream",
     "text": [
      "/opt/conda/lib/python3.7/site-packages/sklearn/ensemble/forest.py:246: FutureWarning: The default value of n_estimators will change from 10 in version 0.20 to 100 in 0.22.\n",
      "  \"10 in version 0.20 to 100 in 0.22.\", FutureWarning)\n"
     ]
    },
    {
     "name": "stdout",
     "output_type": "stream",
     "text": [
      "0.8172191040982738\n",
      "                precision    recall  f1-score   support\n",
      "\n",
      "        Normal       0.91      0.94      0.93     18000\n",
      "       Fuzzers       0.67      0.60      0.63      4800\n",
      "      Analysis       0.86      0.10      0.18       480\n",
      "      Backdoor       0.54      0.10      0.16       400\n",
      "           DoS       0.36      0.31      0.33      3200\n",
      "      Exploits       0.64      0.78      0.71      8000\n",
      "       Generic       1.00      0.98      0.99     10000\n",
      "Reconnaissance       0.91      0.75      0.82      2000\n",
      "     Shellcode       0.63      0.58      0.60       300\n",
      "         Worms       0.60      0.26      0.36        35\n",
      "\n",
      "     micro avg       0.82      0.82      0.82     47215\n",
      "     macro avg       0.71      0.54      0.57     47215\n",
      "  weighted avg       0.82      0.82      0.81     47215\n",
      "\n"
     ]
    },
    {
     "name": "stderr",
     "output_type": "stream",
     "text": [
      "/opt/conda/lib/python3.7/site-packages/sklearn/ensemble/forest.py:246: FutureWarning: The default value of n_estimators will change from 10 in version 0.20 to 100 in 0.22.\n",
      "  \"10 in version 0.20 to 100 in 0.22.\", FutureWarning)\n"
     ]
    },
    {
     "name": "stdout",
     "output_type": "stream",
     "text": [
      "0.8172614635179498\n",
      "                precision    recall  f1-score   support\n",
      "\n",
      "        Normal       0.91      0.94      0.93     18000\n",
      "       Fuzzers       0.67      0.60      0.63      4800\n",
      "      Analysis       0.88      0.10      0.17       480\n",
      "      Backdoor       0.70      0.09      0.16       400\n",
      "           DoS       0.37      0.30      0.34      3200\n",
      "      Exploits       0.64      0.79      0.71      8000\n",
      "       Generic       1.00      0.98      0.99     10000\n",
      "Reconnaissance       0.90      0.74      0.82      2000\n",
      "     Shellcode       0.63      0.56      0.59       300\n",
      "         Worms       0.43      0.09      0.14        35\n",
      "\n",
      "     micro avg       0.82      0.82      0.82     47215\n",
      "     macro avg       0.71      0.52      0.55     47215\n",
      "  weighted avg       0.82      0.82      0.81     47215\n",
      "\n"
     ]
    },
    {
     "name": "stderr",
     "output_type": "stream",
     "text": [
      "/opt/conda/lib/python3.7/site-packages/sklearn/ensemble/forest.py:246: FutureWarning: The default value of n_estimators will change from 10 in version 0.20 to 100 in 0.22.\n",
      "  \"10 in version 0.20 to 100 in 0.22.\", FutureWarning)\n",
      "/opt/conda/lib/python3.7/site-packages/sklearn/ensemble/forest.py:246: FutureWarning: The default value of n_estimators will change from 10 in version 0.20 to 100 in 0.22.\n",
      "  \"10 in version 0.20 to 100 in 0.22.\", FutureWarning)\n",
      "/opt/conda/lib/python3.7/site-packages/sklearn/ensemble/forest.py:246: FutureWarning: The default value of n_estimators will change from 10 in version 0.20 to 100 in 0.22.\n",
      "  \"10 in version 0.20 to 100 in 0.22.\", FutureWarning)\n",
      "/opt/conda/lib/python3.7/site-packages/sklearn/ensemble/forest.py:246: FutureWarning: The default value of n_estimators will change from 10 in version 0.20 to 100 in 0.22.\n",
      "  \"10 in version 0.20 to 100 in 0.22.\", FutureWarning)\n",
      "/opt/conda/lib/python3.7/site-packages/sklearn/ensemble/forest.py:246: FutureWarning: The default value of n_estimators will change from 10 in version 0.20 to 100 in 0.22.\n",
      "  \"10 in version 0.20 to 100 in 0.22.\", FutureWarning)\n",
      "/opt/conda/lib/python3.7/site-packages/sklearn/ensemble/forest.py:246: FutureWarning: The default value of n_estimators will change from 10 in version 0.20 to 100 in 0.22.\n",
      "  \"10 in version 0.20 to 100 in 0.22.\", FutureWarning)\n",
      "/opt/conda/lib/python3.7/site-packages/sklearn/ensemble/forest.py:246: FutureWarning: The default value of n_estimators will change from 10 in version 0.20 to 100 in 0.22.\n",
      "  \"10 in version 0.20 to 100 in 0.22.\", FutureWarning)\n",
      "/opt/conda/lib/python3.7/site-packages/sklearn/ensemble/forest.py:246: FutureWarning: The default value of n_estimators will change from 10 in version 0.20 to 100 in 0.22.\n",
      "  \"10 in version 0.20 to 100 in 0.22.\", FutureWarning)\n",
      "/opt/conda/lib/python3.7/site-packages/sklearn/ensemble/forest.py:246: FutureWarning: The default value of n_estimators will change from 10 in version 0.20 to 100 in 0.22.\n",
      "  \"10 in version 0.20 to 100 in 0.22.\", FutureWarning)\n",
      "/opt/conda/lib/python3.7/site-packages/sklearn/ensemble/forest.py:246: FutureWarning: The default value of n_estimators will change from 10 in version 0.20 to 100 in 0.22.\n",
      "  \"10 in version 0.20 to 100 in 0.22.\", FutureWarning)\n",
      "/opt/conda/lib/python3.7/site-packages/sklearn/ensemble/forest.py:246: FutureWarning: The default value of n_estimators will change from 10 in version 0.20 to 100 in 0.22.\n",
      "  \"10 in version 0.20 to 100 in 0.22.\", FutureWarning)\n",
      "/opt/conda/lib/python3.7/site-packages/sklearn/ensemble/forest.py:246: FutureWarning: The default value of n_estimators will change from 10 in version 0.20 to 100 in 0.22.\n",
      "  \"10 in version 0.20 to 100 in 0.22.\", FutureWarning)\n",
      "/opt/conda/lib/python3.7/site-packages/sklearn/ensemble/forest.py:246: FutureWarning: The default value of n_estimators will change from 10 in version 0.20 to 100 in 0.22.\n",
      "  \"10 in version 0.20 to 100 in 0.22.\", FutureWarning)\n"
     ]
    },
    {
     "name": "stdout",
     "output_type": "stream",
     "text": [
      "0.8174097214868157\n",
      "                precision    recall  f1-score   support\n",
      "\n",
      "        Normal       0.91      0.94      0.93     18000\n",
      "       Fuzzers       0.67      0.60      0.64      4800\n",
      "      Analysis       0.75      0.10      0.18       480\n",
      "      Backdoor       0.62      0.10      0.17       400\n",
      "           DoS       0.36      0.30      0.33      3200\n",
      "      Exploits       0.64      0.79      0.71      8000\n",
      "       Generic       1.00      0.97      0.99     10000\n",
      "Reconnaissance       0.91      0.74      0.82      2000\n",
      "     Shellcode       0.64      0.57      0.61       300\n",
      "         Worms       0.50      0.14      0.22        35\n",
      "\n",
      "     micro avg       0.82      0.82      0.82     47215\n",
      "     macro avg       0.70      0.53      0.56     47215\n",
      "  weighted avg       0.82      0.82      0.81     47215\n",
      "\n"
     ]
    },
    {
     "name": "stderr",
     "output_type": "stream",
     "text": [
      "/opt/conda/lib/python3.7/site-packages/sklearn/ensemble/forest.py:246: FutureWarning: The default value of n_estimators will change from 10 in version 0.20 to 100 in 0.22.\n",
      "  \"10 in version 0.20 to 100 in 0.22.\", FutureWarning)\n"
     ]
    }
   ],
   "source": [
    "from sklearn.ensemble import RandomForestClassifier\n",
    "score = 0\n",
    "for i in range(20):\n",
    "    rfc = RandomForestClassifier()\n",
    "    rfc.fit(df_train_X, df_train_y)\n",
    "    y_pred = rfc.predict(df_test_X)\n",
    "    result = rfc.score(df_test_X, df_test_y)\n",
    "    if(score < result):\n",
    "        score = result\n",
    "        print(score)\n",
    "        print(classification_report(df_test_y, y_pred, target_names=labelList))\n",
    "        \n",
    "#测试集的正确率\n",
    "#测试集的各个参数"
   ]
  },
  {
   "cell_type": "code",
   "execution_count": null,
   "metadata": {},
   "outputs": [],
   "source": []
  },
  {
   "cell_type": "code",
   "execution_count": null,
   "metadata": {},
   "outputs": [],
   "source": []
  },
  {
   "cell_type": "code",
   "execution_count": null,
   "metadata": {},
   "outputs": [],
   "source": []
  },
  {
   "cell_type": "code",
   "execution_count": null,
   "metadata": {},
   "outputs": [],
   "source": []
  },
  {
   "cell_type": "code",
   "execution_count": null,
   "metadata": {},
   "outputs": [],
   "source": []
  }
 ],
 "metadata": {
  "kernelspec": {
   "display_name": "Python 3",
   "language": "python",
   "name": "python3"
  },
  "language_info": {
   "codemirror_mode": {
    "name": "ipython",
    "version": 3
   },
   "file_extension": ".py",
   "mimetype": "text/x-python",
   "name": "python",
   "nbconvert_exporter": "python",
   "pygments_lexer": "ipython3",
   "version": "3.7.3"
  },
  "toc": {
   "base_numbering": 1,
   "nav_menu": {},
   "number_sections": true,
   "sideBar": true,
   "skip_h1_title": false,
   "title_cell": "Table of Contents",
   "title_sidebar": "Contents",
   "toc_cell": false,
   "toc_position": {},
   "toc_section_display": true,
   "toc_window_display": false
  },
  "varInspector": {
   "cols": {
    "lenName": 16,
    "lenType": 16,
    "lenVar": 40
   },
   "kernels_config": {
    "python": {
     "delete_cmd_postfix": "",
     "delete_cmd_prefix": "del ",
     "library": "var_list.py",
     "varRefreshCmd": "print(var_dic_list())"
    },
    "r": {
     "delete_cmd_postfix": ") ",
     "delete_cmd_prefix": "rm(",
     "library": "var_list.r",
     "varRefreshCmd": "cat(var_dic_list()) "
    }
   },
   "types_to_exclude": [
    "module",
    "function",
    "builtin_function_or_method",
    "instance",
    "_Feature"
   ],
   "window_display": false
  }
 },
 "nbformat": 4,
 "nbformat_minor": 2
}
