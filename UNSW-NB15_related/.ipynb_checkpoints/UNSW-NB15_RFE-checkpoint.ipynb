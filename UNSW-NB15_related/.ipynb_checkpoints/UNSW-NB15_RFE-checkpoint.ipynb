{
 "cells": [
  {
   "cell_type": "code",
   "execution_count": 1,
   "metadata": {
    "ExecuteTime": {
     "end_time": "2020-07-13T01:51:28.123764Z",
     "start_time": "2020-07-13T01:51:17.992522Z"
    }
   },
   "outputs": [
    {
     "name": "stdout",
     "output_type": "stream",
     "text": [
      "1.13.1\n"
     ]
    }
   ],
   "source": [
    "import os\n",
    "import tensorflow as tf\n",
    "os.environ['TF_CPP_MIN_LOG_LEVEL'] = '2'  #忽略烦人的警告\n",
    "tf.logging.set_verbosity(tf.logging.ERROR)   #忽略烦人的警告\n",
    "print(tf.__version__)\n",
    "import numpy as np\n",
    "from sklearn.decomposition import PCA\n",
    "\n",
    "import pandas as pd\n",
    "from collections import Counter\n",
    "from sklearn.model_selection import train_test_split\n",
    "import pickle   #对象存储用\n",
    "\n",
    "\n",
    "from sklearn.feature_selection import RFECV\n",
    "from sklearn.ensemble import RandomForestClassifier\n",
    "from sklearn.model_selection import KFold\n",
    "from sklearn.model_selection import StratifiedKFold\n",
    "rfr = RandomForestClassifier(n_estimators=200, criterion='entropy')"
   ]
  },
  {
   "cell_type": "code",
   "execution_count": 2,
   "metadata": {
    "ExecuteTime": {
     "end_time": "2020-07-13T01:51:28.177042Z",
     "start_time": "2020-07-13T01:51:28.150009Z"
    }
   },
   "outputs": [],
   "source": [
    "def read_data():\n",
    "    \"\"\"\n",
    "        读取数据，\n",
    "        return\n",
    "            train_dataset : 训练数据 \n",
    "            test_dataset  ：测试数据\n",
    "    \"\"\"\n",
    "    input_file_dir = \".\"\n",
    "    train_file_name = \"kddcup.data_10_percent\"\n",
    "    test_file_name = \"corrected.txt\"\n",
    "    header_file_name = \"header.txt\"\n",
    "    \n",
    "    train_files = os.path.join(input_file_dir, train_file_name)\n",
    "    test_files = os.path.join(input_file_dir, test_file_name)\n",
    "    header_files = os.path.join(input_file_dir, header_file_name)\n",
    "    \n",
    "    with open(header_files, 'r') as f:\n",
    "        header = f.readline().strip().split(',')\n",
    "    train_dataset = pd.read_csv(train_files)\n",
    "    test_dataset = pd.read_csv(test_files)\n",
    "    train_dataset.columns = header\n",
    "    test_dataset.columns = header\n",
    "    return train_dataset, test_dataset"
   ]
  },
  {
   "cell_type": "code",
   "execution_count": 3,
   "metadata": {
    "ExecuteTime": {
     "end_time": "2020-07-13T01:51:37.086266Z",
     "start_time": "2020-07-13T01:51:28.184125Z"
    }
   },
   "outputs": [],
   "source": [
    "train_dataset,test_dataset = read_data()"
   ]
  },
  {
   "cell_type": "code",
   "execution_count": 4,
   "metadata": {
    "ExecuteTime": {
     "end_time": "2020-07-13T01:51:37.136125Z",
     "start_time": "2020-07-13T01:51:37.092624Z"
    }
   },
   "outputs": [
    {
     "name": "stdout",
     "output_type": "stream",
     "text": [
      "(494020, 42)\n",
      "(311028, 42)\n",
      "Index(['duration', 'protocol_type', 'service', 'flag', 'src_bytes',\n",
      "       'dst_bytes', 'land', 'wrong_fragment', 'urgent', 'hot',\n",
      "       'num_failed_logins', 'logged_in', 'num_compromised', 'root_shell',\n",
      "       'su_attempted', 'num_root', 'num_file_creations', 'num_shells',\n",
      "       'num_access_files', 'num_outbound_cmds', 'is_hot_login',\n",
      "       'is_guest_login', 'count', 'srv_count', 'serror_rate',\n",
      "       'srv_serror_rate', 'rerror_rate', 'srv_rerror_rate', 'same_srv_rate',\n",
      "       'diff_srv_rate', 'srv_diff_host_rate', 'dst_host_count',\n",
      "       'dst_host_srv_count', 'dst_host_same_srv_rate',\n",
      "       'dst_host_diff_srv_rate', 'dst_host_same_src_port_rate',\n",
      "       'dst_host_srv_diff_host_rate', 'dst_host_serror_rate',\n",
      "       'dst_host_srv_serror_rate', 'dst_host_rerror_rate',\n",
      "       'dst_host_srv_rerror_rate', 'labels'],\n",
      "      dtype='object')\n",
      "   duration protocol_type service flag  src_bytes  dst_bytes  land  \\\n",
      "0         0           tcp    http   SF        239        486     0   \n",
      "\n",
      "   wrong_fragment  urgent  hot  ...  dst_host_srv_count  \\\n",
      "0               0       0    0  ...                  19   \n",
      "\n",
      "   dst_host_same_srv_rate  dst_host_diff_srv_rate  \\\n",
      "0                     1.0                     0.0   \n",
      "\n",
      "   dst_host_same_src_port_rate  dst_host_srv_diff_host_rate  \\\n",
      "0                         0.05                          0.0   \n",
      "\n",
      "   dst_host_serror_rate  dst_host_srv_serror_rate  dst_host_rerror_rate  \\\n",
      "0                   0.0                       0.0                   0.0   \n",
      "\n",
      "   dst_host_srv_rerror_rate   labels  \n",
      "0                       0.0  normal.  \n",
      "\n",
      "[1 rows x 42 columns]\n"
     ]
    }
   ],
   "source": [
    "print(train_dataset.shape)\n",
    "print(test_dataset.shape)\n",
    "print(test_dataset.columns)\n",
    "print(train_dataset[0:1])"
   ]
  },
  {
   "cell_type": "code",
   "execution_count": 5,
   "metadata": {
    "ExecuteTime": {
     "end_time": "2020-07-13T01:51:37.249121Z",
     "start_time": "2020-07-13T01:51:37.140382Z"
    }
   },
   "outputs": [
    {
     "name": "stdout",
     "output_type": "stream",
     "text": [
      "smurf.              280790\n",
      "neptune.            107201\n",
      "normal.              97277\n",
      "back.                 2203\n",
      "satan.                1589\n",
      "ipsweep.              1247\n",
      "portsweep.            1040\n",
      "warezclient.          1020\n",
      "teardrop.              979\n",
      "pod.                   264\n",
      "nmap.                  231\n",
      "guess_passwd.           53\n",
      "buffer_overflow.        30\n",
      "land.                   21\n",
      "warezmaster.            20\n",
      "imap.                   12\n",
      "rootkit.                10\n",
      "loadmodule.              9\n",
      "ftp_write.               8\n",
      "multihop.                7\n",
      "phf.                     4\n",
      "perl.                    3\n",
      "spy.                     2\n",
      "Name: labels, dtype: int64\n",
      "-----------\n",
      "smurf.              164091\n",
      "normal.              60592\n",
      "neptune.             58001\n",
      "snmpgetattack.        7741\n",
      "mailbomb.             5000\n",
      "guess_passwd.         4367\n",
      "snmpguess.            2406\n",
      "satan.                1633\n",
      "warezmaster.          1602\n",
      "back.                 1098\n",
      "mscan.                1053\n",
      "apache2.               794\n",
      "processtable.          759\n",
      "saint.                 736\n",
      "portsweep.             354\n",
      "ipsweep.               306\n",
      "httptunnel.            158\n",
      "pod.                    87\n",
      "nmap.                   84\n",
      "buffer_overflow.        22\n",
      "multihop.               18\n",
      "sendmail.               17\n",
      "named.                  17\n",
      "ps.                     16\n",
      "rootkit.                13\n",
      "xterm.                  13\n",
      "teardrop.               12\n",
      "land.                    9\n",
      "xlock.                   9\n",
      "xsnoop.                  4\n",
      "ftp_write.               3\n",
      "sqlattack.               2\n",
      "worm.                    2\n",
      "perl.                    2\n",
      "phf.                     2\n",
      "udpstorm.                2\n",
      "loadmodule.              2\n",
      "imap.                    1\n",
      "Name: labels, dtype: int64\n"
     ]
    }
   ],
   "source": [
    "print(train_dataset.loc[:,'labels'].value_counts())\n",
    "print(\"-----------\")\n",
    "print(test_dataset.loc[:,'labels'].value_counts())"
   ]
  },
  {
   "cell_type": "code",
   "execution_count": 6,
   "metadata": {
    "ExecuteTime": {
     "end_time": "2020-07-13T01:51:37.272804Z",
     "start_time": "2020-07-13T01:51:37.252490Z"
    }
   },
   "outputs": [],
   "source": [
    "def labels_map(label):\n",
    "    if(type(label) == int):      #已是数字，无需处理\n",
    "        return label\n",
    "    label = label.split('.')[0]\n",
    "    \n",
    "    DOS = ['apache2', 'back', 'land', 'mailbomb', 'neptune', 'pod', \n",
    "                  'processtable', 'smurf', 'teardrop', 'udpstorm'] #DOS 10个\n",
    "    PROBE = ['ipsweep', 'mscan', 'nmap', 'portsweep', 'saint', 'satan'] #PROBE\n",
    "    U2R = ['buffer_overflow', 'httptunnel', 'loadmodule', 'perl', 'ps', 'rootkit', 'sqlattack', 'xterm'] #U2R\n",
    "    R2L = ['ftp_write', 'guess_passwd', 'imap', 'multihop', 'named', 'phf', \n",
    "           'sendmail', 'snmpgetattack', 'snmpguess', 'spy', 'warezclient', \n",
    "           'warezmaster', 'worm', 'xlock', 'xsnoop']#R2L\n",
    "    \n",
    "    if label == 'normal':\n",
    "        return 0\n",
    "    if label in DOS:\n",
    "        return 1\n",
    "    if label in PROBE:\n",
    "        return 2\n",
    "    if label in U2R:\n",
    "        return 3\n",
    "    if label in R2L:\n",
    "        return 4\n",
    "    return -1\n",
    "  \n",
    "def filter_labels(dataset):\n",
    "    dataset['labels'] = dataset['labels'].apply(labels_map)\n",
    "    return dataset\n",
    "\n",
    "def sample_deal(dataset):\n",
    "    labelCount = Counter(dataset['labels'])\n",
    "    df = dataset.drop(dataset.index)      #创建一个空的dataframe\n",
    "    for label_num in labelCount:\n",
    "        if(labelCount[label_num] > 100000):     #对于同标签的大样本进行欠采样，只取10万条\n",
    "            df = pd.concat(\n",
    "                [\n",
    "                    df,\n",
    "                    dataset[dataset['labels'] == label_num].sample(n=100000)\n",
    "                ],\n",
    "                axis=0\n",
    "            )\n",
    "        elif(labelCount[label_num] < 500):  #对于同标签的小样本进行过采样，自身数据2次方增长直到超过500条\n",
    "            currentCount = labelCount[label_num] \n",
    "            df = pd.concat(\n",
    "                [\n",
    "                    df, \n",
    "                    dataset[dataset['labels'] == label_num]\n",
    "                ], axis=0\n",
    "            )\n",
    "            while(currentCount < 500):\n",
    "                copy_part = df[df['labels'] == label_num]\n",
    "                df = pd.concat([df, copy_part], axis=0)\n",
    "                currentCount = currentCount * 2\n",
    "        else:\n",
    "            df = pd.concat(\n",
    "                [\n",
    "                    df,\n",
    "                    dataset[dataset['labels'] == label_num]\n",
    "                ],\n",
    "                axis=0\n",
    "            )\n",
    "    # pandas中先重置index再打乱train. 否则只会调整各个行的顺序，而不会改变pandas的index\n",
    "    # 重置\n",
    "    df = df.reset_index(drop=True)\n",
    "    # 打乱\n",
    "    indexMask = np.arange(len(df))\n",
    "    for i in range(10):\n",
    "        np.random.shuffle(indexMask)\n",
    "        df = df.iloc[indexMask]\n",
    "\n",
    "    return df"
   ]
  },
  {
   "cell_type": "code",
   "execution_count": 7,
   "metadata": {
    "ExecuteTime": {
     "end_time": "2020-07-13T01:51:37.301931Z",
     "start_time": "2020-07-13T01:51:37.281908Z"
    }
   },
   "outputs": [],
   "source": [
    "def labels_separate(dataset):\n",
    "    y_ = dataset['labels'].values\n",
    "    temp = dataset\n",
    "    temp.drop('labels', axis=1, inplace=True)\n",
    "    x_ = temp.values\n",
    "    return x_, y_\n",
    "def one_hot_process(dataset):\n",
    "    # 独热编码 protocol_type\n",
    "    protocal_type_dummies = pd.get_dummies(dataset['protocol_type'], prefix='protocol_type')\n",
    "    dataset = pd.concat([dataset, protocal_type_dummies], axis=1)\n",
    "    dataset = dataset.drop(['protocol_type'], axis=1)\n",
    "    # 独热编码 flag\n",
    "    flag_dummies = pd.get_dummies(dataset['flag'], prefix='flag')\n",
    "    dataset = pd.concat([dataset, flag_dummies], axis=1)\n",
    "    dataset = dataset.drop(['flag'], axis=1)\n",
    "    # 独热编码 service     （现阶段第三列数据对接有问题，暂时直接除掉这一条数据）\n",
    "    service_dummies = pd.get_dummies(dataset['service'], prefix='service')\n",
    "    dataset = pd.concat([dataset, service_dummies], axis=1)\n",
    "    dataset = dataset.drop(['service'], axis=1)\n",
    "    return dataset"
   ]
  },
  {
   "cell_type": "code",
   "execution_count": 8,
   "metadata": {
    "ExecuteTime": {
     "end_time": "2020-07-13T01:51:47.277146Z",
     "start_time": "2020-07-13T01:51:37.308134Z"
    }
   },
   "outputs": [
    {
     "name": "stdout",
     "output_type": "stream",
     "text": [
      "1    100000\n",
      "0     97277\n",
      "2      4107\n",
      "4      1126\n",
      "3       832\n",
      "Name: labels, dtype: int64\n"
     ]
    }
   ],
   "source": [
    "train_dataset = sample_deal(filter_labels(train_dataset))\n",
    "print(train_dataset.loc[:,'labels'].value_counts())\n",
    "train_dataset = one_hot_process(train_dataset)\n",
    "train_dataset_x, train_dataset_y = labels_separate(train_dataset)"
   ]
  },
  {
   "cell_type": "code",
   "execution_count": 9,
   "metadata": {
    "ExecuteTime": {
     "end_time": "2020-07-13T01:51:47.340433Z",
     "start_time": "2020-07-13T01:51:47.298576Z"
    }
   },
   "outputs": [
    {
     "name": "stdout",
     "output_type": "stream",
     "text": [
      "(203342, 118)\n",
      "[0.00e+00 0.00e+00 0.00e+00 0.00e+00 0.00e+00 0.00e+00 0.00e+00 0.00e+00\n",
      " 0.00e+00 0.00e+00 0.00e+00 0.00e+00 0.00e+00 0.00e+00 0.00e+00 0.00e+00\n",
      " 0.00e+00 0.00e+00 0.00e+00 2.80e+02 1.00e+01 0.00e+00 0.00e+00 1.00e+00\n",
      " 1.00e+00 4.00e-02 6.00e-02 0.00e+00 2.55e+02 1.00e+01 4.00e-02 6.00e-02\n",
      " 0.00e+00 0.00e+00 0.00e+00 0.00e+00 1.00e+00 1.00e+00 0.00e+00 1.00e+00\n",
      " 0.00e+00 0.00e+00 1.00e+00 0.00e+00 0.00e+00 0.00e+00 0.00e+00 0.00e+00\n",
      " 0.00e+00 0.00e+00 0.00e+00 0.00e+00 0.00e+00 0.00e+00 0.00e+00 0.00e+00\n",
      " 0.00e+00 0.00e+00 0.00e+00 0.00e+00 0.00e+00 0.00e+00 0.00e+00 0.00e+00\n",
      " 0.00e+00 0.00e+00 0.00e+00 0.00e+00 0.00e+00 0.00e+00 0.00e+00 0.00e+00\n",
      " 0.00e+00 0.00e+00 0.00e+00 0.00e+00 0.00e+00 0.00e+00 0.00e+00 0.00e+00\n",
      " 0.00e+00 0.00e+00 0.00e+00 0.00e+00 0.00e+00 0.00e+00 0.00e+00 0.00e+00\n",
      " 0.00e+00 0.00e+00 0.00e+00 0.00e+00 0.00e+00 0.00e+00 0.00e+00 0.00e+00\n",
      " 0.00e+00 1.00e+00 0.00e+00 0.00e+00 0.00e+00 0.00e+00 0.00e+00 0.00e+00\n",
      " 0.00e+00 0.00e+00 0.00e+00 0.00e+00 0.00e+00 0.00e+00 0.00e+00 0.00e+00\n",
      " 0.00e+00 0.00e+00 0.00e+00 0.00e+00 0.00e+00 0.00e+00]\n",
      "(203342,)\n",
      "[1 1 0 ... 1 0 0]\n"
     ]
    }
   ],
   "source": [
    "print(train_dataset_x.shape)\n",
    "print(train_dataset_x[0])\n",
    "print(train_dataset_y.shape)\n",
    "print(train_dataset_y)"
   ]
  },
  {
   "cell_type": "code",
   "execution_count": 10,
   "metadata": {
    "ExecuteTime": {
     "end_time": "2020-07-13T03:57:20.668093Z",
     "start_time": "2020-07-13T01:51:47.354527Z"
    }
   },
   "outputs": [
    {
     "data": {
      "text/plain": [
       "RFECV(cv=StratifiedKFold(n_splits=2, random_state=1, shuffle=False),\n",
       "   estimator=RandomForestClassifier(bootstrap=True, class_weight=None, criterion='entropy',\n",
       "            max_depth=None, max_features='auto', max_leaf_nodes=None,\n",
       "            min_impurity_decrease=0.0, min_impurity_split=None,\n",
       "            min_samples_leaf=1, min_samples_split=2,\n",
       "            min_weight_fraction_leaf=0.0, n_estimators=200, n_jobs=None,\n",
       "            oob_score=False, random_state=None, verbose=0,\n",
       "            warm_start=False),\n",
       "   min_features_to_select=1, n_jobs=None, scoring='accuracy', step=1,\n",
       "   verbose=0)"
      ]
     },
     "execution_count": 10,
     "metadata": {},
     "output_type": "execute_result"
    }
   ],
   "source": [
    "#带交叉验证的RFE\n",
    "rfecv = RFECV(estimator=rfr, cv=StratifiedKFold(n_splits=2, random_state=1),\n",
    "              scoring='accuracy')\n",
    "rfecv.fit(train_dataset_x, train_dataset_y)"
   ]
  },
  {
   "cell_type": "code",
   "execution_count": 11,
   "metadata": {
    "ExecuteTime": {
     "end_time": "2020-07-13T03:57:20.765550Z",
     "start_time": "2020-07-13T03:57:20.708224Z"
    }
   },
   "outputs": [
    {
     "name": "stdout",
     "output_type": "stream",
     "text": [
      "59\n",
      "[ 1  1  1  5  1  1  1  1  1  1  1  3  1  1  1  1 59 60  1  1  1  1  1  1\n",
      "  1  1  1  1  1  1  1  1  1  1  1  1  1  1  1  1  1 11  1  1  9  1  1  1\n",
      " 13 12  1  1  2 16 58  1 40 35 32 41 44 20 14  1 47  1  1 42 43  1  1  1\n",
      " 10 21  1 55  1 51 57 56 46 28  4 29 37 52 38 53 36 48 15  7  1 19 54  6\n",
      " 50  1 39 34 23 24  1 45 17 33 31 27  1 22  8  1 18  1 26 49 30 25]\n",
      "['duration', 'src_bytes', 'dst_bytes', 'wrong_fragment', 'urgent', 'hot', 'num_failed_logins', 'logged_in', 'num_compromised', 'root_shell', 'num_root', 'num_file_creations', 'num_shells', 'num_access_files', 'is_guest_login', 'count', 'srv_count', 'serror_rate', 'srv_serror_rate', 'rerror_rate', 'srv_rerror_rate', 'same_srv_rate', 'diff_srv_rate', 'srv_diff_host_rate', 'dst_host_count', 'dst_host_srv_count', 'dst_host_same_srv_rate', 'dst_host_diff_srv_rate', 'dst_host_same_src_port_rate', 'dst_host_srv_diff_host_rate', 'dst_host_serror_rate', 'dst_host_srv_serror_rate', 'dst_host_rerror_rate', 'dst_host_srv_rerror_rate', 'protocol_type_icmp', 'protocol_type_tcp', 'protocol_type_udp', 'flag_REJ', 'flag_RSTO', 'flag_RSTR', 'flag_S0', 'flag_S1', 'flag_SF', 'flag_SH', 'service_auth', 'service_domain_u', 'service_eco_i', 'service_ecr_i', 'service_finger', 'service_ftp', 'service_ftp_data', 'service_http', 'service_imap4', 'service_other', 'service_private', 'service_smtp', 'service_telnet', 'service_time', 'service_urp_i']\n"
     ]
    }
   ],
   "source": [
    "print(rfecv.n_features_)\n",
    "print(rfecv.ranking_)\n",
    "# 选取特征\n",
    "index = 0\n",
    "features_selected = []\n",
    "for item in rfecv.ranking_:\n",
    "    if(item == 1):\n",
    "        features_selected.append(train_dataset.columns.values.tolist()[index])\n",
    "    index+=1\n",
    "print(features_selected)"
   ]
  },
  {
   "cell_type": "code",
   "execution_count": 13,
   "metadata": {
    "ExecuteTime": {
     "end_time": "2020-07-13T03:59:30.084069Z",
     "start_time": "2020-07-13T03:59:29.638015Z"
    }
   },
   "outputs": [
    {
     "name": "stdout",
     "output_type": "stream",
     "text": [
      "Optimal number of features : 59\n",
      "Ranking of features : [ 1  1  1  5  1  1  1  1  1  1  1  3  1  1  1  1 59 60  1  1  1  1  1  1\n",
      "  1  1  1  1  1  1  1  1  1  1  1  1  1  1  1  1  1 11  1  1  9  1  1  1\n",
      " 13 12  1  1  2 16 58  1 40 35 32 41 44 20 14  1 47  1  1 42 43  1  1  1\n",
      " 10 21  1 55  1 51 57 56 46 28  4 29 37 52 38 53 36 48 15  7  1 19 54  6\n",
      " 50  1 39 34 23 24  1 45 17 33 31 27  1 22  8  1 18  1 26 49 30 25]\n"
     ]
    },
    {
     "data": {
      "image/png": "[encoded data removed]",
      "text/plain": [
       "<Figure size 432x288 with 1 Axes>"
      ]
     },
     "metadata": {
      "needs_background": "light"
     },
     "output_type": "display_data"
    },
    {
     "data": {
      "text/plain": [
       "<Figure size 432x288 with 0 Axes>"
      ]
     },
     "metadata": {},
     "output_type": "display_data"
    }
   ],
   "source": [
    "import matplotlib.pyplot as plt\n",
    "print(\"Optimal number of features : %d\" % rfecv.n_features_)\n",
    "print(\"Ranking of features : %s\" % rfecv.ranking_)\n",
    "\n",
    "# Plot number of features VS. cross-validation scores\n",
    "plt.figure()\n",
    "plt.xlabel(\"Number of features selected\")\n",
    "plt.ylabel(\"Cross validation score (neg_mean_squared_error)\")\n",
    "plt.plot(range(1, len(rfecv.grid_scores_) + 1), rfecv.grid_scores_)\n",
    "plt.show()\n",
    "plt.savefig(\"rfe_version_one.eps\",format=\"eps\")"
   ]
  },
  {
   "cell_type": "code",
   "execution_count": 15,
   "metadata": {
    "ExecuteTime": {
     "end_time": "2020-07-13T10:29:37.982546Z",
     "start_time": "2020-07-13T07:52:06.800947Z"
    }
   },
   "outputs": [
    {
     "ename": "NameError",
     "evalue": "name 'df_train' is not defined",
     "output_type": "error",
     "traceback": [
      "\u001b[0;31m---------------------------------------------------------------------------\u001b[0m",
      "\u001b[0;31mNameError\u001b[0m                                 Traceback (most recent call last)",
      "\u001b[0;32m<ipython-input-15-ff712033bf98>\u001b[0m in \u001b[0;36m<module>\u001b[0;34m\u001b[0m\n\u001b[1;32m      7\u001b[0m \u001b[0;32mfor\u001b[0m \u001b[0mitem\u001b[0m \u001b[0;32min\u001b[0m \u001b[0mrfe\u001b[0m\u001b[0;34m.\u001b[0m\u001b[0mranking_\u001b[0m\u001b[0;34m:\u001b[0m\u001b[0;34m\u001b[0m\u001b[0;34m\u001b[0m\u001b[0m\n\u001b[1;32m      8\u001b[0m     \u001b[0;32mif\u001b[0m\u001b[0;34m(\u001b[0m\u001b[0mitem\u001b[0m \u001b[0;34m==\u001b[0m \u001b[0;36m1\u001b[0m\u001b[0;34m)\u001b[0m\u001b[0;34m:\u001b[0m\u001b[0;34m\u001b[0m\u001b[0;34m\u001b[0m\u001b[0m\n\u001b[0;32m----> 9\u001b[0;31m         \u001b[0mfeatures_selected\u001b[0m\u001b[0;34m.\u001b[0m\u001b[0mappend\u001b[0m\u001b[0;34m(\u001b[0m\u001b[0mdf_train\u001b[0m\u001b[0;34m.\u001b[0m\u001b[0mcolumns\u001b[0m\u001b[0;34m.\u001b[0m\u001b[0mvalues\u001b[0m\u001b[0;34m.\u001b[0m\u001b[0mtolist\u001b[0m\u001b[0;34m(\u001b[0m\u001b[0;34m)\u001b[0m\u001b[0;34m[\u001b[0m\u001b[0mindex\u001b[0m\u001b[0;34m]\u001b[0m\u001b[0;34m)\u001b[0m\u001b[0;34m\u001b[0m\u001b[0;34m\u001b[0m\u001b[0m\n\u001b[0m\u001b[1;32m     10\u001b[0m     \u001b[0mindex\u001b[0m\u001b[0;34m+=\u001b[0m\u001b[0;36m1\u001b[0m\u001b[0;34m\u001b[0m\u001b[0;34m\u001b[0m\u001b[0m\n\u001b[1;32m     11\u001b[0m \u001b[0mprint\u001b[0m\u001b[0;34m(\u001b[0m\u001b[0mfeatures_selected\u001b[0m\u001b[0;34m)\u001b[0m\u001b[0;34m\u001b[0m\u001b[0;34m\u001b[0m\u001b[0m\n",
      "\u001b[0;31mNameError\u001b[0m: name 'df_train' is not defined"
     ]
    }
   ],
   "source": [
    "from sklearn.feature_selection import RFE\n",
    "rfe = RFE(estimator=rfr, n_features_to_select=16)\n",
    "rfe.fit(train_dataset_x, train_dataset_y)\n",
    "# 选取特征\n",
    "index = 0\n",
    "features_selected = []\n",
    "for item in rfe.ranking_:\n",
    "    if(item == 1):\n",
    "        features_selected.append(df_train.columns.values.tolist()[index])\n",
    "    index+=1\n",
    "print(features_selected)"
   ]
  },
  {
   "cell_type": "code",
   "execution_count": 16,
   "metadata": {
    "ExecuteTime": {
     "end_time": "2020-07-13T11:05:55.307549Z",
     "start_time": "2020-07-13T11:05:55.298497Z"
    }
   },
   "outputs": [
    {
     "name": "stdout",
     "output_type": "stream",
     "text": [
      "['src_bytes', 'dst_bytes', 'logged_in', 'count', 'srv_count', 'same_srv_rate', 'diff_srv_rate', 'dst_host_count', 'dst_host_srv_count', 'dst_host_same_srv_rate', 'dst_host_diff_srv_rate', 'dst_host_same_src_port_rate', 'protocol_type_icmp', 'flag_SF', 'service_ecr_i', 'service_http']\n"
     ]
    }
   ],
   "source": [
    "index = 0\n",
    "features_selected = []\n",
    "for item in rfe.ranking_:\n",
    "    if(item == 1):\n",
    "        features_selected.append(train_dataset.columns.values.tolist()[index])\n",
    "    index+=1\n",
    "print(features_selected)"
   ]
  },
  {
   "cell_type": "code",
   "execution_count": null,
   "metadata": {},
   "outputs": [],
   "source": []
  }
 ],
 "metadata": {
  "kernelspec": {
   "display_name": "Python 3",
   "language": "python",
   "name": "python3"
  },
  "language_info": {
   "codemirror_mode": {
    "name": "ipython",
    "version": 3
   },
   "file_extension": ".py",
   "mimetype": "text/x-python",
   "name": "python",
   "nbconvert_exporter": "python",
   "pygments_lexer": "ipython3",
   "version": "3.7.3"
  },
  "toc": {
   "base_numbering": 1,
   "nav_menu": {},
   "number_sections": true,
   "sideBar": true,
   "skip_h1_title": false,
   "title_cell": "Table of Contents",
   "title_sidebar": "Contents",
   "toc_cell": false,
   "toc_position": {},
   "toc_section_display": true,
   "toc_window_display": false
  },
  "varInspector": {
   "cols": {
    "lenName": 16,
    "lenType": 16,
    "lenVar": 40
   },
   "kernels_config": {
    "python": {
     "delete_cmd_postfix": "",
     "delete_cmd_prefix": "del ",
     "library": "var_list.py",
     "varRefreshCmd": "print(var_dic_list())"
    },
    "r": {
     "delete_cmd_postfix": ") ",
     "delete_cmd_prefix": "rm(",
     "library": "var_list.r",
     "varRefreshCmd": "cat(var_dic_list()) "
    }
   },
   "types_to_exclude": [
    "module",
    "function",
    "builtin_function_or_method",
    "instance",
    "_Feature"
   ],
   "window_display": false
  }
 },
 "nbformat": 4,
 "nbformat_minor": 2
}
