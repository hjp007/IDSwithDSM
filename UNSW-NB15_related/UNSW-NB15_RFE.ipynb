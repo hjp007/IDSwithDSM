{
 "cells": [
  {
   "cell_type": "code",
   "execution_count": 1,
   "metadata": {
    "ExecuteTime": {
     "end_time": "2020-07-20T08:47:27.347332Z",
     "start_time": "2020-07-20T08:47:20.783770Z"
    }
   },
   "outputs": [
    {
     "name": "stdout",
     "output_type": "stream",
     "text": [
      "1.13.1\n"
     ]
    }
   ],
   "source": [
    "import os\n",
    "import tensorflow as tf\n",
    "os.environ['TF_CPP_MIN_LOG_LEVEL'] = '2'  #忽略烦人的警告\n",
    "tf.logging.set_verbosity(tf.logging.ERROR)   #忽略烦人的警告\n",
    "print(tf.__version__)\n",
    "import numpy as np\n",
    "from sklearn.decomposition import PCA\n",
    "\n",
    "import pandas as pd\n",
    "from collections import Counter\n",
    "from sklearn.model_selection import train_test_split\n",
    "import pickle   #对象存储用\n",
    "\n",
    "\n",
    "from sklearn.feature_selection import RFECV\n",
    "from sklearn.ensemble import RandomForestClassifier\n",
    "from sklearn.model_selection import KFold\n",
    "from sklearn.model_selection import StratifiedKFold\n",
    "rfr = RandomForestClassifier(n_estimators=200, criterion='entropy')\n",
    "\n",
    "dataroot_1 = \"./UNSW-NB15 - CSV Files/a part of training and testing set/UNSW_NB15_training-set.csv\"\n",
    "dataroot_2 = \"./UNSW-NB15 - CSV Files/a part of training and testing set/UNSW_NB15_testing-set.csv\""
   ]
  },
  {
   "cell_type": "code",
   "execution_count": 2,
   "metadata": {
    "ExecuteTime": {
     "end_time": "2020-07-20T08:47:29.568893Z",
     "start_time": "2020-07-20T08:47:27.381603Z"
    }
   },
   "outputs": [],
   "source": [
    "df_train_1 = pd.read_csv(dataroot_1,header=0,low_memory=False)  \n",
    "df_train_2 = pd.read_csv(dataroot_2,header=0,low_memory=False)  \n",
    "dataset = df_train_1.append([df_train_2])"
   ]
  },
  {
   "cell_type": "code",
   "execution_count": 3,
   "metadata": {
    "ExecuteTime": {
     "end_time": "2020-07-20T08:47:38.438536Z",
     "start_time": "2020-07-20T08:47:30.258214Z"
    }
   },
   "outputs": [
    {
     "name": "stdout",
     "output_type": "stream",
     "text": [
      "(257673, 45)\n",
      "Index(['id', 'dur', 'proto', 'service', 'state', 'spkts', 'dpkts', 'sbytes',\n",
      "       'dbytes', 'rate', 'sttl', 'dttl', 'sload', 'dload', 'sloss', 'dloss',\n",
      "       'sinpkt', 'dinpkt', 'sjit', 'djit', 'swin', 'stcpb', 'dtcpb', 'dwin',\n",
      "       'tcprtt', 'synack', 'ackdat', 'smean', 'dmean', 'trans_depth',\n",
      "       'response_body_len', 'ct_srv_src', 'ct_state_ttl', 'ct_dst_ltm',\n",
      "       'ct_src_dport_ltm', 'ct_dst_sport_ltm', 'ct_dst_src_ltm',\n",
      "       'is_ftp_login', 'ct_ftp_cmd', 'ct_flw_http_mthd', 'ct_src_ltm',\n",
      "       'ct_srv_dst', 'is_sm_ips_ports', 'attack_cat', 'label'],\n",
      "      dtype='object')\n",
      "[1 1.1e-05 'udp' '-' 'INT' 2 0 496 0 90909.0902 254 0 180363632.0 0.0 0 0\n",
      " 0.011000000000000001 0.0 0.0 0.0 0 0 0 0 0.0 0.0 0.0 248 0 0 0 2 2 1 1 1\n",
      " 2 0 0 0 1 2 0 'Normal' 0]\n",
      "Normal            93000\n",
      "Generic           58871\n",
      "Exploits          44525\n",
      "Fuzzers           24246\n",
      "DoS               16353\n",
      "Reconnaissance    13987\n",
      "Analysis           2677\n",
      "Backdoor           2329\n",
      "Shellcode          1511\n",
      "Worms               174\n",
      "Name: attack_cat, dtype: int64\n"
     ]
    }
   ],
   "source": [
    "print(dataset.shape)\n",
    "print(dataset.columns)\n",
    "print(dataset.values[0])\n",
    "print(dataset.loc[:,'attack_cat'].value_counts())"
   ]
  },
  {
   "cell_type": "code",
   "execution_count": 4,
   "metadata": {
    "ExecuteTime": {
     "end_time": "2020-07-20T08:47:39.510665Z",
     "start_time": "2020-07-20T08:47:39.477088Z"
    }
   },
   "outputs": [],
   "source": [
    "def filter_useless_feature(dataset):\n",
    "    dataset = dataset.drop(['label'], axis=1)    #两个特征没用\n",
    "    dataset = dataset.drop(['id'], axis=1)\n",
    "    return dataset\n",
    "\n",
    "def filter_labels(dataset):\n",
    "    dataset['attack_cat'] = dataset['attack_cat'].apply(labels_map)\n",
    "    return dataset\n",
    "\n",
    "def labels_map(label):\n",
    "    if(type(label) == int):      #已是数字，无需处理\n",
    "        return label\n",
    "    \n",
    "    if label == 'Normal':\n",
    "        return 0\n",
    "    if label == 'Fuzzers':\n",
    "        return 1\n",
    "    if label == 'Analysis':\n",
    "        return 2\n",
    "    if label == 'Backdoor':\n",
    "        return 3\n",
    "    if label == 'DoS':\n",
    "        return 4\n",
    "    if label == 'Exploits':\n",
    "        return 5\n",
    "    if label == 'Generic':\n",
    "        return 6\n",
    "    if label == 'Reconnaissance':\n",
    "        return 7\n",
    "    if label == 'Shellcode':\n",
    "        return 8\n",
    "    if label == 'Worms':\n",
    "        return 9\n",
    "    return -1\n",
    "\n",
    "def split_valid_from_train(train_dataset, valid_size):\n",
    "    # Method 1\n",
    "    train_dataset, valid_dataset, _, _ = train_test_split(train_dataset, train_dataset['attack_cat'], test_size=valid_size, random_state=None)\n",
    "    # pandas中先重置index再打乱train. 否则只会调整各个行的顺序，而不会改变pandas的index\n",
    "    # 重置\n",
    "    train_dataset = train_dataset.reset_index(drop=True)\n",
    "    # 打乱\n",
    "    indexMask = np.arange(len(train_dataset))\n",
    "    for i in range(10):\n",
    "        np.random.shuffle(indexMask)\n",
    "    train_dataset = train_dataset.iloc[indexMask]\n",
    "\n",
    "    return train_dataset, valid_dataset\n",
    "\n",
    "def labels_separate(dataset):\n",
    "    y_ = dataset['attack_cat'].values\n",
    "    temp = dataset\n",
    "    temp.drop('attack_cat', axis=1, inplace=True)\n",
    "    x_ = temp.values\n",
    "    return x_, y_\n",
    "\n",
    "def one_hot_process(dataset):\n",
    "    # 独热编码 state\n",
    "    state_dummies = pd.get_dummies(dataset['state'], prefix='state')\n",
    "    dataset = pd.concat([dataset, state_dummies], axis=1)\n",
    "    dataset = dataset.drop(['state'], axis=1)\n",
    "    # 独热编码 proto\n",
    "    proto_dummies = pd.get_dummies(dataset['proto'], prefix='proto')\n",
    "    dataset = pd.concat([dataset, proto_dummies], axis=1)\n",
    "    dataset = dataset.drop(['proto'], axis=1)\n",
    "    # 独热编码 service     \n",
    "    service_dummies = pd.get_dummies(dataset['service'], prefix='service')\n",
    "    dataset = pd.concat([dataset, service_dummies], axis=1)\n",
    "    dataset = dataset.drop(['service'], axis=1)\n",
    "    return dataset\n",
    "#归一化整个数据集，注意要存储归一化的参数x_avg,x_max,x_min以便后面真实环境预处理需要\n",
    "def normalization(dataset):\n",
    "    epsilon = 0.0001   #防止除数为0\n",
    "    dataset = dataset.astype('float')\n",
    "    target_features = ['dur','spkts', 'dpkts', 'sbytes',\n",
    "       'dbytes', 'rate', 'sttl', 'dttl', 'sload', 'dload', 'sloss', 'dloss',\n",
    "       'sinpkt', 'dinpkt', 'sjit', 'djit', 'swin', 'stcpb', 'dtcpb', 'dwin',\n",
    "       'tcprtt', 'synack', 'ackdat', 'smean', 'dmean', 'trans_depth',\n",
    "       'response_body_len', 'ct_srv_src', 'ct_state_ttl', 'ct_dst_ltm',\n",
    "       'ct_src_dport_ltm', 'ct_dst_sport_ltm', 'ct_dst_src_ltm',\n",
    "       'ct_ftp_cmd', 'ct_flw_http_mthd', 'ct_src_ltm',\n",
    "       'ct_srv_dst'\n",
    "    ]\n",
    "    norm_params = pd.DataFrame(np.zeros([3, len(target_features)]), columns=target_features)  #存储归一化参数\n",
    "    \n",
    "    for feature in dataset.columns.values.tolist():    #对列（特征名）进行遍历\n",
    "        if feature in target_features:\n",
    "            x = dataset[feature]\n",
    "            x_avg = dataset[feature].mean()\n",
    "            x_max = np.max(dataset[feature])\n",
    "            x_min = np.min(dataset[feature])\n",
    "\n",
    "            norm_params[feature] = [x_avg, x_max, x_min]\n",
    "            dataset[feature] = (x - x_min) / (x_max - x_min + epsilon)\n",
    "    return dataset,norm_params\n",
    "    \n",
    "def combine_dataset(trainDF, testDF):\n",
    "    all = pd.concat([trainDF, testDF], axis=0)\n",
    "    return all, (trainDF.shape[0], testDF.shape[0])\n",
    "\n",
    "def separate_dataset(comb, num_comb):  \n",
    "    train_dataset_size , test_dataset_size = num_comb\n",
    "    trainDF = comb.iloc[:train_dataset_size]\n",
    "    testDF = comb.iloc[train_dataset_size: (train_dataset_size + test_dataset_size)]\n",
    "    return trainDF, testDF\n",
    "\n",
    "   \n",
    "def data_process_full(trainDF, testDF):\n",
    "    all, num_comb = combine_dataset(trainDF, testDF)\n",
    "    all = one_hot_process(all)\n",
    "    all,norm_params = normalization(all)\n",
    "    trainDF,testDF = separate_dataset(all, num_comb)\n",
    "    return trainDF,testDF,norm_params"
   ]
  },
  {
   "cell_type": "code",
   "execution_count": 5,
   "metadata": {
    "ExecuteTime": {
     "end_time": "2020-07-20T08:47:40.372963Z",
     "start_time": "2020-07-20T08:47:40.013052Z"
    }
   },
   "outputs": [],
   "source": [
    "dataset = filter_useless_feature(dataset)\n",
    "dataset = filter_labels(dataset)"
   ]
  },
  {
   "cell_type": "code",
   "execution_count": 6,
   "metadata": {
    "ExecuteTime": {
     "end_time": "2020-07-20T08:47:41.420812Z",
     "start_time": "2020-07-20T08:47:40.909478Z"
    }
   },
   "outputs": [],
   "source": [
    "normal_df = dataset.loc[dataset['attack_cat'] == 0]\n",
    "normal_df = normal_df.sample(n=90000,random_state=1, replace=False)\n",
    "df_normal_train, df_normal_test = split_valid_from_train(normal_df, 0.2)\n",
    "\n",
    "Fuzzers_df = dataset.loc[dataset['attack_cat'] == 1]\n",
    "Fuzzers_df = Fuzzers_df.sample(n=24000,random_state=1, replace=False)\n",
    "df_Fuzzers_train, df_Fuzzers_test = split_valid_from_train(Fuzzers_df, 0.2)\n",
    "\n",
    "Analysis_df = dataset.loc[dataset['attack_cat'] == 2]\n",
    "Analysis_df = Analysis_df.sample(n=2400,random_state=1, replace=False)\n",
    "df_Analysis_train, df_Analysis_test = split_valid_from_train(Analysis_df, 0.2)\n",
    "\n",
    "Backdoor_df = dataset.loc[dataset['attack_cat'] == 3]\n",
    "Backdoor_df = Backdoor_df.sample(n=2000,random_state=1, replace=False)\n",
    "df_Backdoor_train, df_Backdoor_test = split_valid_from_train(Backdoor_df, 0.2)\n",
    "\n",
    "DoS_df = dataset.loc[dataset['attack_cat'] == 4]\n",
    "DoS_df = DoS_df.sample(n=16000,random_state=1, replace=False)\n",
    "df_DoS_train, df_DoS_test = split_valid_from_train(DoS_df, 0.2)\n",
    "\n",
    "Exploits_df = dataset.loc[dataset['attack_cat'] == 5]\n",
    "Exploits_df = Exploits_df.sample(n=40000,random_state=1, replace=False)\n",
    "df_Exploits_train, df_Exploits_test = split_valid_from_train(Exploits_df, 0.2)\n",
    "\n",
    "Generic_df = dataset.loc[dataset['attack_cat'] == 6]\n",
    "Generic_df = Generic_df.sample(n=50000,random_state=1, replace=False)\n",
    "df_Generic_train, df_Generic_test = split_valid_from_train(Generic_df, 0.2)\n",
    "\n",
    "Reconnaissance_df = dataset.loc[dataset['attack_cat'] == 7]\n",
    "Reconnaissance_df = Reconnaissance_df.sample(n=10000,random_state=1, replace=False)\n",
    "df_Reconnaissance_train, df_Reconnaissance_test = split_valid_from_train(Reconnaissance_df, 0.2)\n",
    "\n",
    "Shellcode_df = dataset.loc[dataset['attack_cat'] == 8]\n",
    "Shellcode_df = Shellcode_df.sample(n=1500,random_state=1, replace=False)\n",
    "df_Shellcode_train, df_Shellcode_test = split_valid_from_train(Shellcode_df, 0.2)\n",
    "\n",
    "Worms_df = dataset.loc[dataset['attack_cat'] == 9]\n",
    "Worms_df = Worms_df.sample(n=174,random_state=1, replace=False)\n",
    "df_Worms_train, df_Worms_test = split_valid_from_train(Worms_df, 0.2)\n"
   ]
  },
  {
   "cell_type": "code",
   "execution_count": 7,
   "metadata": {
    "ExecuteTime": {
     "end_time": "2020-07-20T08:47:45.408521Z",
     "start_time": "2020-07-20T08:47:45.318707Z"
    }
   },
   "outputs": [],
   "source": [
    "#整合\n",
    "df_train = df_normal_train.append([df_Fuzzers_train, df_Analysis_train, df_Backdoor_train, df_DoS_train, df_Exploits_train, df_Generic_train, df_Reconnaissance_train, df_Shellcode_train, df_Worms_train])\n",
    "df_test = df_normal_test.append([df_Fuzzers_test, df_Analysis_test, df_Backdoor_test, df_DoS_test, df_Exploits_test, df_Generic_test, df_Reconnaissance_test, df_Shellcode_test, df_Worms_test])\n"
   ]
  },
  {
   "cell_type": "code",
   "execution_count": 8,
   "metadata": {
    "ExecuteTime": {
     "end_time": "2020-07-20T08:48:16.675211Z",
     "start_time": "2020-07-20T08:47:49.629985Z"
    }
   },
   "outputs": [],
   "source": [
    "#独热编码和正则化\n",
    "df_train, df_test, norm_params = data_process_full(\n",
    "    df_train, df_test\n",
    ")"
   ]
  },
  {
   "cell_type": "code",
   "execution_count": 9,
   "metadata": {
    "ExecuteTime": {
     "end_time": "2020-07-20T08:48:21.996073Z",
     "start_time": "2020-07-20T08:48:21.916435Z"
    }
   },
   "outputs": [
    {
     "name": "stdout",
     "output_type": "stream",
     "text": [
      "(188859, 197)\n",
      "0.0    72000\n",
      "6.0    40000\n",
      "5.0    32000\n",
      "1.0    19200\n",
      "4.0    12800\n",
      "7.0     8000\n",
      "2.0     1920\n",
      "3.0     1600\n",
      "8.0     1200\n",
      "9.0      139\n",
      "Name: attack_cat, dtype: int64\n"
     ]
    }
   ],
   "source": [
    "print(df_train.shape)\n",
    "print(df_train.loc[:,'attack_cat'].value_counts())"
   ]
  },
  {
   "cell_type": "code",
   "execution_count": 10,
   "metadata": {
    "ExecuteTime": {
     "end_time": "2020-07-20T08:48:26.019004Z",
     "start_time": "2020-07-20T08:48:25.999183Z"
    }
   },
   "outputs": [
    {
     "name": "stdout",
     "output_type": "stream",
     "text": [
      "['dur', 'spkts', 'dpkts', 'sbytes', 'dbytes', 'rate', 'sttl', 'dttl', 'sload', 'dload', 'sloss', 'dloss', 'sinpkt', 'dinpkt', 'sjit', 'djit', 'swin', 'stcpb', 'dtcpb', 'dwin', 'tcprtt', 'synack', 'ackdat', 'smean', 'dmean', 'trans_depth', 'response_body_len', 'ct_srv_src', 'ct_state_ttl', 'ct_dst_ltm', 'ct_src_dport_ltm', 'ct_dst_sport_ltm', 'ct_dst_src_ltm', 'is_ftp_login', 'ct_ftp_cmd', 'ct_flw_http_mthd', 'ct_src_ltm', 'ct_srv_dst', 'is_sm_ips_ports', 'attack_cat', 'state_ACC', 'state_CLO', 'state_CON', 'state_ECO', 'state_FIN', 'state_INT', 'state_PAR', 'state_REQ', 'state_RST', 'state_URN', 'state_no', 'proto_3pc', 'proto_a/n', 'proto_aes-sp3-d', 'proto_any', 'proto_argus', 'proto_aris', 'proto_arp', 'proto_ax.25', 'proto_bbn-rcc', 'proto_bna', 'proto_br-sat-mon', 'proto_cbt', 'proto_cftp', 'proto_chaos', 'proto_compaq-peer', 'proto_cphb', 'proto_cpnx', 'proto_crtp', 'proto_crudp', 'proto_dcn', 'proto_ddp', 'proto_ddx', 'proto_dgp', 'proto_egp', 'proto_eigrp', 'proto_emcon', 'proto_encap', 'proto_etherip', 'proto_fc', 'proto_fire', 'proto_ggp', 'proto_gmtp', 'proto_gre', 'proto_hmp', 'proto_i-nlsp', 'proto_iatp', 'proto_ib', 'proto_icmp', 'proto_idpr', 'proto_idpr-cmtp', 'proto_idrp', 'proto_ifmp', 'proto_igmp', 'proto_igp', 'proto_il', 'proto_ip', 'proto_ipcomp', 'proto_ipcv', 'proto_ipip', 'proto_iplt', 'proto_ipnip', 'proto_ippc', 'proto_ipv6', 'proto_ipv6-frag', 'proto_ipv6-no', 'proto_ipv6-opts', 'proto_ipv6-route', 'proto_ipx-n-ip', 'proto_irtp', 'proto_isis', 'proto_iso-ip', 'proto_iso-tp4', 'proto_kryptolan', 'proto_l2tp', 'proto_larp', 'proto_leaf-1', 'proto_leaf-2', 'proto_merit-inp', 'proto_mfe-nsp', 'proto_mhrp', 'proto_micp', 'proto_mobile', 'proto_mtp', 'proto_mux', 'proto_narp', 'proto_netblt', 'proto_nsfnet-igp', 'proto_nvp', 'proto_ospf', 'proto_pgm', 'proto_pim', 'proto_pipe', 'proto_pnni', 'proto_pri-enc', 'proto_prm', 'proto_ptp', 'proto_pup', 'proto_pvp', 'proto_qnx', 'proto_rdp', 'proto_rsvp', 'proto_rtp', 'proto_rvd', 'proto_sat-expak', 'proto_sat-mon', 'proto_sccopmce', 'proto_scps', 'proto_sctp', 'proto_sdrp', 'proto_secure-vmtp', 'proto_sep', 'proto_skip', 'proto_sm', 'proto_smp', 'proto_snp', 'proto_sprite-rpc', 'proto_sps', 'proto_srp', 'proto_st2', 'proto_stp', 'proto_sun-nd', 'proto_swipe', 'proto_tcf', 'proto_tcp', 'proto_tlsp', 'proto_tp++', 'proto_trunk-1', 'proto_trunk-2', 'proto_ttp', 'proto_udp', 'proto_unas', 'proto_uti', 'proto_vines', 'proto_visa', 'proto_vmtp', 'proto_vrrp', 'proto_wb-expak', 'proto_wb-mon', 'proto_wsn', 'proto_xnet', 'proto_xns-idp', 'proto_xtp', 'proto_zero', 'service_-', 'service_dhcp', 'service_dns', 'service_ftp', 'service_ftp-data', 'service_http', 'service_irc', 'service_pop3', 'service_radius', 'service_smtp', 'service_snmp', 'service_ssh', 'service_ssl']\n"
     ]
    }
   ],
   "source": [
    "print(df_train.columns.tolist())"
   ]
  },
  {
   "cell_type": "code",
   "execution_count": 14,
   "metadata": {
    "ExecuteTime": {
     "end_time": "2020-07-20T08:52:10.533152Z",
     "start_time": "2020-07-20T08:52:10.523986Z"
    }
   },
   "outputs": [
    {
     "name": "stdout",
     "output_type": "stream",
     "text": [
      "dur, spkts, dpkts, sbytes, dbytes, rate, sttl, dttl, sload, dload, sloss, dloss, sinpkt, dinpkt, sjit, djit, swin, stcpb, dtcpb, dwin, tcprtt, synack, ackdat, smean, dmean, trans\\_depth, response\\_body\\_len, ct\\_srv\\_src, ct\\_state\\_ttl, ct\\_dst\\_ltm, ct\\_src\\_dport\\_ltm, ct\\_dst\\_sport\\_ltm, ct\\_dst\\_src\\_ltm, is\\_ftp\\_login, ct\\_ftp\\_cmd, ct\\_flw\\_http\\_mthd, ct\\_src\\_ltm, ct\\_srv\\_dst, is\\_sm\\_ips\\_ports, attack\\_cat, state\\_ACC, state\\_CLO, state\\_CON, state\\_ECO, state\\_FIN, state\\_INT, state\\_PAR, state\\_REQ, state\\_RST, state\\_URN, state\\_no, proto\\_3pc, proto\\_a/n, proto\\_aes-sp3-d, proto\\_any, proto\\_argus, proto\\_aris, proto\\_arp, proto\\_ax.25, proto\\_bbn-rcc, proto\\_bna, proto\\_br-sat-mon, proto\\_cbt, proto\\_cftp, proto\\_chaos, proto\\_compaq-peer, proto\\_cphb, proto\\_cpnx, proto\\_crtp, proto\\_crudp, proto\\_dcn, proto\\_ddp, proto\\_ddx, proto\\_dgp, proto\\_egp, proto\\_eigrp, proto\\_emcon, proto\\_encap, proto\\_etherip, proto\\_fc, proto\\_fire, proto\\_ggp, proto\\_gmtp, proto\\_gre, proto\\_hmp, proto\\_i-nlsp, proto\\_iatp, proto\\_ib, proto\\_icmp, proto\\_idpr, proto\\_idpr-cmtp, proto\\_idrp, proto\\_ifmp, proto\\_igmp, proto\\_igp, proto\\_il, proto\\_ip, proto\\_ipcomp, proto\\_ipcv, proto\\_ipip, proto\\_iplt, proto\\_ipnip, proto\\_ippc, proto\\_ipv6, proto\\_ipv6-frag, proto\\_ipv6-no, proto\\_ipv6-opts, proto\\_ipv6-route, proto\\_ipx-n-ip, proto\\_irtp, proto\\_isis, proto\\_iso-ip, proto\\_iso-tp4, proto\\_kryptolan, proto\\_l2tp, proto\\_larp, proto\\_leaf-1, proto\\_leaf-2, proto\\_merit-inp, proto\\_mfe-nsp, proto\\_mhrp, proto\\_micp, proto\\_mobile, proto\\_mtp, proto\\_mux, proto\\_narp, proto\\_netblt, proto\\_nsfnet-igp, proto\\_nvp, proto\\_ospf, proto\\_pgm, proto\\_pim, proto\\_pipe, proto\\_pnni, proto\\_pri-enc, proto\\_prm, proto\\_ptp, proto\\_pup, proto\\_pvp, proto\\_qnx, proto\\_rdp, proto\\_rsvp, proto\\_rtp, proto\\_rvd, proto\\_sat-expak, proto\\_sat-mon, proto\\_sccopmce, proto\\_scps, proto\\_sctp, proto\\_sdrp, proto\\_secure-vmtp, proto\\_sep, proto\\_skip, proto\\_sm, proto\\_smp, proto\\_snp, proto\\_sprite-rpc, proto\\_sps, proto\\_srp, proto\\_st2, proto\\_stp, proto\\_sun-nd, proto\\_swipe, proto\\_tcf, proto\\_tcp, proto\\_tlsp, proto\\_tp++, proto\\_trunk-1, proto\\_trunk-2, proto\\_ttp, proto\\_udp, proto\\_unas, proto\\_uti, proto\\_vines, proto\\_visa, proto\\_vmtp, proto\\_vrrp, proto\\_wb-expak, proto\\_wb-mon, proto\\_wsn, proto\\_xnet, proto\\_xns-idp, proto\\_xtp, proto\\_zero, service\\_-, service\\_dhcp, service\\_dns, service\\_ftp, service\\_ftp-data, service\\_http, service\\_irc, service\\_pop3, service\\_radius, service\\_smtp, service\\_snmp, service\\_ssh, service\\_ssl, \n"
     ]
    }
   ],
   "source": [
    "str0 = \"\"\n",
    "for item in df_train.columns.tolist():\n",
    "    str0 += item + ', '\n",
    "str0.replace(\"_\", \"\\_\", 1000)\n",
    "\n",
    "print(str0.replace(\"_\", \"\\_\", 1000))"
   ]
  },
  {
   "cell_type": "code",
   "execution_count": 11,
   "metadata": {
    "ExecuteTime": {
     "end_time": "2020-07-15T02:11:41.084191Z",
     "start_time": "2020-07-15T02:11:40.574277Z"
    }
   },
   "outputs": [],
   "source": [
    "#分离标签\n",
    "df_train_X, df_train_y = labels_separate(df_train)"
   ]
  },
  {
   "cell_type": "code",
   "execution_count": 12,
   "metadata": {
    "ExecuteTime": {
     "end_time": "2020-07-15T02:11:51.154861Z",
     "start_time": "2020-07-15T02:11:51.150224Z"
    }
   },
   "outputs": [],
   "source": [
    "df_train_y = df_train_y.astype('int')"
   ]
  },
  {
   "cell_type": "code",
   "execution_count": 13,
   "metadata": {
    "ExecuteTime": {
     "end_time": "2020-07-15T17:33:03.778807Z",
     "start_time": "2020-07-15T02:12:01.468060Z"
    }
   },
   "outputs": [
    {
     "data": {
      "text/plain": [
       "RFECV(cv=StratifiedKFold(n_splits=2, random_state=1, shuffle=False),\n",
       "   estimator=RandomForestClassifier(bootstrap=True, class_weight=None, criterion='entropy',\n",
       "            max_depth=None, max_features='auto', max_leaf_nodes=None,\n",
       "            min_impurity_decrease=0.0, min_impurity_split=None,\n",
       "            min_samples_leaf=1, min_samples_split=2,\n",
       "            min_weight_fraction_leaf=0.0, n_estimators=200, n_jobs=None,\n",
       "            oob_score=False, random_state=None, verbose=0,\n",
       "            warm_start=False),\n",
       "   min_features_to_select=1, n_jobs=None, scoring='accuracy', step=1,\n",
       "   verbose=0)"
      ]
     },
     "execution_count": 13,
     "metadata": {},
     "output_type": "execute_result"
    }
   ],
   "source": [
    "#带交叉验证的RFE\n",
    "rfecv = RFECV(estimator=rfr, cv=StratifiedKFold(n_splits=2, random_state=1),\n",
    "              scoring='accuracy')\n",
    "rfecv.fit(df_train_X, df_train_y)"
   ]
  },
  {
   "cell_type": "code",
   "execution_count": 14,
   "metadata": {
    "ExecuteTime": {
     "end_time": "2020-07-15T17:33:19.001150Z",
     "start_time": "2020-07-15T17:33:18.967800Z"
    }
   },
   "outputs": [
    {
     "name": "stdout",
     "output_type": "stream",
     "text": [
      "26\n",
      "[  1   6   1   1   1   1   1   1   1   1   1   3   1   2   1   4  12   9\n",
      "   8  26   1   1   1   1   1  17  13   1   1  10   1   1   1  38  41  15\n",
      "   7   1  18 166 167  19 164  21   5 169  23 165 168 171  76 136 128  34\n",
      " 141 147  20  93  81  57 145 162 137 156 127  59  95  63  42  82  98  96\n",
      " 130 105  60 111 124 138  69 148 161 101  31 132  78  67 129 163  56  97\n",
      "  70 121  29 116 119 113  77 144  51 142 154 135  32  53  43 131  83  80\n",
      "  52  88 110  94  84 120  92  50 107  75  55  54  86  33 150 159 112 140\n",
      " 109  65  24  74  64  49 134  73  66 102 146  87 100 126  40 170 155  47\n",
      "  91 103 152  22 117  58  30  62 123  68  44  61  90  48 157 104  39  36\n",
      "  85  14 114 133  72 125  79   1  16  71 118 122  45 139  99  46 115 151\n",
      "  89 108 143   1  35   1  28  25  11 153 106 158  27  37 160 149]\n",
      "['dur', 'dpkts', 'sbytes', 'dbytes', 'rate', 'sttl', 'dttl', 'sload', 'dload', 'sloss', 'sinpkt', 'sjit', 'tcprtt', 'synack', 'ackdat', 'smean', 'dmean', 'ct_srv_src', 'ct_state_ttl', 'ct_src_dport_ltm', 'ct_dst_sport_ltm', 'ct_dst_src_ltm', 'ct_srv_dst', 'proto_udp', 'service_-', 'service_dns']\n"
     ]
    }
   ],
   "source": [
    "print(rfecv.n_features_)\n",
    "print(rfecv.ranking_)\n",
    "# 选取特征\n",
    "index = 0\n",
    "features_selected = []\n",
    "for item in rfecv.ranking_:\n",
    "    if(item == 1):\n",
    "        features_selected.append(df_train.columns.values.tolist()[index])\n",
    "    index+=1\n",
    "print(features_selected)"
   ]
  },
  {
   "cell_type": "code",
   "execution_count": 25,
   "metadata": {
    "ExecuteTime": {
     "end_time": "2020-07-16T09:34:37.972419Z",
     "start_time": "2020-07-16T09:34:37.159014Z"
    }
   },
   "outputs": [
    {
     "name": "stdout",
     "output_type": "stream",
     "text": [
      "Optimal number of features : 26\n",
      "Ranking of features : [  1   6   1   1   1   1   1   1   1   1   1   3   1   2   1   4  12   9\n",
      "   8  26   1   1   1   1   1  17  13   1   1  10   1   1   1  38  41  15\n",
      "   7   1  18 166 167  19 164  21   5 169  23 165 168 171  76 136 128  34\n",
      " 141 147  20  93  81  57 145 162 137 156 127  59  95  63  42  82  98  96\n",
      " 130 105  60 111 124 138  69 148 161 101  31 132  78  67 129 163  56  97\n",
      "  70 121  29 116 119 113  77 144  51 142 154 135  32  53  43 131  83  80\n",
      "  52  88 110  94  84 120  92  50 107  75  55  54  86  33 150 159 112 140\n",
      " 109  65  24  74  64  49 134  73  66 102 146  87 100 126  40 170 155  47\n",
      "  91 103 152  22 117  58  30  62 123  68  44  61  90  48 157 104  39  36\n",
      "  85  14 114 133  72 125  79   1  16  71 118 122  45 139  99  46 115 151\n",
      "  89 108 143   1  35   1  28  25  11 153 106 158  27  37 160 149]\n"
     ]
    },
    {
     "data": {
      "image/png": "[encoded data removed]",
      "text/plain": [
       "<Figure size 432x288 with 1 Axes>"
      ]
     },
     "metadata": {
      "needs_background": "light"
     },
     "output_type": "display_data"
    }
   ],
   "source": [
    "#import matplotlib.pyplot as plt\n",
    "print(\"Optimal number of features : %d\" % rfecv.n_features_)\n",
    "print(\"Ranking of features : %s\" % rfecv.ranking_)\n",
    "\n",
    "# Plot number of features VS. cross-validation scores\n",
    "plt.figure()\n",
    "plt.xlabel(\"Number of features selected\")\n",
    "plt.ylabel(\"Cross validation score (accuracy)\")\n",
    "plt.plot(range(1, len(rfecv.grid_scores_) + 1), rfecv.grid_scores_)\n",
    "plt.savefig(\"./rfe_version_one.eps\",format=\"eps\")\n",
    "plt.show()"
   ]
  },
  {
   "cell_type": "code",
   "execution_count": 16,
   "metadata": {
    "ExecuteTime": {
     "end_time": "2020-07-15T23:50:59.517804Z",
     "start_time": "2020-07-15T17:33:39.144100Z"
    }
   },
   "outputs": [
    {
     "name": "stdout",
     "output_type": "stream",
     "text": [
      "['sbytes', 'dbytes', 'rate', 'sttl', 'sload', 'dload', 'tcprtt', 'smean', 'dmean', 'ct_state_ttl', 'ct_src_dport_ltm', 'ct_dst_sport_ltm', 'ct_dst_src_ltm', 'ct_srv_dst', 'proto_udp', 'service_dns']\n"
     ]
    }
   ],
   "source": [
    "# from sklearn.feature_selection import RFE\n",
    "# rfe = RFE(estimator=rfr, n_features_to_select=16)\n",
    "# rfe.fit(df_train_X, df_train_y)\n",
    "# # 选取特征\n",
    "# index = 0\n",
    "# features_selected = []\n",
    "# for item in rfe.ranking_:\n",
    "#     if(item == 1):\n",
    "#         features_selected.append(df_train.columns.values.tolist()[index])\n",
    "#     index+=1\n",
    "# print(features_selected)"
   ]
  },
  {
   "cell_type": "code",
   "execution_count": null,
   "metadata": {},
   "outputs": [],
   "source": []
  }
 ],
 "metadata": {
  "kernelspec": {
   "display_name": "Python 3",
   "language": "python",
   "name": "python3"
  },
  "language_info": {
   "codemirror_mode": {
    "name": "ipython",
    "version": 3
   },
   "file_extension": ".py",
   "mimetype": "text/x-python",
   "name": "python",
   "nbconvert_exporter": "python",
   "pygments_lexer": "ipython3",
   "version": "3.7.3"
  },
  "toc": {
   "base_numbering": 1,
   "nav_menu": {},
   "number_sections": true,
   "sideBar": true,
   "skip_h1_title": false,
   "title_cell": "Table of Contents",
   "title_sidebar": "Contents",
   "toc_cell": false,
   "toc_position": {},
   "toc_section_display": true,
   "toc_window_display": false
  },
  "varInspector": {
   "cols": {
    "lenName": 16,
    "lenType": 16,
    "lenVar": 40
   },
   "kernels_config": {
    "python": {
     "delete_cmd_postfix": "",
     "delete_cmd_prefix": "del ",
     "library": "var_list.py",
     "varRefreshCmd": "print(var_dic_list())"
    },
    "r": {
     "delete_cmd_postfix": ") ",
     "delete_cmd_prefix": "rm(",
     "library": "var_list.r",
     "varRefreshCmd": "cat(var_dic_list()) "
    }
   },
   "types_to_exclude": [
    "module",
    "function",
    "builtin_function_or_method",
    "instance",
    "_Feature"
   ],
   "window_display": false
  }
 },
 "nbformat": 4,
 "nbformat_minor": 2
}
